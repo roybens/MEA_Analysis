{
 "cells": [
  {
   "cell_type": "code",
   "execution_count": 1,
   "metadata": {},
   "outputs": [
    {
     "name": "stdout",
     "output_type": "stream",
     "text": [
      "/home/adam/miniconda3/envs/axonenv/bin/python\n",
      "/mnt/disk15tb/adam/git_workspace/MEA_Analysis\n"
     ]
    }
   ],
   "source": [
    "# '''create new ipython kernel if needed'''\n",
    "# !python -m ipykernel install --user --name=axonenv\n",
    "import sys\n",
    "import os\n",
    "print(sys.executable)\n",
    "sys.path.append('/home/adamm/workspace/MEA_Analysis_fork/AxonReconPipeline')\n",
    "\n",
    "'''get current working directory, change it to project root directory'''\n",
    "os.getcwd()\n",
    "os.chdir('/home/adamm/workspace/MEA_Analysis_fork/')\n",
    "print(os.getcwd())"
   ]
  },
  {
   "cell_type": "code",
   "execution_count": 2,
   "metadata": {},
   "outputs": [
    {
     "name": "stdout",
     "output_type": "stream",
     "text": [
      "/mnt/disk20tb/Organoids/Maxone/IMR90_T3_03262024_AP/IMR90_T3_03262024_AP/240326/18832/AxonTracking/000009/data.raw.h5\n",
      "/mnt/disk20tb/Organoids/Maxone/IMR90_T3_03262024_AP/IMR90_T3_03262024_AP/240326/16719/AxonTracking/000013/data.raw.h5\n",
      "/mnt/disk20tb/Organoids/Organoids_Mandeep_Fink_Lab/Organoids/221110/16865_/AxonTracking/000010/data.raw.h5\n",
      "/mnt/disk20tb/Organoids/Organoids_Mandeep_Fink_Lab/Organoids/221110/16784/AxonTracking/000018/data.raw.h5\n",
      "/mnt/disk20tb/Organoids/Organoids_Mandeep_Fink_Lab/Cdkl5_Organoids_Mano0855-D/221118/16865/AxonTracking/000030/data.raw.h5\n",
      "/mnt/disk20tb/KCNT1_T3_NeuronalScans/KCNT1_T3/KCNT1_T3/240328/M07037/AxonTracking/000055/data.raw.h5\n",
      "/mnt/disk20tb/KCNT1_T3_aw/240409/M07037/AxonTracking/000095/data.raw.h5\n",
      "/mnt/disk20tb/KCNT1_T3_aw/240412/M07037/AxonTracking/000107/data.raw.h5\n",
      "/mnt/disk20tb/25march/KCNT1_T3/250324/M07037/AxonTracking/000036/data.raw.h5\n",
      "/mnt/disk20tb/HBCU_Program/B6J_Stimulations_07102024_Xi_M_Christina_J_Xula/B6J_Stimulations_07102024_Xi_M_Christina_J_Xula/240718/M08020/AxonTracking/000012/data.raw.h5\n",
      "/mnt/disk20tb/HBCU_Program/B6J_Stimulations_07102024_Xi_M_Christina_J_Xula/B6J_Stimulations_07102024_Xi_M_Christina_J_Xula/240718/M08020/AxonTracking/000011/data.raw.h5\n",
      "/mnt/disk20tb/PrimaryNeuronData/Maxtwo/KCNT1_T3_C1_03122024/KCNT1_T3_C1_03122024/240322/M07037/AxonTracking/000025/data.raw.h5\n",
      "/mnt/disk20tb/PrimaryNeuronData/Maxtwo/KCNT1_T3_C1_03122024/KCNT1_T3_C1_03122024/240402/M07037/AxonTracking/000065/data.raw.h5\n",
      "/mnt/disk20tb/PrimaryNeuronData/Maxtwo/KCNT1_T3_C1_03122024/KCNT1_T3_C1_03122024/240325/M07037/AxonTracking/000036/data.raw.h5\n",
      "/mnt/disk20tb/PrimaryNeuronData/Maxtwo/KCNT1_T3_C1_03122024/KCNT1_T3_C1_03122024/240328/M07037/AxonTracking/000055/data.raw.h5\n",
      "/mnt/disk20tb/PrimaryNeuronData/Maxtwo/KCNT1_T3_C1_03122024/KCNT1_T3_C1_03122024/240405/M07037/AxonTracking/000077/data.raw.h5\n",
      "/mnt/disk20tb/PrimaryNeuronData/Maxtwo/KCNT1_T4_C1_04122024/KCNT1_T4_C1_04122024/240507/M08034/AxonTracking/000094/data.raw.h5\n",
      "/mnt/disk20tb/PrimaryNeuronData/Maxtwo/KCNT1_T4_C1_04122024/KCNT1_T4_C1_04122024/240423/M08034/AxonTracking/000043/data.raw.h5\n",
      "/mnt/disk20tb/PrimaryNeuronData/Maxtwo/KCNT1_T4_C1_04122024/KCNT1_T4_C1_04122024/240419/M08034/AxonTracking/000031/data.raw.h5\n",
      "/mnt/disk20tb/PrimaryNeuronData/Maxtwo/KCNT1_T4_C1_04122024/KCNT1_T4_C1_04122024/240503/M08034/AxonTracking/000082/data.raw.h5\n",
      "/mnt/disk20tb/PrimaryNeuronData/Maxtwo/KCNT1_T4_C1_04122024/KCNT1_T4_C1_04122024/240416/M08034/AxonTracking/000015/data.raw.h5\n",
      "/mnt/disk20tb/PrimaryNeuronData/Maxtwo/KCNT1_T4_C1_04122024/KCNT1_T4_C1_04122024/240430/M08034/AxonTracking/000067/data.raw.h5\n",
      "/mnt/disk20tb/PrimaryNeuronData/Maxtwo/KCNT1_T4_C1_04122024/KCNT1_T4_C1_04122024/240426/M08034/AxonTracking/000055/data.raw.h5\n",
      "/mnt/disk20tb/PrimaryNeuronData/Maxtwo/KCNT1_T4_C1_04122024/KCNT1_T4_C1_04122024/240510/M08034/AxonTracking/000106/data.raw.h5\n",
      "/mnt/disk20tb/PrimaryNeuronData/Maxtwo/KCNT1_T4_C1_04122024/KCNT1_T4_C1_04122024/240514/M08034/AxonTracking/000120/data.raw.h5\n",
      "/mnt/disk20tb/PrimaryNeuronData/Maxtwo/CDKL5-E6D_T1_C1_05152024/CDKL5-E6D_T1_C1_05152024/240523/M08018/AxonTracking/000037/data.raw.h5\n",
      "/mnt/disk20tb/PrimaryNeuronData/Maxtwo/CDKL5-E6D_T1_C1_05152024/CDKL5-E6D_T1_C1_05152024/240523/M08018/AxonTracking/000031/data.raw.h5\n",
      "/mnt/disk20tb/PrimaryNeuronData/Maxtwo/CDKL5-E6D_T1_C1_05152024/CDKL5-E6D_T1_C1_05152024/240523/M08018/AxonTracking/000029/data.raw.h5\n",
      "/mnt/disk20tb/PrimaryNeuronData/Maxtwo/CDKL5-E6D_T1_C1_05152024/CDKL5-E6D_T1_C1_05152024/240520/M08018/AxonTracking/000014/data.raw.h5\n",
      "/mnt/disk20tb/PrimaryNeuronData/Maxtwo/CDKL5-E6D_T1_C1_05152024/CDKL5-E6D_T1_C1_05152024/240614/M08018/AxonTracking/000128/data.raw.h5\n",
      "/mnt/disk20tb/PrimaryNeuronData/Maxtwo/CDKL5-E6D_T1_C1_05152024/CDKL5-E6D_T1_C1_05152024/240607/M08018/AxonTracking/000096/data.raw.h5\n",
      "/mnt/disk20tb/PrimaryNeuronData/Maxtwo/CDKL5-E6D_T1_C1_05152024/CDKL5-E6D_T1_C1_05152024/240528/M08018/AxonTracking/000050/data.raw.h5\n",
      "/mnt/disk20tb/PrimaryNeuronData/Maxtwo/CDKL5-E6D_T1_C1_05152024/CDKL5-E6D_T1_C1_05152024/240531/M08018/AxonTracking/000064/data.raw.h5\n",
      "/mnt/disk20tb/PrimaryNeuronData/Maxtwo/CDKL5-E6D_T1_C1_05152024/CDKL5-E6D_T1_C1_05152024/240604/None/AxonTracking/000082/data.raw.h5\n",
      "/mnt/disk20tb/PrimaryNeuronData/Maxtwo/CDKL5-E6D_T1_C1_05152024/CDKL5-E6D_T1_C1_05152024/240611/M08018/AxonTracking/000111/data.raw.h5\n"
     ]
    }
   ],
   "source": [
    "from AxonReconPipeline.src import lib_helper_functions as helper\n",
    "allowed_scan_types = 'AxonTracking'\n",
    "h5_parent_dirs = [\n",
    "    #'/mnt/ben-shalom_nas',\n",
    "    '/mnt/disk20tb/',\n",
    "    ]\n",
    "h5_files = helper.get_list_of_h5_files(h5_parent_dirs, allowed_scan_types=allowed_scan_types)\n",
    "for h5_file in h5_files:\n",
    "    conditions = [\n",
    "        'Footprint' not in h5_file,\n",
    "        '/analysis/' not in h5_file,\n",
    "    ]\n",
    "    #if 'KCNT1' in h5_file: print(h5_file)\n",
    "    #if 'CDKL5' in h5_file: print(h5_file)\n",
    "    #if 'Human' in h5_file: print(h5_file)\n",
    "    # if 'Footprint' not in h5_file: print(h5_file)\n",
    "    # if '/analysis/' not in h5_file: print(h5_file)\n",
    "    if all(conditions): print(h5_file)\n"
   ]
  }
 ],
 "metadata": {
  "kernelspec": {
   "display_name": "axonenv",
   "language": "python",
   "name": "python3"
  },
  "language_info": {
   "codemirror_mode": {
    "name": "ipython",
    "version": 3
   },
   "file_extension": ".py",
   "mimetype": "text/x-python",
   "name": "python",
   "nbconvert_exporter": "python",
   "pygments_lexer": "ipython3",
   "version": "3.11.4"
  }
 },
 "nbformat": 4,
 "nbformat_minor": 2
}

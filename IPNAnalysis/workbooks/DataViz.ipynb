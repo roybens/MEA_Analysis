{
 "cells": [
  {
   "cell_type": "code",
   "execution_count": 12,
   "metadata": {},
   "outputs": [
    {
     "name": "stdout",
     "output_type": "stream",
     "text": [
      "count    124.000000\n",
      "mean      24.648997\n",
      "std       13.387774\n",
      "min        3.109400\n",
      "25%       12.184955\n",
      "50%       25.814801\n",
      "75%       34.458822\n",
      "max       58.397900\n",
      "Name: snr, dtype: float64\n"
     ]
    }
   ],
   "source": [
    "import pandas as pd\n",
    "import numpy as np\n",
    "\n",
    "\n",
    "# Load the Excel file\n",
    "df = pd.read_excel('/home/mmp/Documents/group_analysis/KCNT2_well2/NU9/unitinfos.xlsx')\n",
    "\n",
    "# Create a new DataFrame with only the 'snr' column\n",
    "df_copy = df[['snr']].copy()\n",
    "\n",
    "\n",
    "df_copy.dropna(inplace=True)\n",
    "df_copy = df_copy.replace([np.inf, -np.inf], np.nan)\n",
    "df_copy.dropna(inplace=True)\n",
    "\n",
    "# Describe the 'snr' column in the copy\n",
    "snr_description = df_copy['snr'].describe()\n",
    "\n",
    "\n",
    "print(snr_description)\n"
   ]
  }
 ],
 "metadata": {
  "kernelspec": {
   "display_name": "Python 3",
   "language": "python",
   "name": "python3"
  },
  "language_info": {
   "codemirror_mode": {
    "name": "ipython",
    "version": 3
   },
   "file_extension": ".py",
   "mimetype": "text/x-python",
   "name": "python",
   "nbconvert_exporter": "python",
   "pygments_lexer": "ipython3",
   "version": "3.10.12"
  }
 },
 "nbformat": 4,
 "nbformat_minor": 2
}

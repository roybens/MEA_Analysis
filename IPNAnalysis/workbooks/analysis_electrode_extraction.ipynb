{
 "cells": [
  {
   "cell_type": "code",
   "execution_count": 1,
   "metadata": {},
   "outputs": [
    {
     "name": "stdout",
     "output_type": "stream",
     "text": [
      "/mnt/disk15tb/jonathan/CDKL5/CDKL5/230328/16940/Network/000205/data.raw.h5\n",
      "\n",
      "/mnt/disk15tb/jonathan/CDKL5/CDKL5/230328/16940/Network/000204/data.raw.h5\n",
      "\n",
      "/mnt/disk15tb/jonathan/CDKL5/CDKL5/230328/16963/Network/000192/data.raw.h5\n",
      "\n",
      "/mnt/disk15tb/jonathan/CDKL5/CDKL5/230328/16963/Network/000193/data.raw.h5\n",
      "\n",
      "/mnt/disk15tb/jonathan/CDKL5/CDKL5/230328/16787/Network/000214/data.raw.h5\n",
      "\n",
      "/mnt/disk15tb/jonathan/CDKL5/CDKL5/230328/16787/Network/000213/data.raw.h5\n",
      "\n",
      "/mnt/disk15tb/jonathan/CDKL5/CDKL5/230328/16869/Network/000222/data.raw.h5\n",
      "\n",
      "/mnt/disk15tb/jonathan/CDKL5/CDKL5/230328/16869/Network/000223/data.raw.h5\n",
      "\n",
      "/mnt/disk15tb/jonathan/CDKL5/CDKL5/230328/16856/Network/000219/data.raw.h5\n",
      "\n",
      "/mnt/disk15tb/jonathan/CDKL5/CDKL5/230328/16856/Network/000220/data.raw.h5\n",
      "\n",
      "/mnt/disk15tb/jonathan/CDKL5/CDKL5/230328/16757/Network/000195/data.raw.h5\n",
      "\n",
      "/mnt/disk15tb/jonathan/CDKL5/CDKL5/230328/16757/Network/000196/data.raw.h5\n",
      "\n",
      "/mnt/disk15tb/jonathan/CDKL5/CDKL5/230328/16665/Network/000207/data.raw.h5\n",
      "\n",
      "/mnt/disk15tb/jonathan/CDKL5/CDKL5/230328/16665/Network/000208/data.raw.h5\n",
      "\n",
      "/mnt/disk15tb/jonathan/CDKL5/CDKL5/230328/16861/Network/000217/data.raw.h5\n",
      "\n",
      "/mnt/disk15tb/jonathan/CDKL5/CDKL5/230328/16861/Network/000216/data.raw.h5\n",
      "\n",
      "/mnt/disk15tb/jonathan/CDKL5/CDKL5/230328/16364/Network/000210/data.raw.h5\n",
      "\n",
      "/mnt/disk15tb/jonathan/CDKL5/CDKL5/230328/16364/Network/000211/data.raw.h5\n",
      "\n",
      "/mnt/disk15tb/jonathan/CDKL5/CDKL5/230328/16873/Network/000201/data.raw.h5\n",
      "\n",
      "/mnt/disk15tb/jonathan/CDKL5/CDKL5/230328/16873/Network/000202/data.raw.h5\n",
      "\n",
      "/mnt/disk15tb/jonathan/CDKL5/CDKL5/230328/16821/Network/000189/data.raw.h5\n",
      "\n",
      "/mnt/disk15tb/jonathan/CDKL5/CDKL5/230328/16821/Network/000190/data.raw.h5\n",
      "\n",
      "/mnt/disk15tb/jonathan/CDKL5/CDKL5/230328/16742/Network/000199/data.raw.h5\n",
      "\n",
      "/mnt/disk15tb/jonathan/CDKL5/CDKL5/230328/16742/Network/000198/data.raw.h5\n",
      "\n",
      "/mnt/disk15tb/jonathan/CDKL5/CDKL5/230317/16940/Network/000123/data.raw.h5\n",
      "\n",
      "/mnt/disk15tb/jonathan/CDKL5/CDKL5/230317/16940/Network/000124/data.raw.h5\n",
      "\n",
      "/mnt/disk15tb/jonathan/CDKL5/CDKL5/230317/16963/Network/000108/data.raw.h5\n",
      "\n",
      "/mnt/disk15tb/jonathan/CDKL5/CDKL5/230317/16963/Network/000109/data.raw.h5\n",
      "\n",
      "/mnt/disk15tb/jonathan/CDKL5/CDKL5/230317/16787/Network/000133/data.raw.h5\n",
      "\n",
      "/mnt/disk15tb/jonathan/CDKL5/CDKL5/230317/16787/Network/000132/data.raw.h5\n",
      "\n",
      "/mnt/disk15tb/jonathan/CDKL5/CDKL5/230317/16869/Network/000143/data.raw.h5\n",
      "\n",
      "/mnt/disk15tb/jonathan/CDKL5/CDKL5/230317/16869/Network/000142/data.raw.h5\n",
      "\n",
      "/mnt/disk15tb/jonathan/CDKL5/CDKL5/230317/16856/Network/000139/data.raw.h5\n",
      "\n",
      "/mnt/disk15tb/jonathan/CDKL5/CDKL5/230317/16856/Network/000140/data.raw.h5\n",
      "\n",
      "/mnt/disk15tb/jonathan/CDKL5/CDKL5/230317/16757/Network/000111/data.raw.h5\n",
      "\n",
      "/mnt/disk15tb/jonathan/CDKL5/CDKL5/230317/16757/Network/000112/data.raw.h5\n",
      "\n",
      "/mnt/disk15tb/jonathan/CDKL5/CDKL5/230317/16665/Network/000126/data.raw.h5\n",
      "\n",
      "/mnt/disk15tb/jonathan/CDKL5/CDKL5/230317/16665/Network/000127/data.raw.h5\n",
      "\n",
      "/mnt/disk15tb/jonathan/CDKL5/CDKL5/230317/16861/Network/000136/data.raw.h5\n",
      "\n",
      "/mnt/disk15tb/jonathan/CDKL5/CDKL5/230317/16861/Network/000137/data.raw.h5\n",
      "\n",
      "/mnt/disk15tb/jonathan/CDKL5/CDKL5/230317/16364/Network/000129/data.raw.h5\n",
      "\n",
      "/mnt/disk15tb/jonathan/CDKL5/CDKL5/230317/16364/Network/000130/data.raw.h5\n",
      "\n",
      "/mnt/disk15tb/jonathan/CDKL5/CDKL5/230317/16873/Network/000146/data.raw.h5\n",
      "\n",
      "/mnt/disk15tb/jonathan/CDKL5/CDKL5/230317/16873/Network/000145/data.raw.h5\n",
      "\n",
      "/mnt/disk15tb/jonathan/CDKL5/CDKL5/230317/16821/Network/000106/data.raw.h5\n",
      "\n",
      "/mnt/disk15tb/jonathan/CDKL5/CDKL5/230317/16821/Network/000105/data.raw.h5\n",
      "\n",
      "/mnt/disk15tb/jonathan/CDKL5/CDKL5/230317/16742/Network/000114/data.raw.h5\n",
      "\n",
      "/mnt/disk15tb/jonathan/CDKL5/CDKL5/230317/16742/Network/000115/data.raw.h5\n",
      "\n",
      "/mnt/disk15tb/jonathan/CDKL5/CDKL5/230324/16940/Network/000169/data.raw.h5\n",
      "\n",
      "/mnt/disk15tb/jonathan/CDKL5/CDKL5/230324/16940/Network/000168/data.raw.h5\n",
      "\n",
      "/mnt/disk15tb/jonathan/CDKL5/CDKL5/230324/16963/Network/000151/data.raw.h5\n",
      "\n",
      "/mnt/disk15tb/jonathan/CDKL5/CDKL5/230324/16963/Network/000152/data.raw.h5\n",
      "\n",
      "/mnt/disk15tb/jonathan/CDKL5/CDKL5/230324/16787/Network/000177/data.raw.h5\n",
      "\n",
      "/mnt/disk15tb/jonathan/CDKL5/CDKL5/230324/16787/Network/000178/data.raw.h5\n",
      "\n",
      "/mnt/disk15tb/jonathan/CDKL5/CDKL5/230324/16869/Network/000187/data.raw.h5\n",
      "\n",
      "/mnt/disk15tb/jonathan/CDKL5/CDKL5/230324/16869/Network/000186/data.raw.h5\n",
      "\n",
      "/mnt/disk15tb/jonathan/CDKL5/CDKL5/230324/16856/Network/000183/data.raw.h5\n",
      "\n",
      "/mnt/disk15tb/jonathan/CDKL5/CDKL5/230324/16856/Network/000184/data.raw.h5\n",
      "\n",
      "/mnt/disk15tb/jonathan/CDKL5/CDKL5/230324/16757/Network/000155/data.raw.h5\n",
      "\n",
      "/mnt/disk15tb/jonathan/CDKL5/CDKL5/230324/16757/Network/000154/data.raw.h5\n",
      "\n",
      "/mnt/disk15tb/jonathan/CDKL5/CDKL5/230324/16665/Network/000171/data.raw.h5\n",
      "\n",
      "/mnt/disk15tb/jonathan/CDKL5/CDKL5/230324/16665/Network/000172/data.raw.h5\n",
      "\n",
      "/mnt/disk15tb/jonathan/CDKL5/CDKL5/230324/16861/Network/000181/data.raw.h5\n",
      "\n",
      "/mnt/disk15tb/jonathan/CDKL5/CDKL5/230324/16861/Network/000180/data.raw.h5\n",
      "\n",
      "/mnt/disk15tb/jonathan/CDKL5/CDKL5/230324/16364/Network/000175/data.raw.h5\n",
      "\n",
      "/mnt/disk15tb/jonathan/CDKL5/CDKL5/230324/16364/Network/000174/data.raw.h5\n",
      "\n",
      "/mnt/disk15tb/jonathan/CDKL5/CDKL5/230324/16873/Network/000165/data.raw.h5\n",
      "\n",
      "/mnt/disk15tb/jonathan/CDKL5/CDKL5/230324/16873/Network/000166/data.raw.h5\n",
      "\n",
      "/mnt/disk15tb/jonathan/CDKL5/CDKL5/230324/16821/Network/000149/data.raw.h5\n",
      "\n",
      "/mnt/disk15tb/jonathan/CDKL5/CDKL5/230324/16821/Network/000148/data.raw.h5\n",
      "\n",
      "/mnt/disk15tb/jonathan/CDKL5/CDKL5/230324/16742/Network/000157/data.raw.h5\n",
      "\n",
      "/mnt/disk15tb/jonathan/CDKL5/CDKL5/230324/16742/Network/000159/data.raw.h5\n",
      "\n",
      "/mnt/disk15tb/jonathan/CDKL5/CDKL5/230404/16940/Network/000255/data.raw.h5\n",
      "\n",
      "/mnt/disk15tb/jonathan/CDKL5/CDKL5/230404/16940/Network/000254/data.raw.h5\n",
      "\n",
      "/mnt/disk15tb/jonathan/CDKL5/CDKL5/230404/16940/Network/000253/data.raw.h5\n",
      "\n",
      "/mnt/disk15tb/jonathan/CDKL5/CDKL5/230404/16963/Network/000233/data.raw.h5\n",
      "\n",
      "/mnt/disk15tb/jonathan/CDKL5/CDKL5/230404/16963/Network/000234/data.raw.h5\n",
      "\n",
      "/mnt/disk15tb/jonathan/CDKL5/CDKL5/230404/16963/Network/000232/data.raw.h5\n",
      "\n",
      "/mnt/disk15tb/jonathan/CDKL5/CDKL5/230404/16787/Network/000267/data.raw.h5\n",
      "\n",
      "/mnt/disk15tb/jonathan/CDKL5/CDKL5/230404/16787/Network/000266/data.raw.h5\n",
      "\n",
      "/mnt/disk15tb/jonathan/CDKL5/CDKL5/230404/16787/Network/000265/data.raw.h5\n",
      "\n",
      "/mnt/disk15tb/jonathan/CDKL5/CDKL5/230404/16869/Network/000280/data.raw.h5\n",
      "\n",
      "/mnt/disk15tb/jonathan/CDKL5/CDKL5/230404/16869/Network/000279/data.raw.h5\n",
      "\n",
      "/mnt/disk15tb/jonathan/CDKL5/CDKL5/230404/16869/Network/000278/data.raw.h5\n",
      "\n",
      "/mnt/disk15tb/jonathan/CDKL5/CDKL5/230404/16856/Network/000274/data.raw.h5\n",
      "\n",
      "/mnt/disk15tb/jonathan/CDKL5/CDKL5/230404/16856/Network/000275/data.raw.h5\n",
      "\n",
      "/mnt/disk15tb/jonathan/CDKL5/CDKL5/230404/16856/Network/000273/data.raw.h5\n",
      "\n",
      "/mnt/disk15tb/jonathan/CDKL5/CDKL5/230404/16757/Network/000236/data.raw.h5\n",
      "\n",
      "/mnt/disk15tb/jonathan/CDKL5/CDKL5/230404/16757/Network/000238/data.raw.h5\n",
      "\n",
      "/mnt/disk15tb/jonathan/CDKL5/CDKL5/230404/16757/Network/000237/data.raw.h5\n",
      "\n",
      "/mnt/disk15tb/jonathan/CDKL5/CDKL5/230404/16665/Network/000257/data.raw.h5\n",
      "\n",
      "/mnt/disk15tb/jonathan/CDKL5/CDKL5/230404/16665/Network/000259/data.raw.h5\n",
      "\n",
      "/mnt/disk15tb/jonathan/CDKL5/CDKL5/230404/16665/Network/000258/data.raw.h5\n",
      "\n",
      "/mnt/disk15tb/jonathan/CDKL5/CDKL5/230404/16861/Network/000270/data.raw.h5\n",
      "\n",
      "/mnt/disk15tb/jonathan/CDKL5/CDKL5/230404/16861/Network/000269/data.raw.h5\n",
      "\n",
      "/mnt/disk15tb/jonathan/CDKL5/CDKL5/230404/16861/Network/000271/data.raw.h5\n",
      "\n",
      "/mnt/disk15tb/jonathan/CDKL5/CDKL5/230404/16364/Network/000263/data.raw.h5\n",
      "\n",
      "/mnt/disk15tb/jonathan/CDKL5/CDKL5/230404/16364/Network/000262/data.raw.h5\n",
      "\n",
      "/mnt/disk15tb/jonathan/CDKL5/CDKL5/230404/16364/Network/000261/data.raw.h5\n",
      "\n",
      "/mnt/disk15tb/jonathan/CDKL5/CDKL5/230404/16873/Network/000249/data.raw.h5\n",
      "\n",
      "/mnt/disk15tb/jonathan/CDKL5/CDKL5/230404/16873/Network/000248/data.raw.h5\n",
      "\n",
      "/mnt/disk15tb/jonathan/CDKL5/CDKL5/230404/16873/Network/000250/data.raw.h5\n",
      "\n",
      "/mnt/disk15tb/jonathan/CDKL5/CDKL5/230404/16821/Network/000226/data.raw.h5\n",
      "\n",
      "/mnt/disk15tb/jonathan/CDKL5/CDKL5/230404/16821/Network/000225/data.raw.h5\n",
      "\n",
      "/mnt/disk15tb/jonathan/CDKL5/CDKL5/230404/16821/Network/000230/data.raw.h5\n",
      "\n",
      "/mnt/disk15tb/jonathan/CDKL5/CDKL5/230404/16742/Network/000246/data.raw.h5\n",
      "\n",
      "/mnt/disk15tb/jonathan/CDKL5/CDKL5/230404/16742/Network/000245/data.raw.h5\n",
      "\n",
      "/mnt/disk15tb/jonathan/CDKL5/CDKL5/230404/16742/Network/000244/data.raw.h5\n",
      "\n",
      "/mnt/disk15tb/jonathan/CDKL5/CDKL5/230411/16940/Network/000304/data.raw.h5\n",
      "\n",
      "/mnt/disk15tb/jonathan/CDKL5/CDKL5/230411/16940/Network/000305/data.raw.h5\n",
      "\n",
      "/mnt/disk15tb/jonathan/CDKL5/CDKL5/230411/16940/Network/000306/data.raw.h5\n",
      "\n",
      "/mnt/disk15tb/jonathan/CDKL5/CDKL5/230411/16963/Network/000287/data.raw.h5\n",
      "\n",
      "/mnt/disk15tb/jonathan/CDKL5/CDKL5/230411/16963/Network/000289/data.raw.h5\n",
      "\n",
      "/mnt/disk15tb/jonathan/CDKL5/CDKL5/230411/16963/Network/000288/data.raw.h5\n",
      "\n",
      "/mnt/disk15tb/jonathan/CDKL5/CDKL5/230411/16787/Network/000319/data.raw.h5\n",
      "\n",
      "/mnt/disk15tb/jonathan/CDKL5/CDKL5/230411/16787/Network/000318/data.raw.h5\n",
      "\n",
      "/mnt/disk15tb/jonathan/CDKL5/CDKL5/230411/16787/Network/000317/data.raw.h5\n",
      "\n",
      "/mnt/disk15tb/jonathan/CDKL5/CDKL5/230411/16869/Network/000331/data.raw.h5\n",
      "\n",
      "/mnt/disk15tb/jonathan/CDKL5/CDKL5/230411/16869/Network/000330/data.raw.h5\n",
      "\n",
      "/mnt/disk15tb/jonathan/CDKL5/CDKL5/230411/16869/Network/000329/data.raw.h5\n",
      "\n",
      "/mnt/disk15tb/jonathan/CDKL5/CDKL5/230411/16856/Network/000325/data.raw.h5\n",
      "\n",
      "/mnt/disk15tb/jonathan/CDKL5/CDKL5/230411/16856/Network/000326/data.raw.h5\n",
      "\n",
      "/mnt/disk15tb/jonathan/CDKL5/CDKL5/230411/16856/Network/000327/data.raw.h5\n",
      "\n",
      "/mnt/disk15tb/jonathan/CDKL5/CDKL5/230411/16757/Network/000292/data.raw.h5\n",
      "\n",
      "/mnt/disk15tb/jonathan/CDKL5/CDKL5/230411/16757/Network/000293/data.raw.h5\n",
      "\n",
      "/mnt/disk15tb/jonathan/CDKL5/CDKL5/230411/16757/Network/000291/data.raw.h5\n",
      "\n",
      "/mnt/disk15tb/jonathan/CDKL5/CDKL5/230411/16665/Network/000309/data.raw.h5\n",
      "\n",
      "/mnt/disk15tb/jonathan/CDKL5/CDKL5/230411/16665/Network/000310/data.raw.h5\n",
      "\n",
      "/mnt/disk15tb/jonathan/CDKL5/CDKL5/230411/16665/Network/000308/data.raw.h5\n",
      "\n",
      "/mnt/disk15tb/jonathan/CDKL5/CDKL5/230411/16861/Network/000322/data.raw.h5\n",
      "\n",
      "/mnt/disk15tb/jonathan/CDKL5/CDKL5/230411/16861/Network/000323/data.raw.h5\n",
      "\n",
      "/mnt/disk15tb/jonathan/CDKL5/CDKL5/230411/16861/Network/000321/data.raw.h5\n",
      "\n",
      "/mnt/disk15tb/jonathan/CDKL5/CDKL5/230411/16364/Network/000314/data.raw.h5\n",
      "\n",
      "/mnt/disk15tb/jonathan/CDKL5/CDKL5/230411/16364/Network/000313/data.raw.h5\n",
      "\n",
      "/mnt/disk15tb/jonathan/CDKL5/CDKL5/230411/16364/Network/000315/data.raw.h5\n",
      "\n",
      "/mnt/disk15tb/jonathan/CDKL5/CDKL5/230411/16873/Network/000302/data.raw.h5\n",
      "\n",
      "/mnt/disk15tb/jonathan/CDKL5/CDKL5/230411/16873/Network/000301/data.raw.h5\n",
      "\n",
      "/mnt/disk15tb/jonathan/CDKL5/CDKL5/230411/16873/Network/000300/data.raw.h5\n",
      "\n",
      "/mnt/disk15tb/jonathan/CDKL5/CDKL5/230411/16821/Network/000283/data.raw.h5\n",
      "\n",
      "/mnt/disk15tb/jonathan/CDKL5/CDKL5/230411/16821/Network/000285/data.raw.h5\n",
      "\n",
      "/mnt/disk15tb/jonathan/CDKL5/CDKL5/230411/16821/Network/000284/data.raw.h5\n",
      "\n",
      "/mnt/disk15tb/jonathan/CDKL5/CDKL5/230411/16742/Network/000298/data.raw.h5\n",
      "\n",
      "/mnt/disk15tb/jonathan/CDKL5/CDKL5/230411/16742/Network/000297/data.raw.h5\n",
      "\n",
      "/mnt/disk15tb/jonathan/CDKL5/CDKL5/230411/16742/Network/000296/data.raw.h5\n",
      "\n",
      "/mnt/disk15tb/jonathan/CDKL5/CDKL5/230314/16940/Network/000079/data.raw.h5\n",
      "\n",
      "/mnt/disk15tb/jonathan/CDKL5/CDKL5/230314/16940/Network/000078/data.raw.h5\n",
      "\n",
      "/mnt/disk15tb/jonathan/CDKL5/CDKL5/230314/16963/Network/000067/data.raw.h5\n",
      "\n",
      "/mnt/disk15tb/jonathan/CDKL5/CDKL5/230314/16963/Network/000066/data.raw.h5\n",
      "\n",
      "/mnt/disk15tb/jonathan/CDKL5/CDKL5/230314/16787/Network/000087/data.raw.h5\n",
      "\n",
      "/mnt/disk15tb/jonathan/CDKL5/CDKL5/230314/16787/Network/000088/data.raw.h5\n",
      "\n",
      "/mnt/disk15tb/jonathan/CDKL5/CDKL5/230314/16869/Network/000102/data.raw.h5\n",
      "\n",
      "/mnt/disk15tb/jonathan/CDKL5/CDKL5/230314/16869/Network/000103/data.raw.h5\n",
      "\n",
      "/mnt/disk15tb/jonathan/CDKL5/CDKL5/230314/16856/Network/000099/data.raw.h5\n",
      "\n",
      "/mnt/disk15tb/jonathan/CDKL5/CDKL5/230314/16856/Network/000100/data.raw.h5\n",
      "\n",
      "/mnt/disk15tb/jonathan/CDKL5/CDKL5/230314/16757/Network/000069/data.raw.h5\n",
      "\n",
      "/mnt/disk15tb/jonathan/CDKL5/CDKL5/230314/16757/Network/000070/data.raw.h5\n",
      "\n",
      "/mnt/disk15tb/jonathan/CDKL5/CDKL5/230314/16665/Network/000082/data.raw.h5\n",
      "\n",
      "/mnt/disk15tb/jonathan/CDKL5/CDKL5/230314/16665/Network/000081/data.raw.h5\n",
      "\n",
      "/mnt/disk15tb/jonathan/CDKL5/CDKL5/230314/16861/Network/000097/data.raw.h5\n",
      "\n",
      "/mnt/disk15tb/jonathan/CDKL5/CDKL5/230314/16861/Network/000096/data.raw.h5\n",
      "\n",
      "/mnt/disk15tb/jonathan/CDKL5/CDKL5/230314/16364/Network/000085/data.raw.h5\n",
      "\n",
      "/mnt/disk15tb/jonathan/CDKL5/CDKL5/230314/16364/Network/000084/data.raw.h5\n",
      "\n",
      "/mnt/disk15tb/jonathan/CDKL5/CDKL5/230314/16873/Network/000076/data.raw.h5\n",
      "\n",
      "/mnt/disk15tb/jonathan/CDKL5/CDKL5/230314/16873/Network/000075/data.raw.h5\n",
      "\n",
      "/mnt/disk15tb/jonathan/CDKL5/CDKL5/230314/16821/Network/000064/data.raw.h5\n",
      "\n",
      "/mnt/disk15tb/jonathan/CDKL5/CDKL5/230314/16821/Network/000063/data.raw.h5\n",
      "\n",
      "/mnt/disk15tb/jonathan/CDKL5/CDKL5/230314/16742/Network/000072/data.raw.h5\n",
      "\n",
      "/mnt/disk15tb/jonathan/CDKL5/CDKL5/230314/16742/Network/000073/data.raw.h5\n",
      "\n",
      "/mnt/disk15tb/jonathan/CDKL5/CDKL5/230307/16940/Network/000011/data.raw.h5\n",
      "\n",
      "/mnt/disk15tb/jonathan/CDKL5/CDKL5/230307/16963/Network/000015/data.raw.h5\n",
      "\n",
      "/mnt/disk15tb/jonathan/CDKL5/CDKL5/230307/16787/Network/000019/data.raw.h5\n",
      "\n",
      "/mnt/disk15tb/jonathan/CDKL5/CDKL5/230307/16869/Network/000025/data.raw.h5\n",
      "\n",
      "/mnt/disk15tb/jonathan/CDKL5/CDKL5/230307/16856/Network/000023/data.raw.h5\n",
      "\n",
      "/mnt/disk15tb/jonathan/CDKL5/CDKL5/230307/16757/Network/000017/data.raw.h5\n",
      "\n",
      "/mnt/disk15tb/jonathan/CDKL5/CDKL5/230307/16665/Network/000002/data.raw.h5\n",
      "\n",
      "/mnt/disk15tb/jonathan/CDKL5/CDKL5/230307/16861/Network/000021/data.raw.h5\n",
      "\n",
      "/mnt/disk15tb/jonathan/CDKL5/CDKL5/230307/16364/Network/000005/data.raw.h5\n",
      "\n",
      "/mnt/disk15tb/jonathan/CDKL5/CDKL5/230307/16873/Network/000009/data.raw.h5\n",
      "\n",
      "/mnt/disk15tb/jonathan/CDKL5/CDKL5/230307/16821/Network/000013/data.raw.h5\n",
      "\n",
      "/mnt/disk15tb/jonathan/CDKL5/CDKL5/230307/16742/Network/000007/data.raw.h5\n",
      "\n",
      "/mnt/disk15tb/jonathan/CDKL5/CDKL5/230310/16940/Network/000043/data.raw.h5\n",
      "\n",
      "/mnt/disk15tb/jonathan/CDKL5/CDKL5/230310/16940/Network/000042/data.raw.h5\n",
      "\n",
      "/mnt/disk15tb/jonathan/CDKL5/CDKL5/230310/16963/Network/000030/data.raw.h5\n",
      "\n",
      "/mnt/disk15tb/jonathan/CDKL5/CDKL5/230310/16963/Network/000031/data.raw.h5\n",
      "\n",
      "/mnt/disk15tb/jonathan/CDKL5/CDKL5/230310/16787/Network/000052/data.raw.h5\n",
      "\n",
      "/mnt/disk15tb/jonathan/CDKL5/CDKL5/230310/16787/Network/000051/data.raw.h5\n",
      "\n",
      "/mnt/disk15tb/jonathan/CDKL5/CDKL5/230310/16869/Network/000061/data.raw.h5\n",
      "\n",
      "/mnt/disk15tb/jonathan/CDKL5/CDKL5/230310/16869/Network/000060/data.raw.h5\n",
      "\n",
      "/mnt/disk15tb/jonathan/CDKL5/CDKL5/230310/16856/Network/000057/data.raw.h5\n",
      "\n",
      "/mnt/disk15tb/jonathan/CDKL5/CDKL5/230310/16856/Network/000058/data.raw.h5\n",
      "\n",
      "/mnt/disk15tb/jonathan/CDKL5/CDKL5/230310/16757/Network/000033/data.raw.h5\n",
      "\n",
      "/mnt/disk15tb/jonathan/CDKL5/CDKL5/230310/16757/Network/000034/data.raw.h5\n",
      "\n",
      "/mnt/disk15tb/jonathan/CDKL5/CDKL5/230310/16665/Network/000045/data.raw.h5\n",
      "\n",
      "/mnt/disk15tb/jonathan/CDKL5/CDKL5/230310/16665/Network/000046/data.raw.h5\n",
      "\n",
      "/mnt/disk15tb/jonathan/CDKL5/CDKL5/230310/16861/Network/000055/data.raw.h5\n",
      "\n",
      "/mnt/disk15tb/jonathan/CDKL5/CDKL5/230310/16861/Network/000054/data.raw.h5\n",
      "\n",
      "/mnt/disk15tb/jonathan/CDKL5/CDKL5/230310/16364/Network/000049/data.raw.h5\n",
      "\n",
      "/mnt/disk15tb/jonathan/CDKL5/CDKL5/230310/16364/Network/000048/data.raw.h5\n",
      "\n",
      "/mnt/disk15tb/jonathan/CDKL5/CDKL5/230310/16873/Network/000040/data.raw.h5\n",
      "\n",
      "/mnt/disk15tb/jonathan/CDKL5/CDKL5/230310/16873/Network/000039/data.raw.h5\n",
      "\n",
      "/mnt/disk15tb/jonathan/CDKL5/CDKL5/230310/16821/Network/000027/data.raw.h5\n",
      "\n",
      "/mnt/disk15tb/jonathan/CDKL5/CDKL5/230310/16821/Network/000028/data.raw.h5\n",
      "\n",
      "/mnt/disk15tb/jonathan/CDKL5/CDKL5/230310/16742/Network/000037/data.raw.h5\n",
      "\n",
      "/mnt/disk15tb/jonathan/CDKL5/CDKL5/230310/16742/Network/000036/data.raw.h5\n",
      "\n",
      "/mnt/disk15tb/jonathan/CDKL5/CDKL5/230428/16963/Network/000335/data.raw.h5\n",
      "\n",
      "/mnt/disk15tb/jonathan/CDKL5/CDKL5/230428/16757/Network/000337/data.raw.h5\n",
      "\n",
      "/mnt/disk15tb/jonathan/CDKL5/CDKL5/230428/16821/Network/000333/data.raw.h5\n",
      "\n",
      "/mnt/disk15tb/jonathan/CDKL5/CDKL5/230428/16742/Network/000341/data.raw.h5\n",
      "\n",
      "208\n"
     ]
    }
   ],
   "source": [
    "import helper_functions as helper\n",
    "\n",
    "root_directory = \"/mnt/disk15tb/jonathan/CDKL5/\"\n",
    "file_name_pattern = \"data.raw.h5\"\n",
    "subfolder_name = \"Network\"\n",
    "\n",
    "result = helper.find_files_with_subfolder(root_directory, file_name_pattern, subfolder_name)\n",
    "for x in result:\n",
    "    print(f\"{x}\\n\")\n",
    "print(len(result))"
   ]
  },
  {
   "cell_type": "code",
   "execution_count": 2,
   "metadata": {},
   "outputs": [
    {
     "name": "stderr",
     "output_type": "stream",
     "text": [
      "INFO:root:Processing recording: rec0000\n"
     ]
    },
    {
     "name": "stdout",
     "output_type": "stream",
     "text": [
      "Found the file in the following locations:\n",
      "The directory './sorting/block_rec0000/sorting' has been emptied.\n",
      "The directory './sorting/block_rec0000' has been emptied.\n",
      "The directory './sorting' has been emptied.\n",
      "Sampling frequency: 20000.0\n",
      "Number of channels: 1020\n",
      "Number of segments: 1\n",
      "total_recording: 300.08 s\n",
      "Starting container\n",
      "Installing spikeinterface==0.98.2 in kilosort2-maxwellcomplib:latest\n",
      "Installing extra requirements: ['neo', 'h5py']\n",
      "Running kilosort2 sorter inside kilosort2-maxwellcomplib:latest\n",
      "Stopping container\n"
     ]
    },
    {
     "data": {
      "application/vnd.jupyter.widget-view+json": {
       "model_id": "0708747bb6034326a9bcc2f7652b554d",
       "version_major": 2,
       "version_minor": 0
      },
      "text/plain": [
       "extract waveforms memmap:   0%|          | 0/300 [00:00<?, ?it/s]"
      ]
     },
     "metadata": {},
     "output_type": "display_data"
    },
    {
     "data": {
      "application/vnd.jupyter.widget-view+json": {
       "model_id": "3fdcdee8ccd6471faddd551bae679594",
       "version_major": 2,
       "version_minor": 0
      },
      "text/plain": [
       "extract amplitudes:   0%|          | 0/300 [00:00<?, ?it/s]"
      ]
     },
     "metadata": {},
     "output_type": "display_data"
    },
    {
     "name": "stderr",
     "output_type": "stream",
     "text": [
      "/home/mmp/.local/lib/python3.10/site-packages/spikeinterface/qualitymetrics/misc_metrics.py:232: RuntimeWarning: divide by zero encountered in scalar divide\n",
      "  snrs[unit_id] = np.abs(amplitude) / noise\n",
      "/home/mmp/.local/lib/python3.10/site-packages/spikeinterface/qualitymetrics/misc_metrics.py:965: UserWarning: Amplitude PDF does not have a unique minimum! More spikes might be required for a correct amplitude_cutoff computation!\n",
      "  warnings.warn(\n",
      "/home/mmp/.local/lib/python3.10/site-packages/spikeinterface/qualitymetrics/misc_metrics.py:590: UserWarning: Units [3, 5, 6, 7, 17, 23, 34, 36, 44, 47, 50, 53, 55, 56, 57, 64, 66, 67, 72, 74, 77, 83, 94, 100, 105, 110, 114, 118, 119, 130, 140, 141, 145, 149, 154, 155, 156, 157, 162, 168, 169, 170, 171, 174, 178, 181, 188, 190, 200, 202, 203, 204, 206, 210, 214, 218, 220, 223, 224, 228, 229, 247, 248, 256, 268, 269, 270, 277, 279, 280, 283, 285, 292, 305, 308, 309, 310, 312, 317, 319, 321, 327, 332, 333, 336, 339, 340, 341, 351, 359, 360, 362, 363, 367, 378, 381, 383, 389, 390, 393, 400, 402, 405, 407, 410, 414, 416, 418, 420, 423, 425, 426, 428, 433, 443, 445, 452, 460, 461, 465, 468, 472, 476, 478, 479, 480, 484, 488, 491, 493, 494, 496, 502, 503, 504, 507, 508, 512, 517, 518, 519, 523, 524, 526, 527, 528, 529, 530, 532, 534, 539, 540, 543, 546, 549, 550, 552, 553, 555, 559, 562, 563, 565, 568, 570, 573, 575, 579, 581, 588, 593, 596, 602, 605, 612, 613, 617, 620, 621, 622, 626, 628, 629, 631, 634, 635, 642, 646, 648, 649, 651, 652, 657, 668, 681, 683, 684, 688, 689, 690, 698, 699, 700, 701, 712, 724, 726, 728, 730, 731, 732, 736, 743, 748, 749, 750, 751, 754, 762, 767, 770, 777, 779, 780, 781, 787, 788, 789, 790, 792, 793, 794, 795, 796, 797, 798, 802, 803, 810, 814, 815, 816, 820, 828, 838, 843, 847, 851, 853, 861, 866, 868, 875, 890, 894, 895, 897, 899, 903, 905, 907, 909, 916, 917, 918, 919, 921, 928, 933, 934, 937, 940, 965, 970, 974, 975, 978, 982, 983, 984, 985, 986, 990, 991, 993, 994, 995, 997, 1003, 1018, 1019, 1021, 1023, 1024, 1025, 1036, 1040, 1043, 1048, 1054, 1059, 1062, 1063, 1064, 1067, 1069, 1070, 1071, 1072, 1077, 1080, 1083, 1084, 1085, 1086, 1092, 1095, 1096, 1099, 1105, 1106, 1107, 1109, 1112, 1116, 1117, 1118, 1119, 1120, 1124, 1125, 1132, 1141, 1142] have too few spikes and amplitude_cutoff is set to NaN\n",
      "  warnings.warn(f\"Units {nan_units} have too few spikes and \" \"amplitude_cutoff is set to NaN\")\n",
      "INFO:root:redundant-units : [48, 560]\n"
     ]
    },
    {
     "name": "stdout",
     "output_type": "stream",
     "text": [
      "48 45\n",
      "560 513\n",
      "Removing redundant items takes 296.80785455499426\n",
      "The directory './sorting/block_rec0000/sorting/block_rec0000/waveforms_rec0000/similarity' has been emptied.\n",
      "The directory './sorting/block_rec0000/sorting/block_rec0000/waveforms_rec0000/quality_metrics' has been emptied.\n",
      "The directory './sorting/block_rec0000/sorting/block_rec0000/waveforms_rec0000/waveforms' has been emptied.\n",
      "The directory './sorting/block_rec0000/sorting/block_rec0000/waveforms_rec0000/recording_info' has been emptied.\n",
      "The directory './sorting/block_rec0000/sorting/block_rec0000/waveforms_rec0000/spike_amplitudes' has been emptied.\n",
      "The directory './sorting/block_rec0000/sorting/block_rec0000/waveforms_rec0000/template_metrics' has been emptied.\n",
      "The directory './sorting/block_rec0000/sorting/block_rec0000/waveforms_rec0000' has been emptied.\n",
      "The directory './sorting/block_rec0000/sorting/block_rec0000/kilosort2_rec0000/in_container_sorting/properties' has been emptied.\n",
      "The directory './sorting/block_rec0000/sorting/block_rec0000/kilosort2_rec0000/in_container_sorting' has been emptied.\n"
     ]
    },
    {
     "name": "stderr",
     "output_type": "stream",
     "text": [
      "INFO:root:Processing recording: rec0000\n"
     ]
    },
    {
     "name": "stdout",
     "output_type": "stream",
     "text": [
      "The directory './sorting/block_rec0000/sorting/block_rec0000/kilosort2_rec0000/sorter_output' has been emptied.\n",
      "The directory './sorting/block_rec0000/sorting/block_rec0000/kilosort2_rec0000' has been emptied.\n",
      "The directory './sorting/block_rec0000/sorting/block_rec0000' has been emptied.\n",
      "The directory './sorting/block_rec0000/sorting' has been emptied.\n",
      "The directory './sorting/block_rec0000' has been emptied.\n",
      "The directory './sorting' has been emptied.\n",
      "Sampling frequency: 20000.0\n",
      "Number of channels: 1020\n",
      "Number of segments: 1\n",
      "total_recording: 300.07 s\n",
      "Starting container\n",
      "Installing spikeinterface==0.98.2 in kilosort2-maxwellcomplib:latest\n",
      "Installing extra requirements: ['neo', 'h5py']\n",
      "Running kilosort2 sorter inside kilosort2-maxwellcomplib:latest\n",
      "Stopping container\n"
     ]
    },
    {
     "data": {
      "application/vnd.jupyter.widget-view+json": {
       "model_id": "61184016660a47278d0717098ebbd452",
       "version_major": 2,
       "version_minor": 0
      },
      "text/plain": [
       "extract waveforms memmap:   0%|          | 0/300 [00:00<?, ?it/s]"
      ]
     },
     "metadata": {},
     "output_type": "display_data"
    },
    {
     "data": {
      "application/vnd.jupyter.widget-view+json": {
       "model_id": "fc79283c8b964572ae63ff46eb62d75d",
       "version_major": 2,
       "version_minor": 0
      },
      "text/plain": [
       "extract amplitudes:   0%|          | 0/300 [00:00<?, ?it/s]"
      ]
     },
     "metadata": {},
     "output_type": "display_data"
    },
    {
     "name": "stderr",
     "output_type": "stream",
     "text": [
      "/home/mmp/.local/lib/python3.10/site-packages/spikeinterface/qualitymetrics/misc_metrics.py:232: RuntimeWarning: divide by zero encountered in scalar divide\n",
      "  snrs[unit_id] = np.abs(amplitude) / noise\n",
      "/home/mmp/.local/lib/python3.10/site-packages/spikeinterface/qualitymetrics/misc_metrics.py:590: UserWarning: Units [3, 7, 8, 9, 10, 11, 13, 22, 29, 42, 43, 55, 59, 60, 61, 63, 70, 74, 76, 81, 84, 85, 90, 95, 98, 100, 101, 102, 103, 105, 106, 107, 108, 111, 123, 135, 146, 147, 148, 149, 151, 153, 155, 158, 163, 166, 167, 168, 169, 173, 177, 178, 181, 189, 191, 193, 202, 204, 212, 218, 224, 226, 230, 231, 232, 233, 236, 242, 246, 247, 253, 257, 266, 270, 279, 281, 284, 285, 288, 292, 306, 308, 316, 324, 329, 330, 331, 334, 338, 340, 341, 343, 344, 346, 348, 354, 358, 362, 363, 365, 369, 373, 374, 376, 378, 382, 384, 390, 393, 395, 399, 400, 409, 414, 416, 418, 419, 428, 429, 431, 433, 439, 444, 451, 456, 457, 460, 462, 463, 468, 471, 474, 482, 483, 492, 498, 501, 504, 505, 507, 509, 512, 514, 515, 516, 523, 524, 525, 527, 528, 536, 540, 546, 548, 551, 552, 553, 555, 557, 559, 562, 565, 569, 574, 576, 581, 582, 592, 599, 603, 609, 611, 616, 617, 618, 619, 622, 625, 631, 635, 644, 656, 662, 663, 665, 668, 674, 677, 678, 681, 685, 690, 693, 697, 700, 705, 706, 711, 714, 718, 722, 725, 729, 742, 743, 744, 745, 746, 751, 757, 758, 762, 772, 773, 774, 779, 781, 785, 786, 790, 792, 796, 798, 799, 804, 810, 811, 814, 816, 823, 825, 826, 831, 835, 836, 837, 839, 840, 841, 853, 855, 858, 860, 861, 865, 868, 871, 874, 875, 877, 878, 880, 881, 885, 890, 892, 897, 905, 912, 913, 916, 917, 920, 924, 926, 935, 937, 941, 943, 944, 945, 947, 950, 954, 956, 960, 962, 963, 965, 968, 970, 974, 975, 981, 987, 993, 995, 997, 1000, 1001, 1002, 1004, 1009, 1010, 1015, 1017, 1022, 1025, 1029, 1034, 1036, 1044, 1045, 1056, 1063, 1065, 1067, 1068, 1072, 1076, 1085, 1088, 1090, 1091, 1094, 1098, 1105, 1106, 1107, 1108, 1111, 1122, 1128] have too few spikes and amplitude_cutoff is set to NaN\n",
      "  warnings.warn(f\"Units {nan_units} have too few spikes and \" \"amplitude_cutoff is set to NaN\")\n",
      "INFO:root:redundant-units : [1120]\n"
     ]
    },
    {
     "name": "stdout",
     "output_type": "stream",
     "text": [
      "1120 87\n",
      "Removing redundant items takes 297.6438057779742\n",
      "The directory './sorting/block_rec0000/sorting/block_rec0000/waveforms_rec0000/similarity' has been emptied.\n",
      "The directory './sorting/block_rec0000/sorting/block_rec0000/waveforms_rec0000/quality_metrics' has been emptied.\n",
      "The directory './sorting/block_rec0000/sorting/block_rec0000/waveforms_rec0000/waveforms' has been emptied.\n",
      "The directory './sorting/block_rec0000/sorting/block_rec0000/waveforms_rec0000/recording_info' has been emptied.\n",
      "The directory './sorting/block_rec0000/sorting/block_rec0000/waveforms_rec0000/spike_amplitudes' has been emptied.\n",
      "The directory './sorting/block_rec0000/sorting/block_rec0000/waveforms_rec0000/template_metrics' has been emptied.\n",
      "The directory './sorting/block_rec0000/sorting/block_rec0000/waveforms_rec0000' has been emptied.\n",
      "The directory './sorting/block_rec0000/sorting/block_rec0000/kilosort2_rec0000/in_container_sorting/properties' has been emptied.\n",
      "The directory './sorting/block_rec0000/sorting/block_rec0000/kilosort2_rec0000/in_container_sorting' has been emptied.\n"
     ]
    },
    {
     "name": "stderr",
     "output_type": "stream",
     "text": [
      "INFO:root:Processing recording: rec0000\n"
     ]
    },
    {
     "name": "stdout",
     "output_type": "stream",
     "text": [
      "The directory './sorting/block_rec0000/sorting/block_rec0000/kilosort2_rec0000/sorter_output' has been emptied.\n",
      "The directory './sorting/block_rec0000/sorting/block_rec0000/kilosort2_rec0000' has been emptied.\n",
      "The directory './sorting/block_rec0000/sorting/block_rec0000' has been emptied.\n",
      "The directory './sorting/block_rec0000/sorting' has been emptied.\n",
      "The directory './sorting/block_rec0000' has been emptied.\n",
      "The directory './sorting' has been emptied.\n",
      "Sampling frequency: 20000.0\n",
      "Number of channels: 1020\n",
      "Number of segments: 1\n",
      "total_recording: 300.04 s\n",
      "Starting container\n",
      "Installing spikeinterface==0.98.2 in kilosort2-maxwellcomplib:latest\n",
      "Installing extra requirements: ['neo', 'h5py']\n",
      "Running kilosort2 sorter inside kilosort2-maxwellcomplib:latest\n",
      "Stopping container\n"
     ]
    },
    {
     "data": {
      "application/vnd.jupyter.widget-view+json": {
       "model_id": "4f76c4e3852d4ea682f4bdc2612ab544",
       "version_major": 2,
       "version_minor": 0
      },
      "text/plain": [
       "extract waveforms memmap:   0%|          | 0/300 [00:00<?, ?it/s]"
      ]
     },
     "metadata": {},
     "output_type": "display_data"
    },
    {
     "data": {
      "application/vnd.jupyter.widget-view+json": {
       "model_id": "55d1553d574f49559507a24755e4b480",
       "version_major": 2,
       "version_minor": 0
      },
      "text/plain": [
       "extract amplitudes:   0%|          | 0/300 [00:00<?, ?it/s]"
      ]
     },
     "metadata": {},
     "output_type": "display_data"
    },
    {
     "name": "stderr",
     "output_type": "stream",
     "text": [
      "/home/mmp/.local/lib/python3.10/site-packages/spikeinterface/qualitymetrics/misc_metrics.py:232: RuntimeWarning: divide by zero encountered in scalar divide\n",
      "  snrs[unit_id] = np.abs(amplitude) / noise\n",
      "/home/mmp/.local/lib/python3.10/site-packages/spikeinterface/qualitymetrics/misc_metrics.py:590: UserWarning: Units [5, 20, 26, 38, 39, 47, 50, 56, 57, 58, 60, 71, 73, 76, 79, 88, 91, 93, 94, 108, 109, 112, 113, 117, 126, 127, 131, 143, 152, 168, 169, 188, 192, 208, 209, 214, 220, 231, 238, 240, 251, 255, 256, 278, 284, 287, 301, 307, 310, 315, 322, 327, 329, 332, 336, 355, 356, 357, 372, 377, 385, 386, 387, 390, 392, 395, 398, 404, 405, 414, 417, 433, 435, 469, 479, 501, 504, 505, 512, 513, 514, 525, 531, 547, 549, 551, 563, 564, 567, 573, 578, 581, 591, 593, 595, 599, 600, 608, 613, 621, 632, 636, 640, 642, 646, 647, 651, 653, 660, 664, 668, 670, 671, 672, 674, 675, 681, 686, 688, 694, 695, 706, 712, 714, 715, 718, 719, 726, 729] have too few spikes and amplitude_cutoff is set to NaN\n",
      "  warnings.warn(f\"Units {nan_units} have too few spikes and \" \"amplitude_cutoff is set to NaN\")\n",
      "INFO:root:redundant-units : [4, 675]\n"
     ]
    },
    {
     "name": "stdout",
     "output_type": "stream",
     "text": [
      "7 4\n",
      "675 673\n",
      "Removing redundant items takes 294.2090181079984\n",
      "The directory './sorting/block_rec0000/sorting/block_rec0000/waveforms_rec0000/similarity' has been emptied.\n",
      "The directory './sorting/block_rec0000/sorting/block_rec0000/waveforms_rec0000/quality_metrics' has been emptied.\n",
      "The directory './sorting/block_rec0000/sorting/block_rec0000/waveforms_rec0000/waveforms' has been emptied.\n",
      "The directory './sorting/block_rec0000/sorting/block_rec0000/waveforms_rec0000/recording_info' has been emptied.\n",
      "The directory './sorting/block_rec0000/sorting/block_rec0000/waveforms_rec0000/spike_amplitudes' has been emptied.\n",
      "The directory './sorting/block_rec0000/sorting/block_rec0000/waveforms_rec0000/template_metrics' has been emptied.\n",
      "The directory './sorting/block_rec0000/sorting/block_rec0000/waveforms_rec0000' has been emptied.\n",
      "The directory './sorting/block_rec0000/sorting/block_rec0000/kilosort2_rec0000/in_container_sorting/properties' has been emptied.\n",
      "The directory './sorting/block_rec0000/sorting/block_rec0000/kilosort2_rec0000/in_container_sorting' has been emptied.\n"
     ]
    },
    {
     "name": "stderr",
     "output_type": "stream",
     "text": [
      "INFO:root:Processing recording: rec0000\n"
     ]
    },
    {
     "name": "stdout",
     "output_type": "stream",
     "text": [
      "The directory './sorting/block_rec0000/sorting/block_rec0000/kilosort2_rec0000/sorter_output' has been emptied.\n",
      "The directory './sorting/block_rec0000/sorting/block_rec0000/kilosort2_rec0000' has been emptied.\n",
      "The directory './sorting/block_rec0000/sorting/block_rec0000' has been emptied.\n",
      "The directory './sorting/block_rec0000/sorting' has been emptied.\n",
      "The directory './sorting/block_rec0000' has been emptied.\n",
      "The directory './sorting' has been emptied.\n",
      "Sampling frequency: 20000.0\n",
      "Number of channels: 1018\n",
      "Number of segments: 1\n",
      "total_recording: 300.06 s\n",
      "Starting container\n",
      "Installing spikeinterface==0.98.2 in kilosort2-maxwellcomplib:latest\n",
      "Installing extra requirements: ['neo', 'h5py']\n",
      "Running kilosort2 sorter inside kilosort2-maxwellcomplib:latest\n",
      "Stopping container\n"
     ]
    },
    {
     "data": {
      "application/vnd.jupyter.widget-view+json": {
       "model_id": "7d54b7cd303d47e9901a9d45832ab2f1",
       "version_major": 2,
       "version_minor": 0
      },
      "text/plain": [
       "extract waveforms memmap:   0%|          | 0/300 [00:00<?, ?it/s]"
      ]
     },
     "metadata": {},
     "output_type": "display_data"
    },
    {
     "data": {
      "application/vnd.jupyter.widget-view+json": {
       "model_id": "db19b72b98354f72bb7be9ece2052d90",
       "version_major": 2,
       "version_minor": 0
      },
      "text/plain": [
       "extract amplitudes:   0%|          | 0/300 [00:00<?, ?it/s]"
      ]
     },
     "metadata": {},
     "output_type": "display_data"
    },
    {
     "name": "stderr",
     "output_type": "stream",
     "text": [
      "/home/mmp/.local/lib/python3.10/site-packages/spikeinterface/qualitymetrics/misc_metrics.py:232: RuntimeWarning: divide by zero encountered in scalar divide\n",
      "  snrs[unit_id] = np.abs(amplitude) / noise\n",
      "/home/mmp/.local/lib/python3.10/site-packages/spikeinterface/qualitymetrics/misc_metrics.py:590: UserWarning: Units [6, 7, 12, 20, 21, 23, 56, 61, 66, 74, 82, 86, 89, 90, 98, 105, 108, 117, 137, 141, 148, 154, 158, 178, 180, 189, 190, 208, 217, 222, 225, 236, 243, 246, 248, 251, 254, 257, 271, 283, 287, 296, 299, 301, 328, 332, 333, 334, 351, 356, 365, 371, 383, 394, 398, 420, 424, 425, 441, 446, 455, 456, 457, 463, 469, 471, 475, 479, 482, 484, 492, 507, 512, 520, 533, 534, 540, 543, 548, 552, 555, 562, 568, 572, 576, 577, 580, 585, 591, 598, 599, 603, 604, 609, 611, 614, 615, 617, 620, 632, 637, 641, 657, 659, 664, 665, 669, 671, 674, 683, 691, 699, 702, 705, 711, 714, 721, 722, 725, 729, 730, 731, 738, 740, 747, 752, 757, 759] have too few spikes and amplitude_cutoff is set to NaN\n",
      "  warnings.warn(f\"Units {nan_units} have too few spikes and \" \"amplitude_cutoff is set to NaN\")\n",
      "INFO:root:redundant-units : [111, 552, 635, 499, 654]\n"
     ]
    },
    {
     "name": "stdout",
     "output_type": "stream",
     "text": [
      "111 109\n",
      "552 549\n",
      "637 635\n",
      "757 499\n",
      "759 654\n",
      "Removing redundant items takes 289.62839065201115\n",
      "The directory './sorting/block_rec0000/sorting/block_rec0000/waveforms_rec0000/similarity' has been emptied.\n",
      "The directory './sorting/block_rec0000/sorting/block_rec0000/waveforms_rec0000/quality_metrics' has been emptied.\n",
      "The directory './sorting/block_rec0000/sorting/block_rec0000/waveforms_rec0000/waveforms' has been emptied.\n",
      "The directory './sorting/block_rec0000/sorting/block_rec0000/waveforms_rec0000/recording_info' has been emptied.\n",
      "The directory './sorting/block_rec0000/sorting/block_rec0000/waveforms_rec0000/spike_amplitudes' has been emptied.\n",
      "The directory './sorting/block_rec0000/sorting/block_rec0000/waveforms_rec0000/template_metrics' has been emptied.\n",
      "The directory './sorting/block_rec0000/sorting/block_rec0000/waveforms_rec0000' has been emptied.\n",
      "The directory './sorting/block_rec0000/sorting/block_rec0000/kilosort2_rec0000/in_container_sorting/properties' has been emptied.\n",
      "The directory './sorting/block_rec0000/sorting/block_rec0000/kilosort2_rec0000/in_container_sorting' has been emptied.\n"
     ]
    },
    {
     "name": "stderr",
     "output_type": "stream",
     "text": [
      "INFO:root:Processing recording: rec0000\n"
     ]
    },
    {
     "name": "stdout",
     "output_type": "stream",
     "text": [
      "The directory './sorting/block_rec0000/sorting/block_rec0000/kilosort2_rec0000/sorter_output' has been emptied.\n",
      "The directory './sorting/block_rec0000/sorting/block_rec0000/kilosort2_rec0000' has been emptied.\n",
      "The directory './sorting/block_rec0000/sorting/block_rec0000' has been emptied.\n",
      "The directory './sorting/block_rec0000/sorting' has been emptied.\n",
      "The directory './sorting/block_rec0000' has been emptied.\n",
      "The directory './sorting' has been emptied.\n",
      "Sampling frequency: 20000.0\n",
      "Number of channels: 912\n",
      "Number of segments: 1\n",
      "total_recording: 300.07 s\n",
      "Starting container\n",
      "Installing spikeinterface==0.98.2 in kilosort2-maxwellcomplib:latest\n",
      "Installing extra requirements: ['neo', 'h5py']\n",
      "Running kilosort2 sorter inside kilosort2-maxwellcomplib:latest\n",
      "Stopping container\n"
     ]
    },
    {
     "data": {
      "application/vnd.jupyter.widget-view+json": {
       "model_id": "df8656443aac4a02b1b545be6049adc8",
       "version_major": 2,
       "version_minor": 0
      },
      "text/plain": [
       "extract waveforms memmap:   0%|          | 0/300 [00:00<?, ?it/s]"
      ]
     },
     "metadata": {},
     "output_type": "display_data"
    },
    {
     "data": {
      "application/vnd.jupyter.widget-view+json": {
       "model_id": "f8868608d65346769f3dd02ce801e887",
       "version_major": 2,
       "version_minor": 0
      },
      "text/plain": [
       "extract amplitudes:   0%|          | 0/300 [00:00<?, ?it/s]"
      ]
     },
     "metadata": {},
     "output_type": "display_data"
    },
    {
     "name": "stderr",
     "output_type": "stream",
     "text": [
      "/home/mmp/.local/lib/python3.10/site-packages/spikeinterface/qualitymetrics/misc_metrics.py:232: RuntimeWarning: divide by zero encountered in scalar divide\n",
      "  snrs[unit_id] = np.abs(amplitude) / noise\n",
      "/home/mmp/.local/lib/python3.10/site-packages/spikeinterface/qualitymetrics/misc_metrics.py:590: UserWarning: Units [6, 7, 8, 10, 15, 17, 31, 35, 38, 40, 42, 46, 48, 52, 55, 56, 58, 59, 60, 68, 72, 75, 77, 81, 89, 91, 96, 104, 105, 110, 112, 117, 118, 120, 122, 123, 126, 127, 129, 130, 133, 135, 137, 140, 146, 149, 150, 153, 158, 163, 173, 178, 181, 186, 190, 191, 192, 193, 194, 201, 202, 203, 206, 208, 210, 211, 215, 218, 239, 243, 246, 248, 254, 255, 258, 262, 268, 270, 272, 277, 281, 282, 283, 292, 304, 309, 310, 312, 314, 316, 318, 325, 326, 327, 329, 330, 332, 333, 337, 338, 341] have too few spikes and amplitude_cutoff is set to NaN\n",
      "  warnings.warn(f\"Units {nan_units} have too few spikes and \" \"amplitude_cutoff is set to NaN\")\n",
      "INFO:root:redundant-units : [60, 85, 234, 247, 116]\n"
     ]
    },
    {
     "name": "stdout",
     "output_type": "stream",
     "text": [
      "60 58\n",
      "85 14\n",
      "234 17\n",
      "247 73\n",
      "308 116\n",
      "Removing redundant items takes 256.22551617998397\n",
      "The directory './sorting/block_rec0000/sorting/block_rec0000/waveforms_rec0000/similarity' has been emptied.\n",
      "The directory './sorting/block_rec0000/sorting/block_rec0000/waveforms_rec0000/quality_metrics' has been emptied.\n",
      "The directory './sorting/block_rec0000/sorting/block_rec0000/waveforms_rec0000/waveforms' has been emptied.\n",
      "The directory './sorting/block_rec0000/sorting/block_rec0000/waveforms_rec0000/recording_info' has been emptied.\n",
      "The directory './sorting/block_rec0000/sorting/block_rec0000/waveforms_rec0000/spike_amplitudes' has been emptied.\n",
      "The directory './sorting/block_rec0000/sorting/block_rec0000/waveforms_rec0000/template_metrics' has been emptied.\n",
      "The directory './sorting/block_rec0000/sorting/block_rec0000/waveforms_rec0000' has been emptied.\n",
      "The directory './sorting/block_rec0000/sorting/block_rec0000/kilosort2_rec0000/in_container_sorting/properties' has been emptied.\n",
      "The directory './sorting/block_rec0000/sorting/block_rec0000/kilosort2_rec0000/in_container_sorting' has been emptied.\n"
     ]
    },
    {
     "name": "stderr",
     "output_type": "stream",
     "text": [
      "INFO:root:Processing recording: rec0000\n"
     ]
    },
    {
     "name": "stdout",
     "output_type": "stream",
     "text": [
      "The directory './sorting/block_rec0000/sorting/block_rec0000/kilosort2_rec0000/sorter_output' has been emptied.\n",
      "The directory './sorting/block_rec0000/sorting/block_rec0000/kilosort2_rec0000' has been emptied.\n",
      "The directory './sorting/block_rec0000/sorting/block_rec0000' has been emptied.\n",
      "The directory './sorting/block_rec0000/sorting' has been emptied.\n",
      "The directory './sorting/block_rec0000' has been emptied.\n",
      "The directory './sorting' has been emptied.\n",
      "Sampling frequency: 20000.0\n",
      "Number of channels: 898\n",
      "Number of segments: 1\n",
      "total_recording: 300.05 s\n",
      "Starting container\n",
      "Installing spikeinterface==0.98.2 in kilosort2-maxwellcomplib:latest\n",
      "Installing extra requirements: ['neo', 'h5py']\n",
      "Running kilosort2 sorter inside kilosort2-maxwellcomplib:latest\n",
      "Stopping container\n"
     ]
    },
    {
     "data": {
      "application/vnd.jupyter.widget-view+json": {
       "model_id": "e6b661b05dee4c40bb6517b52338ec35",
       "version_major": 2,
       "version_minor": 0
      },
      "text/plain": [
       "extract waveforms memmap:   0%|          | 0/300 [00:00<?, ?it/s]"
      ]
     },
     "metadata": {},
     "output_type": "display_data"
    },
    {
     "data": {
      "application/vnd.jupyter.widget-view+json": {
       "model_id": "3ab5226dabd449a28c6b5128420a5623",
       "version_major": 2,
       "version_minor": 0
      },
      "text/plain": [
       "extract amplitudes:   0%|          | 0/300 [00:00<?, ?it/s]"
      ]
     },
     "metadata": {},
     "output_type": "display_data"
    },
    {
     "name": "stderr",
     "output_type": "stream",
     "text": [
      "/home/mmp/.local/lib/python3.10/site-packages/spikeinterface/qualitymetrics/misc_metrics.py:232: RuntimeWarning: divide by zero encountered in scalar divide\n",
      "  snrs[unit_id] = np.abs(amplitude) / noise\n",
      "/home/mmp/.local/lib/python3.10/site-packages/spikeinterface/qualitymetrics/misc_metrics.py:590: UserWarning: Units [2, 3, 6, 9, 10, 18, 22, 23, 27, 30, 31, 34, 40, 42, 44, 45, 47, 50, 54, 55, 56, 57, 60, 62, 63, 68, 75, 77, 85, 91, 95, 96, 99, 101, 102, 106, 113, 116, 118, 119, 136, 145, 146, 152, 156, 158, 163, 164, 165, 176, 179, 180, 190, 195, 206, 207, 210, 211, 212, 213, 216, 219, 220, 225, 227, 231, 238, 239, 240, 241, 245, 246, 248, 251, 257, 259, 265, 273, 274, 283, 284, 285, 286, 289, 294, 295, 297, 299, 302, 329, 330, 331, 332, 339] have too few spikes and amplitude_cutoff is set to NaN\n",
      "  warnings.warn(f\"Units {nan_units} have too few spikes and \" \"amplitude_cutoff is set to NaN\")\n",
      "INFO:root:redundant-units : [21, 54, 26, 155, 296, 209]\n"
     ]
    },
    {
     "name": "stdout",
     "output_type": "stream",
     "text": [
      "39 21\n",
      "54 17\n",
      "58 26\n",
      "155 88\n",
      "296 209\n",
      "297 209\n",
      "Removing redundant items takes 250.7614955099998\n",
      "The directory './sorting/block_rec0000/sorting/block_rec0000/waveforms_rec0000/similarity' has been emptied.\n",
      "The directory './sorting/block_rec0000/sorting/block_rec0000/waveforms_rec0000/quality_metrics' has been emptied.\n",
      "The directory './sorting/block_rec0000/sorting/block_rec0000/waveforms_rec0000/waveforms' has been emptied.\n",
      "The directory './sorting/block_rec0000/sorting/block_rec0000/waveforms_rec0000/recording_info' has been emptied.\n",
      "The directory './sorting/block_rec0000/sorting/block_rec0000/waveforms_rec0000/spike_amplitudes' has been emptied.\n",
      "The directory './sorting/block_rec0000/sorting/block_rec0000/waveforms_rec0000/template_metrics' has been emptied.\n",
      "The directory './sorting/block_rec0000/sorting/block_rec0000/waveforms_rec0000' has been emptied.\n",
      "The directory './sorting/block_rec0000/sorting/block_rec0000/kilosort2_rec0000/in_container_sorting/properties' has been emptied.\n",
      "The directory './sorting/block_rec0000/sorting/block_rec0000/kilosort2_rec0000/in_container_sorting' has been emptied.\n"
     ]
    },
    {
     "name": "stderr",
     "output_type": "stream",
     "text": [
      "INFO:root:Processing recording: rec0000\n"
     ]
    },
    {
     "name": "stdout",
     "output_type": "stream",
     "text": [
      "The directory './sorting/block_rec0000/sorting/block_rec0000/kilosort2_rec0000/sorter_output' has been emptied.\n",
      "The directory './sorting/block_rec0000/sorting/block_rec0000/kilosort2_rec0000' has been emptied.\n",
      "The directory './sorting/block_rec0000/sorting/block_rec0000' has been emptied.\n",
      "The directory './sorting/block_rec0000/sorting' has been emptied.\n",
      "The directory './sorting/block_rec0000' has been emptied.\n",
      "The directory './sorting' has been emptied.\n",
      "Sampling frequency: 20000.0\n",
      "Number of channels: 1020\n",
      "Number of segments: 1\n",
      "total_recording: 300.03 s\n",
      "Starting container\n",
      "Installing spikeinterface==0.98.2 in kilosort2-maxwellcomplib:latest\n",
      "Installing extra requirements: ['neo', 'h5py']\n",
      "Running kilosort2 sorter inside kilosort2-maxwellcomplib:latest\n",
      "Stopping container\n"
     ]
    },
    {
     "data": {
      "application/vnd.jupyter.widget-view+json": {
       "model_id": "d569c268e4734d8e9f4b45cc0ce4b3ed",
       "version_major": 2,
       "version_minor": 0
      },
      "text/plain": [
       "extract waveforms memmap:   0%|          | 0/300 [00:00<?, ?it/s]"
      ]
     },
     "metadata": {},
     "output_type": "display_data"
    },
    {
     "data": {
      "application/vnd.jupyter.widget-view+json": {
       "model_id": "8f49fb8815414ddcab12d5674230c5e8",
       "version_major": 2,
       "version_minor": 0
      },
      "text/plain": [
       "extract amplitudes:   0%|          | 0/300 [00:00<?, ?it/s]"
      ]
     },
     "metadata": {},
     "output_type": "display_data"
    },
    {
     "name": "stderr",
     "output_type": "stream",
     "text": [
      "/home/mmp/.local/lib/python3.10/site-packages/spikeinterface/qualitymetrics/misc_metrics.py:232: RuntimeWarning: divide by zero encountered in scalar divide\n",
      "  snrs[unit_id] = np.abs(amplitude) / noise\n",
      "/home/mmp/.local/lib/python3.10/site-packages/spikeinterface/qualitymetrics/misc_metrics.py:965: UserWarning: Amplitude PDF does not have a unique minimum! More spikes might be required for a correct amplitude_cutoff computation!\n",
      "  warnings.warn(\n",
      "/home/mmp/.local/lib/python3.10/site-packages/spikeinterface/qualitymetrics/misc_metrics.py:590: UserWarning: Units [1, 4, 5, 18, 32, 33, 37, 40, 48, 53, 56, 57, 59, 67, 71, 72, 75, 78, 80, 81, 86, 89, 91, 102, 107, 110, 115, 123, 144, 146, 151, 158, 160, 161, 162, 163, 167, 173, 181, 185, 189, 191, 193, 198, 207, 208, 215, 224, 225, 240, 245, 248, 258, 264, 267, 268, 275, 285, 289, 291, 292, 296, 302, 303, 306, 312, 316, 317, 325, 326, 328, 332, 338, 348, 353, 368, 375, 377, 381, 385, 386, 387, 393, 401, 407, 408, 418, 424, 427, 428, 440, 441, 451, 472, 477, 480, 486, 488, 491, 497, 505, 513, 516, 522, 530, 535, 536, 540, 544, 545, 554, 576, 583, 591] have too few spikes and amplitude_cutoff is set to NaN\n",
      "  warnings.warn(f\"Units {nan_units} have too few spikes and \" \"amplitude_cutoff is set to NaN\")\n",
      "INFO:root:redundant-units : [23, 378, 378, 324, 362, 378, 607, 608]\n"
     ]
    },
    {
     "name": "stdout",
     "output_type": "stream",
     "text": [
      "320 23\n",
      "378 324\n",
      "378 362\n",
      "598 324\n",
      "598 362\n",
      "598 378\n",
      "607 222\n",
      "608 258\n",
      "Removing redundant items takes 295.00888849800685\n",
      "The directory './sorting/block_rec0000/sorting/block_rec0000/waveforms_rec0000/similarity' has been emptied.\n",
      "The directory './sorting/block_rec0000/sorting/block_rec0000/waveforms_rec0000/quality_metrics' has been emptied.\n",
      "The directory './sorting/block_rec0000/sorting/block_rec0000/waveforms_rec0000/waveforms' has been emptied.\n",
      "The directory './sorting/block_rec0000/sorting/block_rec0000/waveforms_rec0000/recording_info' has been emptied.\n",
      "The directory './sorting/block_rec0000/sorting/block_rec0000/waveforms_rec0000/spike_amplitudes' has been emptied.\n",
      "The directory './sorting/block_rec0000/sorting/block_rec0000/waveforms_rec0000/template_metrics' has been emptied.\n",
      "The directory './sorting/block_rec0000/sorting/block_rec0000/waveforms_rec0000' has been emptied.\n",
      "The directory './sorting/block_rec0000/sorting/block_rec0000/kilosort2_rec0000/in_container_sorting/properties' has been emptied.\n",
      "The directory './sorting/block_rec0000/sorting/block_rec0000/kilosort2_rec0000/in_container_sorting' has been emptied.\n"
     ]
    },
    {
     "name": "stderr",
     "output_type": "stream",
     "text": [
      "INFO:root:Processing recording: rec0000\n"
     ]
    },
    {
     "name": "stdout",
     "output_type": "stream",
     "text": [
      "The directory './sorting/block_rec0000/sorting/block_rec0000/kilosort2_rec0000/sorter_output' has been emptied.\n",
      "The directory './sorting/block_rec0000/sorting/block_rec0000/kilosort2_rec0000' has been emptied.\n",
      "The directory './sorting/block_rec0000/sorting/block_rec0000' has been emptied.\n",
      "The directory './sorting/block_rec0000/sorting' has been emptied.\n",
      "The directory './sorting/block_rec0000' has been emptied.\n",
      "The directory './sorting' has been emptied.\n",
      "Sampling frequency: 20000.0\n",
      "Number of channels: 1020\n",
      "Number of segments: 1\n",
      "total_recording: 300.03 s\n",
      "Starting container\n",
      "Installing spikeinterface==0.98.2 in kilosort2-maxwellcomplib:latest\n",
      "Installing extra requirements: ['neo', 'h5py']\n",
      "Running kilosort2 sorter inside kilosort2-maxwellcomplib:latest\n",
      "Stopping container\n"
     ]
    },
    {
     "data": {
      "application/vnd.jupyter.widget-view+json": {
       "model_id": "7ea9c3843d804045b79e35befc0412db",
       "version_major": 2,
       "version_minor": 0
      },
      "text/plain": [
       "extract waveforms memmap:   0%|          | 0/300 [00:00<?, ?it/s]"
      ]
     },
     "metadata": {},
     "output_type": "display_data"
    },
    {
     "data": {
      "application/vnd.jupyter.widget-view+json": {
       "model_id": "0bbc45bdb2c2486aba20176376b7c6db",
       "version_major": 2,
       "version_minor": 0
      },
      "text/plain": [
       "extract amplitudes:   0%|          | 0/300 [00:00<?, ?it/s]"
      ]
     },
     "metadata": {},
     "output_type": "display_data"
    },
    {
     "name": "stderr",
     "output_type": "stream",
     "text": [
      "/home/mmp/.local/lib/python3.10/site-packages/spikeinterface/qualitymetrics/misc_metrics.py:232: RuntimeWarning: divide by zero encountered in scalar divide\n",
      "  snrs[unit_id] = np.abs(amplitude) / noise\n",
      "/home/mmp/.local/lib/python3.10/site-packages/spikeinterface/qualitymetrics/misc_metrics.py:590: UserWarning: Units [5, 6, 10, 14, 16, 29, 39, 41, 44, 63, 69, 70, 72, 74, 75, 79, 81, 85, 97, 99, 108, 117, 120, 122, 129, 145, 147, 152, 156, 161, 167, 170, 176, 180, 184, 186, 190, 194, 195, 196, 198, 221, 223, 230, 234, 240, 247, 250, 260, 264, 265, 268, 269, 277, 279, 282, 288, 291, 297, 301, 306, 309, 322, 323, 338, 343, 365, 367, 374, 385, 387, 402, 403, 414, 421, 423, 425, 426, 429, 439, 452, 460, 468, 472, 473, 475, 482, 483, 490, 491, 496, 497, 513, 519, 532, 534, 544, 548, 555, 568, 569, 572, 579, 580, 581, 587, 592, 595] have too few spikes and amplitude_cutoff is set to NaN\n",
      "  warnings.warn(f\"Units {nan_units} have too few spikes and \" \"amplitude_cutoff is set to NaN\")\n",
      "INFO:root:redundant-units : [40, 593, 142, 397, 606]\n"
     ]
    },
    {
     "name": "stdout",
     "output_type": "stream",
     "text": [
      "44 40\n",
      "593 150\n",
      "599 142\n",
      "599 397\n",
      "606 223\n",
      "Removing redundant items takes 294.4336814910057\n",
      "The directory './sorting/block_rec0000/sorting/block_rec0000/waveforms_rec0000/similarity' has been emptied.\n",
      "The directory './sorting/block_rec0000/sorting/block_rec0000/waveforms_rec0000/quality_metrics' has been emptied.\n",
      "The directory './sorting/block_rec0000/sorting/block_rec0000/waveforms_rec0000/waveforms' has been emptied.\n",
      "The directory './sorting/block_rec0000/sorting/block_rec0000/waveforms_rec0000/recording_info' has been emptied.\n",
      "The directory './sorting/block_rec0000/sorting/block_rec0000/waveforms_rec0000/spike_amplitudes' has been emptied.\n",
      "The directory './sorting/block_rec0000/sorting/block_rec0000/waveforms_rec0000/template_metrics' has been emptied.\n",
      "The directory './sorting/block_rec0000/sorting/block_rec0000/waveforms_rec0000' has been emptied.\n",
      "The directory './sorting/block_rec0000/sorting/block_rec0000/kilosort2_rec0000/in_container_sorting/properties' has been emptied.\n",
      "The directory './sorting/block_rec0000/sorting/block_rec0000/kilosort2_rec0000/in_container_sorting' has been emptied.\n"
     ]
    },
    {
     "name": "stderr",
     "output_type": "stream",
     "text": [
      "INFO:root:Processing recording: rec0000\n"
     ]
    },
    {
     "name": "stdout",
     "output_type": "stream",
     "text": [
      "The directory './sorting/block_rec0000/sorting/block_rec0000/kilosort2_rec0000/sorter_output' has been emptied.\n",
      "The directory './sorting/block_rec0000/sorting/block_rec0000/kilosort2_rec0000' has been emptied.\n",
      "The directory './sorting/block_rec0000/sorting/block_rec0000' has been emptied.\n",
      "The directory './sorting/block_rec0000/sorting' has been emptied.\n",
      "The directory './sorting/block_rec0000' has been emptied.\n",
      "The directory './sorting' has been emptied.\n",
      "Sampling frequency: 20000.0\n",
      "Number of channels: 1020\n",
      "Number of segments: 1\n",
      "total_recording: 300.08 s\n",
      "Starting container\n",
      "Installing spikeinterface==0.98.2 in kilosort2-maxwellcomplib:latest\n",
      "Installing extra requirements: ['neo', 'h5py']\n",
      "Running kilosort2 sorter inside kilosort2-maxwellcomplib:latest\n",
      "Stopping container\n"
     ]
    },
    {
     "data": {
      "application/vnd.jupyter.widget-view+json": {
       "model_id": "f6a5f36ea8ae411ebd8ab6c29fa182fe",
       "version_major": 2,
       "version_minor": 0
      },
      "text/plain": [
       "extract waveforms memmap:   0%|          | 0/300 [00:00<?, ?it/s]"
      ]
     },
     "metadata": {},
     "output_type": "display_data"
    },
    {
     "data": {
      "application/vnd.jupyter.widget-view+json": {
       "model_id": "ba62c4edc4b74f3a9cd3bed2e7d5a735",
       "version_major": 2,
       "version_minor": 0
      },
      "text/plain": [
       "extract amplitudes:   0%|          | 0/300 [00:00<?, ?it/s]"
      ]
     },
     "metadata": {},
     "output_type": "display_data"
    },
    {
     "name": "stderr",
     "output_type": "stream",
     "text": [
      "/home/mmp/.local/lib/python3.10/site-packages/spikeinterface/qualitymetrics/misc_metrics.py:232: RuntimeWarning: divide by zero encountered in scalar divide\n",
      "  snrs[unit_id] = np.abs(amplitude) / noise\n",
      "/home/mmp/.local/lib/python3.10/site-packages/spikeinterface/qualitymetrics/misc_metrics.py:590: UserWarning: Units [1, 4, 10, 12, 15, 18, 21, 22, 34, 36, 37, 40, 41, 46, 47, 51, 52, 53, 56, 58, 59, 60, 65, 76, 77, 78, 79, 82, 84, 87, 91, 93, 101, 105, 118, 128, 138, 139, 143, 145, 150, 161, 169, 175, 178, 181, 182, 190, 200, 202, 207, 216, 236, 237, 244, 256, 257, 261, 270, 275, 277, 278, 283, 292, 301, 303, 307, 308, 311, 316, 321, 322, 324, 326, 337, 339, 341, 343, 347, 350, 353, 359, 364, 366, 371, 373, 376, 377, 384, 390, 400, 408, 411, 415, 428, 432, 433, 441, 444, 446, 448, 451, 453, 455, 456, 459, 464, 468, 472, 477, 481, 484, 486, 495, 497, 503, 507, 512, 514, 517, 526, 542, 550, 554, 560, 561, 568, 574, 578, 587, 597] have too few spikes and amplitude_cutoff is set to NaN\n",
      "  warnings.warn(f\"Units {nan_units} have too few spikes and \" \"amplitude_cutoff is set to NaN\")\n",
      "INFO:root:redundant-units : [337, 439, 352]\n"
     ]
    },
    {
     "name": "stdout",
     "output_type": "stream",
     "text": [
      "337 177\n",
      "594 439\n",
      "597 352\n",
      "Removing redundant items takes 291.9144416290219\n",
      "The directory './sorting/block_rec0000/sorting/block_rec0000/waveforms_rec0000/similarity' has been emptied.\n",
      "The directory './sorting/block_rec0000/sorting/block_rec0000/waveforms_rec0000/quality_metrics' has been emptied.\n",
      "The directory './sorting/block_rec0000/sorting/block_rec0000/waveforms_rec0000/waveforms' has been emptied.\n",
      "The directory './sorting/block_rec0000/sorting/block_rec0000/waveforms_rec0000/recording_info' has been emptied.\n",
      "The directory './sorting/block_rec0000/sorting/block_rec0000/waveforms_rec0000/spike_amplitudes' has been emptied.\n",
      "The directory './sorting/block_rec0000/sorting/block_rec0000/waveforms_rec0000/template_metrics' has been emptied.\n",
      "The directory './sorting/block_rec0000/sorting/block_rec0000/waveforms_rec0000' has been emptied.\n",
      "The directory './sorting/block_rec0000/sorting/block_rec0000/kilosort2_rec0000/in_container_sorting/properties' has been emptied.\n",
      "The directory './sorting/block_rec0000/sorting/block_rec0000/kilosort2_rec0000/in_container_sorting' has been emptied.\n"
     ]
    },
    {
     "name": "stderr",
     "output_type": "stream",
     "text": [
      "INFO:root:Processing recording: rec0000\n"
     ]
    },
    {
     "name": "stdout",
     "output_type": "stream",
     "text": [
      "The directory './sorting/block_rec0000/sorting/block_rec0000/kilosort2_rec0000/sorter_output' has been emptied.\n",
      "The directory './sorting/block_rec0000/sorting/block_rec0000/kilosort2_rec0000' has been emptied.\n",
      "The directory './sorting/block_rec0000/sorting/block_rec0000' has been emptied.\n",
      "The directory './sorting/block_rec0000/sorting' has been emptied.\n",
      "The directory './sorting/block_rec0000' has been emptied.\n",
      "The directory './sorting' has been emptied.\n",
      "Sampling frequency: 20000.0\n",
      "Number of channels: 1020\n",
      "Number of segments: 1\n",
      "total_recording: 300.06 s\n",
      "Starting container\n",
      "Installing spikeinterface==0.98.2 in kilosort2-maxwellcomplib:latest\n",
      "Installing extra requirements: ['neo', 'h5py']\n",
      "Running kilosort2 sorter inside kilosort2-maxwellcomplib:latest\n",
      "Stopping container\n"
     ]
    },
    {
     "data": {
      "application/vnd.jupyter.widget-view+json": {
       "model_id": "ad050d7b98144ebd93da8430dd8b6d76",
       "version_major": 2,
       "version_minor": 0
      },
      "text/plain": [
       "extract waveforms memmap:   0%|          | 0/300 [00:00<?, ?it/s]"
      ]
     },
     "metadata": {},
     "output_type": "display_data"
    },
    {
     "data": {
      "application/vnd.jupyter.widget-view+json": {
       "model_id": "2c07c329f0c74f62b2e8f550469c79a2",
       "version_major": 2,
       "version_minor": 0
      },
      "text/plain": [
       "extract amplitudes:   0%|          | 0/300 [00:00<?, ?it/s]"
      ]
     },
     "metadata": {},
     "output_type": "display_data"
    },
    {
     "name": "stderr",
     "output_type": "stream",
     "text": [
      "/home/mmp/.local/lib/python3.10/site-packages/spikeinterface/qualitymetrics/misc_metrics.py:232: RuntimeWarning: divide by zero encountered in scalar divide\n",
      "  snrs[unit_id] = np.abs(amplitude) / noise\n",
      "/home/mmp/.local/lib/python3.10/site-packages/spikeinterface/qualitymetrics/misc_metrics.py:590: UserWarning: Units [9, 14, 17, 18, 24, 25, 28, 29, 33, 35, 39, 42, 45, 46, 47, 48, 50, 52, 64, 66, 69, 71, 72, 75, 77, 78, 82, 91, 93, 95, 99, 103, 110, 111, 120, 121, 123, 133, 139, 140, 142, 145, 200, 202, 207, 214, 216, 217, 218, 219, 222, 224, 230, 231, 237, 238, 240, 243, 244, 246, 253, 266, 272, 275, 284, 295, 298, 302, 307, 321, 322, 324, 326, 333, 334, 336, 343, 351, 352, 353, 361, 367, 374, 379, 389, 390, 392, 396, 401, 407, 417, 420, 423, 426, 433, 434, 435, 438, 444, 446, 456, 458, 461, 464, 472, 475, 476] have too few spikes and amplitude_cutoff is set to NaN\n",
      "  warnings.warn(f\"Units {nan_units} have too few spikes and \" \"amplitude_cutoff is set to NaN\")\n",
      "/home/mmp/.local/lib/python3.10/site-packages/scipy/stats/_stats_mstats_common.py:182: RuntimeWarning: invalid value encountered in scalar divide\n",
      "  slope = ssxym / ssxm\n",
      "/home/mmp/.local/lib/python3.10/site-packages/scipy/stats/_stats_mstats_common.py:196: RuntimeWarning: invalid value encountered in sqrt\n",
      "  t = r * np.sqrt(df / ((1.0 - r + TINY)*(1.0 + r + TINY)))\n",
      "/home/mmp/.local/lib/python3.10/site-packages/scipy/stats/_stats_mstats_common.py:199: RuntimeWarning: invalid value encountered in scalar divide\n",
      "  slope_stderr = np.sqrt((1 - r**2) * ssym / ssxm / df)\n",
      "INFO:root:redundant-units : [262, 269]\n"
     ]
    },
    {
     "name": "stdout",
     "output_type": "stream",
     "text": [
      "283 262\n",
      "285 269\n",
      "Removing redundant items takes 291.9297898460063\n",
      "The directory './sorting/block_rec0000/sorting/block_rec0000/waveforms_rec0000/similarity' has been emptied.\n",
      "The directory './sorting/block_rec0000/sorting/block_rec0000/waveforms_rec0000/quality_metrics' has been emptied.\n",
      "The directory './sorting/block_rec0000/sorting/block_rec0000/waveforms_rec0000/waveforms' has been emptied.\n",
      "The directory './sorting/block_rec0000/sorting/block_rec0000/waveforms_rec0000/recording_info' has been emptied.\n",
      "The directory './sorting/block_rec0000/sorting/block_rec0000/waveforms_rec0000/spike_amplitudes' has been emptied.\n",
      "The directory './sorting/block_rec0000/sorting/block_rec0000/waveforms_rec0000/template_metrics' has been emptied.\n",
      "The directory './sorting/block_rec0000/sorting/block_rec0000/waveforms_rec0000' has been emptied.\n",
      "The directory './sorting/block_rec0000/sorting/block_rec0000/kilosort2_rec0000/in_container_sorting/properties' has been emptied.\n",
      "The directory './sorting/block_rec0000/sorting/block_rec0000/kilosort2_rec0000/in_container_sorting' has been emptied.\n"
     ]
    },
    {
     "name": "stderr",
     "output_type": "stream",
     "text": [
      "INFO:root:Processing recording: rec0000\n"
     ]
    },
    {
     "name": "stdout",
     "output_type": "stream",
     "text": [
      "The directory './sorting/block_rec0000/sorting/block_rec0000/kilosort2_rec0000/sorter_output' has been emptied.\n",
      "The directory './sorting/block_rec0000/sorting/block_rec0000/kilosort2_rec0000' has been emptied.\n",
      "The directory './sorting/block_rec0000/sorting/block_rec0000' has been emptied.\n",
      "The directory './sorting/block_rec0000/sorting' has been emptied.\n",
      "The directory './sorting/block_rec0000' has been emptied.\n",
      "The directory './sorting' has been emptied.\n",
      "Sampling frequency: 20000.0\n",
      "Number of channels: 1020\n",
      "Number of segments: 1\n",
      "total_recording: 300.06 s\n",
      "Starting container\n",
      "Installing spikeinterface==0.98.2 in kilosort2-maxwellcomplib:latest\n",
      "Installing extra requirements: ['neo', 'h5py']\n",
      "Running kilosort2 sorter inside kilosort2-maxwellcomplib:latest\n",
      "Stopping container\n"
     ]
    },
    {
     "data": {
      "application/vnd.jupyter.widget-view+json": {
       "model_id": "18cf77466eb84ca896f25dc4390bac55",
       "version_major": 2,
       "version_minor": 0
      },
      "text/plain": [
       "extract waveforms memmap:   0%|          | 0/300 [00:00<?, ?it/s]"
      ]
     },
     "metadata": {},
     "output_type": "display_data"
    },
    {
     "data": {
      "application/vnd.jupyter.widget-view+json": {
       "model_id": "6f4bc78f24c84bca82add77ed1dab9a2",
       "version_major": 2,
       "version_minor": 0
      },
      "text/plain": [
       "extract amplitudes:   0%|          | 0/300 [00:00<?, ?it/s]"
      ]
     },
     "metadata": {},
     "output_type": "display_data"
    },
    {
     "name": "stderr",
     "output_type": "stream",
     "text": [
      "/home/mmp/.local/lib/python3.10/site-packages/spikeinterface/qualitymetrics/misc_metrics.py:232: RuntimeWarning: divide by zero encountered in scalar divide\n",
      "  snrs[unit_id] = np.abs(amplitude) / noise\n",
      "/home/mmp/.local/lib/python3.10/site-packages/spikeinterface/qualitymetrics/misc_metrics.py:590: UserWarning: Units [4, 7, 9, 10, 12, 14, 15, 16, 19, 23, 24, 29, 30, 31, 32, 33, 35, 37, 40, 42, 53, 55, 67, 70, 72, 74, 75, 77, 79, 81, 86, 87, 89, 90, 97, 100, 102, 104, 110, 112, 116, 117, 120, 127, 128, 129, 130, 132, 140, 142, 144, 145, 146, 147, 152, 158, 162, 168, 169, 171, 174, 175, 181, 182, 183, 185, 190, 192, 195, 197, 198, 199, 201, 202, 203, 205, 218, 221, 222, 223, 227, 228, 229, 231, 232, 238, 239, 241, 246, 247, 253, 254, 258, 261, 266, 267, 271, 272, 279, 280, 283, 289, 290, 291, 293, 294, 299, 301, 302, 305, 309, 313, 314, 319, 322, 333, 334, 337, 340, 341, 346, 350, 351, 353, 354, 362, 363, 367, 370, 372, 373, 381, 383, 388, 391, 392, 393, 394, 395, 397, 398, 401, 404, 417, 418, 421, 423, 424, 425, 426, 428, 429, 430, 431, 432, 433, 435, 436, 438, 440, 442, 443, 444, 449, 451, 453, 455, 458, 462, 463, 470, 473, 477, 479, 480, 481, 483, 484, 486, 490, 494, 497, 499, 501, 504, 505, 512, 518, 519, 520, 522, 526, 527, 529, 532, 533, 534, 537, 541, 545, 554, 558, 559, 561, 562, 566, 567, 568, 570, 571, 573, 575, 576, 577, 578, 581, 587, 588, 590, 592, 596, 600, 601, 603, 606, 607, 608, 609, 610, 611, 617, 619, 621, 627, 628, 630, 632, 636, 637, 643, 644, 649, 654, 656, 664, 668, 671, 672, 675, 678, 679, 682, 686, 689, 691, 693, 696, 697, 705, 707, 715, 716, 717, 719, 721, 722, 732, 734, 735, 738, 744, 745, 746, 749, 750, 751, 752, 753, 754, 755, 758, 761, 762, 763, 764, 769, 772, 773, 774, 776, 781, 787, 789, 790, 793, 794, 795, 797, 800, 801, 803, 808, 822, 824, 825, 826, 827, 830, 833, 837, 838, 839, 841, 844, 845, 846, 847, 849, 850, 857, 864, 868, 869, 870, 874, 880, 882, 883, 886, 888, 894, 895, 896, 901, 902, 906, 909, 911, 912, 916, 917, 919, 927, 928, 930, 931, 936, 941, 950, 953, 954, 955, 956, 957, 959, 964, 966, 967, 968, 969, 971] have too few spikes and amplitude_cutoff is set to NaN\n",
      "  warnings.warn(f\"Units {nan_units} have too few spikes and \" \"amplitude_cutoff is set to NaN\")\n",
      "INFO:root:redundant-units : [563]\n"
     ]
    },
    {
     "name": "stdout",
     "output_type": "stream",
     "text": [
      "563 558\n",
      "Removing redundant items takes 293.8072821320093\n",
      "The directory './sorting/block_rec0000/sorting/block_rec0000/waveforms_rec0000/similarity' has been emptied.\n",
      "The directory './sorting/block_rec0000/sorting/block_rec0000/waveforms_rec0000/quality_metrics' has been emptied.\n",
      "The directory './sorting/block_rec0000/sorting/block_rec0000/waveforms_rec0000/waveforms' has been emptied.\n",
      "The directory './sorting/block_rec0000/sorting/block_rec0000/waveforms_rec0000/recording_info' has been emptied.\n",
      "The directory './sorting/block_rec0000/sorting/block_rec0000/waveforms_rec0000/spike_amplitudes' has been emptied.\n",
      "The directory './sorting/block_rec0000/sorting/block_rec0000/waveforms_rec0000/template_metrics' has been emptied.\n",
      "The directory './sorting/block_rec0000/sorting/block_rec0000/waveforms_rec0000' has been emptied.\n",
      "The directory './sorting/block_rec0000/sorting/block_rec0000/kilosort2_rec0000/in_container_sorting/properties' has been emptied.\n",
      "The directory './sorting/block_rec0000/sorting/block_rec0000/kilosort2_rec0000/in_container_sorting' has been emptied.\n"
     ]
    },
    {
     "name": "stderr",
     "output_type": "stream",
     "text": [
      "INFO:root:Processing recording: rec0000\n"
     ]
    },
    {
     "name": "stdout",
     "output_type": "stream",
     "text": [
      "The directory './sorting/block_rec0000/sorting/block_rec0000/kilosort2_rec0000/sorter_output' has been emptied.\n",
      "The directory './sorting/block_rec0000/sorting/block_rec0000/kilosort2_rec0000' has been emptied.\n",
      "The directory './sorting/block_rec0000/sorting/block_rec0000' has been emptied.\n",
      "The directory './sorting/block_rec0000/sorting' has been emptied.\n",
      "The directory './sorting/block_rec0000' has been emptied.\n",
      "The directory './sorting' has been emptied.\n",
      "Sampling frequency: 20000.0\n",
      "Number of channels: 1020\n",
      "Number of segments: 1\n",
      "total_recording: 300.03 s\n",
      "Starting container\n",
      "Installing spikeinterface==0.98.2 in kilosort2-maxwellcomplib:latest\n",
      "Installing extra requirements: ['neo', 'h5py']\n",
      "Running kilosort2 sorter inside kilosort2-maxwellcomplib:latest\n",
      "Stopping container\n"
     ]
    },
    {
     "data": {
      "application/vnd.jupyter.widget-view+json": {
       "model_id": "28be3f849c4543b9ba081a3eae973984",
       "version_major": 2,
       "version_minor": 0
      },
      "text/plain": [
       "extract waveforms memmap:   0%|          | 0/300 [00:00<?, ?it/s]"
      ]
     },
     "metadata": {},
     "output_type": "display_data"
    },
    {
     "data": {
      "application/vnd.jupyter.widget-view+json": {
       "model_id": "aad0187f9a3e48edbdd9ab1d08a67186",
       "version_major": 2,
       "version_minor": 0
      },
      "text/plain": [
       "extract amplitudes:   0%|          | 0/300 [00:00<?, ?it/s]"
      ]
     },
     "metadata": {},
     "output_type": "display_data"
    },
    {
     "name": "stderr",
     "output_type": "stream",
     "text": [
      "/home/mmp/.local/lib/python3.10/site-packages/spikeinterface/qualitymetrics/misc_metrics.py:232: RuntimeWarning: divide by zero encountered in scalar divide\n",
      "  snrs[unit_id] = np.abs(amplitude) / noise\n",
      "/home/mmp/.local/lib/python3.10/site-packages/spikeinterface/qualitymetrics/misc_metrics.py:590: UserWarning: Units [1, 3, 5, 14, 18, 19, 27, 31, 33, 34, 39, 43, 44, 45, 46, 48, 49, 50, 52, 54, 71, 73, 76, 77, 79, 81, 88, 90, 93, 97, 100, 103, 105, 109, 111, 113, 114, 123, 124, 125, 127, 128, 129, 130, 131, 132, 133, 140, 145, 151, 152, 157, 163, 173, 174, 175, 180, 185, 192, 193, 196, 199, 200, 201, 203, 214, 215, 216, 217, 221, 222, 224, 227, 228, 229, 230, 233, 234, 236, 238, 239, 240, 246, 247, 251, 253, 256, 258, 260, 261, 267, 269, 275, 280, 283, 285, 286, 289, 295, 296, 297, 299, 302, 303, 304, 306, 307, 308, 310, 312, 317, 320, 325, 326, 329, 332, 336, 344, 349, 350, 353, 357, 361, 367, 373, 374, 375, 376, 378, 382, 384, 385, 388, 390, 391, 395, 401, 403, 404, 407, 411, 416, 417, 419, 424, 429, 436, 438, 443, 446, 447, 456, 458, 462, 464, 465, 472, 474, 477, 478, 480, 483, 484, 486, 490, 493, 494, 495, 496, 497, 500, 502, 507, 508, 511, 514, 518, 519, 523, 531, 536, 538, 539, 540, 542, 545, 546, 552, 559, 562, 563, 564, 565, 569, 575, 576, 584, 589, 592, 598, 599, 601, 603, 605, 609, 611, 612, 613, 619, 620, 621, 623, 641, 642, 643, 647, 648, 649, 650, 652, 654, 659, 661, 664, 670, 671, 673, 682, 686, 691, 693, 694, 696, 698, 699, 704, 706, 707, 708, 710, 714, 720, 724, 728, 729, 732, 734, 735, 739, 740, 742, 744, 746, 748, 751, 752, 755, 760, 762, 766, 772, 773, 777, 779, 787, 790, 798, 799, 800, 801, 804, 806, 807, 808, 810, 812, 814, 816, 818, 819, 824, 825, 830, 832, 834, 844, 849, 856, 859, 868, 871, 872, 880, 881, 883, 885, 887, 892, 899, 902, 906, 908, 910, 916, 917, 922, 930, 934, 935, 941, 943, 944, 945, 947, 948, 951, 952, 953, 958, 959, 970, 971, 976, 977, 979, 982, 988, 989, 993, 994, 998, 1002, 1003, 1004, 1007, 1010, 1011, 1013, 1017, 1020, 1021, 1022] have too few spikes and amplitude_cutoff is set to NaN\n",
      "  warnings.warn(f\"Units {nan_units} have too few spikes and \" \"amplitude_cutoff is set to NaN\")\n",
      "INFO:root:redundant-units : [45, 29, 223, 269, 605, 979]\n"
     ]
    },
    {
     "name": "stdout",
     "output_type": "stream",
     "text": [
      "45 43\n",
      "199 29\n",
      "228 223\n",
      "531 269\n",
      "647 605\n",
      "1026 979\n",
      "Removing redundant items takes 295.39040091101197\n",
      "The directory './sorting/block_rec0000/sorting/block_rec0000/waveforms_rec0000/similarity' has been emptied.\n",
      "The directory './sorting/block_rec0000/sorting/block_rec0000/waveforms_rec0000/quality_metrics' has been emptied.\n",
      "The directory './sorting/block_rec0000/sorting/block_rec0000/waveforms_rec0000/waveforms' has been emptied.\n",
      "The directory './sorting/block_rec0000/sorting/block_rec0000/waveforms_rec0000/recording_info' has been emptied.\n",
      "The directory './sorting/block_rec0000/sorting/block_rec0000/waveforms_rec0000/spike_amplitudes' has been emptied.\n",
      "The directory './sorting/block_rec0000/sorting/block_rec0000/waveforms_rec0000/template_metrics' has been emptied.\n",
      "The directory './sorting/block_rec0000/sorting/block_rec0000/waveforms_rec0000' has been emptied.\n",
      "The directory './sorting/block_rec0000/sorting/block_rec0000/kilosort2_rec0000/in_container_sorting/properties' has been emptied.\n",
      "The directory './sorting/block_rec0000/sorting/block_rec0000/kilosort2_rec0000/in_container_sorting' has been emptied.\n"
     ]
    },
    {
     "name": "stderr",
     "output_type": "stream",
     "text": [
      "INFO:root:Processing recording: rec0000\n"
     ]
    },
    {
     "name": "stdout",
     "output_type": "stream",
     "text": [
      "The directory './sorting/block_rec0000/sorting/block_rec0000/kilosort2_rec0000/sorter_output' has been emptied.\n",
      "The directory './sorting/block_rec0000/sorting/block_rec0000/kilosort2_rec0000' has been emptied.\n",
      "The directory './sorting/block_rec0000/sorting/block_rec0000' has been emptied.\n",
      "The directory './sorting/block_rec0000/sorting' has been emptied.\n",
      "The directory './sorting/block_rec0000' has been emptied.\n",
      "The directory './sorting' has been emptied.\n",
      "Sampling frequency: 20000.0\n",
      "Number of channels: 1020\n",
      "Number of segments: 1\n",
      "total_recording: 300.04 s\n",
      "Starting container\n",
      "Installing spikeinterface==0.98.2 in kilosort2-maxwellcomplib:latest\n",
      "Installing extra requirements: ['neo', 'h5py']\n",
      "Running kilosort2 sorter inside kilosort2-maxwellcomplib:latest\n",
      "Stopping container\n"
     ]
    },
    {
     "data": {
      "application/vnd.jupyter.widget-view+json": {
       "model_id": "df088d15a1ef4232929cfc81faf1131a",
       "version_major": 2,
       "version_minor": 0
      },
      "text/plain": [
       "extract waveforms memmap:   0%|          | 0/300 [00:00<?, ?it/s]"
      ]
     },
     "metadata": {},
     "output_type": "display_data"
    },
    {
     "data": {
      "application/vnd.jupyter.widget-view+json": {
       "model_id": "b8d0db9ecb5a4f6ebc4fd2738fb389a8",
       "version_major": 2,
       "version_minor": 0
      },
      "text/plain": [
       "extract amplitudes:   0%|          | 0/300 [00:00<?, ?it/s]"
      ]
     },
     "metadata": {},
     "output_type": "display_data"
    },
    {
     "name": "stderr",
     "output_type": "stream",
     "text": [
      "/home/mmp/.local/lib/python3.10/site-packages/spikeinterface/qualitymetrics/misc_metrics.py:232: RuntimeWarning: divide by zero encountered in scalar divide\n",
      "  snrs[unit_id] = np.abs(amplitude) / noise\n",
      "/home/mmp/.local/lib/python3.10/site-packages/spikeinterface/qualitymetrics/misc_metrics.py:965: UserWarning: Amplitude PDF does not have a unique minimum! More spikes might be required for a correct amplitude_cutoff computation!\n",
      "  warnings.warn(\n",
      "/home/mmp/.local/lib/python3.10/site-packages/spikeinterface/qualitymetrics/misc_metrics.py:590: UserWarning: Units [5, 16, 17, 27, 29, 31, 35, 39, 52, 55, 57, 63, 66, 67, 70, 71, 87, 101, 102, 107, 113, 114, 119, 120, 122, 123, 126, 127, 137, 156, 169, 170, 172, 192, 193, 202, 203, 208, 229, 236, 238, 241, 242, 246, 252, 253, 264, 266, 267, 269, 287, 289, 291, 307, 318, 319, 324, 327, 334, 335, 336, 344, 348, 349, 350, 352, 354, 356, 363, 364, 369, 376, 378, 393, 404, 405, 413, 416, 422, 429, 432, 433, 435, 436, 449, 454, 457, 458, 468, 470, 477, 481, 487, 491, 494, 508, 511, 513, 515, 518, 520, 530, 536, 542, 543, 547, 550, 555, 557, 565, 584, 591, 593, 603, 606, 607, 611, 612, 613, 616, 623, 630, 644, 645, 650, 656, 662, 667] have too few spikes and amplitude_cutoff is set to NaN\n",
      "  warnings.warn(f\"Units {nan_units} have too few spikes and \" \"amplitude_cutoff is set to NaN\")\n",
      "INFO:root:redundant-units : [210, 435]\n"
     ]
    },
    {
     "name": "stdout",
     "output_type": "stream",
     "text": [
      "288 210\n",
      "662 435\n",
      "Removing redundant items takes 293.9999474470096\n",
      "The directory './sorting/block_rec0000/sorting/block_rec0000/waveforms_rec0000/similarity' has been emptied.\n",
      "The directory './sorting/block_rec0000/sorting/block_rec0000/waveforms_rec0000/quality_metrics' has been emptied.\n",
      "The directory './sorting/block_rec0000/sorting/block_rec0000/waveforms_rec0000/waveforms' has been emptied.\n",
      "The directory './sorting/block_rec0000/sorting/block_rec0000/waveforms_rec0000/recording_info' has been emptied.\n",
      "The directory './sorting/block_rec0000/sorting/block_rec0000/waveforms_rec0000/spike_amplitudes' has been emptied.\n",
      "The directory './sorting/block_rec0000/sorting/block_rec0000/waveforms_rec0000/template_metrics' has been emptied.\n",
      "The directory './sorting/block_rec0000/sorting/block_rec0000/waveforms_rec0000' has been emptied.\n",
      "The directory './sorting/block_rec0000/sorting/block_rec0000/kilosort2_rec0000/in_container_sorting/properties' has been emptied.\n",
      "The directory './sorting/block_rec0000/sorting/block_rec0000/kilosort2_rec0000/in_container_sorting' has been emptied.\n"
     ]
    },
    {
     "name": "stderr",
     "output_type": "stream",
     "text": [
      "INFO:root:Processing recording: rec0000\n"
     ]
    },
    {
     "name": "stdout",
     "output_type": "stream",
     "text": [
      "The directory './sorting/block_rec0000/sorting/block_rec0000/kilosort2_rec0000/sorter_output' has been emptied.\n",
      "The directory './sorting/block_rec0000/sorting/block_rec0000/kilosort2_rec0000' has been emptied.\n",
      "The directory './sorting/block_rec0000/sorting/block_rec0000' has been emptied.\n",
      "The directory './sorting/block_rec0000/sorting' has been emptied.\n",
      "The directory './sorting/block_rec0000' has been emptied.\n",
      "The directory './sorting' has been emptied.\n",
      "Sampling frequency: 20000.0\n",
      "Number of channels: 1020\n",
      "Number of segments: 1\n",
      "total_recording: 300.09 s\n",
      "Starting container\n",
      "Installing spikeinterface==0.98.2 in kilosort2-maxwellcomplib:latest\n",
      "Installing extra requirements: ['neo', 'h5py']\n",
      "Running kilosort2 sorter inside kilosort2-maxwellcomplib:latest\n",
      "Stopping container\n"
     ]
    },
    {
     "data": {
      "application/vnd.jupyter.widget-view+json": {
       "model_id": "2ea5d64335d24276a620589ce7ee41d1",
       "version_major": 2,
       "version_minor": 0
      },
      "text/plain": [
       "extract waveforms memmap:   0%|          | 0/300 [00:00<?, ?it/s]"
      ]
     },
     "metadata": {},
     "output_type": "display_data"
    },
    {
     "data": {
      "application/vnd.jupyter.widget-view+json": {
       "model_id": "59b98d27528446e4bf2d58e28b01d15c",
       "version_major": 2,
       "version_minor": 0
      },
      "text/plain": [
       "extract amplitudes:   0%|          | 0/300 [00:00<?, ?it/s]"
      ]
     },
     "metadata": {},
     "output_type": "display_data"
    },
    {
     "name": "stderr",
     "output_type": "stream",
     "text": [
      "/home/mmp/.local/lib/python3.10/site-packages/spikeinterface/qualitymetrics/misc_metrics.py:232: RuntimeWarning: divide by zero encountered in scalar divide\n",
      "  snrs[unit_id] = np.abs(amplitude) / noise\n",
      "/home/mmp/.local/lib/python3.10/site-packages/spikeinterface/qualitymetrics/misc_metrics.py:590: UserWarning: Units [2, 14, 19, 27, 36, 41, 42, 54, 58, 59, 67, 78, 92, 95, 102, 118, 122, 136, 137, 154, 155, 171, 172, 176, 180, 186, 188, 194, 200, 203, 208, 210, 214, 216, 223, 225, 227, 232, 240, 241, 243, 248, 249, 250, 254, 262, 263, 266, 267, 268, 269, 294, 295, 299, 315, 317, 320, 329, 343, 347, 370, 378, 380, 389, 399, 407, 409, 417, 423, 424, 429, 438, 441, 447, 453, 455, 457, 466, 467, 476, 478, 486, 493, 496, 507, 525, 538, 539, 540, 542, 544, 548, 553, 557, 560, 564, 569, 571] have too few spikes and amplitude_cutoff is set to NaN\n",
      "  warnings.warn(f\"Units {nan_units} have too few spikes and \" \"amplitude_cutoff is set to NaN\")\n",
      "/home/mmp/.local/lib/python3.10/site-packages/scipy/stats/_stats_mstats_common.py:182: RuntimeWarning: invalid value encountered in scalar divide\n",
      "  slope = ssxym / ssxm\n",
      "/home/mmp/.local/lib/python3.10/site-packages/scipy/stats/_stats_mstats_common.py:196: RuntimeWarning: invalid value encountered in sqrt\n",
      "  t = r * np.sqrt(df / ((1.0 - r + TINY)*(1.0 + r + TINY)))\n",
      "/home/mmp/.local/lib/python3.10/site-packages/scipy/stats/_stats_mstats_common.py:199: RuntimeWarning: invalid value encountered in scalar divide\n",
      "  slope_stderr = np.sqrt((1 - r**2) * ssym / ssxm / df)\n",
      "INFO:root:redundant-units : [139, 225]\n"
     ]
    },
    {
     "name": "stdout",
     "output_type": "stream",
     "text": [
      "146 139\n",
      "576 225\n",
      "Removing redundant items takes 293.53819572602515\n",
      "The directory './sorting/block_rec0000/sorting/block_rec0000/waveforms_rec0000/similarity' has been emptied.\n",
      "The directory './sorting/block_rec0000/sorting/block_rec0000/waveforms_rec0000/quality_metrics' has been emptied.\n",
      "The directory './sorting/block_rec0000/sorting/block_rec0000/waveforms_rec0000/waveforms' has been emptied.\n",
      "The directory './sorting/block_rec0000/sorting/block_rec0000/waveforms_rec0000/recording_info' has been emptied.\n",
      "The directory './sorting/block_rec0000/sorting/block_rec0000/waveforms_rec0000/spike_amplitudes' has been emptied.\n",
      "The directory './sorting/block_rec0000/sorting/block_rec0000/waveforms_rec0000/template_metrics' has been emptied.\n",
      "The directory './sorting/block_rec0000/sorting/block_rec0000/waveforms_rec0000' has been emptied.\n",
      "The directory './sorting/block_rec0000/sorting/block_rec0000/kilosort2_rec0000/in_container_sorting/properties' has been emptied.\n",
      "The directory './sorting/block_rec0000/sorting/block_rec0000/kilosort2_rec0000/in_container_sorting' has been emptied.\n"
     ]
    },
    {
     "name": "stderr",
     "output_type": "stream",
     "text": [
      "INFO:root:Processing recording: rec0000\n"
     ]
    },
    {
     "name": "stdout",
     "output_type": "stream",
     "text": [
      "The directory './sorting/block_rec0000/sorting/block_rec0000/kilosort2_rec0000/sorter_output' has been emptied.\n",
      "The directory './sorting/block_rec0000/sorting/block_rec0000/kilosort2_rec0000' has been emptied.\n",
      "The directory './sorting/block_rec0000/sorting/block_rec0000' has been emptied.\n",
      "The directory './sorting/block_rec0000/sorting' has been emptied.\n",
      "The directory './sorting/block_rec0000' has been emptied.\n",
      "The directory './sorting' has been emptied.\n",
      "Sampling frequency: 20000.0\n",
      "Number of channels: 373\n",
      "Number of segments: 1\n",
      "total_recording: 300.06 s\n",
      "Starting container\n",
      "Installing spikeinterface==0.98.2 in kilosort2-maxwellcomplib:latest\n",
      "Installing extra requirements: ['neo', 'h5py']\n",
      "Running kilosort2 sorter inside kilosort2-maxwellcomplib:latest\n",
      "Stopping container\n"
     ]
    },
    {
     "data": {
      "application/vnd.jupyter.widget-view+json": {
       "model_id": "17cdef47be6b4cc886b9f2406162329c",
       "version_major": 2,
       "version_minor": 0
      },
      "text/plain": [
       "extract waveforms memmap:   0%|          | 0/300 [00:00<?, ?it/s]"
      ]
     },
     "metadata": {},
     "output_type": "display_data"
    },
    {
     "data": {
      "application/vnd.jupyter.widget-view+json": {
       "model_id": "593d9d54a5604be0a03a4f910a8bbf11",
       "version_major": 2,
       "version_minor": 0
      },
      "text/plain": [
       "extract amplitudes:   0%|          | 0/300 [00:00<?, ?it/s]"
      ]
     },
     "metadata": {},
     "output_type": "display_data"
    },
    {
     "name": "stderr",
     "output_type": "stream",
     "text": [
      "/home/mmp/.local/lib/python3.10/site-packages/spikeinterface/qualitymetrics/misc_metrics.py:232: RuntimeWarning: divide by zero encountered in scalar divide\n",
      "  snrs[unit_id] = np.abs(amplitude) / noise\n",
      "/home/mmp/.local/lib/python3.10/site-packages/spikeinterface/qualitymetrics/misc_metrics.py:590: UserWarning: Units [4, 15, 17, 27, 31, 33, 34, 35, 37, 39, 53, 55, 57, 61, 62, 64, 66, 67, 71, 77, 78, 83, 89, 92, 94] have too few spikes and amplitude_cutoff is set to NaN\n",
      "  warnings.warn(f\"Units {nan_units} have too few spikes and \" \"amplitude_cutoff is set to NaN\")\n",
      "INFO:root:redundant-units : [59, 59, 90]\n"
     ]
    },
    {
     "name": "stdout",
     "output_type": "stream",
     "text": [
      "90 59\n",
      "103 59\n",
      "103 90\n",
      "Removing redundant items takes 92.21827223198488\n",
      "The directory './sorting/block_rec0000/sorting/block_rec0000/waveforms_rec0000/similarity' has been emptied.\n",
      "The directory './sorting/block_rec0000/sorting/block_rec0000/waveforms_rec0000/quality_metrics' has been emptied.\n",
      "The directory './sorting/block_rec0000/sorting/block_rec0000/waveforms_rec0000/waveforms' has been emptied.\n",
      "The directory './sorting/block_rec0000/sorting/block_rec0000/waveforms_rec0000/recording_info' has been emptied.\n",
      "The directory './sorting/block_rec0000/sorting/block_rec0000/waveforms_rec0000/spike_amplitudes' has been emptied.\n",
      "The directory './sorting/block_rec0000/sorting/block_rec0000/waveforms_rec0000/template_metrics' has been emptied.\n",
      "The directory './sorting/block_rec0000/sorting/block_rec0000/waveforms_rec0000' has been emptied.\n",
      "The directory './sorting/block_rec0000/sorting/block_rec0000/kilosort2_rec0000/in_container_sorting/properties' has been emptied.\n",
      "The directory './sorting/block_rec0000/sorting/block_rec0000/kilosort2_rec0000/in_container_sorting' has been emptied.\n"
     ]
    },
    {
     "name": "stderr",
     "output_type": "stream",
     "text": [
      "INFO:root:Processing recording: rec0000\n"
     ]
    },
    {
     "name": "stdout",
     "output_type": "stream",
     "text": [
      "The directory './sorting/block_rec0000/sorting/block_rec0000/kilosort2_rec0000/sorter_output' has been emptied.\n",
      "The directory './sorting/block_rec0000/sorting/block_rec0000/kilosort2_rec0000' has been emptied.\n",
      "The directory './sorting/block_rec0000/sorting/block_rec0000' has been emptied.\n",
      "The directory './sorting/block_rec0000/sorting' has been emptied.\n",
      "The directory './sorting/block_rec0000' has been emptied.\n",
      "The directory './sorting' has been emptied.\n",
      "Sampling frequency: 20000.0\n",
      "Number of channels: 338\n",
      "Number of segments: 1\n",
      "total_recording: 300.06 s\n",
      "Starting container\n",
      "Installing spikeinterface==0.98.2 in kilosort2-maxwellcomplib:latest\n",
      "Installing extra requirements: ['neo', 'h5py']\n",
      "Running kilosort2 sorter inside kilosort2-maxwellcomplib:latest\n",
      "Stopping container\n"
     ]
    },
    {
     "data": {
      "application/vnd.jupyter.widget-view+json": {
       "model_id": "7ebb1ff88a49484683f8217c36285625",
       "version_major": 2,
       "version_minor": 0
      },
      "text/plain": [
       "extract waveforms memmap:   0%|          | 0/300 [00:00<?, ?it/s]"
      ]
     },
     "metadata": {},
     "output_type": "display_data"
    },
    {
     "data": {
      "application/vnd.jupyter.widget-view+json": {
       "model_id": "2b293fc699604fc1a8c3c7aa420b1e8b",
       "version_major": 2,
       "version_minor": 0
      },
      "text/plain": [
       "extract amplitudes:   0%|          | 0/300 [00:00<?, ?it/s]"
      ]
     },
     "metadata": {},
     "output_type": "display_data"
    },
    {
     "name": "stderr",
     "output_type": "stream",
     "text": [
      "/home/mmp/.local/lib/python3.10/site-packages/spikeinterface/qualitymetrics/misc_metrics.py:232: RuntimeWarning: divide by zero encountered in scalar divide\n",
      "  snrs[unit_id] = np.abs(amplitude) / noise\n",
      "/home/mmp/.local/lib/python3.10/site-packages/spikeinterface/qualitymetrics/misc_metrics.py:965: UserWarning: Amplitude PDF does not have a unique minimum! More spikes might be required for a correct amplitude_cutoff computation!\n",
      "  warnings.warn(\n",
      "/home/mmp/.local/lib/python3.10/site-packages/spikeinterface/qualitymetrics/misc_metrics.py:590: UserWarning: Units [2, 5, 16, 22, 24, 28, 33, 41, 43, 62, 67, 68, 72, 77, 81, 82, 94, 100, 101, 102, 103, 104, 107, 109, 110, 111, 113, 117] have too few spikes and amplitude_cutoff is set to NaN\n",
      "  warnings.warn(f\"Units {nan_units} have too few spikes and \" \"amplitude_cutoff is set to NaN\")\n",
      "INFO:root:redundant-units : [69, 10, 69, 20]\n"
     ]
    },
    {
     "name": "stdout",
     "output_type": "stream",
     "text": [
      "69 10\n",
      "100 10\n",
      "100 69\n",
      "114 20\n",
      "Removing redundant items takes 84.73987235000823\n",
      "The directory './sorting/block_rec0000/sorting/block_rec0000/waveforms_rec0000/similarity' has been emptied.\n",
      "The directory './sorting/block_rec0000/sorting/block_rec0000/waveforms_rec0000/quality_metrics' has been emptied.\n",
      "The directory './sorting/block_rec0000/sorting/block_rec0000/waveforms_rec0000/waveforms' has been emptied.\n",
      "The directory './sorting/block_rec0000/sorting/block_rec0000/waveforms_rec0000/recording_info' has been emptied.\n",
      "The directory './sorting/block_rec0000/sorting/block_rec0000/waveforms_rec0000/spike_amplitudes' has been emptied.\n",
      "The directory './sorting/block_rec0000/sorting/block_rec0000/waveforms_rec0000/template_metrics' has been emptied.\n",
      "The directory './sorting/block_rec0000/sorting/block_rec0000/waveforms_rec0000' has been emptied.\n",
      "The directory './sorting/block_rec0000/sorting/block_rec0000/kilosort2_rec0000/in_container_sorting/properties' has been emptied.\n",
      "The directory './sorting/block_rec0000/sorting/block_rec0000/kilosort2_rec0000/in_container_sorting' has been emptied.\n"
     ]
    },
    {
     "name": "stderr",
     "output_type": "stream",
     "text": [
      "INFO:root:Processing recording: rec0000\n"
     ]
    },
    {
     "name": "stdout",
     "output_type": "stream",
     "text": [
      "The directory './sorting/block_rec0000/sorting/block_rec0000/kilosort2_rec0000/sorter_output' has been emptied.\n",
      "The directory './sorting/block_rec0000/sorting/block_rec0000/kilosort2_rec0000' has been emptied.\n",
      "The directory './sorting/block_rec0000/sorting/block_rec0000' has been emptied.\n",
      "The directory './sorting/block_rec0000/sorting' has been emptied.\n",
      "The directory './sorting/block_rec0000' has been emptied.\n",
      "The directory './sorting' has been emptied.\n",
      "Sampling frequency: 20000.0\n",
      "Number of channels: 1019\n",
      "Number of segments: 1\n",
      "total_recording: 300.06 s\n",
      "Starting container\n",
      "Installing spikeinterface==0.98.2 in kilosort2-maxwellcomplib:latest\n",
      "Installing extra requirements: ['neo', 'h5py']\n",
      "Running kilosort2 sorter inside kilosort2-maxwellcomplib:latest\n",
      "Stopping container\n"
     ]
    },
    {
     "data": {
      "application/vnd.jupyter.widget-view+json": {
       "model_id": "63d6d906af844a77b5abadff538f52fb",
       "version_major": 2,
       "version_minor": 0
      },
      "text/plain": [
       "extract waveforms memmap:   0%|          | 0/300 [00:00<?, ?it/s]"
      ]
     },
     "metadata": {},
     "output_type": "display_data"
    },
    {
     "data": {
      "application/vnd.jupyter.widget-view+json": {
       "model_id": "760cf05840b445fd9e2a27736e461aa1",
       "version_major": 2,
       "version_minor": 0
      },
      "text/plain": [
       "extract amplitudes:   0%|          | 0/300 [00:00<?, ?it/s]"
      ]
     },
     "metadata": {},
     "output_type": "display_data"
    },
    {
     "name": "stderr",
     "output_type": "stream",
     "text": [
      "/home/mmp/.local/lib/python3.10/site-packages/spikeinterface/qualitymetrics/misc_metrics.py:232: RuntimeWarning: divide by zero encountered in scalar divide\n",
      "  snrs[unit_id] = np.abs(amplitude) / noise\n",
      "/home/mmp/.local/lib/python3.10/site-packages/spikeinterface/qualitymetrics/misc_metrics.py:590: UserWarning: Units [0, 4, 8, 11, 12, 15, 17, 19, 21, 22, 23, 24, 26, 29, 33, 34, 35, 39, 40, 43, 48, 50, 57, 61, 65, 66, 69, 70, 74, 75, 77, 79, 80, 89, 93, 94, 99, 102, 107, 113, 118, 120, 122, 124, 125, 131, 134, 136, 137, 138, 146, 147, 154, 155, 156, 157, 158, 167, 171, 173, 176, 184, 189, 190, 191, 192, 195, 198, 202, 204, 207, 208, 209, 211, 212, 219, 224, 225, 228, 240, 242, 243, 244, 246, 247, 250, 251, 252, 262, 264, 268, 273, 275, 278, 291, 292, 293, 304, 305, 306, 307, 312, 319, 321, 326, 329, 334, 338, 339, 340, 343, 344, 345, 352, 363, 369, 371, 377, 378, 379, 381, 385, 388, 390, 391, 392, 398, 401, 408, 410, 411, 419, 420, 425, 429, 431, 432, 433, 438, 440, 446, 447, 448, 462, 463, 465, 467, 472, 474, 476, 481, 483, 484, 485, 489, 490, 492, 497, 508, 512, 513, 515, 517, 520, 522, 523, 525, 528, 533, 539, 540, 541, 556, 558, 561, 566, 569, 570, 579, 581, 582, 585, 589, 591, 592, 594, 597, 605, 606, 610, 611, 615, 618] have too few spikes and amplitude_cutoff is set to NaN\n",
      "  warnings.warn(f\"Units {nan_units} have too few spikes and \" \"amplitude_cutoff is set to NaN\")\n",
      "/home/mmp/.local/lib/python3.10/site-packages/scipy/stats/_stats_mstats_common.py:182: RuntimeWarning: invalid value encountered in scalar divide\n",
      "  slope = ssxym / ssxm\n",
      "/home/mmp/.local/lib/python3.10/site-packages/scipy/stats/_stats_mstats_common.py:196: RuntimeWarning: invalid value encountered in sqrt\n",
      "  t = r * np.sqrt(df / ((1.0 - r + TINY)*(1.0 + r + TINY)))\n",
      "/home/mmp/.local/lib/python3.10/site-packages/scipy/stats/_stats_mstats_common.py:199: RuntimeWarning: invalid value encountered in scalar divide\n",
      "  slope_stderr = np.sqrt((1 - r**2) * ssym / ssxm / df)\n",
      "INFO:root:redundant-units : [548]\n"
     ]
    },
    {
     "name": "stdout",
     "output_type": "stream",
     "text": [
      "556 548\n",
      "Removing redundant items takes 290.6943254079961\n",
      "The directory './sorting/block_rec0000/sorting/block_rec0000/waveforms_rec0000/similarity' has been emptied.\n",
      "The directory './sorting/block_rec0000/sorting/block_rec0000/waveforms_rec0000/quality_metrics' has been emptied.\n",
      "The directory './sorting/block_rec0000/sorting/block_rec0000/waveforms_rec0000/waveforms' has been emptied.\n",
      "The directory './sorting/block_rec0000/sorting/block_rec0000/waveforms_rec0000/recording_info' has been emptied.\n",
      "The directory './sorting/block_rec0000/sorting/block_rec0000/waveforms_rec0000/spike_amplitudes' has been emptied.\n",
      "The directory './sorting/block_rec0000/sorting/block_rec0000/waveforms_rec0000/template_metrics' has been emptied.\n",
      "The directory './sorting/block_rec0000/sorting/block_rec0000/waveforms_rec0000' has been emptied.\n",
      "The directory './sorting/block_rec0000/sorting/block_rec0000/kilosort2_rec0000/in_container_sorting/properties' has been emptied.\n",
      "The directory './sorting/block_rec0000/sorting/block_rec0000/kilosort2_rec0000/in_container_sorting' has been emptied.\n"
     ]
    },
    {
     "name": "stderr",
     "output_type": "stream",
     "text": [
      "INFO:root:Processing recording: rec0000\n"
     ]
    },
    {
     "name": "stdout",
     "output_type": "stream",
     "text": [
      "The directory './sorting/block_rec0000/sorting/block_rec0000/kilosort2_rec0000/sorter_output' has been emptied.\n",
      "The directory './sorting/block_rec0000/sorting/block_rec0000/kilosort2_rec0000' has been emptied.\n",
      "The directory './sorting/block_rec0000/sorting/block_rec0000' has been emptied.\n",
      "The directory './sorting/block_rec0000/sorting' has been emptied.\n",
      "The directory './sorting/block_rec0000' has been emptied.\n",
      "The directory './sorting' has been emptied.\n",
      "Sampling frequency: 20000.0\n",
      "Number of channels: 1020\n",
      "Number of segments: 1\n",
      "total_recording: 300.05 s\n",
      "Starting container\n",
      "Installing spikeinterface==0.98.2 in kilosort2-maxwellcomplib:latest\n",
      "Installing extra requirements: ['neo', 'h5py']\n",
      "Running kilosort2 sorter inside kilosort2-maxwellcomplib:latest\n",
      "Stopping container\n"
     ]
    },
    {
     "data": {
      "application/vnd.jupyter.widget-view+json": {
       "model_id": "87fd4b24f84f4c89912369e1601d7af8",
       "version_major": 2,
       "version_minor": 0
      },
      "text/plain": [
       "extract waveforms memmap:   0%|          | 0/300 [00:00<?, ?it/s]"
      ]
     },
     "metadata": {},
     "output_type": "display_data"
    },
    {
     "data": {
      "application/vnd.jupyter.widget-view+json": {
       "model_id": "fdf348022e744318aead569f010cfe0d",
       "version_major": 2,
       "version_minor": 0
      },
      "text/plain": [
       "extract amplitudes:   0%|          | 0/300 [00:00<?, ?it/s]"
      ]
     },
     "metadata": {},
     "output_type": "display_data"
    },
    {
     "name": "stderr",
     "output_type": "stream",
     "text": [
      "/home/mmp/.local/lib/python3.10/site-packages/spikeinterface/qualitymetrics/misc_metrics.py:232: RuntimeWarning: divide by zero encountered in scalar divide\n",
      "  snrs[unit_id] = np.abs(amplitude) / noise\n",
      "/home/mmp/.local/lib/python3.10/site-packages/spikeinterface/qualitymetrics/misc_metrics.py:590: UserWarning: Units [0, 1, 4, 6, 8, 12, 14, 16, 20, 21, 23, 25, 26, 29, 33, 37, 38, 48, 49, 51, 52, 61, 66, 69, 70, 71, 72, 74, 75, 76, 77, 89, 90, 94, 100, 104, 110, 111, 118, 121, 123, 127, 128, 132, 136, 140, 141, 144, 148, 155, 159, 160, 161, 162, 164, 167, 168, 169, 174, 181, 182, 190, 191, 196, 197, 200, 202, 203, 209, 212, 215, 216, 217, 219, 220, 226, 227, 231, 233, 235, 237, 242, 252, 261, 293, 299, 308, 310, 311, 313, 317, 318, 321, 323, 326, 327, 332, 335, 338, 342, 353, 354, 357, 358, 364, 369, 372, 376, 377, 380, 388, 389, 397, 398, 399, 402, 406, 412, 413, 416, 417, 418, 419, 422, 424, 429, 431, 438, 443, 447, 450, 453, 457, 460, 463, 464, 468, 474, 475, 477, 478, 488, 492, 496, 508, 509, 511, 514, 520, 529, 530, 531, 536, 540, 543, 547, 551, 562, 565] have too few spikes and amplitude_cutoff is set to NaN\n",
      "  warnings.warn(f\"Units {nan_units} have too few spikes and \" \"amplitude_cutoff is set to NaN\")\n",
      "INFO:root:redundant-units : []\n"
     ]
    },
    {
     "name": "stdout",
     "output_type": "stream",
     "text": [
      "Removing redundant items takes 287.4973166999989\n",
      "The directory './sorting/block_rec0000/sorting/block_rec0000/waveforms_rec0000/similarity' has been emptied.\n",
      "The directory './sorting/block_rec0000/sorting/block_rec0000/waveforms_rec0000/quality_metrics' has been emptied.\n",
      "The directory './sorting/block_rec0000/sorting/block_rec0000/waveforms_rec0000/waveforms' has been emptied.\n",
      "The directory './sorting/block_rec0000/sorting/block_rec0000/waveforms_rec0000/recording_info' has been emptied.\n",
      "The directory './sorting/block_rec0000/sorting/block_rec0000/waveforms_rec0000/spike_amplitudes' has been emptied.\n",
      "The directory './sorting/block_rec0000/sorting/block_rec0000/waveforms_rec0000/template_metrics' has been emptied.\n",
      "The directory './sorting/block_rec0000/sorting/block_rec0000/waveforms_rec0000' has been emptied.\n",
      "The directory './sorting/block_rec0000/sorting/block_rec0000/kilosort2_rec0000/in_container_sorting/properties' has been emptied.\n",
      "The directory './sorting/block_rec0000/sorting/block_rec0000/kilosort2_rec0000/in_container_sorting' has been emptied.\n"
     ]
    },
    {
     "name": "stderr",
     "output_type": "stream",
     "text": [
      "INFO:root:Processing recording: rec0000\n"
     ]
    },
    {
     "name": "stdout",
     "output_type": "stream",
     "text": [
      "The directory './sorting/block_rec0000/sorting/block_rec0000/kilosort2_rec0000/sorter_output' has been emptied.\n",
      "The directory './sorting/block_rec0000/sorting/block_rec0000/kilosort2_rec0000' has been emptied.\n",
      "The directory './sorting/block_rec0000/sorting/block_rec0000' has been emptied.\n",
      "The directory './sorting/block_rec0000/sorting' has been emptied.\n",
      "The directory './sorting/block_rec0000' has been emptied.\n",
      "The directory './sorting' has been emptied.\n",
      "Sampling frequency: 20000.0\n",
      "Number of channels: 1019\n",
      "Number of segments: 1\n",
      "total_recording: 300.04 s\n",
      "Starting container\n",
      "Installing spikeinterface==0.98.2 in kilosort2-maxwellcomplib:latest\n",
      "Installing extra requirements: ['neo', 'h5py']\n",
      "Running kilosort2 sorter inside kilosort2-maxwellcomplib:latest\n",
      "Stopping container\n"
     ]
    },
    {
     "data": {
      "application/vnd.jupyter.widget-view+json": {
       "model_id": "ab6393cbf0ef45888161d7c39c28f203",
       "version_major": 2,
       "version_minor": 0
      },
      "text/plain": [
       "extract waveforms memmap:   0%|          | 0/300 [00:00<?, ?it/s]"
      ]
     },
     "metadata": {},
     "output_type": "display_data"
    },
    {
     "data": {
      "application/vnd.jupyter.widget-view+json": {
       "model_id": "60e91f6345034845a4e0690716a0865e",
       "version_major": 2,
       "version_minor": 0
      },
      "text/plain": [
       "extract amplitudes:   0%|          | 0/300 [00:00<?, ?it/s]"
      ]
     },
     "metadata": {},
     "output_type": "display_data"
    },
    {
     "name": "stderr",
     "output_type": "stream",
     "text": [
      "/home/mmp/.local/lib/python3.10/site-packages/spikeinterface/qualitymetrics/misc_metrics.py:232: RuntimeWarning: divide by zero encountered in scalar divide\n",
      "  snrs[unit_id] = np.abs(amplitude) / noise\n",
      "/home/mmp/.local/lib/python3.10/site-packages/spikeinterface/qualitymetrics/misc_metrics.py:590: UserWarning: Units [2, 9, 10, 16, 19, 24, 25, 28, 33, 35, 46, 49, 53, 57, 59, 62, 69, 77, 79, 89, 94, 97, 105, 111, 117, 119, 125, 126, 133, 144, 152, 160, 172, 177, 180, 182, 201, 214, 215, 237, 238, 243, 256, 269, 278, 279, 282, 286, 288, 290, 300, 304, 307, 310, 314, 316, 327, 338, 353, 359, 365, 370, 376, 377, 379, 381, 384, 397, 400, 404, 406, 408, 409, 413, 420, 430, 443, 445, 449, 452, 466, 471, 474, 477, 491, 492, 504, 513, 517, 527, 539, 542, 548, 550, 554, 555, 560, 563, 572, 576, 590, 592, 596] have too few spikes and amplitude_cutoff is set to NaN\n",
      "  warnings.warn(f\"Units {nan_units} have too few spikes and \" \"amplitude_cutoff is set to NaN\")\n",
      "INFO:root:redundant-units : [167, 387]\n"
     ]
    },
    {
     "name": "stdout",
     "output_type": "stream",
     "text": [
      "595 167\n",
      "597 387\n",
      "Removing redundant items takes 293.04646755501744\n",
      "The directory './sorting/block_rec0000/sorting/block_rec0000/waveforms_rec0000/similarity' has been emptied.\n",
      "The directory './sorting/block_rec0000/sorting/block_rec0000/waveforms_rec0000/quality_metrics' has been emptied.\n",
      "The directory './sorting/block_rec0000/sorting/block_rec0000/waveforms_rec0000/waveforms' has been emptied.\n",
      "The directory './sorting/block_rec0000/sorting/block_rec0000/waveforms_rec0000/recording_info' has been emptied.\n",
      "The directory './sorting/block_rec0000/sorting/block_rec0000/waveforms_rec0000/spike_amplitudes' has been emptied.\n",
      "The directory './sorting/block_rec0000/sorting/block_rec0000/waveforms_rec0000/template_metrics' has been emptied.\n",
      "The directory './sorting/block_rec0000/sorting/block_rec0000/waveforms_rec0000' has been emptied.\n",
      "The directory './sorting/block_rec0000/sorting/block_rec0000/kilosort2_rec0000/in_container_sorting/properties' has been emptied.\n",
      "The directory './sorting/block_rec0000/sorting/block_rec0000/kilosort2_rec0000/in_container_sorting' has been emptied.\n"
     ]
    },
    {
     "name": "stderr",
     "output_type": "stream",
     "text": [
      "INFO:root:Processing recording: rec0000\n"
     ]
    },
    {
     "name": "stdout",
     "output_type": "stream",
     "text": [
      "The directory './sorting/block_rec0000/sorting/block_rec0000/kilosort2_rec0000/sorter_output' has been emptied.\n",
      "The directory './sorting/block_rec0000/sorting/block_rec0000/kilosort2_rec0000' has been emptied.\n",
      "The directory './sorting/block_rec0000/sorting/block_rec0000' has been emptied.\n",
      "The directory './sorting/block_rec0000/sorting' has been emptied.\n",
      "The directory './sorting/block_rec0000' has been emptied.\n",
      "The directory './sorting' has been emptied.\n",
      "Sampling frequency: 20000.0\n",
      "Number of channels: 1020\n",
      "Number of segments: 1\n",
      "total_recording: 300.06 s\n",
      "Starting container\n",
      "Installing spikeinterface==0.98.2 in kilosort2-maxwellcomplib:latest\n",
      "Installing extra requirements: ['neo', 'h5py']\n",
      "Running kilosort2 sorter inside kilosort2-maxwellcomplib:latest\n",
      "Stopping container\n"
     ]
    },
    {
     "data": {
      "application/vnd.jupyter.widget-view+json": {
       "model_id": "7e30b70dc6554d7496abcb546252d36b",
       "version_major": 2,
       "version_minor": 0
      },
      "text/plain": [
       "extract waveforms memmap:   0%|          | 0/300 [00:00<?, ?it/s]"
      ]
     },
     "metadata": {},
     "output_type": "display_data"
    },
    {
     "data": {
      "application/vnd.jupyter.widget-view+json": {
       "model_id": "7e096243ffb14704a3f7e4c89d0d5839",
       "version_major": 2,
       "version_minor": 0
      },
      "text/plain": [
       "extract amplitudes:   0%|          | 0/300 [00:00<?, ?it/s]"
      ]
     },
     "metadata": {},
     "output_type": "display_data"
    },
    {
     "name": "stderr",
     "output_type": "stream",
     "text": [
      "/home/mmp/.local/lib/python3.10/site-packages/spikeinterface/qualitymetrics/misc_metrics.py:232: RuntimeWarning: divide by zero encountered in scalar divide\n",
      "  snrs[unit_id] = np.abs(amplitude) / noise\n",
      "/home/mmp/.local/lib/python3.10/site-packages/spikeinterface/qualitymetrics/misc_metrics.py:590: UserWarning: Units [1, 2, 7, 10, 15, 27, 31, 36, 42, 48, 50, 70, 74, 82, 83, 84, 102, 105, 111, 113, 126, 139, 145, 147, 152, 153, 167, 169, 172, 176, 185, 197, 201, 203, 209, 212, 218, 220, 228, 243, 244, 245, 249, 252, 255, 267, 277, 286, 304, 305, 311, 319, 321, 336, 338, 341, 342, 355, 368, 372, 375, 376, 379, 384, 398, 400, 415, 416, 417, 418, 431, 446, 448, 460, 463, 466, 469, 474, 476, 507, 514, 518, 532, 537, 538, 544, 546, 549, 563] have too few spikes and amplitude_cutoff is set to NaN\n",
      "  warnings.warn(f\"Units {nan_units} have too few spikes and \" \"amplitude_cutoff is set to NaN\")\n",
      "INFO:root:redundant-units : [460]\n"
     ]
    },
    {
     "name": "stdout",
     "output_type": "stream",
     "text": [
      "560 460\n",
      "Removing redundant items takes 282.08333751399186\n",
      "The directory './sorting/block_rec0000/sorting/block_rec0000/waveforms_rec0000/similarity' has been emptied.\n",
      "The directory './sorting/block_rec0000/sorting/block_rec0000/waveforms_rec0000/quality_metrics' has been emptied.\n",
      "The directory './sorting/block_rec0000/sorting/block_rec0000/waveforms_rec0000/waveforms' has been emptied.\n",
      "The directory './sorting/block_rec0000/sorting/block_rec0000/waveforms_rec0000/recording_info' has been emptied.\n",
      "The directory './sorting/block_rec0000/sorting/block_rec0000/waveforms_rec0000/spike_amplitudes' has been emptied.\n",
      "The directory './sorting/block_rec0000/sorting/block_rec0000/waveforms_rec0000/template_metrics' has been emptied.\n",
      "The directory './sorting/block_rec0000/sorting/block_rec0000/waveforms_rec0000' has been emptied.\n",
      "The directory './sorting/block_rec0000/sorting/block_rec0000/kilosort2_rec0000/in_container_sorting/properties' has been emptied.\n",
      "The directory './sorting/block_rec0000/sorting/block_rec0000/kilosort2_rec0000/in_container_sorting' has been emptied.\n"
     ]
    },
    {
     "name": "stderr",
     "output_type": "stream",
     "text": [
      "INFO:root:Processing recording: rec0000\n"
     ]
    },
    {
     "name": "stdout",
     "output_type": "stream",
     "text": [
      "The directory './sorting/block_rec0000/sorting/block_rec0000/kilosort2_rec0000/sorter_output' has been emptied.\n",
      "The directory './sorting/block_rec0000/sorting/block_rec0000/kilosort2_rec0000' has been emptied.\n",
      "The directory './sorting/block_rec0000/sorting/block_rec0000' has been emptied.\n",
      "The directory './sorting/block_rec0000/sorting' has been emptied.\n",
      "The directory './sorting/block_rec0000' has been emptied.\n",
      "The directory './sorting' has been emptied.\n",
      "Sampling frequency: 20000.0\n",
      "Number of channels: 1019\n",
      "Number of segments: 1\n",
      "total_recording: 300.01 s\n",
      "Starting container\n",
      "Installing spikeinterface==0.98.2 in kilosort2-maxwellcomplib:latest\n",
      "Installing extra requirements: ['neo', 'h5py']\n",
      "Running kilosort2 sorter inside kilosort2-maxwellcomplib:latest\n",
      "Stopping container\n"
     ]
    },
    {
     "data": {
      "application/vnd.jupyter.widget-view+json": {
       "model_id": "1e8ec74e2d5b46a19a3fdfc831d9ddbb",
       "version_major": 2,
       "version_minor": 0
      },
      "text/plain": [
       "extract waveforms memmap:   0%|          | 0/300 [00:00<?, ?it/s]"
      ]
     },
     "metadata": {},
     "output_type": "display_data"
    },
    {
     "data": {
      "application/vnd.jupyter.widget-view+json": {
       "model_id": "839bc045244f4f1f8762727600483c74",
       "version_major": 2,
       "version_minor": 0
      },
      "text/plain": [
       "extract amplitudes:   0%|          | 0/300 [00:00<?, ?it/s]"
      ]
     },
     "metadata": {},
     "output_type": "display_data"
    },
    {
     "name": "stderr",
     "output_type": "stream",
     "text": [
      "/home/mmp/.local/lib/python3.10/site-packages/spikeinterface/qualitymetrics/misc_metrics.py:232: RuntimeWarning: divide by zero encountered in scalar divide\n",
      "  snrs[unit_id] = np.abs(amplitude) / noise\n",
      "/home/mmp/.local/lib/python3.10/site-packages/spikeinterface/qualitymetrics/misc_metrics.py:590: UserWarning: Units [0, 9, 12, 15, 19, 25, 31, 32, 33, 35, 36, 39, 44, 48, 58, 72, 73, 75, 91, 95, 101, 103, 109, 114, 115, 116, 117, 122, 127, 129, 130, 132, 134, 144, 151, 154, 155, 158, 162, 163, 164, 165, 167, 172, 173, 174, 178, 179, 194, 199, 204, 205, 206, 215, 224, 226, 227, 229, 230, 231, 233, 234, 241, 242, 247, 248, 249, 250, 253, 254, 255, 258, 267, 269, 277, 287, 290, 291, 293, 299, 306, 307, 309, 313, 314, 318, 324, 335, 336, 342, 347, 349, 350, 353, 364, 370, 372, 373, 376, 377, 379, 385, 391, 396, 397, 404, 408, 411, 412, 413, 421, 426, 432, 434, 435, 437, 439, 442, 449, 453, 457, 458, 469, 473, 479, 480, 486, 493, 497, 499, 501, 502, 503, 504, 505, 507, 511, 516, 517, 527, 531, 537, 540, 542, 546, 551, 553, 556, 558, 560, 563, 566, 570, 571, 572, 575, 576, 579, 581, 582, 584, 590, 591, 592, 601, 603, 606, 614, 615, 619, 621, 627, 628, 631, 634, 637, 638, 639] have too few spikes and amplitude_cutoff is set to NaN\n",
      "  warnings.warn(f\"Units {nan_units} have too few spikes and \" \"amplitude_cutoff is set to NaN\")\n",
      "INFO:root:redundant-units : [36, 304, 560]\n"
     ]
    },
    {
     "name": "stdout",
     "output_type": "stream",
     "text": [
      "215 36\n",
      "638 304\n",
      "640 560\n",
      "Removing redundant items takes 293.08650742602185\n",
      "The directory './sorting/block_rec0000/sorting/block_rec0000/waveforms_rec0000/similarity' has been emptied.\n",
      "The directory './sorting/block_rec0000/sorting/block_rec0000/waveforms_rec0000/quality_metrics' has been emptied.\n",
      "The directory './sorting/block_rec0000/sorting/block_rec0000/waveforms_rec0000/waveforms' has been emptied.\n",
      "The directory './sorting/block_rec0000/sorting/block_rec0000/waveforms_rec0000/recording_info' has been emptied.\n",
      "The directory './sorting/block_rec0000/sorting/block_rec0000/waveforms_rec0000/spike_amplitudes' has been emptied.\n",
      "The directory './sorting/block_rec0000/sorting/block_rec0000/waveforms_rec0000/template_metrics' has been emptied.\n",
      "The directory './sorting/block_rec0000/sorting/block_rec0000/waveforms_rec0000' has been emptied.\n",
      "The directory './sorting/block_rec0000/sorting/block_rec0000/kilosort2_rec0000/in_container_sorting/properties' has been emptied.\n",
      "The directory './sorting/block_rec0000/sorting/block_rec0000/kilosort2_rec0000/in_container_sorting' has been emptied.\n"
     ]
    },
    {
     "name": "stderr",
     "output_type": "stream",
     "text": [
      "INFO:root:Processing recording: rec0000\n"
     ]
    },
    {
     "name": "stdout",
     "output_type": "stream",
     "text": [
      "The directory './sorting/block_rec0000/sorting/block_rec0000/kilosort2_rec0000/sorter_output' has been emptied.\n",
      "The directory './sorting/block_rec0000/sorting/block_rec0000/kilosort2_rec0000' has been emptied.\n",
      "The directory './sorting/block_rec0000/sorting/block_rec0000' has been emptied.\n",
      "The directory './sorting/block_rec0000/sorting' has been emptied.\n",
      "The directory './sorting/block_rec0000' has been emptied.\n",
      "The directory './sorting' has been emptied.\n",
      "Sampling frequency: 20000.0\n",
      "Number of channels: 1018\n",
      "Number of segments: 1\n",
      "total_recording: 300.04 s\n",
      "Starting container\n",
      "Installing spikeinterface==0.98.2 in kilosort2-maxwellcomplib:latest\n",
      "Installing extra requirements: ['neo', 'h5py']\n",
      "Running kilosort2 sorter inside kilosort2-maxwellcomplib:latest\n",
      "Stopping container\n"
     ]
    },
    {
     "data": {
      "application/vnd.jupyter.widget-view+json": {
       "model_id": "19d0a82d7bdc4346a23aadfe1149ea2f",
       "version_major": 2,
       "version_minor": 0
      },
      "text/plain": [
       "extract waveforms memmap:   0%|          | 0/300 [00:00<?, ?it/s]"
      ]
     },
     "metadata": {},
     "output_type": "display_data"
    },
    {
     "data": {
      "application/vnd.jupyter.widget-view+json": {
       "model_id": "bb165e4904f741ef8d85eeb5de3bc2e1",
       "version_major": 2,
       "version_minor": 0
      },
      "text/plain": [
       "extract amplitudes:   0%|          | 0/300 [00:00<?, ?it/s]"
      ]
     },
     "metadata": {},
     "output_type": "display_data"
    },
    {
     "name": "stderr",
     "output_type": "stream",
     "text": [
      "/home/mmp/.local/lib/python3.10/site-packages/spikeinterface/qualitymetrics/misc_metrics.py:232: RuntimeWarning: divide by zero encountered in scalar divide\n",
      "  snrs[unit_id] = np.abs(amplitude) / noise\n",
      "/home/mmp/.local/lib/python3.10/site-packages/spikeinterface/qualitymetrics/misc_metrics.py:965: UserWarning: Amplitude PDF does not have a unique minimum! More spikes might be required for a correct amplitude_cutoff computation!\n",
      "  warnings.warn(\n",
      "/home/mmp/.local/lib/python3.10/site-packages/spikeinterface/qualitymetrics/misc_metrics.py:590: UserWarning: Units [0, 2, 7, 15, 21, 24, 28, 35, 42, 43, 44, 49, 56, 66, 72, 80, 87, 93, 97, 105, 107, 108, 117, 118, 123, 124, 127, 128, 129, 132, 135, 138, 149, 150, 151, 152, 160, 174, 175, 176, 178, 182, 183, 184, 189, 197, 201, 221, 229, 241, 244, 257, 259, 265, 267, 268, 272, 281, 299, 305, 306, 322, 331, 340, 351, 354, 357, 358, 363, 370, 376, 378, 379, 390, 399, 401, 413, 414, 419, 425, 428, 432, 434, 445, 451] have too few spikes and amplitude_cutoff is set to NaN\n",
      "  warnings.warn(f\"Units {nan_units} have too few spikes and \" \"amplitude_cutoff is set to NaN\")\n",
      "INFO:root:redundant-units : [445, 270, 209]\n"
     ]
    },
    {
     "name": "stdout",
     "output_type": "stream",
     "text": [
      "445 395\n",
      "450 270\n",
      "454 209\n",
      "Removing redundant items takes 288.3165634699981\n",
      "The directory './sorting/block_rec0000/sorting/block_rec0000/waveforms_rec0000/similarity' has been emptied.\n",
      "The directory './sorting/block_rec0000/sorting/block_rec0000/waveforms_rec0000/quality_metrics' has been emptied.\n",
      "The directory './sorting/block_rec0000/sorting/block_rec0000/waveforms_rec0000/waveforms' has been emptied.\n",
      "The directory './sorting/block_rec0000/sorting/block_rec0000/waveforms_rec0000/recording_info' has been emptied.\n",
      "The directory './sorting/block_rec0000/sorting/block_rec0000/waveforms_rec0000/spike_amplitudes' has been emptied.\n",
      "The directory './sorting/block_rec0000/sorting/block_rec0000/waveforms_rec0000/template_metrics' has been emptied.\n",
      "The directory './sorting/block_rec0000/sorting/block_rec0000/waveforms_rec0000' has been emptied.\n",
      "The directory './sorting/block_rec0000/sorting/block_rec0000/kilosort2_rec0000/in_container_sorting/properties' has been emptied.\n",
      "The directory './sorting/block_rec0000/sorting/block_rec0000/kilosort2_rec0000/in_container_sorting' has been emptied.\n"
     ]
    },
    {
     "name": "stderr",
     "output_type": "stream",
     "text": [
      "INFO:root:Processing recording: rec0000\n"
     ]
    },
    {
     "name": "stdout",
     "output_type": "stream",
     "text": [
      "The directory './sorting/block_rec0000/sorting/block_rec0000/kilosort2_rec0000/sorter_output' has been emptied.\n",
      "The directory './sorting/block_rec0000/sorting/block_rec0000/kilosort2_rec0000' has been emptied.\n",
      "The directory './sorting/block_rec0000/sorting/block_rec0000' has been emptied.\n",
      "The directory './sorting/block_rec0000/sorting' has been emptied.\n",
      "The directory './sorting/block_rec0000' has been emptied.\n",
      "The directory './sorting' has been emptied.\n",
      "Sampling frequency: 20000.0\n",
      "Number of channels: 1020\n",
      "Number of segments: 1\n",
      "total_recording: 300.06 s\n",
      "Starting container\n",
      "Installing spikeinterface==0.98.2 in kilosort2-maxwellcomplib:latest\n",
      "Installing extra requirements: ['neo', 'h5py']\n",
      "Running kilosort2 sorter inside kilosort2-maxwellcomplib:latest\n",
      "Stopping container\n"
     ]
    },
    {
     "data": {
      "application/vnd.jupyter.widget-view+json": {
       "model_id": "026e160cb71c4fc09891a19c612f20d8",
       "version_major": 2,
       "version_minor": 0
      },
      "text/plain": [
       "extract waveforms memmap:   0%|          | 0/300 [00:00<?, ?it/s]"
      ]
     },
     "metadata": {},
     "output_type": "display_data"
    },
    {
     "data": {
      "application/vnd.jupyter.widget-view+json": {
       "model_id": "410b25551b054416978b3c358749ef0a",
       "version_major": 2,
       "version_minor": 0
      },
      "text/plain": [
       "extract amplitudes:   0%|          | 0/300 [00:00<?, ?it/s]"
      ]
     },
     "metadata": {},
     "output_type": "display_data"
    },
    {
     "name": "stderr",
     "output_type": "stream",
     "text": [
      "/home/mmp/.local/lib/python3.10/site-packages/spikeinterface/qualitymetrics/misc_metrics.py:232: RuntimeWarning: divide by zero encountered in scalar divide\n",
      "  snrs[unit_id] = np.abs(amplitude) / noise\n",
      "/home/mmp/.local/lib/python3.10/site-packages/spikeinterface/qualitymetrics/misc_metrics.py:590: UserWarning: Units [1, 8, 12, 14, 15, 17, 21, 23, 27, 29, 33, 35, 36, 39, 49, 50, 57, 63, 66, 71, 72, 77, 80, 81, 86, 90, 107, 114, 115, 119, 127, 135, 140, 142, 151, 153, 158, 160, 161, 162, 168, 175, 178, 182, 187, 199, 201, 206, 208, 209, 214, 220, 224, 225, 229, 243, 252, 255, 257, 259, 262, 269, 270, 274, 282, 300, 303, 310, 311, 315, 333, 334, 337, 342, 362, 366, 373, 382, 385, 393, 395, 396, 397, 399, 403, 414, 418, 419, 422, 425, 427, 431, 436, 447, 448, 449, 459, 460, 470, 472, 473, 477, 478, 484, 487, 489, 490, 498, 500, 502, 503, 504, 506, 507, 515, 516, 517, 520, 522, 523, 525, 530, 531, 540, 543, 545, 546, 547, 549, 551, 555, 560, 563, 565, 569, 570, 572, 574, 599, 600, 620, 622, 627, 629, 630, 635, 637, 645, 650, 652, 662, 663, 664, 671, 673, 685, 688, 690, 691, 693, 698, 699, 700, 711, 714, 717, 718, 724, 726, 730, 738, 751, 754, 763, 765, 776, 782, 786, 795, 806, 808, 811, 812, 814, 816, 819, 828, 832, 842, 846, 851, 854, 857, 861, 864, 873, 878, 879, 880, 882, 884, 885, 892, 894, 901, 907, 908, 914, 915, 916, 924, 933, 938, 943, 945, 946, 950, 954, 957, 962, 970, 971, 972, 974, 975, 978, 981, 982, 988, 990, 991, 995, 1004, 1009, 1013, 1021, 1022, 1024, 1030, 1033, 1039, 1046, 1050] have too few spikes and amplitude_cutoff is set to NaN\n",
      "  warnings.warn(f\"Units {nan_units} have too few spikes and \" \"amplitude_cutoff is set to NaN\")\n",
      "INFO:root:redundant-units : [146, 904, 1021, 770, 879]\n"
     ]
    },
    {
     "name": "stdout",
     "output_type": "stream",
     "text": [
      "151 146\n",
      "904 812\n",
      "1046 1021\n",
      "1050 770\n",
      "1053 879\n",
      "Removing redundant items takes 293.3783624639909\n",
      "The directory './sorting/block_rec0000/sorting/block_rec0000/waveforms_rec0000/similarity' has been emptied.\n",
      "The directory './sorting/block_rec0000/sorting/block_rec0000/waveforms_rec0000/quality_metrics' has been emptied.\n",
      "The directory './sorting/block_rec0000/sorting/block_rec0000/waveforms_rec0000/waveforms' has been emptied.\n",
      "The directory './sorting/block_rec0000/sorting/block_rec0000/waveforms_rec0000/recording_info' has been emptied.\n",
      "The directory './sorting/block_rec0000/sorting/block_rec0000/waveforms_rec0000/spike_amplitudes' has been emptied.\n",
      "The directory './sorting/block_rec0000/sorting/block_rec0000/waveforms_rec0000/template_metrics' has been emptied.\n",
      "The directory './sorting/block_rec0000/sorting/block_rec0000/waveforms_rec0000' has been emptied.\n",
      "The directory './sorting/block_rec0000/sorting/block_rec0000/kilosort2_rec0000/in_container_sorting/properties' has been emptied.\n",
      "The directory './sorting/block_rec0000/sorting/block_rec0000/kilosort2_rec0000/in_container_sorting' has been emptied.\n"
     ]
    },
    {
     "name": "stderr",
     "output_type": "stream",
     "text": [
      "INFO:root:Processing recording: rec0000\n"
     ]
    },
    {
     "name": "stdout",
     "output_type": "stream",
     "text": [
      "The directory './sorting/block_rec0000/sorting/block_rec0000/kilosort2_rec0000/sorter_output' has been emptied.\n",
      "The directory './sorting/block_rec0000/sorting/block_rec0000/kilosort2_rec0000' has been emptied.\n",
      "The directory './sorting/block_rec0000/sorting/block_rec0000' has been emptied.\n",
      "The directory './sorting/block_rec0000/sorting' has been emptied.\n",
      "The directory './sorting/block_rec0000' has been emptied.\n",
      "The directory './sorting' has been emptied.\n",
      "Sampling frequency: 20000.0\n",
      "Number of channels: 1020\n",
      "Number of segments: 1\n",
      "total_recording: 300.07 s\n",
      "Starting container\n",
      "Installing spikeinterface==0.98.2 in kilosort2-maxwellcomplib:latest\n",
      "Installing extra requirements: ['neo', 'h5py']\n",
      "Running kilosort2 sorter inside kilosort2-maxwellcomplib:latest\n",
      "Stopping container\n"
     ]
    },
    {
     "data": {
      "application/vnd.jupyter.widget-view+json": {
       "model_id": "f3d8b09ef480494fa34ff836f1afb70d",
       "version_major": 2,
       "version_minor": 0
      },
      "text/plain": [
       "extract waveforms memmap:   0%|          | 0/300 [00:00<?, ?it/s]"
      ]
     },
     "metadata": {},
     "output_type": "display_data"
    },
    {
     "data": {
      "application/vnd.jupyter.widget-view+json": {
       "model_id": "5a3853be236c4690bf1ec6823a8f063d",
       "version_major": 2,
       "version_minor": 0
      },
      "text/plain": [
       "extract amplitudes:   0%|          | 0/300 [00:00<?, ?it/s]"
      ]
     },
     "metadata": {},
     "output_type": "display_data"
    },
    {
     "name": "stderr",
     "output_type": "stream",
     "text": [
      "/home/mmp/.local/lib/python3.10/site-packages/spikeinterface/qualitymetrics/misc_metrics.py:232: RuntimeWarning: divide by zero encountered in scalar divide\n",
      "  snrs[unit_id] = np.abs(amplitude) / noise\n",
      "/home/mmp/.local/lib/python3.10/site-packages/spikeinterface/qualitymetrics/misc_metrics.py:590: UserWarning: Units [0, 1, 4, 7, 12, 13, 16, 17, 21, 22, 28, 31, 35, 39, 41, 42, 44, 45, 47, 52, 69, 71, 73, 76, 77, 83, 90, 98, 116, 126, 127, 131, 135, 136, 141, 142, 144, 146, 151, 157, 160, 161, 178, 191, 194, 201, 202, 214, 219, 220, 222, 227, 232, 237, 244, 246, 251, 253, 254, 255, 275, 276, 280, 281, 284, 287, 299, 310, 317, 318, 319, 325, 328, 337, 338, 339, 342, 344, 348, 352, 357, 373, 377, 380, 381, 397, 401, 404, 406, 407, 409, 414, 437, 439, 444, 445, 455, 456, 458, 459, 471, 480, 481, 482, 489, 491, 492, 495, 501, 503, 511, 514, 519, 523, 527, 529, 531, 536, 540, 541, 549, 550, 554, 558, 560, 561, 563, 564, 566, 570, 576, 579, 587, 588, 592, 597, 599, 603, 606, 612, 617, 624, 626, 627, 634, 642, 646, 655, 659, 661, 662, 669, 675, 681, 683, 688, 692, 702, 706, 707, 708, 709, 714, 715, 724, 725, 727, 730, 731, 732, 737, 738, 751, 754, 755, 757, 760, 762, 765, 771, 772, 773, 774, 779, 787, 788, 789, 790, 794, 795, 798, 800, 804, 806, 808, 815, 816, 822, 830, 838, 843, 846, 848, 866, 867, 869, 870, 872, 875, 881, 882, 888, 903, 910, 913, 914, 917, 918, 929, 941, 944, 945, 946, 950, 951, 958, 959, 960, 964, 966, 968, 969, 971, 972, 982, 984, 985, 986, 989, 994, 1010, 1014, 1017, 1019, 1022, 1024, 1027, 1030, 1036, 1038, 1042, 1043, 1045] have too few spikes and amplitude_cutoff is set to NaN\n",
      "  warnings.warn(f\"Units {nan_units} have too few spikes and \" \"amplitude_cutoff is set to NaN\")\n",
      "INFO:root:redundant-units : [368, 388, 707, 1035]\n"
     ]
    },
    {
     "name": "stdout",
     "output_type": "stream",
     "text": [
      "368 34\n",
      "388 386\n",
      "707 705\n",
      "1035 178\n",
      "Removing redundant items takes 295.9906463570078\n",
      "The directory './sorting/block_rec0000/sorting/block_rec0000/waveforms_rec0000/similarity' has been emptied.\n",
      "The directory './sorting/block_rec0000/sorting/block_rec0000/waveforms_rec0000/quality_metrics' has been emptied.\n",
      "The directory './sorting/block_rec0000/sorting/block_rec0000/waveforms_rec0000/waveforms' has been emptied.\n",
      "The directory './sorting/block_rec0000/sorting/block_rec0000/waveforms_rec0000/recording_info' has been emptied.\n",
      "The directory './sorting/block_rec0000/sorting/block_rec0000/waveforms_rec0000/spike_amplitudes' has been emptied.\n",
      "The directory './sorting/block_rec0000/sorting/block_rec0000/waveforms_rec0000/template_metrics' has been emptied.\n",
      "The directory './sorting/block_rec0000/sorting/block_rec0000/waveforms_rec0000' has been emptied.\n",
      "The directory './sorting/block_rec0000/sorting/block_rec0000/kilosort2_rec0000/in_container_sorting/properties' has been emptied.\n",
      "The directory './sorting/block_rec0000/sorting/block_rec0000/kilosort2_rec0000/in_container_sorting' has been emptied.\n"
     ]
    },
    {
     "name": "stderr",
     "output_type": "stream",
     "text": [
      "INFO:root:Processing recording: rec0000\n"
     ]
    },
    {
     "name": "stdout",
     "output_type": "stream",
     "text": [
      "The directory './sorting/block_rec0000/sorting/block_rec0000/kilosort2_rec0000/sorter_output' has been emptied.\n",
      "The directory './sorting/block_rec0000/sorting/block_rec0000/kilosort2_rec0000' has been emptied.\n",
      "The directory './sorting/block_rec0000/sorting/block_rec0000' has been emptied.\n",
      "The directory './sorting/block_rec0000/sorting' has been emptied.\n",
      "The directory './sorting/block_rec0000' has been emptied.\n",
      "The directory './sorting' has been emptied.\n",
      "Sampling frequency: 20000.0\n",
      "Number of channels: 1019\n",
      "Number of segments: 1\n",
      "total_recording: 300.05 s\n",
      "Starting container\n",
      "Installing spikeinterface==0.98.2 in kilosort2-maxwellcomplib:latest\n",
      "Installing extra requirements: ['neo', 'h5py']\n",
      "Running kilosort2 sorter inside kilosort2-maxwellcomplib:latest\n",
      "Stopping container\n"
     ]
    },
    {
     "data": {
      "application/vnd.jupyter.widget-view+json": {
       "model_id": "a5e3a0adcea2498881a63bef536fd00f",
       "version_major": 2,
       "version_minor": 0
      },
      "text/plain": [
       "extract waveforms memmap:   0%|          | 0/300 [00:00<?, ?it/s]"
      ]
     },
     "metadata": {},
     "output_type": "display_data"
    },
    {
     "data": {
      "application/vnd.jupyter.widget-view+json": {
       "model_id": "a976ae696b9f4cdbbb5565b69bfc7dca",
       "version_major": 2,
       "version_minor": 0
      },
      "text/plain": [
       "extract amplitudes:   0%|          | 0/300 [00:00<?, ?it/s]"
      ]
     },
     "metadata": {},
     "output_type": "display_data"
    },
    {
     "name": "stderr",
     "output_type": "stream",
     "text": [
      "/home/mmp/.local/lib/python3.10/site-packages/spikeinterface/qualitymetrics/misc_metrics.py:232: RuntimeWarning: divide by zero encountered in scalar divide\n",
      "  snrs[unit_id] = np.abs(amplitude) / noise\n",
      "/home/mmp/.local/lib/python3.10/site-packages/spikeinterface/qualitymetrics/misc_metrics.py:965: UserWarning: Amplitude PDF does not have a unique minimum! More spikes might be required for a correct amplitude_cutoff computation!\n",
      "  warnings.warn(\n",
      "/home/mmp/.local/lib/python3.10/site-packages/spikeinterface/qualitymetrics/misc_metrics.py:590: UserWarning: Units [0, 1, 2, 4, 5, 6, 7, 8, 9, 10, 13, 15, 17, 21, 24, 32, 37, 39, 40, 46, 47, 49, 50, 52, 53, 54, 55, 56, 58, 60, 62, 63, 64, 66, 68, 72, 73, 76, 83, 84, 86, 87, 88, 93, 94, 95, 97, 98, 102, 105, 106, 108, 109, 110, 114, 115, 116, 117, 120, 122, 125, 127, 137, 139, 141, 143, 144, 146, 151, 152, 157, 158, 159, 160, 161, 162, 163, 164, 165, 170, 172, 174, 176, 186, 189, 194, 196, 198, 201, 202, 203, 209, 222, 230, 231, 234, 240, 241, 242, 244, 246, 247, 249, 250, 251, 252, 253, 258, 259, 260, 261, 262, 264, 265, 270, 273, 274, 277, 279, 281, 282, 289, 290, 291, 292, 293, 294, 297, 300, 301, 302, 303, 304, 305, 307, 308, 310, 316, 317, 320, 324, 332, 333, 334, 335, 339, 340, 341, 343, 346, 354, 356, 359, 362, 364, 366, 373, 379, 380, 381, 382, 384, 387, 390, 391, 393, 394, 395, 396, 397, 399, 400, 402, 404, 411, 415, 419, 420, 421, 423, 424, 425, 427, 429, 430, 434, 435, 437, 444, 450, 454, 460, 465, 470, 482, 483, 485, 486, 490, 493, 495, 497, 499, 500, 501, 502, 503, 505, 509, 514, 516, 519, 522, 525, 529, 530, 531, 532, 536, 537, 539, 540, 541, 543, 545, 546, 547, 550, 551, 552, 556, 557, 559, 562, 567, 571, 573, 577, 581, 584, 586, 587, 588, 594, 597, 600, 601, 602, 604, 605, 606, 616, 619, 622, 626, 631, 632, 633, 636, 641, 643, 647, 649, 650, 651, 657, 658, 660, 662, 663, 668, 669, 673, 675, 676, 680, 681, 682, 683, 684, 685, 688, 690, 695, 699, 704, 705, 706, 711, 715, 716, 717, 719, 720, 722, 724, 725, 729, 732, 734, 739, 742, 745, 746, 749, 750, 754, 755, 757, 759, 763, 767, 768, 772, 773, 775, 776, 777, 779, 780, 782, 785, 789, 793, 794, 795, 796, 797, 802, 804, 812, 814, 815, 821, 825, 827, 829, 830, 831, 834, 835, 838, 844, 850, 851, 852, 853, 857, 858, 859, 860, 863, 867, 869, 873, 876, 878, 879, 882, 886, 887] have too few spikes and amplitude_cutoff is set to NaN\n",
      "  warnings.warn(f\"Units {nan_units} have too few spikes and \" \"amplitude_cutoff is set to NaN\")\n",
      "INFO:root:redundant-units : [84, 107, 142, 155, 289, 385, 682, 732, 883]\n"
     ]
    },
    {
     "name": "stdout",
     "output_type": "stream",
     "text": [
      "84 81\n",
      "107 105\n",
      "145 142\n",
      "155 153\n",
      "289 203\n",
      "392 385\n",
      "682 597\n",
      "777 732\n",
      "890 883\n",
      "Removing redundant items takes 292.2667261729948\n",
      "The directory './sorting/block_rec0000/sorting/block_rec0000/waveforms_rec0000/similarity' has been emptied.\n",
      "The directory './sorting/block_rec0000/sorting/block_rec0000/waveforms_rec0000/quality_metrics' has been emptied.\n",
      "The directory './sorting/block_rec0000/sorting/block_rec0000/waveforms_rec0000/waveforms' has been emptied.\n",
      "The directory './sorting/block_rec0000/sorting/block_rec0000/waveforms_rec0000/recording_info' has been emptied.\n",
      "The directory './sorting/block_rec0000/sorting/block_rec0000/waveforms_rec0000/spike_amplitudes' has been emptied.\n",
      "The directory './sorting/block_rec0000/sorting/block_rec0000/waveforms_rec0000/template_metrics' has been emptied.\n",
      "The directory './sorting/block_rec0000/sorting/block_rec0000/waveforms_rec0000' has been emptied.\n",
      "The directory './sorting/block_rec0000/sorting/block_rec0000/kilosort2_rec0000/in_container_sorting/properties' has been emptied.\n",
      "The directory './sorting/block_rec0000/sorting/block_rec0000/kilosort2_rec0000/in_container_sorting' has been emptied.\n"
     ]
    },
    {
     "name": "stderr",
     "output_type": "stream",
     "text": [
      "INFO:root:Processing recording: rec0000\n"
     ]
    },
    {
     "name": "stdout",
     "output_type": "stream",
     "text": [
      "The directory './sorting/block_rec0000/sorting/block_rec0000/kilosort2_rec0000/sorter_output' has been emptied.\n",
      "The directory './sorting/block_rec0000/sorting/block_rec0000/kilosort2_rec0000' has been emptied.\n",
      "The directory './sorting/block_rec0000/sorting/block_rec0000' has been emptied.\n",
      "The directory './sorting/block_rec0000/sorting' has been emptied.\n",
      "The directory './sorting/block_rec0000' has been emptied.\n",
      "The directory './sorting' has been emptied.\n",
      "Sampling frequency: 20000.0\n",
      "Number of channels: 1020\n",
      "Number of segments: 1\n",
      "total_recording: 300.05 s\n",
      "Starting container\n",
      "Installing spikeinterface==0.98.2 in kilosort2-maxwellcomplib:latest\n",
      "Installing extra requirements: ['neo', 'h5py']\n",
      "Running kilosort2 sorter inside kilosort2-maxwellcomplib:latest\n",
      "Stopping container\n"
     ]
    },
    {
     "data": {
      "application/vnd.jupyter.widget-view+json": {
       "model_id": "3f36dd5d12d54c9086bce4fc62f19cc8",
       "version_major": 2,
       "version_minor": 0
      },
      "text/plain": [
       "extract waveforms memmap:   0%|          | 0/300 [00:00<?, ?it/s]"
      ]
     },
     "metadata": {},
     "output_type": "display_data"
    },
    {
     "data": {
      "application/vnd.jupyter.widget-view+json": {
       "model_id": "13a724af2ab14e48baf056ece2414b81",
       "version_major": 2,
       "version_minor": 0
      },
      "text/plain": [
       "extract amplitudes:   0%|          | 0/300 [00:00<?, ?it/s]"
      ]
     },
     "metadata": {},
     "output_type": "display_data"
    },
    {
     "name": "stderr",
     "output_type": "stream",
     "text": [
      "/home/mmp/.local/lib/python3.10/site-packages/spikeinterface/qualitymetrics/misc_metrics.py:232: RuntimeWarning: divide by zero encountered in scalar divide\n",
      "  snrs[unit_id] = np.abs(amplitude) / noise\n",
      "/home/mmp/.local/lib/python3.10/site-packages/spikeinterface/qualitymetrics/misc_metrics.py:965: UserWarning: Amplitude PDF does not have a unique minimum! More spikes might be required for a correct amplitude_cutoff computation!\n",
      "  warnings.warn(\n",
      "/home/mmp/.local/lib/python3.10/site-packages/spikeinterface/qualitymetrics/misc_metrics.py:590: UserWarning: Units [1, 2, 4, 5, 7, 8, 9, 13, 14, 17, 19, 21, 22, 23, 27, 31, 36, 37, 39, 40, 41, 42, 44, 47, 48, 49, 50, 53, 55, 59, 60, 61, 62, 70, 71, 72, 75, 79, 82, 83, 85, 87, 89, 92, 93, 94, 95, 97, 101, 102, 111, 113, 117, 121, 124, 125, 126, 127, 132, 135, 136, 137, 139, 144, 146, 148, 149, 151, 154, 155, 156, 158, 159, 160, 162, 166, 167, 172, 173, 175, 179, 181, 182, 184, 186, 189, 190, 192, 193, 194, 196, 197, 198, 199, 204, 208, 210, 214, 215, 218, 220, 222, 227, 228, 230, 231, 232, 233, 234, 235, 237, 238, 239, 243, 246, 247, 254, 256, 261, 271, 272, 274, 275, 276, 277, 279, 285, 286, 289, 290, 291, 296, 297, 303, 305, 311, 313, 316, 319, 320, 321, 323, 328, 331, 332, 333, 342, 344, 345, 347, 351, 353, 356, 358, 359, 360, 363, 364, 378, 381, 383, 385, 386, 394, 396, 398, 400, 402, 403, 407, 408, 409, 414, 419, 421, 426, 429, 432, 436, 437, 439, 440, 441, 442, 443, 445, 451, 456, 457, 464, 469, 470, 471, 473, 483, 485, 486, 489, 496, 498, 499, 500, 505, 507, 508, 510, 511, 513, 514, 517, 519, 520, 521, 522, 526, 527, 529, 533, 534, 535, 536, 540, 545, 548, 549, 551, 553, 554, 557, 558, 561, 562, 564, 565, 566, 567, 568, 570, 571, 578, 585, 588, 589, 593, 598, 599, 600, 601, 602, 603, 608, 609, 613, 616, 621, 631, 632, 636, 640, 643, 649, 651, 653, 656, 657, 660, 664, 667, 668, 672, 673, 676, 678, 692, 696, 697, 698, 699, 700, 701, 709, 710, 715, 720, 721, 722, 723, 724, 727, 730, 735, 741, 743, 745, 746, 750, 754, 755, 756, 758, 759, 764, 765, 768, 771, 772, 773, 778, 779, 781, 784, 788, 790, 797, 798, 799, 800, 803, 805, 808, 809, 811, 812, 813, 814, 815, 822, 823, 827, 828, 829, 831, 832, 839, 841, 843, 844, 852, 854, 855, 857, 859, 860, 863, 870, 873, 874, 876, 877, 881, 883, 884, 888, 890, 891, 898, 900, 902, 903, 904, 905, 906, 913, 914, 915, 916, 925, 927, 935, 938, 941, 942, 944, 948, 949, 950, 957, 958, 961, 962, 970, 973, 977, 978, 979, 982, 986, 987, 988, 989, 991, 994, 998, 1006, 1009, 1015, 1016, 1019, 1020, 1025] have too few spikes and amplitude_cutoff is set to NaN\n",
      "  warnings.warn(f\"Units {nan_units} have too few spikes and \" \"amplitude_cutoff is set to NaN\")\n",
      "INFO:root:redundant-units : [495, 608, 495, 711, 193, 193, 772, 808, 809, 983, 1018]\n"
     ]
    },
    {
     "name": "stdout",
     "output_type": "stream",
     "text": [
      "500 495\n",
      "608 158\n",
      "653 495\n",
      "711 702\n",
      "745 193\n",
      "772 193\n",
      "772 745\n",
      "808 656\n",
      "809 656\n",
      "983 975\n",
      "1027 1018\n",
      "Removing redundant items takes 295.2877495699795\n",
      "The directory './sorting/block_rec0000/sorting/block_rec0000/waveforms_rec0000/similarity' has been emptied.\n",
      "The directory './sorting/block_rec0000/sorting/block_rec0000/waveforms_rec0000/quality_metrics' has been emptied.\n",
      "The directory './sorting/block_rec0000/sorting/block_rec0000/waveforms_rec0000/waveforms' has been emptied.\n",
      "The directory './sorting/block_rec0000/sorting/block_rec0000/waveforms_rec0000/recording_info' has been emptied.\n",
      "The directory './sorting/block_rec0000/sorting/block_rec0000/waveforms_rec0000/spike_amplitudes' has been emptied.\n",
      "The directory './sorting/block_rec0000/sorting/block_rec0000/waveforms_rec0000/template_metrics' has been emptied.\n",
      "The directory './sorting/block_rec0000/sorting/block_rec0000/waveforms_rec0000' has been emptied.\n",
      "The directory './sorting/block_rec0000/sorting/block_rec0000/kilosort2_rec0000/in_container_sorting/properties' has been emptied.\n",
      "The directory './sorting/block_rec0000/sorting/block_rec0000/kilosort2_rec0000/in_container_sorting' has been emptied.\n"
     ]
    },
    {
     "name": "stderr",
     "output_type": "stream",
     "text": [
      "INFO:root:Processing recording: rec0000\n"
     ]
    },
    {
     "name": "stdout",
     "output_type": "stream",
     "text": [
      "The directory './sorting/block_rec0000/sorting/block_rec0000/kilosort2_rec0000/sorter_output' has been emptied.\n",
      "The directory './sorting/block_rec0000/sorting/block_rec0000/kilosort2_rec0000' has been emptied.\n",
      "The directory './sorting/block_rec0000/sorting/block_rec0000' has been emptied.\n",
      "The directory './sorting/block_rec0000/sorting' has been emptied.\n",
      "The directory './sorting/block_rec0000' has been emptied.\n",
      "The directory './sorting' has been emptied.\n",
      "Sampling frequency: 20000.0\n",
      "Number of channels: 1020\n",
      "Number of segments: 1\n",
      "total_recording: 300.02 s\n",
      "Starting container\n",
      "Installing spikeinterface==0.98.2 in kilosort2-maxwellcomplib:latest\n",
      "Installing extra requirements: ['neo', 'h5py']\n",
      "Running kilosort2 sorter inside kilosort2-maxwellcomplib:latest\n",
      "Stopping container\n"
     ]
    },
    {
     "data": {
      "application/vnd.jupyter.widget-view+json": {
       "model_id": "ac527091104b49e5bae0df139f5d7642",
       "version_major": 2,
       "version_minor": 0
      },
      "text/plain": [
       "extract waveforms memmap:   0%|          | 0/300 [00:00<?, ?it/s]"
      ]
     },
     "metadata": {},
     "output_type": "display_data"
    },
    {
     "data": {
      "application/vnd.jupyter.widget-view+json": {
       "model_id": "9443f33a1cf64cac8e8133f46ab9a09b",
       "version_major": 2,
       "version_minor": 0
      },
      "text/plain": [
       "extract amplitudes:   0%|          | 0/300 [00:00<?, ?it/s]"
      ]
     },
     "metadata": {},
     "output_type": "display_data"
    },
    {
     "name": "stderr",
     "output_type": "stream",
     "text": [
      "/home/mmp/.local/lib/python3.10/site-packages/spikeinterface/qualitymetrics/misc_metrics.py:232: RuntimeWarning: divide by zero encountered in scalar divide\n",
      "  snrs[unit_id] = np.abs(amplitude) / noise\n",
      "/home/mmp/.local/lib/python3.10/site-packages/spikeinterface/qualitymetrics/misc_metrics.py:965: UserWarning: Amplitude PDF does not have a unique minimum! More spikes might be required for a correct amplitude_cutoff computation!\n",
      "  warnings.warn(\n",
      "/home/mmp/.local/lib/python3.10/site-packages/spikeinterface/qualitymetrics/misc_metrics.py:590: UserWarning: Units [5, 6, 7, 10, 11, 12, 17, 19, 20, 21, 22, 23, 24, 25, 29, 31, 33, 36, 37, 41, 43, 45, 46, 47, 48, 49, 57, 59, 60, 61, 63, 64, 69, 71, 72, 73, 76, 83, 84, 85, 87, 88, 90, 91, 93, 96, 98, 100, 106, 111, 113, 115, 116, 119, 121, 124, 128, 131, 142, 143, 148, 155, 156, 160, 162, 170, 171, 173, 175, 178, 187, 189, 195, 196, 203, 204, 205, 207, 213, 215, 216, 218, 220, 222, 224, 225, 228, 230, 232, 233, 234, 237, 239, 241, 245, 250, 252, 256, 257, 260, 262, 264, 267, 269, 273, 278, 280, 286, 289, 292, 296, 297, 298, 301, 306, 307, 308, 314, 319, 327, 333, 336, 337, 338, 341, 343, 344, 346, 349, 352, 354, 357, 362, 363, 364, 365, 366, 367, 370, 371, 375, 376, 379, 381, 386, 389, 394, 397, 398, 399, 401, 404, 406, 411, 412, 417, 423, 427, 429, 430, 431, 433, 434, 440, 443, 444, 446, 448, 449, 450, 452, 454, 456, 457, 462, 466, 467, 469, 473, 474, 478, 479, 482, 483, 485, 499, 500, 503, 504, 505, 506, 507, 510, 511, 512, 516, 521, 522, 523, 531, 533, 535, 538, 541, 544, 549, 551, 552, 553, 556, 558, 562, 564, 567, 568, 574, 575, 576, 581, 582, 583, 587, 589, 591, 592, 595, 596, 599, 600, 601, 602, 603, 606, 607, 612, 615, 616, 618, 619, 621, 622, 623, 628, 629, 631, 637, 638, 641, 647, 650, 653, 657, 659, 661, 665, 666, 668, 670, 671, 672, 676, 677, 680, 682, 683, 686, 688, 689, 690, 691, 694, 696, 697, 705, 706, 707, 708, 709, 713, 717, 720, 725, 727, 735, 737, 738, 739, 741, 742, 744, 746, 747, 750, 752, 756, 759, 760, 764, 765, 769, 773, 775, 780, 786, 787, 789, 790, 791, 792, 795, 799, 801] have too few spikes and amplitude_cutoff is set to NaN\n",
      "  warnings.warn(f\"Units {nan_units} have too few spikes and \" \"amplitude_cutoff is set to NaN\")\n",
      "INFO:root:redundant-units : [135, 694]\n"
     ]
    },
    {
     "name": "stdout",
     "output_type": "stream",
     "text": [
      "135 132\n",
      "697 694\n",
      "Removing redundant items takes 293.700037764007\n",
      "The directory './sorting/block_rec0000/sorting/block_rec0000/waveforms_rec0000/similarity' has been emptied.\n",
      "The directory './sorting/block_rec0000/sorting/block_rec0000/waveforms_rec0000/quality_metrics' has been emptied.\n",
      "The directory './sorting/block_rec0000/sorting/block_rec0000/waveforms_rec0000/waveforms' has been emptied.\n",
      "The directory './sorting/block_rec0000/sorting/block_rec0000/waveforms_rec0000/recording_info' has been emptied.\n",
      "The directory './sorting/block_rec0000/sorting/block_rec0000/waveforms_rec0000/spike_amplitudes' has been emptied.\n",
      "The directory './sorting/block_rec0000/sorting/block_rec0000/waveforms_rec0000/template_metrics' has been emptied.\n",
      "The directory './sorting/block_rec0000/sorting/block_rec0000/waveforms_rec0000' has been emptied.\n",
      "The directory './sorting/block_rec0000/sorting/block_rec0000/kilosort2_rec0000/in_container_sorting/properties' has been emptied.\n",
      "The directory './sorting/block_rec0000/sorting/block_rec0000/kilosort2_rec0000/in_container_sorting' has been emptied.\n"
     ]
    },
    {
     "name": "stderr",
     "output_type": "stream",
     "text": [
      "INFO:root:Processing recording: rec0000\n"
     ]
    },
    {
     "name": "stdout",
     "output_type": "stream",
     "text": [
      "The directory './sorting/block_rec0000/sorting/block_rec0000/kilosort2_rec0000/sorter_output' has been emptied.\n",
      "The directory './sorting/block_rec0000/sorting/block_rec0000/kilosort2_rec0000' has been emptied.\n",
      "The directory './sorting/block_rec0000/sorting/block_rec0000' has been emptied.\n",
      "The directory './sorting/block_rec0000/sorting' has been emptied.\n",
      "The directory './sorting/block_rec0000' has been emptied.\n",
      "The directory './sorting' has been emptied.\n",
      "Sampling frequency: 20000.0\n",
      "Number of channels: 1019\n",
      "Number of segments: 1\n",
      "total_recording: 300.04 s\n",
      "Starting container\n",
      "Installing spikeinterface==0.98.2 in kilosort2-maxwellcomplib:latest\n",
      "Installing extra requirements: ['neo', 'h5py']\n",
      "Running kilosort2 sorter inside kilosort2-maxwellcomplib:latest\n",
      "Stopping container\n"
     ]
    },
    {
     "data": {
      "application/vnd.jupyter.widget-view+json": {
       "model_id": "d030dfaf6ae54b719869117541072cda",
       "version_major": 2,
       "version_minor": 0
      },
      "text/plain": [
       "extract waveforms memmap:   0%|          | 0/300 [00:00<?, ?it/s]"
      ]
     },
     "metadata": {},
     "output_type": "display_data"
    },
    {
     "data": {
      "application/vnd.jupyter.widget-view+json": {
       "model_id": "28cbc67ab46c416eae108ae875337b3e",
       "version_major": 2,
       "version_minor": 0
      },
      "text/plain": [
       "extract amplitudes:   0%|          | 0/300 [00:00<?, ?it/s]"
      ]
     },
     "metadata": {},
     "output_type": "display_data"
    },
    {
     "name": "stderr",
     "output_type": "stream",
     "text": [
      "/home/mmp/.local/lib/python3.10/site-packages/spikeinterface/qualitymetrics/misc_metrics.py:232: RuntimeWarning: divide by zero encountered in scalar divide\n",
      "  snrs[unit_id] = np.abs(amplitude) / noise\n",
      "/home/mmp/.local/lib/python3.10/site-packages/spikeinterface/qualitymetrics/misc_metrics.py:965: UserWarning: Amplitude PDF does not have a unique minimum! More spikes might be required for a correct amplitude_cutoff computation!\n",
      "  warnings.warn(\n",
      "/home/mmp/.local/lib/python3.10/site-packages/spikeinterface/qualitymetrics/misc_metrics.py:590: UserWarning: Units [0, 3, 5, 14, 15, 17, 18, 20, 21, 22, 23, 29, 30, 31, 32, 33, 39, 40, 42, 43, 44, 46, 47, 49, 51, 52, 53, 54, 56, 59, 65, 68, 71, 72, 73, 74, 80, 81, 82, 84, 90, 94, 95, 100, 102, 105, 106, 109, 111, 113, 118, 123, 124, 127, 128, 135, 145, 146, 147, 148, 151, 154, 157, 166, 173, 176, 184, 186, 187, 189, 190, 193, 194, 195, 196, 200, 203, 204, 205, 208, 211, 214, 216, 217, 218, 219, 220, 223, 224, 230, 232, 234, 237, 238, 240, 241, 242, 243, 246, 255, 256, 258, 260, 267, 269, 271, 272, 282, 285, 290, 291, 292, 295, 298, 301, 302, 306, 323, 327, 328, 330, 336, 338, 345, 350, 352, 358, 359, 364, 370, 371, 383, 386, 388, 390, 391, 392, 395, 398, 399, 402, 405, 407, 413, 417, 419, 420, 422, 423, 425, 427, 428, 432, 433, 436, 440, 445, 450, 459, 460, 465, 466, 467, 468, 471, 474, 475, 484, 486, 498, 499, 502, 504, 506, 510, 511, 514, 515, 516, 518, 530, 535, 536, 537, 538, 539, 540, 548, 549, 551, 554, 555, 556, 561, 562, 564, 565, 566, 571, 572, 576, 578, 579, 582, 584, 585, 587, 588, 589, 590, 592, 594, 598, 600, 605, 607, 608, 609, 616, 619, 620, 621, 622, 625, 626, 631, 632, 633, 634, 637, 641, 645, 648, 650, 652, 654, 655, 656, 660, 661, 662, 663, 664, 668, 670, 676, 677, 679, 680, 684, 685, 687, 688, 689, 690, 691, 692, 694, 704, 706, 711, 712, 714, 715, 719] have too few spikes and amplitude_cutoff is set to NaN\n",
      "  warnings.warn(f\"Units {nan_units} have too few spikes and \" \"amplitude_cutoff is set to NaN\")\n",
      "INFO:root:redundant-units : [47, 204, 307, 436, 503, 507]\n"
     ]
    },
    {
     "name": "stdout",
     "output_type": "stream",
     "text": [
      "80 47\n",
      "211 204\n",
      "307 303\n",
      "436 434\n",
      "503 501\n",
      "511 507\n",
      "Removing redundant items takes 287.8550140929874\n",
      "The directory './sorting/block_rec0000/sorting/block_rec0000/waveforms_rec0000/similarity' has been emptied.\n",
      "The directory './sorting/block_rec0000/sorting/block_rec0000/waveforms_rec0000/quality_metrics' has been emptied.\n",
      "The directory './sorting/block_rec0000/sorting/block_rec0000/waveforms_rec0000/waveforms' has been emptied.\n",
      "The directory './sorting/block_rec0000/sorting/block_rec0000/waveforms_rec0000/recording_info' has been emptied.\n",
      "The directory './sorting/block_rec0000/sorting/block_rec0000/waveforms_rec0000/spike_amplitudes' has been emptied.\n",
      "The directory './sorting/block_rec0000/sorting/block_rec0000/waveforms_rec0000/template_metrics' has been emptied.\n",
      "The directory './sorting/block_rec0000/sorting/block_rec0000/waveforms_rec0000' has been emptied.\n",
      "The directory './sorting/block_rec0000/sorting/block_rec0000/kilosort2_rec0000/in_container_sorting/properties' has been emptied.\n",
      "The directory './sorting/block_rec0000/sorting/block_rec0000/kilosort2_rec0000/in_container_sorting' has been emptied.\n"
     ]
    },
    {
     "name": "stderr",
     "output_type": "stream",
     "text": [
      "INFO:root:Processing recording: rec0000\n"
     ]
    },
    {
     "name": "stdout",
     "output_type": "stream",
     "text": [
      "The directory './sorting/block_rec0000/sorting/block_rec0000/kilosort2_rec0000/sorter_output' has been emptied.\n",
      "The directory './sorting/block_rec0000/sorting/block_rec0000/kilosort2_rec0000' has been emptied.\n",
      "The directory './sorting/block_rec0000/sorting/block_rec0000' has been emptied.\n",
      "The directory './sorting/block_rec0000/sorting' has been emptied.\n",
      "The directory './sorting/block_rec0000' has been emptied.\n",
      "The directory './sorting' has been emptied.\n",
      "Sampling frequency: 20000.0\n",
      "Number of channels: 1019\n",
      "Number of segments: 1\n",
      "total_recording: 283.08 s\n",
      "Starting container\n",
      "Installing spikeinterface==0.98.2 in kilosort2-maxwellcomplib:latest\n",
      "Installing extra requirements: ['neo', 'h5py']\n",
      "Running kilosort2 sorter inside kilosort2-maxwellcomplib:latest\n",
      "Stopping container\n"
     ]
    },
    {
     "data": {
      "application/vnd.jupyter.widget-view+json": {
       "model_id": "5afb279202cf416390f7ca458ea072fd",
       "version_major": 2,
       "version_minor": 0
      },
      "text/plain": [
       "extract waveforms memmap:   0%|          | 0/284 [00:00<?, ?it/s]"
      ]
     },
     "metadata": {},
     "output_type": "display_data"
    },
    {
     "data": {
      "application/vnd.jupyter.widget-view+json": {
       "model_id": "1754a6439dd14301a111654f6d4d9cd0",
       "version_major": 2,
       "version_minor": 0
      },
      "text/plain": [
       "extract amplitudes:   0%|          | 0/284 [00:00<?, ?it/s]"
      ]
     },
     "metadata": {},
     "output_type": "display_data"
    },
    {
     "name": "stderr",
     "output_type": "stream",
     "text": [
      "/home/mmp/.local/lib/python3.10/site-packages/spikeinterface/qualitymetrics/misc_metrics.py:232: RuntimeWarning: divide by zero encountered in scalar divide\n",
      "  snrs[unit_id] = np.abs(amplitude) / noise\n",
      "/home/mmp/.local/lib/python3.10/site-packages/spikeinterface/qualitymetrics/misc_metrics.py:590: UserWarning: Units [1, 3, 6, 8, 10, 13, 14, 16, 20, 23, 25, 28, 29, 31, 33, 38, 40, 45, 46, 48, 49, 52, 53, 54, 56, 58, 60, 62, 63, 67, 69, 73, 75, 77, 78, 80, 83, 85, 86, 89, 90, 91, 92, 98, 101, 102, 104, 105, 106, 107, 110, 111, 112, 113, 114, 115, 116, 118, 120, 122, 125, 126, 130, 131, 133, 136, 139, 143, 147, 148, 152, 153, 155, 156, 158, 159, 160, 161, 165, 168, 169, 173, 175, 177, 178, 179, 181, 182, 186, 187, 188, 192, 193, 196, 199, 200, 202, 203, 204, 219, 221, 222, 224, 228, 229, 230, 234, 236] have too few spikes and amplitude_cutoff is set to NaN\n",
      "  warnings.warn(f\"Units {nan_units} have too few spikes and \" \"amplitude_cutoff is set to NaN\")\n",
      "/home/mmp/.local/lib/python3.10/site-packages/scipy/stats/_stats_mstats_common.py:182: RuntimeWarning: invalid value encountered in scalar divide\n",
      "  slope = ssxym / ssxm\n",
      "/home/mmp/.local/lib/python3.10/site-packages/scipy/stats/_stats_mstats_common.py:196: RuntimeWarning: invalid value encountered in sqrt\n",
      "  t = r * np.sqrt(df / ((1.0 - r + TINY)*(1.0 + r + TINY)))\n",
      "/home/mmp/.local/lib/python3.10/site-packages/scipy/stats/_stats_mstats_common.py:199: RuntimeWarning: invalid value encountered in scalar divide\n",
      "  slope_stderr = np.sqrt((1 - r**2) * ssym / ssxm / df)\n",
      "INFO:root:redundant-units : [53, 31, 48, 53, 86, 53, 86, 107, 107, 120, 120, 120, 120, 120, 48, 53, 83, 86, 120, 133, 53, 133, 86, 120, 133, 11, 161, 48, 53, 83, 86, 120, 125, 133, 182, 182, 182, 182, 182, 182, 182, 182, 199, 199, 199, 199, 199, 199, 199, 199, 199, 182, 48, 53, 202, 83, 86, 120, 202, 133, 202, 182, 199, 53, 83, 120, 133, 178, 199]\n"
     ]
    },
    {
     "name": "stdout",
     "output_type": "stream",
     "text": [
      "53 48\n",
      "67 31\n",
      "83 48\n",
      "83 53\n",
      "86 48\n",
      "86 53\n",
      "86 83\n",
      "107 31\n",
      "107 67\n",
      "120 48\n",
      "120 53\n",
      "120 78\n",
      "120 83\n",
      "120 86\n",
      "125 48\n",
      "125 53\n",
      "125 83\n",
      "125 86\n",
      "125 120\n",
      "133 48\n",
      "133 53\n",
      "133 83\n",
      "133 86\n",
      "133 120\n",
      "133 125\n",
      "161 11\n",
      "168 161\n",
      "178 48\n",
      "178 53\n",
      "178 83\n",
      "178 86\n",
      "178 120\n",
      "178 125\n",
      "178 133\n",
      "182 48\n",
      "182 53\n",
      "182 83\n",
      "182 86\n",
      "182 120\n",
      "182 125\n",
      "182 133\n",
      "182 178\n",
      "199 48\n",
      "199 53\n",
      "199 78\n",
      "199 83\n",
      "199 86\n",
      "199 120\n",
      "199 125\n",
      "199 133\n",
      "199 178\n",
      "199 182\n",
      "202 48\n",
      "202 53\n",
      "202 78\n",
      "202 83\n",
      "202 86\n",
      "202 120\n",
      "202 125\n",
      "202 133\n",
      "202 178\n",
      "202 182\n",
      "202 199\n",
      "203 53\n",
      "203 83\n",
      "203 120\n",
      "203 133\n",
      "203 178\n",
      "203 199\n",
      "Removing redundant items takes 262.37754912901437\n",
      "The directory './sorting/block_rec0000/sorting/block_rec0000/waveforms_rec0000/similarity' has been emptied.\n",
      "The directory './sorting/block_rec0000/sorting/block_rec0000/waveforms_rec0000/quality_metrics' has been emptied.\n",
      "The directory './sorting/block_rec0000/sorting/block_rec0000/waveforms_rec0000/waveforms' has been emptied.\n",
      "The directory './sorting/block_rec0000/sorting/block_rec0000/waveforms_rec0000/recording_info' has been emptied.\n",
      "The directory './sorting/block_rec0000/sorting/block_rec0000/waveforms_rec0000/spike_amplitudes' has been emptied.\n",
      "The directory './sorting/block_rec0000/sorting/block_rec0000/waveforms_rec0000/template_metrics' has been emptied.\n",
      "The directory './sorting/block_rec0000/sorting/block_rec0000/waveforms_rec0000' has been emptied.\n",
      "The directory './sorting/block_rec0000/sorting/block_rec0000/kilosort2_rec0000/in_container_sorting/properties' has been emptied.\n",
      "The directory './sorting/block_rec0000/sorting/block_rec0000/kilosort2_rec0000/in_container_sorting' has been emptied.\n"
     ]
    },
    {
     "name": "stderr",
     "output_type": "stream",
     "text": [
      "INFO:root:Processing recording: rec0000\n"
     ]
    },
    {
     "name": "stdout",
     "output_type": "stream",
     "text": [
      "The directory './sorting/block_rec0000/sorting/block_rec0000/kilosort2_rec0000/sorter_output' has been emptied.\n",
      "The directory './sorting/block_rec0000/sorting/block_rec0000/kilosort2_rec0000' has been emptied.\n",
      "The directory './sorting/block_rec0000/sorting/block_rec0000' has been emptied.\n",
      "The directory './sorting/block_rec0000/sorting' has been emptied.\n",
      "The directory './sorting/block_rec0000' has been emptied.\n",
      "The directory './sorting' has been emptied.\n",
      "Sampling frequency: 20000.0\n",
      "Number of channels: 742\n",
      "Number of segments: 1\n",
      "total_recording: 300.05 s\n",
      "Starting container\n",
      "Installing spikeinterface==0.98.2 in kilosort2-maxwellcomplib:latest\n",
      "Installing extra requirements: ['neo', 'h5py']\n",
      "Running kilosort2 sorter inside kilosort2-maxwellcomplib:latest\n",
      "Stopping container\n"
     ]
    },
    {
     "data": {
      "application/vnd.jupyter.widget-view+json": {
       "model_id": "3fd97670a3114828b38754e152765b6a",
       "version_major": 2,
       "version_minor": 0
      },
      "text/plain": [
       "extract waveforms memmap:   0%|          | 0/300 [00:00<?, ?it/s]"
      ]
     },
     "metadata": {},
     "output_type": "display_data"
    },
    {
     "data": {
      "application/vnd.jupyter.widget-view+json": {
       "model_id": "839fadd2ab41414791b1c2cbb62d9026",
       "version_major": 2,
       "version_minor": 0
      },
      "text/plain": [
       "extract amplitudes:   0%|          | 0/300 [00:00<?, ?it/s]"
      ]
     },
     "metadata": {},
     "output_type": "display_data"
    },
    {
     "name": "stderr",
     "output_type": "stream",
     "text": [
      "/home/mmp/.local/lib/python3.10/site-packages/spikeinterface/qualitymetrics/misc_metrics.py:232: RuntimeWarning: divide by zero encountered in scalar divide\n",
      "  snrs[unit_id] = np.abs(amplitude) / noise\n",
      "/home/mmp/.local/lib/python3.10/site-packages/spikeinterface/qualitymetrics/misc_metrics.py:590: UserWarning: Units [4, 6, 8, 9, 11, 13, 14, 22, 24, 25, 30, 31, 32, 33, 35, 37, 38, 41, 42, 43, 46, 47, 50, 51, 52, 55, 57, 58, 60, 61, 76, 80, 82, 84, 86, 87, 91, 93, 94, 95, 97, 102, 107, 109, 111, 112, 119, 120, 121, 122, 135, 136, 138, 140, 141, 143, 144, 146, 152, 153, 156, 157, 159, 163, 164, 165, 170, 171, 173, 174, 179, 185, 187, 188, 189, 190, 196, 198, 201, 202, 203, 205] have too few spikes and amplitude_cutoff is set to NaN\n",
      "  warnings.warn(f\"Units {nan_units} have too few spikes and \" \"amplitude_cutoff is set to NaN\")\n",
      "INFO:root:redundant-units : []\n"
     ]
    },
    {
     "name": "stdout",
     "output_type": "stream",
     "text": [
      "Removing redundant items takes 194.44563568601734\n",
      "The directory './sorting/block_rec0000/sorting/block_rec0000/waveforms_rec0000/similarity' has been emptied.\n",
      "The directory './sorting/block_rec0000/sorting/block_rec0000/waveforms_rec0000/quality_metrics' has been emptied.\n",
      "The directory './sorting/block_rec0000/sorting/block_rec0000/waveforms_rec0000/waveforms' has been emptied.\n",
      "The directory './sorting/block_rec0000/sorting/block_rec0000/waveforms_rec0000/recording_info' has been emptied.\n",
      "The directory './sorting/block_rec0000/sorting/block_rec0000/waveforms_rec0000/spike_amplitudes' has been emptied.\n",
      "The directory './sorting/block_rec0000/sorting/block_rec0000/waveforms_rec0000/template_metrics' has been emptied.\n",
      "The directory './sorting/block_rec0000/sorting/block_rec0000/waveforms_rec0000' has been emptied.\n",
      "The directory './sorting/block_rec0000/sorting/block_rec0000/kilosort2_rec0000/in_container_sorting/properties' has been emptied.\n",
      "The directory './sorting/block_rec0000/sorting/block_rec0000/kilosort2_rec0000/in_container_sorting' has been emptied.\n"
     ]
    },
    {
     "name": "stderr",
     "output_type": "stream",
     "text": [
      "INFO:root:Processing recording: rec0000\n"
     ]
    },
    {
     "name": "stdout",
     "output_type": "stream",
     "text": [
      "The directory './sorting/block_rec0000/sorting/block_rec0000/kilosort2_rec0000/sorter_output' has been emptied.\n",
      "The directory './sorting/block_rec0000/sorting/block_rec0000/kilosort2_rec0000' has been emptied.\n",
      "The directory './sorting/block_rec0000/sorting/block_rec0000' has been emptied.\n",
      "The directory './sorting/block_rec0000/sorting' has been emptied.\n",
      "The directory './sorting/block_rec0000' has been emptied.\n",
      "The directory './sorting' has been emptied.\n",
      "Sampling frequency: 20000.0\n",
      "Number of channels: 1020\n",
      "Number of segments: 1\n",
      "total_recording: 300.04 s\n",
      "Starting container\n",
      "Installing spikeinterface==0.98.2 in kilosort2-maxwellcomplib:latest\n",
      "Installing extra requirements: ['neo', 'h5py']\n",
      "Running kilosort2 sorter inside kilosort2-maxwellcomplib:latest\n",
      "Stopping container\n"
     ]
    },
    {
     "data": {
      "application/vnd.jupyter.widget-view+json": {
       "model_id": "28d92685334f432da3965ae0333de6ef",
       "version_major": 2,
       "version_minor": 0
      },
      "text/plain": [
       "extract waveforms memmap:   0%|          | 0/300 [00:00<?, ?it/s]"
      ]
     },
     "metadata": {},
     "output_type": "display_data"
    },
    {
     "data": {
      "application/vnd.jupyter.widget-view+json": {
       "model_id": "44a6017b84c14d32b927750dceb1cce9",
       "version_major": 2,
       "version_minor": 0
      },
      "text/plain": [
       "extract amplitudes:   0%|          | 0/300 [00:00<?, ?it/s]"
      ]
     },
     "metadata": {},
     "output_type": "display_data"
    },
    {
     "name": "stderr",
     "output_type": "stream",
     "text": [
      "/home/mmp/.local/lib/python3.10/site-packages/spikeinterface/qualitymetrics/misc_metrics.py:232: RuntimeWarning: divide by zero encountered in scalar divide\n",
      "  snrs[unit_id] = np.abs(amplitude) / noise\n",
      "/home/mmp/.local/lib/python3.10/site-packages/spikeinterface/qualitymetrics/misc_metrics.py:590: UserWarning: Units [3, 4, 5, 6, 7, 17, 29, 31, 41, 42, 43, 48, 54, 55, 57, 60, 64, 68, 70, 73, 75, 77, 78, 79, 81, 82, 85, 86, 88, 92, 98, 106, 108, 110, 111, 115, 123, 126, 129, 141, 143, 149, 151, 154, 158, 160, 163, 168, 172, 173, 174, 176, 177, 185, 196, 203, 206, 209, 210, 216, 217, 222, 225, 227, 232, 233, 238, 242, 243, 244, 246, 250, 252, 256, 258, 260, 272, 273, 274, 275, 276, 279, 280, 282, 283, 286, 287, 288, 291, 293, 301, 305, 306, 309, 312, 317, 324, 325, 326, 329, 330, 331, 336, 338, 342, 343, 369, 371, 372, 373, 374, 375, 378, 381, 382, 386, 394, 401, 402, 403, 406, 407, 410, 413, 415, 418, 422, 425, 427, 429, 430, 431, 435, 439, 440, 444, 445, 446, 447, 449, 454, 455, 456, 457, 460, 463, 464, 468, 470, 473, 479, 481, 486, 488, 496, 498, 500, 502, 503, 507, 508, 511, 515, 520, 523, 525, 534] have too few spikes and amplitude_cutoff is set to NaN\n",
      "  warnings.warn(f\"Units {nan_units} have too few spikes and \" \"amplitude_cutoff is set to NaN\")\n",
      "INFO:root:redundant-units : [413, 435, 453, 498, 496, 513]\n"
     ]
    },
    {
     "name": "stdout",
     "output_type": "stream",
     "text": [
      "413 324\n",
      "435 432\n",
      "455 453\n",
      "498 495\n",
      "498 496\n",
      "513 238\n",
      "Removing redundant items takes 291.3524738609849\n",
      "The directory './sorting/block_rec0000/sorting/block_rec0000/waveforms_rec0000/similarity' has been emptied.\n",
      "The directory './sorting/block_rec0000/sorting/block_rec0000/waveforms_rec0000/quality_metrics' has been emptied.\n",
      "The directory './sorting/block_rec0000/sorting/block_rec0000/waveforms_rec0000/waveforms' has been emptied.\n",
      "The directory './sorting/block_rec0000/sorting/block_rec0000/waveforms_rec0000/recording_info' has been emptied.\n",
      "The directory './sorting/block_rec0000/sorting/block_rec0000/waveforms_rec0000/spike_amplitudes' has been emptied.\n",
      "The directory './sorting/block_rec0000/sorting/block_rec0000/waveforms_rec0000/template_metrics' has been emptied.\n",
      "The directory './sorting/block_rec0000/sorting/block_rec0000/waveforms_rec0000' has been emptied.\n",
      "The directory './sorting/block_rec0000/sorting/block_rec0000/kilosort2_rec0000/in_container_sorting/properties' has been emptied.\n",
      "The directory './sorting/block_rec0000/sorting/block_rec0000/kilosort2_rec0000/in_container_sorting' has been emptied.\n"
     ]
    },
    {
     "name": "stderr",
     "output_type": "stream",
     "text": [
      "INFO:root:Processing recording: rec0000\n"
     ]
    },
    {
     "name": "stdout",
     "output_type": "stream",
     "text": [
      "The directory './sorting/block_rec0000/sorting/block_rec0000/kilosort2_rec0000/sorter_output' has been emptied.\n",
      "The directory './sorting/block_rec0000/sorting/block_rec0000/kilosort2_rec0000' has been emptied.\n",
      "The directory './sorting/block_rec0000/sorting/block_rec0000' has been emptied.\n",
      "The directory './sorting/block_rec0000/sorting' has been emptied.\n",
      "The directory './sorting/block_rec0000' has been emptied.\n",
      "The directory './sorting' has been emptied.\n",
      "Sampling frequency: 20000.0\n",
      "Number of channels: 1019\n",
      "Number of segments: 1\n",
      "total_recording: 300.05 s\n",
      "Starting container\n",
      "Installing spikeinterface==0.98.2 in kilosort2-maxwellcomplib:latest\n",
      "Installing extra requirements: ['neo', 'h5py']\n",
      "Running kilosort2 sorter inside kilosort2-maxwellcomplib:latest\n",
      "Stopping container\n"
     ]
    },
    {
     "data": {
      "application/vnd.jupyter.widget-view+json": {
       "model_id": "e5b23ffc2d094b509e20f6e3c28ff6eb",
       "version_major": 2,
       "version_minor": 0
      },
      "text/plain": [
       "extract waveforms memmap:   0%|          | 0/300 [00:00<?, ?it/s]"
      ]
     },
     "metadata": {},
     "output_type": "display_data"
    },
    {
     "data": {
      "application/vnd.jupyter.widget-view+json": {
       "model_id": "f53e4fb08e624d7aa7c58bbc0f525027",
       "version_major": 2,
       "version_minor": 0
      },
      "text/plain": [
       "extract amplitudes:   0%|          | 0/300 [00:00<?, ?it/s]"
      ]
     },
     "metadata": {},
     "output_type": "display_data"
    },
    {
     "name": "stderr",
     "output_type": "stream",
     "text": [
      "/home/mmp/.local/lib/python3.10/site-packages/spikeinterface/qualitymetrics/misc_metrics.py:232: RuntimeWarning: divide by zero encountered in scalar divide\n",
      "  snrs[unit_id] = np.abs(amplitude) / noise\n",
      "/home/mmp/.local/lib/python3.10/site-packages/spikeinterface/qualitymetrics/misc_metrics.py:590: UserWarning: Units [1, 4, 5, 8, 11, 12, 16, 17, 22, 24, 32, 34, 37, 40, 41, 49, 52, 57, 59, 62, 67, 70, 74, 81, 82, 83, 84, 85, 88, 91, 95, 100, 102, 105, 107, 108, 110, 112, 116, 118, 120, 125, 144, 145, 146, 147, 155, 158, 159, 164, 167, 169, 173, 182, 185, 186, 193, 200, 204, 207, 210, 211, 219, 223, 232, 240, 244, 245, 247, 251, 255, 256, 259, 261, 264, 269, 271, 274, 276, 277, 278, 284, 286, 293, 294, 298, 299, 302, 303, 304, 305, 306, 308, 315, 318, 319, 323, 324, 328, 333, 338, 342, 343, 345, 346, 347, 351, 360, 361, 363, 365, 367, 370, 372, 373, 375, 380, 385, 386, 388, 393, 396, 402, 406, 407, 408, 414, 419, 421, 422, 423, 429, 430, 435, 436, 437, 438, 440, 444, 456, 460, 465, 466] have too few spikes and amplitude_cutoff is set to NaN\n",
      "  warnings.warn(f\"Units {nan_units} have too few spikes and \" \"amplitude_cutoff is set to NaN\")\n",
      "INFO:root:redundant-units : [251, 422]\n"
     ]
    },
    {
     "name": "stdout",
     "output_type": "stream",
     "text": [
      "251 247\n",
      "437 422\n",
      "Removing redundant items takes 292.59734486899106\n",
      "The directory './sorting/block_rec0000/sorting/block_rec0000/waveforms_rec0000/similarity' has been emptied.\n",
      "The directory './sorting/block_rec0000/sorting/block_rec0000/waveforms_rec0000/quality_metrics' has been emptied.\n",
      "The directory './sorting/block_rec0000/sorting/block_rec0000/waveforms_rec0000/waveforms' has been emptied.\n",
      "The directory './sorting/block_rec0000/sorting/block_rec0000/waveforms_rec0000/recording_info' has been emptied.\n",
      "The directory './sorting/block_rec0000/sorting/block_rec0000/waveforms_rec0000/spike_amplitudes' has been emptied.\n",
      "The directory './sorting/block_rec0000/sorting/block_rec0000/waveforms_rec0000/template_metrics' has been emptied.\n",
      "The directory './sorting/block_rec0000/sorting/block_rec0000/waveforms_rec0000' has been emptied.\n",
      "The directory './sorting/block_rec0000/sorting/block_rec0000/kilosort2_rec0000/in_container_sorting/properties' has been emptied.\n",
      "The directory './sorting/block_rec0000/sorting/block_rec0000/kilosort2_rec0000/in_container_sorting' has been emptied.\n"
     ]
    },
    {
     "name": "stderr",
     "output_type": "stream",
     "text": [
      "INFO:root:Processing recording: rec0000\n"
     ]
    },
    {
     "name": "stdout",
     "output_type": "stream",
     "text": [
      "The directory './sorting/block_rec0000/sorting/block_rec0000/kilosort2_rec0000/sorter_output' has been emptied.\n",
      "The directory './sorting/block_rec0000/sorting/block_rec0000/kilosort2_rec0000' has been emptied.\n",
      "The directory './sorting/block_rec0000/sorting/block_rec0000' has been emptied.\n",
      "The directory './sorting/block_rec0000/sorting' has been emptied.\n",
      "The directory './sorting/block_rec0000' has been emptied.\n",
      "The directory './sorting' has been emptied.\n",
      "Sampling frequency: 20000.0\n",
      "Number of channels: 1018\n",
      "Number of segments: 1\n",
      "total_recording: 300.07 s\n",
      "Starting container\n",
      "Installing spikeinterface==0.98.2 in kilosort2-maxwellcomplib:latest\n",
      "Installing extra requirements: ['neo', 'h5py']\n",
      "Running kilosort2 sorter inside kilosort2-maxwellcomplib:latest\n",
      "Stopping container\n"
     ]
    },
    {
     "data": {
      "application/vnd.jupyter.widget-view+json": {
       "model_id": "187c46cd315d4726bebca488fda9d473",
       "version_major": 2,
       "version_minor": 0
      },
      "text/plain": [
       "extract waveforms memmap:   0%|          | 0/300 [00:00<?, ?it/s]"
      ]
     },
     "metadata": {},
     "output_type": "display_data"
    },
    {
     "data": {
      "application/vnd.jupyter.widget-view+json": {
       "model_id": "55e1c59d6eb846828b5381687b5fcacc",
       "version_major": 2,
       "version_minor": 0
      },
      "text/plain": [
       "extract amplitudes:   0%|          | 0/300 [00:00<?, ?it/s]"
      ]
     },
     "metadata": {},
     "output_type": "display_data"
    },
    {
     "name": "stderr",
     "output_type": "stream",
     "text": [
      "/home/mmp/.local/lib/python3.10/site-packages/spikeinterface/qualitymetrics/misc_metrics.py:232: RuntimeWarning: divide by zero encountered in scalar divide\n",
      "  snrs[unit_id] = np.abs(amplitude) / noise\n",
      "/home/mmp/.local/lib/python3.10/site-packages/spikeinterface/qualitymetrics/misc_metrics.py:965: UserWarning: Amplitude PDF does not have a unique minimum! More spikes might be required for a correct amplitude_cutoff computation!\n",
      "  warnings.warn(\n",
      "/home/mmp/.local/lib/python3.10/site-packages/spikeinterface/qualitymetrics/misc_metrics.py:590: UserWarning: Units [2, 3, 6, 8, 9, 16, 23, 26, 27, 28, 35, 38, 39, 41, 42, 43, 44, 45, 48, 51, 54, 56, 57, 65, 66, 67, 75, 76, 77, 78, 80, 83, 86, 88, 95, 97, 103, 104, 111, 112, 113, 114, 115, 118, 119, 123, 130, 131, 132, 134, 141, 143, 148, 149, 151, 152, 154, 157, 161, 163, 165, 170, 173, 177, 179, 181, 185, 187, 188, 189, 192, 193, 198, 200, 201, 204, 210, 211, 212, 225, 226, 227, 230, 231, 232, 234, 236, 240, 243, 254, 255, 257, 261, 262, 263, 264, 266, 268, 272, 273, 277, 279, 282, 283, 284, 285, 287, 288, 289, 292, 296, 303, 304, 305, 308, 310, 313, 314, 315, 318, 319, 322, 330, 332, 341, 342, 347, 349, 355, 358, 361, 365, 369, 373, 378, 380, 381, 384, 386, 387, 391, 395, 396, 400, 402, 403, 409, 412, 413, 416, 421, 424, 425, 426, 427, 431, 432, 433, 434, 436, 437, 441, 452, 453, 457, 459, 466, 468, 472, 479, 480, 483, 485, 488, 490, 491, 492, 494, 495, 496, 501, 507, 511, 513, 515, 516, 517, 519, 523, 524, 528, 529, 532, 534, 539, 541, 543, 549, 553, 556, 561, 562, 564, 566, 568, 570, 576, 579, 580, 587, 589, 592, 595, 597] have too few spikes and amplitude_cutoff is set to NaN\n",
      "  warnings.warn(f\"Units {nan_units} have too few spikes and \" \"amplitude_cutoff is set to NaN\")\n",
      "INFO:root:redundant-units : [264]\n"
     ]
    },
    {
     "name": "stdout",
     "output_type": "stream",
     "text": [
      "264 111\n",
      "Removing redundant items takes 289.7027506660088\n",
      "The directory './sorting/block_rec0000/sorting/block_rec0000/waveforms_rec0000/similarity' has been emptied.\n",
      "The directory './sorting/block_rec0000/sorting/block_rec0000/waveforms_rec0000/quality_metrics' has been emptied.\n",
      "The directory './sorting/block_rec0000/sorting/block_rec0000/waveforms_rec0000/waveforms' has been emptied.\n",
      "The directory './sorting/block_rec0000/sorting/block_rec0000/waveforms_rec0000/recording_info' has been emptied.\n",
      "The directory './sorting/block_rec0000/sorting/block_rec0000/waveforms_rec0000/spike_amplitudes' has been emptied.\n",
      "The directory './sorting/block_rec0000/sorting/block_rec0000/waveforms_rec0000/template_metrics' has been emptied.\n",
      "The directory './sorting/block_rec0000/sorting/block_rec0000/waveforms_rec0000' has been emptied.\n",
      "The directory './sorting/block_rec0000/sorting/block_rec0000/kilosort2_rec0000/in_container_sorting/properties' has been emptied.\n",
      "The directory './sorting/block_rec0000/sorting/block_rec0000/kilosort2_rec0000/in_container_sorting' has been emptied.\n"
     ]
    },
    {
     "name": "stderr",
     "output_type": "stream",
     "text": [
      "INFO:root:Processing recording: rec0000\n"
     ]
    },
    {
     "name": "stdout",
     "output_type": "stream",
     "text": [
      "The directory './sorting/block_rec0000/sorting/block_rec0000/kilosort2_rec0000/sorter_output' has been emptied.\n",
      "The directory './sorting/block_rec0000/sorting/block_rec0000/kilosort2_rec0000' has been emptied.\n",
      "The directory './sorting/block_rec0000/sorting/block_rec0000' has been emptied.\n",
      "The directory './sorting/block_rec0000/sorting' has been emptied.\n",
      "The directory './sorting/block_rec0000' has been emptied.\n",
      "The directory './sorting' has been emptied.\n",
      "Sampling frequency: 20000.0\n",
      "Number of channels: 1020\n",
      "Number of segments: 1\n",
      "total_recording: 300.07 s\n",
      "Starting container\n",
      "Installing spikeinterface==0.98.2 in kilosort2-maxwellcomplib:latest\n",
      "Installing extra requirements: ['neo', 'h5py']\n",
      "Running kilosort2 sorter inside kilosort2-maxwellcomplib:latest\n",
      "Stopping container\n"
     ]
    },
    {
     "data": {
      "application/vnd.jupyter.widget-view+json": {
       "model_id": "729e0663c50f4a8bb923213bfe793b5c",
       "version_major": 2,
       "version_minor": 0
      },
      "text/plain": [
       "extract waveforms memmap:   0%|          | 0/300 [00:00<?, ?it/s]"
      ]
     },
     "metadata": {},
     "output_type": "display_data"
    },
    {
     "data": {
      "application/vnd.jupyter.widget-view+json": {
       "model_id": "3d8f572ca8ae4285947349c7e494610f",
       "version_major": 2,
       "version_minor": 0
      },
      "text/plain": [
       "extract amplitudes:   0%|          | 0/300 [00:00<?, ?it/s]"
      ]
     },
     "metadata": {},
     "output_type": "display_data"
    },
    {
     "name": "stderr",
     "output_type": "stream",
     "text": [
      "/home/mmp/.local/lib/python3.10/site-packages/spikeinterface/qualitymetrics/misc_metrics.py:232: RuntimeWarning: divide by zero encountered in scalar divide\n",
      "  snrs[unit_id] = np.abs(amplitude) / noise\n",
      "/home/mmp/.local/lib/python3.10/site-packages/spikeinterface/qualitymetrics/misc_metrics.py:965: UserWarning: Amplitude PDF does not have a unique minimum! More spikes might be required for a correct amplitude_cutoff computation!\n",
      "  warnings.warn(\n",
      "/home/mmp/.local/lib/python3.10/site-packages/spikeinterface/qualitymetrics/misc_metrics.py:590: UserWarning: Units [8, 9, 11, 13, 17, 24, 37, 41, 44, 50, 51, 53, 63, 73, 75, 82, 83, 85, 118, 127, 139, 144, 160, 164, 166, 170, 185, 192, 195, 207, 210, 214, 225, 228, 237, 240, 245, 246, 255, 256, 273, 284, 286, 289, 292, 299, 303, 315, 318, 319, 320, 322, 323, 324, 326, 332, 333] have too few spikes and amplitude_cutoff is set to NaN\n",
      "  warnings.warn(f\"Units {nan_units} have too few spikes and \" \"amplitude_cutoff is set to NaN\")\n",
      "/home/mmp/.local/lib/python3.10/site-packages/scipy/stats/_stats_mstats_common.py:182: RuntimeWarning: invalid value encountered in scalar divide\n",
      "  slope = ssxym / ssxm\n",
      "/home/mmp/.local/lib/python3.10/site-packages/scipy/stats/_stats_mstats_common.py:196: RuntimeWarning: invalid value encountered in sqrt\n",
      "  t = r * np.sqrt(df / ((1.0 - r + TINY)*(1.0 + r + TINY)))\n",
      "/home/mmp/.local/lib/python3.10/site-packages/scipy/stats/_stats_mstats_common.py:199: RuntimeWarning: invalid value encountered in scalar divide\n",
      "  slope_stderr = np.sqrt((1 - r**2) * ssym / ssxm / df)\n",
      "INFO:root:redundant-units : [28, 261, 117]\n"
     ]
    },
    {
     "name": "stdout",
     "output_type": "stream",
     "text": [
      "48 28\n",
      "261 210\n",
      "319 117\n",
      "Removing redundant items takes 293.4498434870038\n",
      "The directory './sorting/block_rec0000/sorting/block_rec0000/waveforms_rec0000/similarity' has been emptied.\n",
      "The directory './sorting/block_rec0000/sorting/block_rec0000/waveforms_rec0000/quality_metrics' has been emptied.\n",
      "The directory './sorting/block_rec0000/sorting/block_rec0000/waveforms_rec0000/waveforms' has been emptied.\n",
      "The directory './sorting/block_rec0000/sorting/block_rec0000/waveforms_rec0000/recording_info' has been emptied.\n",
      "The directory './sorting/block_rec0000/sorting/block_rec0000/waveforms_rec0000/spike_amplitudes' has been emptied.\n",
      "The directory './sorting/block_rec0000/sorting/block_rec0000/waveforms_rec0000/template_metrics' has been emptied.\n",
      "The directory './sorting/block_rec0000/sorting/block_rec0000/waveforms_rec0000' has been emptied.\n",
      "The directory './sorting/block_rec0000/sorting/block_rec0000/kilosort2_rec0000/in_container_sorting/properties' has been emptied.\n",
      "The directory './sorting/block_rec0000/sorting/block_rec0000/kilosort2_rec0000/in_container_sorting' has been emptied.\n"
     ]
    },
    {
     "name": "stderr",
     "output_type": "stream",
     "text": [
      "INFO:root:Processing recording: rec0000\n"
     ]
    },
    {
     "name": "stdout",
     "output_type": "stream",
     "text": [
      "The directory './sorting/block_rec0000/sorting/block_rec0000/kilosort2_rec0000/sorter_output' has been emptied.\n",
      "The directory './sorting/block_rec0000/sorting/block_rec0000/kilosort2_rec0000' has been emptied.\n",
      "The directory './sorting/block_rec0000/sorting/block_rec0000' has been emptied.\n",
      "The directory './sorting/block_rec0000/sorting' has been emptied.\n",
      "The directory './sorting/block_rec0000' has been emptied.\n",
      "The directory './sorting' has been emptied.\n",
      "Sampling frequency: 20000.0\n",
      "Number of channels: 1020\n",
      "Number of segments: 1\n",
      "total_recording: 300.04 s\n",
      "Starting container\n",
      "Installing spikeinterface==0.98.2 in kilosort2-maxwellcomplib:latest\n",
      "Installing extra requirements: ['neo', 'h5py']\n",
      "Running kilosort2 sorter inside kilosort2-maxwellcomplib:latest\n",
      "Stopping container\n"
     ]
    },
    {
     "data": {
      "application/vnd.jupyter.widget-view+json": {
       "model_id": "a5c339df22024d14a93a6b4a1669ebcd",
       "version_major": 2,
       "version_minor": 0
      },
      "text/plain": [
       "extract waveforms memmap:   0%|          | 0/300 [00:00<?, ?it/s]"
      ]
     },
     "metadata": {},
     "output_type": "display_data"
    },
    {
     "data": {
      "application/vnd.jupyter.widget-view+json": {
       "model_id": "29d9cfdc446240f3b620ba1bb038fb4a",
       "version_major": 2,
       "version_minor": 0
      },
      "text/plain": [
       "extract amplitudes:   0%|          | 0/300 [00:00<?, ?it/s]"
      ]
     },
     "metadata": {},
     "output_type": "display_data"
    },
    {
     "name": "stderr",
     "output_type": "stream",
     "text": [
      "/home/mmp/.local/lib/python3.10/site-packages/spikeinterface/qualitymetrics/misc_metrics.py:232: RuntimeWarning: divide by zero encountered in scalar divide\n",
      "  snrs[unit_id] = np.abs(amplitude) / noise\n",
      "/home/mmp/.local/lib/python3.10/site-packages/spikeinterface/qualitymetrics/misc_metrics.py:590: UserWarning: Units [7, 8, 10, 17, 21, 26, 33, 34, 35, 42, 47, 48, 51, 55, 58, 65, 66, 72, 75, 78, 81, 85, 86, 88, 91, 95, 105, 108, 109, 111, 112, 119, 121, 122, 125, 126, 127, 128, 130, 134, 135, 136, 137, 138, 140, 141, 142, 145, 146, 149, 151, 154, 159, 160, 165, 170, 171, 172, 175, 176, 177, 178, 179, 180, 182, 184, 185, 186, 191, 195, 197, 198, 200, 201, 203, 205, 208, 213, 214, 221, 222, 223, 226, 234, 236, 238, 241, 253, 254, 256, 257, 261, 262, 267, 268, 269, 270, 271, 274, 276, 277, 281, 282, 285, 288, 292, 296, 297, 300, 301, 304, 307, 308, 310, 311, 315, 319, 322, 323, 327, 329, 332, 335, 336, 337, 342, 343, 345, 346, 349, 350, 351, 352, 353, 355, 359, 362, 364, 367, 369, 372, 376, 377, 379, 381, 382, 386, 388, 390, 391, 392, 393, 396, 399, 402, 407, 410, 412, 415, 418, 419, 422, 423, 425, 427, 428, 429, 433, 436, 437, 443, 447, 448, 449, 459, 461, 462, 466, 467, 472, 473, 478, 479, 480, 481, 489, 490, 492, 493, 494, 499, 501, 502, 503, 504, 505, 506, 507, 509, 513, 515, 522, 524, 526, 529, 535, 536, 537, 544, 548, 551, 553, 554, 555, 556, 561, 563, 564, 569, 570, 574, 576, 577, 578, 579, 581, 583, 588, 591, 592, 594, 595, 597, 600, 602, 603, 604, 606, 607, 609, 616, 619, 621, 624, 625, 630, 631, 636, 637, 638, 639, 643, 644, 648, 649, 650, 656, 657, 661, 663, 665, 668, 671, 673, 679, 683, 684, 685, 687, 688, 689, 690, 691, 692, 694, 697, 699, 703, 711, 714, 715, 720, 724, 725, 726, 727, 728, 730, 733, 735, 736, 738, 740, 742, 749, 752, 755, 759, 760, 766, 767, 770, 773, 774, 776, 782, 789, 792, 794, 797, 800, 802, 803, 806, 807, 808, 810, 813, 814, 815, 818, 823, 828, 830, 833, 835, 838, 842, 844, 846, 853, 855, 856, 857, 862, 864, 865, 866, 867, 868, 870, 873, 875, 880, 883, 884, 888, 898, 899, 900, 902, 904, 909, 912, 918, 921, 923, 924, 928, 929, 930, 931, 932, 935, 939, 940, 943, 946, 948, 954, 955, 957, 963, 965] have too few spikes and amplitude_cutoff is set to NaN\n",
      "  warnings.warn(f\"Units {nan_units} have too few spikes and \" \"amplitude_cutoff is set to NaN\")\n",
      "INFO:root:redundant-units : [140, 222, 489, 694, 833, 962, 962, 888]\n"
     ]
    },
    {
     "name": "stdout",
     "output_type": "stream",
     "text": [
      "143 140\n",
      "222 217\n",
      "489 484\n",
      "694 691\n",
      "833 831\n",
      "962 727\n",
      "962 728\n",
      "965 888\n",
      "Removing redundant items takes 291.034817103995\n",
      "The directory './sorting/block_rec0000/sorting/block_rec0000/waveforms_rec0000/similarity' has been emptied.\n",
      "The directory './sorting/block_rec0000/sorting/block_rec0000/waveforms_rec0000/quality_metrics' has been emptied.\n",
      "The directory './sorting/block_rec0000/sorting/block_rec0000/waveforms_rec0000/waveforms' has been emptied.\n",
      "The directory './sorting/block_rec0000/sorting/block_rec0000/waveforms_rec0000/recording_info' has been emptied.\n",
      "The directory './sorting/block_rec0000/sorting/block_rec0000/waveforms_rec0000/spike_amplitudes' has been emptied.\n",
      "The directory './sorting/block_rec0000/sorting/block_rec0000/waveforms_rec0000/template_metrics' has been emptied.\n",
      "The directory './sorting/block_rec0000/sorting/block_rec0000/waveforms_rec0000' has been emptied.\n",
      "The directory './sorting/block_rec0000/sorting/block_rec0000/kilosort2_rec0000/in_container_sorting/properties' has been emptied.\n",
      "The directory './sorting/block_rec0000/sorting/block_rec0000/kilosort2_rec0000/in_container_sorting' has been emptied.\n"
     ]
    },
    {
     "name": "stderr",
     "output_type": "stream",
     "text": [
      "INFO:root:Processing recording: rec0000\n"
     ]
    },
    {
     "name": "stdout",
     "output_type": "stream",
     "text": [
      "The directory './sorting/block_rec0000/sorting/block_rec0000/kilosort2_rec0000/sorter_output' has been emptied.\n",
      "The directory './sorting/block_rec0000/sorting/block_rec0000/kilosort2_rec0000' has been emptied.\n",
      "The directory './sorting/block_rec0000/sorting/block_rec0000' has been emptied.\n",
      "The directory './sorting/block_rec0000/sorting' has been emptied.\n",
      "The directory './sorting/block_rec0000' has been emptied.\n",
      "The directory './sorting' has been emptied.\n",
      "Sampling frequency: 20000.0\n",
      "Number of channels: 1019\n",
      "Number of segments: 1\n",
      "total_recording: 300.05 s\n",
      "Starting container\n",
      "Installing spikeinterface==0.98.2 in kilosort2-maxwellcomplib:latest\n",
      "Installing extra requirements: ['neo', 'h5py']\n",
      "Running kilosort2 sorter inside kilosort2-maxwellcomplib:latest\n",
      "Stopping container\n"
     ]
    },
    {
     "data": {
      "application/vnd.jupyter.widget-view+json": {
       "model_id": "d033ddfa275d41198e711be3532b90fe",
       "version_major": 2,
       "version_minor": 0
      },
      "text/plain": [
       "extract waveforms memmap:   0%|          | 0/300 [00:00<?, ?it/s]"
      ]
     },
     "metadata": {},
     "output_type": "display_data"
    },
    {
     "data": {
      "application/vnd.jupyter.widget-view+json": {
       "model_id": "c33ee1d869fd4166985d270b7f3ddde4",
       "version_major": 2,
       "version_minor": 0
      },
      "text/plain": [
       "extract amplitudes:   0%|          | 0/300 [00:00<?, ?it/s]"
      ]
     },
     "metadata": {},
     "output_type": "display_data"
    },
    {
     "name": "stderr",
     "output_type": "stream",
     "text": [
      "/home/mmp/.local/lib/python3.10/site-packages/spikeinterface/qualitymetrics/misc_metrics.py:232: RuntimeWarning: divide by zero encountered in scalar divide\n",
      "  snrs[unit_id] = np.abs(amplitude) / noise\n",
      "/home/mmp/.local/lib/python3.10/site-packages/spikeinterface/qualitymetrics/misc_metrics.py:590: UserWarning: Units [1, 8, 10, 15, 16, 17, 18, 19, 25, 29, 30, 31, 37, 41, 43, 44, 46, 48, 53, 59, 60, 62, 64, 66, 71, 74, 75, 80, 87, 89, 90, 92, 93, 94, 95, 102, 103, 104, 105, 110, 111, 114, 116, 121, 123, 124, 129, 131, 133, 134, 135, 137, 140, 142, 143, 147, 151, 153, 154, 155, 157, 161, 163, 164, 170, 174, 176, 177, 178, 179, 181, 182, 183, 187, 191, 192, 193, 194, 195, 197, 199, 200, 201, 204, 205, 206, 207, 211, 212, 214, 215, 216, 223, 224, 227, 228, 232, 233, 234, 240, 246, 247, 249, 251, 255, 259, 260, 261, 262, 264, 265, 266, 267, 270, 273, 276, 284, 288, 291, 295, 296, 300, 304, 306, 308, 309, 315, 321, 322, 324, 327, 328, 332, 333, 334, 335, 338, 342, 345, 350, 353, 355, 356, 358, 359, 361, 363, 364, 366, 368, 369, 371, 372, 373, 375, 378, 383, 387, 388, 390, 391, 394, 396, 398, 403, 404, 405, 407, 420, 421, 428, 429, 430, 432, 433, 439, 441, 442, 445, 446, 448, 449, 450, 451, 453, 455, 456, 457, 458, 460, 462, 465, 466, 469, 473, 476, 477, 478, 485, 489, 490, 493, 497, 498, 499, 502, 504, 508, 511, 512, 514, 515, 517, 520, 522, 529, 530, 532, 534, 543, 547, 548, 553, 555, 556, 557, 561, 562, 565, 569, 578, 581, 590, 594, 596, 600, 603, 607, 609, 611, 612, 617, 618, 620, 621, 625, 626, 627, 628, 634, 641, 642, 645, 646, 647, 653, 656, 659, 663, 664, 666, 668, 672, 673, 678, 682, 684, 686, 688, 693, 696, 699, 701, 710, 713, 716, 717, 719, 724, 731, 733, 734, 736, 737, 738, 743, 744, 750, 752, 753, 755, 756, 757, 760, 764, 765, 766, 769, 770, 775, 777, 781, 782, 783, 787, 792, 795, 796, 800, 803, 805, 807, 810, 812, 815, 816, 821, 823, 824, 826, 830, 834, 836, 837, 839, 841, 844, 849, 853, 855, 857, 859, 862, 875, 882, 883, 885, 886, 889, 890, 892, 893, 896, 900, 903, 911, 912, 913, 914, 916, 919, 920, 921, 925, 926, 928, 930, 932, 933, 940, 942, 944, 945, 946, 949, 950, 953, 956, 959, 962, 966, 967, 968, 980, 982, 985, 988, 989, 991, 994, 995, 1002, 1009, 1016, 1017, 1022, 1023, 1024, 1028, 1031, 1035, 1039] have too few spikes and amplitude_cutoff is set to NaN\n",
      "  warnings.warn(f\"Units {nan_units} have too few spikes and \" \"amplitude_cutoff is set to NaN\")\n",
      "INFO:root:redundant-units : [114, 173, 327, 563, 563, 631, 794, 786, 798, 1044]\n"
     ]
    },
    {
     "name": "stdout",
     "output_type": "stream",
     "text": [
      "134 114\n",
      "173 170\n",
      "330 327\n",
      "566 563\n",
      "567 563\n",
      "637 631\n",
      "794 785\n",
      "794 786\n",
      "798 796\n",
      "1044 1035\n",
      "Removing redundant items takes 292.087547461997\n",
      "The directory './sorting/block_rec0000/sorting/block_rec0000/waveforms_rec0000/similarity' has been emptied.\n",
      "The directory './sorting/block_rec0000/sorting/block_rec0000/waveforms_rec0000/quality_metrics' has been emptied.\n",
      "The directory './sorting/block_rec0000/sorting/block_rec0000/waveforms_rec0000/waveforms' has been emptied.\n",
      "The directory './sorting/block_rec0000/sorting/block_rec0000/waveforms_rec0000/recording_info' has been emptied.\n",
      "The directory './sorting/block_rec0000/sorting/block_rec0000/waveforms_rec0000/spike_amplitudes' has been emptied.\n",
      "The directory './sorting/block_rec0000/sorting/block_rec0000/waveforms_rec0000/template_metrics' has been emptied.\n",
      "The directory './sorting/block_rec0000/sorting/block_rec0000/waveforms_rec0000' has been emptied.\n",
      "The directory './sorting/block_rec0000/sorting/block_rec0000/kilosort2_rec0000/in_container_sorting/properties' has been emptied.\n",
      "The directory './sorting/block_rec0000/sorting/block_rec0000/kilosort2_rec0000/in_container_sorting' has been emptied.\n"
     ]
    },
    {
     "name": "stderr",
     "output_type": "stream",
     "text": [
      "INFO:root:Processing recording: rec0000\n"
     ]
    },
    {
     "name": "stdout",
     "output_type": "stream",
     "text": [
      "The directory './sorting/block_rec0000/sorting/block_rec0000/kilosort2_rec0000/sorter_output' has been emptied.\n",
      "The directory './sorting/block_rec0000/sorting/block_rec0000/kilosort2_rec0000' has been emptied.\n",
      "The directory './sorting/block_rec0000/sorting/block_rec0000' has been emptied.\n",
      "The directory './sorting/block_rec0000/sorting' has been emptied.\n",
      "The directory './sorting/block_rec0000' has been emptied.\n",
      "The directory './sorting' has been emptied.\n",
      "Sampling frequency: 20000.0\n",
      "Number of channels: 1019\n",
      "Number of segments: 1\n",
      "total_recording: 300.05 s\n",
      "Starting container\n",
      "Installing spikeinterface==0.98.2 in kilosort2-maxwellcomplib:latest\n",
      "Installing extra requirements: ['neo', 'h5py']\n",
      "Running kilosort2 sorter inside kilosort2-maxwellcomplib:latest\n",
      "Stopping container\n"
     ]
    },
    {
     "data": {
      "application/vnd.jupyter.widget-view+json": {
       "model_id": "7308e41ed2884e9e9cf303f76b8097ec",
       "version_major": 2,
       "version_minor": 0
      },
      "text/plain": [
       "extract waveforms memmap:   0%|          | 0/300 [00:00<?, ?it/s]"
      ]
     },
     "metadata": {},
     "output_type": "display_data"
    },
    {
     "data": {
      "application/vnd.jupyter.widget-view+json": {
       "model_id": "38cce6692e6c4eefa410db0cc90b40d0",
       "version_major": 2,
       "version_minor": 0
      },
      "text/plain": [
       "extract amplitudes:   0%|          | 0/300 [00:00<?, ?it/s]"
      ]
     },
     "metadata": {},
     "output_type": "display_data"
    },
    {
     "name": "stderr",
     "output_type": "stream",
     "text": [
      "/home/mmp/.local/lib/python3.10/site-packages/spikeinterface/qualitymetrics/misc_metrics.py:232: RuntimeWarning: divide by zero encountered in scalar divide\n",
      "  snrs[unit_id] = np.abs(amplitude) / noise\n",
      "/home/mmp/.local/lib/python3.10/site-packages/spikeinterface/qualitymetrics/misc_metrics.py:965: UserWarning: Amplitude PDF does not have a unique minimum! More spikes might be required for a correct amplitude_cutoff computation!\n",
      "  warnings.warn(\n",
      "/home/mmp/.local/lib/python3.10/site-packages/spikeinterface/qualitymetrics/misc_metrics.py:590: UserWarning: Units [0, 3, 7, 11, 12, 13, 19, 20, 21, 26, 27, 29, 31, 34, 38, 39, 47, 49, 54, 59, 60, 62, 66, 71, 73, 74, 75, 83, 93, 101, 105, 115, 117, 118, 119, 120, 124, 129, 132, 135, 138, 144, 145, 146, 148, 149, 152, 154, 155, 156, 157, 159, 163, 165, 168, 172, 173, 182, 188, 192, 198, 203, 204, 205, 208, 209, 214, 221, 224, 225, 231, 238, 245, 247, 251, 252, 254, 255, 256, 257, 259, 265, 269, 270, 271, 274, 276, 277, 284, 287, 289, 293, 310, 312, 318, 319, 323, 332, 340, 344, 346, 348, 349, 350, 352, 358, 359, 360, 361, 364] have too few spikes and amplitude_cutoff is set to NaN\n",
      "  warnings.warn(f\"Units {nan_units} have too few spikes and \" \"amplitude_cutoff is set to NaN\")\n",
      "INFO:root:redundant-units : [115, 315]\n"
     ]
    },
    {
     "name": "stdout",
     "output_type": "stream",
     "text": [
      "115 112\n",
      "365 315\n",
      "Removing redundant items takes 289.5926492919971\n",
      "The directory './sorting/block_rec0000/sorting/block_rec0000/waveforms_rec0000/similarity' has been emptied.\n",
      "The directory './sorting/block_rec0000/sorting/block_rec0000/waveforms_rec0000/quality_metrics' has been emptied.\n",
      "The directory './sorting/block_rec0000/sorting/block_rec0000/waveforms_rec0000/waveforms' has been emptied.\n",
      "The directory './sorting/block_rec0000/sorting/block_rec0000/waveforms_rec0000/recording_info' has been emptied.\n",
      "The directory './sorting/block_rec0000/sorting/block_rec0000/waveforms_rec0000/spike_amplitudes' has been emptied.\n",
      "The directory './sorting/block_rec0000/sorting/block_rec0000/waveforms_rec0000/template_metrics' has been emptied.\n",
      "The directory './sorting/block_rec0000/sorting/block_rec0000/waveforms_rec0000' has been emptied.\n",
      "The directory './sorting/block_rec0000/sorting/block_rec0000/kilosort2_rec0000/in_container_sorting/properties' has been emptied.\n",
      "The directory './sorting/block_rec0000/sorting/block_rec0000/kilosort2_rec0000/in_container_sorting' has been emptied.\n"
     ]
    },
    {
     "name": "stderr",
     "output_type": "stream",
     "text": [
      "INFO:root:Processing recording: rec0000\n"
     ]
    },
    {
     "name": "stdout",
     "output_type": "stream",
     "text": [
      "The directory './sorting/block_rec0000/sorting/block_rec0000/kilosort2_rec0000/sorter_output' has been emptied.\n",
      "The directory './sorting/block_rec0000/sorting/block_rec0000/kilosort2_rec0000' has been emptied.\n",
      "The directory './sorting/block_rec0000/sorting/block_rec0000' has been emptied.\n",
      "The directory './sorting/block_rec0000/sorting' has been emptied.\n",
      "The directory './sorting/block_rec0000' has been emptied.\n",
      "The directory './sorting' has been emptied.\n",
      "Sampling frequency: 20000.0\n",
      "Number of channels: 1020\n",
      "Number of segments: 1\n",
      "total_recording: 300.07 s\n",
      "Starting container\n",
      "Installing spikeinterface==0.98.2 in kilosort2-maxwellcomplib:latest\n",
      "Installing extra requirements: ['neo', 'h5py']\n",
      "Running kilosort2 sorter inside kilosort2-maxwellcomplib:latest\n",
      "Stopping container\n"
     ]
    },
    {
     "data": {
      "application/vnd.jupyter.widget-view+json": {
       "model_id": "66e5954bfca54c6c90ef4df618457cef",
       "version_major": 2,
       "version_minor": 0
      },
      "text/plain": [
       "extract waveforms memmap:   0%|          | 0/300 [00:00<?, ?it/s]"
      ]
     },
     "metadata": {},
     "output_type": "display_data"
    },
    {
     "data": {
      "application/vnd.jupyter.widget-view+json": {
       "model_id": "517b6aa5051e42488627496ac181b397",
       "version_major": 2,
       "version_minor": 0
      },
      "text/plain": [
       "extract amplitudes:   0%|          | 0/300 [00:00<?, ?it/s]"
      ]
     },
     "metadata": {},
     "output_type": "display_data"
    },
    {
     "name": "stderr",
     "output_type": "stream",
     "text": [
      "/home/mmp/.local/lib/python3.10/site-packages/spikeinterface/qualitymetrics/misc_metrics.py:232: RuntimeWarning: divide by zero encountered in scalar divide\n",
      "  snrs[unit_id] = np.abs(amplitude) / noise\n",
      "/home/mmp/.local/lib/python3.10/site-packages/spikeinterface/qualitymetrics/misc_metrics.py:965: UserWarning: Amplitude PDF does not have a unique minimum! More spikes might be required for a correct amplitude_cutoff computation!\n",
      "  warnings.warn(\n",
      "/home/mmp/.local/lib/python3.10/site-packages/spikeinterface/qualitymetrics/misc_metrics.py:590: UserWarning: Units [13, 31, 35, 37, 40, 47, 48, 73, 79, 82, 96, 106, 137, 140, 150, 151, 152, 160, 164, 165, 173, 197, 203, 208, 211, 217, 231, 236, 237] have too few spikes and amplitude_cutoff is set to NaN\n",
      "  warnings.warn(f\"Units {nan_units} have too few spikes and \" \"amplitude_cutoff is set to NaN\")\n",
      "INFO:root:redundant-units : [201]\n"
     ]
    },
    {
     "name": "stdout",
     "output_type": "stream",
     "text": [
      "201 197\n",
      "Removing redundant items takes 291.85531375100254\n",
      "The directory './sorting/block_rec0000/sorting/block_rec0000/waveforms_rec0000/similarity' has been emptied.\n",
      "The directory './sorting/block_rec0000/sorting/block_rec0000/waveforms_rec0000/quality_metrics' has been emptied.\n",
      "The directory './sorting/block_rec0000/sorting/block_rec0000/waveforms_rec0000/waveforms' has been emptied.\n",
      "The directory './sorting/block_rec0000/sorting/block_rec0000/waveforms_rec0000/recording_info' has been emptied.\n",
      "The directory './sorting/block_rec0000/sorting/block_rec0000/waveforms_rec0000/spike_amplitudes' has been emptied.\n",
      "The directory './sorting/block_rec0000/sorting/block_rec0000/waveforms_rec0000/template_metrics' has been emptied.\n",
      "The directory './sorting/block_rec0000/sorting/block_rec0000/waveforms_rec0000' has been emptied.\n",
      "The directory './sorting/block_rec0000/sorting/block_rec0000/kilosort2_rec0000/in_container_sorting/properties' has been emptied.\n",
      "The directory './sorting/block_rec0000/sorting/block_rec0000/kilosort2_rec0000/in_container_sorting' has been emptied.\n"
     ]
    },
    {
     "name": "stderr",
     "output_type": "stream",
     "text": [
      "INFO:root:Processing recording: rec0000\n"
     ]
    },
    {
     "name": "stdout",
     "output_type": "stream",
     "text": [
      "The directory './sorting/block_rec0000/sorting/block_rec0000/kilosort2_rec0000/sorter_output' has been emptied.\n",
      "The directory './sorting/block_rec0000/sorting/block_rec0000/kilosort2_rec0000' has been emptied.\n",
      "The directory './sorting/block_rec0000/sorting/block_rec0000' has been emptied.\n",
      "The directory './sorting/block_rec0000/sorting' has been emptied.\n",
      "The directory './sorting/block_rec0000' has been emptied.\n",
      "The directory './sorting' has been emptied.\n",
      "Sampling frequency: 20000.0\n",
      "Number of channels: 387\n",
      "Number of segments: 1\n",
      "total_recording: 300.07 s\n",
      "Starting container\n",
      "Installing spikeinterface==0.98.2 in kilosort2-maxwellcomplib:latest\n",
      "Installing extra requirements: ['neo', 'h5py']\n",
      "Running kilosort2 sorter inside kilosort2-maxwellcomplib:latest\n",
      "Stopping container\n"
     ]
    },
    {
     "data": {
      "application/vnd.jupyter.widget-view+json": {
       "model_id": "8aecf8fe66174f9db610d9a848dcc2c8",
       "version_major": 2,
       "version_minor": 0
      },
      "text/plain": [
       "extract waveforms memmap:   0%|          | 0/300 [00:00<?, ?it/s]"
      ]
     },
     "metadata": {},
     "output_type": "display_data"
    },
    {
     "data": {
      "application/vnd.jupyter.widget-view+json": {
       "model_id": "44a7512fab69401c844aa80993388382",
       "version_major": 2,
       "version_minor": 0
      },
      "text/plain": [
       "extract amplitudes:   0%|          | 0/300 [00:00<?, ?it/s]"
      ]
     },
     "metadata": {},
     "output_type": "display_data"
    },
    {
     "name": "stderr",
     "output_type": "stream",
     "text": [
      "/home/mmp/.local/lib/python3.10/site-packages/spikeinterface/qualitymetrics/misc_metrics.py:232: RuntimeWarning: divide by zero encountered in scalar divide\n",
      "  snrs[unit_id] = np.abs(amplitude) / noise\n",
      "/home/mmp/.local/lib/python3.10/site-packages/spikeinterface/qualitymetrics/misc_metrics.py:590: UserWarning: Units [0, 2, 3, 4, 8, 12, 14, 16, 20, 21, 22, 24, 28, 29, 30, 38, 40, 43, 45, 46, 49, 50, 51, 52, 55, 57, 63, 66, 70, 72, 74, 76, 77, 80, 81, 90, 91, 92, 93, 94, 96, 99, 104, 108] have too few spikes and amplitude_cutoff is set to NaN\n",
      "  warnings.warn(f\"Units {nan_units} have too few spikes and \" \"amplitude_cutoff is set to NaN\")\n",
      "INFO:root:redundant-units : [80]\n"
     ]
    },
    {
     "name": "stdout",
     "output_type": "stream",
     "text": [
      "108 80\n",
      "Removing redundant items takes 98.80948532000184\n",
      "The directory './sorting/block_rec0000/sorting/block_rec0000/waveforms_rec0000/similarity' has been emptied.\n",
      "The directory './sorting/block_rec0000/sorting/block_rec0000/waveforms_rec0000/quality_metrics' has been emptied.\n",
      "The directory './sorting/block_rec0000/sorting/block_rec0000/waveforms_rec0000/waveforms' has been emptied.\n",
      "The directory './sorting/block_rec0000/sorting/block_rec0000/waveforms_rec0000/recording_info' has been emptied.\n",
      "The directory './sorting/block_rec0000/sorting/block_rec0000/waveforms_rec0000/spike_amplitudes' has been emptied.\n",
      "The directory './sorting/block_rec0000/sorting/block_rec0000/waveforms_rec0000/template_metrics' has been emptied.\n",
      "The directory './sorting/block_rec0000/sorting/block_rec0000/waveforms_rec0000' has been emptied.\n",
      "The directory './sorting/block_rec0000/sorting/block_rec0000/kilosort2_rec0000/in_container_sorting/properties' has been emptied.\n",
      "The directory './sorting/block_rec0000/sorting/block_rec0000/kilosort2_rec0000/in_container_sorting' has been emptied.\n"
     ]
    },
    {
     "name": "stderr",
     "output_type": "stream",
     "text": [
      "INFO:root:Processing recording: rec0000\n"
     ]
    },
    {
     "name": "stdout",
     "output_type": "stream",
     "text": [
      "The directory './sorting/block_rec0000/sorting/block_rec0000/kilosort2_rec0000/sorter_output' has been emptied.\n",
      "The directory './sorting/block_rec0000/sorting/block_rec0000/kilosort2_rec0000' has been emptied.\n",
      "The directory './sorting/block_rec0000/sorting/block_rec0000' has been emptied.\n",
      "The directory './sorting/block_rec0000/sorting' has been emptied.\n",
      "The directory './sorting/block_rec0000' has been emptied.\n",
      "The directory './sorting' has been emptied.\n",
      "Sampling frequency: 20000.0\n",
      "Number of channels: 1017\n",
      "Number of segments: 1\n",
      "total_recording: 300.05 s\n",
      "Starting container\n",
      "Installing spikeinterface==0.98.2 in kilosort2-maxwellcomplib:latest\n",
      "Installing extra requirements: ['neo', 'h5py']\n",
      "Running kilosort2 sorter inside kilosort2-maxwellcomplib:latest\n",
      "Stopping container\n"
     ]
    },
    {
     "data": {
      "application/vnd.jupyter.widget-view+json": {
       "model_id": "dcab0013cea744ada2ee54fc70afdef4",
       "version_major": 2,
       "version_minor": 0
      },
      "text/plain": [
       "extract waveforms memmap:   0%|          | 0/300 [00:00<?, ?it/s]"
      ]
     },
     "metadata": {},
     "output_type": "display_data"
    },
    {
     "data": {
      "application/vnd.jupyter.widget-view+json": {
       "model_id": "d00ffb4053074679959b6c28f9e077fc",
       "version_major": 2,
       "version_minor": 0
      },
      "text/plain": [
       "extract amplitudes:   0%|          | 0/300 [00:00<?, ?it/s]"
      ]
     },
     "metadata": {},
     "output_type": "display_data"
    },
    {
     "name": "stderr",
     "output_type": "stream",
     "text": [
      "/home/mmp/.local/lib/python3.10/site-packages/spikeinterface/qualitymetrics/misc_metrics.py:232: RuntimeWarning: divide by zero encountered in scalar divide\n",
      "  snrs[unit_id] = np.abs(amplitude) / noise\n",
      "/home/mmp/.local/lib/python3.10/site-packages/spikeinterface/qualitymetrics/misc_metrics.py:590: UserWarning: Units [2, 3, 5, 8, 12, 25, 26, 27, 28, 30, 31, 32, 34, 36, 39, 45, 47, 51, 52, 54, 56, 57, 58, 63, 66, 68, 69, 70, 80, 87, 88, 89, 90, 92, 94, 101, 102, 104, 110, 111, 113, 114, 116, 118, 121, 124, 127, 128, 130, 137, 138] have too few spikes and amplitude_cutoff is set to NaN\n",
      "  warnings.warn(f\"Units {nan_units} have too few spikes and \" \"amplitude_cutoff is set to NaN\")\n",
      "INFO:root:redundant-units : [43]\n"
     ]
    },
    {
     "name": "stdout",
     "output_type": "stream",
     "text": [
      "118 43\n",
      "Removing redundant items takes 284.47649323099176\n",
      "The directory './sorting/block_rec0000/sorting/block_rec0000/waveforms_rec0000/similarity' has been emptied.\n",
      "The directory './sorting/block_rec0000/sorting/block_rec0000/waveforms_rec0000/quality_metrics' has been emptied.\n",
      "The directory './sorting/block_rec0000/sorting/block_rec0000/waveforms_rec0000/waveforms' has been emptied.\n",
      "The directory './sorting/block_rec0000/sorting/block_rec0000/waveforms_rec0000/recording_info' has been emptied.\n",
      "The directory './sorting/block_rec0000/sorting/block_rec0000/waveforms_rec0000/spike_amplitudes' has been emptied.\n",
      "The directory './sorting/block_rec0000/sorting/block_rec0000/waveforms_rec0000/template_metrics' has been emptied.\n",
      "The directory './sorting/block_rec0000/sorting/block_rec0000/waveforms_rec0000' has been emptied.\n",
      "The directory './sorting/block_rec0000/sorting/block_rec0000/kilosort2_rec0000/in_container_sorting/properties' has been emptied.\n",
      "The directory './sorting/block_rec0000/sorting/block_rec0000/kilosort2_rec0000/in_container_sorting' has been emptied.\n"
     ]
    },
    {
     "name": "stderr",
     "output_type": "stream",
     "text": [
      "INFO:root:Processing recording: rec0000\n"
     ]
    },
    {
     "name": "stdout",
     "output_type": "stream",
     "text": [
      "The directory './sorting/block_rec0000/sorting/block_rec0000/kilosort2_rec0000/sorter_output' has been emptied.\n",
      "The directory './sorting/block_rec0000/sorting/block_rec0000/kilosort2_rec0000' has been emptied.\n",
      "The directory './sorting/block_rec0000/sorting/block_rec0000' has been emptied.\n",
      "The directory './sorting/block_rec0000/sorting' has been emptied.\n",
      "The directory './sorting/block_rec0000' has been emptied.\n",
      "The directory './sorting' has been emptied.\n",
      "Sampling frequency: 20000.0\n",
      "Number of channels: 1020\n",
      "Number of segments: 1\n",
      "total_recording: 300.08 s\n",
      "Starting container\n",
      "Installing spikeinterface==0.98.2 in kilosort2-maxwellcomplib:latest\n",
      "Installing extra requirements: ['neo', 'h5py']\n",
      "Running kilosort2 sorter inside kilosort2-maxwellcomplib:latest\n",
      "Stopping container\n"
     ]
    },
    {
     "data": {
      "application/vnd.jupyter.widget-view+json": {
       "model_id": "eab3b62fe47a459198637bfeb8674195",
       "version_major": 2,
       "version_minor": 0
      },
      "text/plain": [
       "extract waveforms memmap:   0%|          | 0/300 [00:00<?, ?it/s]"
      ]
     },
     "metadata": {},
     "output_type": "display_data"
    },
    {
     "data": {
      "application/vnd.jupyter.widget-view+json": {
       "model_id": "d76faf5e0e6c49958694b5a094578954",
       "version_major": 2,
       "version_minor": 0
      },
      "text/plain": [
       "extract amplitudes:   0%|          | 0/300 [00:00<?, ?it/s]"
      ]
     },
     "metadata": {},
     "output_type": "display_data"
    },
    {
     "name": "stderr",
     "output_type": "stream",
     "text": [
      "/home/mmp/.local/lib/python3.10/site-packages/spikeinterface/qualitymetrics/misc_metrics.py:232: RuntimeWarning: divide by zero encountered in scalar divide\n",
      "  snrs[unit_id] = np.abs(amplitude) / noise\n",
      "/home/mmp/.local/lib/python3.10/site-packages/spikeinterface/qualitymetrics/misc_metrics.py:590: UserWarning: Units [1, 2, 4, 6, 7, 9, 11, 13, 14, 16, 25, 29, 36, 37, 38, 39, 48, 50, 52, 56, 66, 67, 71, 72, 81, 87, 90, 91, 93, 94, 97, 100, 101, 108, 109, 113, 124, 128, 130, 132, 135, 136, 139, 141, 146, 150, 154, 157, 158, 161, 171, 172, 173, 174, 176, 178, 183, 188, 189, 190, 191, 193, 195, 196, 197, 199, 200, 204, 205, 206, 207, 210, 213, 221, 224, 226, 230, 231, 237, 239, 240, 242, 243, 245, 247, 250, 257, 263, 264, 265, 272, 275, 276, 282, 283, 284, 290, 293, 297, 299, 301, 302, 314, 318, 322, 327, 332] have too few spikes and amplitude_cutoff is set to NaN\n",
      "  warnings.warn(f\"Units {nan_units} have too few spikes and \" \"amplitude_cutoff is set to NaN\")\n",
      "INFO:root:redundant-units : [38, 224, 333]\n"
     ]
    },
    {
     "name": "stdout",
     "output_type": "stream",
     "text": [
      "38 33\n",
      "224 217\n",
      "333 218\n",
      "Removing redundant items takes 291.4140328990179\n",
      "The directory './sorting/block_rec0000/sorting/block_rec0000/waveforms_rec0000/similarity' has been emptied.\n",
      "The directory './sorting/block_rec0000/sorting/block_rec0000/waveforms_rec0000/quality_metrics' has been emptied.\n",
      "The directory './sorting/block_rec0000/sorting/block_rec0000/waveforms_rec0000/waveforms' has been emptied.\n",
      "The directory './sorting/block_rec0000/sorting/block_rec0000/waveforms_rec0000/recording_info' has been emptied.\n",
      "The directory './sorting/block_rec0000/sorting/block_rec0000/waveforms_rec0000/spike_amplitudes' has been emptied.\n",
      "The directory './sorting/block_rec0000/sorting/block_rec0000/waveforms_rec0000/template_metrics' has been emptied.\n",
      "The directory './sorting/block_rec0000/sorting/block_rec0000/waveforms_rec0000' has been emptied.\n",
      "The directory './sorting/block_rec0000/sorting/block_rec0000/kilosort2_rec0000/in_container_sorting/properties' has been emptied.\n",
      "The directory './sorting/block_rec0000/sorting/block_rec0000/kilosort2_rec0000/in_container_sorting' has been emptied.\n"
     ]
    },
    {
     "name": "stderr",
     "output_type": "stream",
     "text": [
      "INFO:root:Processing recording: rec0000\n"
     ]
    },
    {
     "name": "stdout",
     "output_type": "stream",
     "text": [
      "The directory './sorting/block_rec0000/sorting/block_rec0000/kilosort2_rec0000/sorter_output' has been emptied.\n",
      "The directory './sorting/block_rec0000/sorting/block_rec0000/kilosort2_rec0000' has been emptied.\n",
      "The directory './sorting/block_rec0000/sorting/block_rec0000' has been emptied.\n",
      "The directory './sorting/block_rec0000/sorting' has been emptied.\n",
      "The directory './sorting/block_rec0000' has been emptied.\n",
      "The directory './sorting' has been emptied.\n",
      "Sampling frequency: 20000.0\n",
      "Number of channels: 1020\n",
      "Number of segments: 1\n",
      "total_recording: 300.05 s\n",
      "Starting container\n",
      "Installing spikeinterface==0.98.2 in kilosort2-maxwellcomplib:latest\n",
      "Installing extra requirements: ['neo', 'h5py']\n",
      "Running kilosort2 sorter inside kilosort2-maxwellcomplib:latest\n",
      "Stopping container\n"
     ]
    },
    {
     "data": {
      "application/vnd.jupyter.widget-view+json": {
       "model_id": "7d92fbc7040e4e3f929928c6c96e43c3",
       "version_major": 2,
       "version_minor": 0
      },
      "text/plain": [
       "extract waveforms memmap:   0%|          | 0/300 [00:00<?, ?it/s]"
      ]
     },
     "metadata": {},
     "output_type": "display_data"
    },
    {
     "data": {
      "application/vnd.jupyter.widget-view+json": {
       "model_id": "6de7a11e8f7d491db15dcb8f9b12eec9",
       "version_major": 2,
       "version_minor": 0
      },
      "text/plain": [
       "extract amplitudes:   0%|          | 0/300 [00:00<?, ?it/s]"
      ]
     },
     "metadata": {},
     "output_type": "display_data"
    },
    {
     "name": "stderr",
     "output_type": "stream",
     "text": [
      "/home/mmp/.local/lib/python3.10/site-packages/spikeinterface/qualitymetrics/misc_metrics.py:232: RuntimeWarning: divide by zero encountered in scalar divide\n",
      "  snrs[unit_id] = np.abs(amplitude) / noise\n",
      "/home/mmp/.local/lib/python3.10/site-packages/spikeinterface/qualitymetrics/misc_metrics.py:590: UserWarning: Units [4, 9, 15, 16, 17, 24, 28, 29, 30, 34, 35, 37, 40, 42, 47, 48, 49, 51, 52, 54, 60, 62, 68, 78, 81, 84, 89, 91, 93, 94, 101, 104, 106, 107, 115, 120, 123, 124, 127, 129, 130, 136, 138, 139, 142, 143, 146, 154, 157, 175, 188, 190, 200, 202, 205, 207, 208, 209, 223, 225, 232, 233, 236, 239, 242, 243, 245, 246, 249, 255, 262, 270, 274, 276, 279, 282, 283, 285, 287, 293, 306, 308, 311, 316, 318] have too few spikes and amplitude_cutoff is set to NaN\n",
      "  warnings.warn(f\"Units {nan_units} have too few spikes and \" \"amplitude_cutoff is set to NaN\")\n",
      "INFO:root:redundant-units : [139, 320]\n"
     ]
    },
    {
     "name": "stdout",
     "output_type": "stream",
     "text": [
      "139 97\n",
      "320 216\n",
      "Removing redundant items takes 288.146346730995\n",
      "The directory './sorting/block_rec0000/sorting/block_rec0000/waveforms_rec0000/similarity' has been emptied.\n",
      "The directory './sorting/block_rec0000/sorting/block_rec0000/waveforms_rec0000/quality_metrics' has been emptied.\n",
      "The directory './sorting/block_rec0000/sorting/block_rec0000/waveforms_rec0000/waveforms' has been emptied.\n",
      "The directory './sorting/block_rec0000/sorting/block_rec0000/waveforms_rec0000/recording_info' has been emptied.\n",
      "The directory './sorting/block_rec0000/sorting/block_rec0000/waveforms_rec0000/spike_amplitudes' has been emptied.\n",
      "The directory './sorting/block_rec0000/sorting/block_rec0000/waveforms_rec0000/template_metrics' has been emptied.\n",
      "The directory './sorting/block_rec0000/sorting/block_rec0000/waveforms_rec0000' has been emptied.\n",
      "The directory './sorting/block_rec0000/sorting/block_rec0000/kilosort2_rec0000/in_container_sorting/properties' has been emptied.\n",
      "The directory './sorting/block_rec0000/sorting/block_rec0000/kilosort2_rec0000/in_container_sorting' has been emptied.\n"
     ]
    },
    {
     "name": "stderr",
     "output_type": "stream",
     "text": [
      "INFO:root:Processing recording: rec0000\n"
     ]
    },
    {
     "name": "stdout",
     "output_type": "stream",
     "text": [
      "The directory './sorting/block_rec0000/sorting/block_rec0000/kilosort2_rec0000/sorter_output' has been emptied.\n",
      "The directory './sorting/block_rec0000/sorting/block_rec0000/kilosort2_rec0000' has been emptied.\n",
      "The directory './sorting/block_rec0000/sorting/block_rec0000' has been emptied.\n",
      "The directory './sorting/block_rec0000/sorting' has been emptied.\n",
      "The directory './sorting/block_rec0000' has been emptied.\n",
      "The directory './sorting' has been emptied.\n",
      "Sampling frequency: 20000.0\n",
      "Number of channels: 1019\n",
      "Number of segments: 1\n",
      "total_recording: 300.03 s\n",
      "Starting container\n",
      "Installing spikeinterface==0.98.2 in kilosort2-maxwellcomplib:latest\n",
      "Installing extra requirements: ['neo', 'h5py']\n",
      "Running kilosort2 sorter inside kilosort2-maxwellcomplib:latest\n",
      "Stopping container\n"
     ]
    },
    {
     "data": {
      "application/vnd.jupyter.widget-view+json": {
       "model_id": "f9ebd93f2fec4b97b7f3c3189f2f5dc9",
       "version_major": 2,
       "version_minor": 0
      },
      "text/plain": [
       "extract waveforms memmap:   0%|          | 0/300 [00:00<?, ?it/s]"
      ]
     },
     "metadata": {},
     "output_type": "display_data"
    },
    {
     "data": {
      "application/vnd.jupyter.widget-view+json": {
       "model_id": "ff0cd09088974644962c2a150ea91785",
       "version_major": 2,
       "version_minor": 0
      },
      "text/plain": [
       "extract amplitudes:   0%|          | 0/300 [00:00<?, ?it/s]"
      ]
     },
     "metadata": {},
     "output_type": "display_data"
    },
    {
     "name": "stderr",
     "output_type": "stream",
     "text": [
      "/home/mmp/.local/lib/python3.10/site-packages/spikeinterface/qualitymetrics/misc_metrics.py:232: RuntimeWarning: divide by zero encountered in scalar divide\n",
      "  snrs[unit_id] = np.abs(amplitude) / noise\n",
      "/home/mmp/.local/lib/python3.10/site-packages/spikeinterface/qualitymetrics/misc_metrics.py:590: UserWarning: Units [2, 3, 6, 13, 15, 17, 24, 25, 26, 27, 33, 44, 50, 51, 52, 53, 54, 56, 57, 63, 67, 69, 72, 73, 84, 89, 94, 95, 97, 99, 101, 104, 117, 123, 124, 125, 126, 146, 151, 156, 166, 168, 170, 176, 183, 184, 186, 187, 194, 197, 199, 200, 201, 206, 222, 237, 238, 242, 244, 249, 259, 264, 269, 280, 282, 283, 284, 285, 296, 300, 303, 306, 307, 308, 317, 321, 323, 324, 327, 330, 332, 350, 353, 355, 356, 359, 372, 378, 386, 387, 391, 396, 398, 407, 415, 424, 425, 433, 438, 440, 441, 448, 454, 458, 462, 471] have too few spikes and amplitude_cutoff is set to NaN\n",
      "  warnings.warn(f\"Units {nan_units} have too few spikes and \" \"amplitude_cutoff is set to NaN\")\n",
      "INFO:root:redundant-units : [94, 472, 473]\n"
     ]
    },
    {
     "name": "stdout",
     "output_type": "stream",
     "text": [
      "97 94\n",
      "472 60\n",
      "473 263\n",
      "Removing redundant items takes 288.3985031489865\n",
      "The directory './sorting/block_rec0000/sorting/block_rec0000/waveforms_rec0000/similarity' has been emptied.\n",
      "The directory './sorting/block_rec0000/sorting/block_rec0000/waveforms_rec0000/quality_metrics' has been emptied.\n",
      "The directory './sorting/block_rec0000/sorting/block_rec0000/waveforms_rec0000/waveforms' has been emptied.\n",
      "The directory './sorting/block_rec0000/sorting/block_rec0000/waveforms_rec0000/recording_info' has been emptied.\n",
      "The directory './sorting/block_rec0000/sorting/block_rec0000/waveforms_rec0000/spike_amplitudes' has been emptied.\n",
      "The directory './sorting/block_rec0000/sorting/block_rec0000/waveforms_rec0000/template_metrics' has been emptied.\n",
      "The directory './sorting/block_rec0000/sorting/block_rec0000/waveforms_rec0000' has been emptied.\n",
      "The directory './sorting/block_rec0000/sorting/block_rec0000/kilosort2_rec0000/in_container_sorting/properties' has been emptied.\n",
      "The directory './sorting/block_rec0000/sorting/block_rec0000/kilosort2_rec0000/in_container_sorting' has been emptied.\n"
     ]
    },
    {
     "name": "stderr",
     "output_type": "stream",
     "text": [
      "INFO:root:Processing recording: rec0000\n"
     ]
    },
    {
     "name": "stdout",
     "output_type": "stream",
     "text": [
      "The directory './sorting/block_rec0000/sorting/block_rec0000/kilosort2_rec0000/sorter_output' has been emptied.\n",
      "The directory './sorting/block_rec0000/sorting/block_rec0000/kilosort2_rec0000' has been emptied.\n",
      "The directory './sorting/block_rec0000/sorting/block_rec0000' has been emptied.\n",
      "The directory './sorting/block_rec0000/sorting' has been emptied.\n",
      "The directory './sorting/block_rec0000' has been emptied.\n",
      "The directory './sorting' has been emptied.\n",
      "Sampling frequency: 20000.0\n",
      "Number of channels: 1020\n",
      "Number of segments: 1\n",
      "total_recording: 300.03 s\n",
      "Starting container\n",
      "Installing spikeinterface==0.98.2 in kilosort2-maxwellcomplib:latest\n",
      "Installing extra requirements: ['neo', 'h5py']\n",
      "Running kilosort2 sorter inside kilosort2-maxwellcomplib:latest\n",
      "Stopping container\n"
     ]
    },
    {
     "data": {
      "application/vnd.jupyter.widget-view+json": {
       "model_id": "89d5b4828a584de3bc72908a3d8e91a3",
       "version_major": 2,
       "version_minor": 0
      },
      "text/plain": [
       "extract waveforms memmap:   0%|          | 0/300 [00:00<?, ?it/s]"
      ]
     },
     "metadata": {},
     "output_type": "display_data"
    },
    {
     "data": {
      "application/vnd.jupyter.widget-view+json": {
       "model_id": "4eb488e881f84435ac3f7a19efc009c9",
       "version_major": 2,
       "version_minor": 0
      },
      "text/plain": [
       "extract amplitudes:   0%|          | 0/300 [00:00<?, ?it/s]"
      ]
     },
     "metadata": {},
     "output_type": "display_data"
    },
    {
     "name": "stderr",
     "output_type": "stream",
     "text": [
      "/home/mmp/.local/lib/python3.10/site-packages/spikeinterface/qualitymetrics/misc_metrics.py:232: RuntimeWarning: divide by zero encountered in scalar divide\n",
      "  snrs[unit_id] = np.abs(amplitude) / noise\n",
      "/home/mmp/.local/lib/python3.10/site-packages/spikeinterface/qualitymetrics/misc_metrics.py:965: UserWarning: Amplitude PDF does not have a unique minimum! More spikes might be required for a correct amplitude_cutoff computation!\n",
      "  warnings.warn(\n",
      "/home/mmp/.local/lib/python3.10/site-packages/spikeinterface/qualitymetrics/misc_metrics.py:590: UserWarning: Units [0, 1, 2, 3, 4, 8, 14, 19, 20, 25, 29, 30, 31, 32, 36, 37, 39, 40, 41, 42, 43, 56, 57, 61, 71, 75, 77, 82, 83, 84, 86, 89, 92, 95, 96, 102, 110, 111, 114, 118, 130, 133, 136, 138, 139, 140, 142, 150, 152, 153, 155, 157, 160, 163, 165, 176, 177, 179, 180, 181, 184, 190, 191, 195, 196, 206, 208, 212, 215, 232, 234, 235, 239, 248, 254, 257, 261, 262, 268, 275, 281, 284, 286, 293, 295, 302, 308, 314, 318, 319, 328, 330, 331, 333, 336, 339, 345, 357, 363, 368, 371, 375, 379, 381, 382, 387, 391, 393, 394, 395, 404, 409, 410, 411, 413, 416, 419, 430, 447, 455, 457, 459, 463, 464, 471, 472, 473, 474, 482, 485, 487, 497, 500, 504, 507, 510, 519, 520, 522, 524, 525, 526, 530, 535, 539, 548, 549, 555, 556, 557, 563, 564, 565, 569, 576, 583, 587, 588, 592, 600, 601, 607, 610, 613] have too few spikes and amplitude_cutoff is set to NaN\n",
      "  warnings.warn(f\"Units {nan_units} have too few spikes and \" \"amplitude_cutoff is set to NaN\")\n",
      "INFO:root:redundant-units : [74, 460]\n"
     ]
    },
    {
     "name": "stdout",
     "output_type": "stream",
     "text": [
      "74 68\n",
      "465 460\n",
      "Removing redundant items takes 291.1196477919875\n",
      "The directory './sorting/block_rec0000/sorting/block_rec0000/waveforms_rec0000/similarity' has been emptied.\n",
      "The directory './sorting/block_rec0000/sorting/block_rec0000/waveforms_rec0000/quality_metrics' has been emptied.\n",
      "The directory './sorting/block_rec0000/sorting/block_rec0000/waveforms_rec0000/waveforms' has been emptied.\n",
      "The directory './sorting/block_rec0000/sorting/block_rec0000/waveforms_rec0000/recording_info' has been emptied.\n",
      "The directory './sorting/block_rec0000/sorting/block_rec0000/waveforms_rec0000/spike_amplitudes' has been emptied.\n",
      "The directory './sorting/block_rec0000/sorting/block_rec0000/waveforms_rec0000/template_metrics' has been emptied.\n",
      "The directory './sorting/block_rec0000/sorting/block_rec0000/waveforms_rec0000' has been emptied.\n",
      "The directory './sorting/block_rec0000/sorting/block_rec0000/kilosort2_rec0000/in_container_sorting/properties' has been emptied.\n",
      "The directory './sorting/block_rec0000/sorting/block_rec0000/kilosort2_rec0000/in_container_sorting' has been emptied.\n"
     ]
    },
    {
     "name": "stderr",
     "output_type": "stream",
     "text": [
      "INFO:root:Processing recording: rec0000\n"
     ]
    },
    {
     "name": "stdout",
     "output_type": "stream",
     "text": [
      "The directory './sorting/block_rec0000/sorting/block_rec0000/kilosort2_rec0000/sorter_output' has been emptied.\n",
      "The directory './sorting/block_rec0000/sorting/block_rec0000/kilosort2_rec0000' has been emptied.\n",
      "The directory './sorting/block_rec0000/sorting/block_rec0000' has been emptied.\n",
      "The directory './sorting/block_rec0000/sorting' has been emptied.\n",
      "The directory './sorting/block_rec0000' has been emptied.\n",
      "The directory './sorting' has been emptied.\n",
      "Sampling frequency: 20000.0\n",
      "Number of channels: 1018\n",
      "Number of segments: 1\n",
      "total_recording: 300.07 s\n",
      "Starting container\n",
      "Installing spikeinterface==0.98.2 in kilosort2-maxwellcomplib:latest\n",
      "Installing extra requirements: ['neo', 'h5py']\n",
      "Running kilosort2 sorter inside kilosort2-maxwellcomplib:latest\n",
      "Stopping container\n"
     ]
    },
    {
     "data": {
      "application/vnd.jupyter.widget-view+json": {
       "model_id": "795a2b9638044ba3af6976dca69733ed",
       "version_major": 2,
       "version_minor": 0
      },
      "text/plain": [
       "extract waveforms memmap:   0%|          | 0/300 [00:00<?, ?it/s]"
      ]
     },
     "metadata": {},
     "output_type": "display_data"
    },
    {
     "data": {
      "application/vnd.jupyter.widget-view+json": {
       "model_id": "59ce3483c1a2415e90ef1e377c6d58b3",
       "version_major": 2,
       "version_minor": 0
      },
      "text/plain": [
       "extract amplitudes:   0%|          | 0/300 [00:00<?, ?it/s]"
      ]
     },
     "metadata": {},
     "output_type": "display_data"
    },
    {
     "name": "stderr",
     "output_type": "stream",
     "text": [
      "/home/mmp/.local/lib/python3.10/site-packages/spikeinterface/qualitymetrics/misc_metrics.py:232: RuntimeWarning: divide by zero encountered in scalar divide\n",
      "  snrs[unit_id] = np.abs(amplitude) / noise\n",
      "/home/mmp/.local/lib/python3.10/site-packages/spikeinterface/qualitymetrics/misc_metrics.py:965: UserWarning: Amplitude PDF does not have a unique minimum! More spikes might be required for a correct amplitude_cutoff computation!\n",
      "  warnings.warn(\n",
      "/home/mmp/.local/lib/python3.10/site-packages/spikeinterface/qualitymetrics/misc_metrics.py:590: UserWarning: Units [1, 2, 6, 7, 8, 10, 13, 15, 18, 24, 43, 51, 55, 66, 70, 73, 77, 78, 87, 95, 97, 98, 100, 101, 103, 105, 109, 124, 128, 131, 134, 135, 137, 143, 145, 147, 148, 150, 152, 157, 158, 161, 163, 164, 170, 175, 176, 177, 178, 182, 184, 185, 187, 190, 191, 192, 196, 198, 203, 207, 209, 210, 214, 217, 227, 232, 246, 249, 250, 251, 256, 258, 259, 262, 264, 268, 270, 271, 273, 274, 276, 285, 286, 288, 293, 295, 305, 308, 312, 315, 317, 320, 321, 327, 329, 333, 334, 335, 343, 345, 346, 351, 355, 357, 362, 366, 368, 369, 374, 377, 379, 383, 384, 385, 388, 389, 393, 403, 410, 411, 416, 419, 421, 423, 426, 429, 432, 433, 436, 438, 439, 443, 445, 448, 449, 460, 463, 464, 465, 469, 471, 472, 474, 475, 481, 485, 486, 489, 490, 491, 492, 494, 495, 497, 499, 500, 504, 505, 506, 507, 508, 512, 513, 515, 517, 520, 524, 525, 531, 535, 537, 538, 544, 551, 552, 555, 558, 564, 565, 572, 574, 577, 579, 580, 588, 592] have too few spikes and amplitude_cutoff is set to NaN\n",
      "  warnings.warn(f\"Units {nan_units} have too few spikes and \" \"amplitude_cutoff is set to NaN\")\n",
      "INFO:root:redundant-units : [283, 264, 436]\n"
     ]
    },
    {
     "name": "stdout",
     "output_type": "stream",
     "text": [
      "288 283\n",
      "419 264\n",
      "448 436\n",
      "Removing redundant items takes 288.9401888650027\n",
      "The directory './sorting/block_rec0000/sorting/block_rec0000/waveforms_rec0000/similarity' has been emptied.\n",
      "The directory './sorting/block_rec0000/sorting/block_rec0000/waveforms_rec0000/quality_metrics' has been emptied.\n",
      "The directory './sorting/block_rec0000/sorting/block_rec0000/waveforms_rec0000/waveforms' has been emptied.\n",
      "The directory './sorting/block_rec0000/sorting/block_rec0000/waveforms_rec0000/recording_info' has been emptied.\n",
      "The directory './sorting/block_rec0000/sorting/block_rec0000/waveforms_rec0000/spike_amplitudes' has been emptied.\n",
      "The directory './sorting/block_rec0000/sorting/block_rec0000/waveforms_rec0000/template_metrics' has been emptied.\n",
      "The directory './sorting/block_rec0000/sorting/block_rec0000/waveforms_rec0000' has been emptied.\n",
      "The directory './sorting/block_rec0000/sorting/block_rec0000/kilosort2_rec0000/in_container_sorting/properties' has been emptied.\n",
      "The directory './sorting/block_rec0000/sorting/block_rec0000/kilosort2_rec0000/in_container_sorting' has been emptied.\n"
     ]
    },
    {
     "name": "stderr",
     "output_type": "stream",
     "text": [
      "INFO:root:Processing recording: rec0000\n"
     ]
    },
    {
     "name": "stdout",
     "output_type": "stream",
     "text": [
      "The directory './sorting/block_rec0000/sorting/block_rec0000/kilosort2_rec0000/sorter_output' has been emptied.\n",
      "The directory './sorting/block_rec0000/sorting/block_rec0000/kilosort2_rec0000' has been emptied.\n",
      "The directory './sorting/block_rec0000/sorting/block_rec0000' has been emptied.\n",
      "The directory './sorting/block_rec0000/sorting' has been emptied.\n",
      "The directory './sorting/block_rec0000' has been emptied.\n",
      "The directory './sorting' has been emptied.\n",
      "Sampling frequency: 20000.0\n",
      "Number of channels: 1020\n",
      "Number of segments: 1\n",
      "total_recording: 300.01 s\n",
      "Starting container\n",
      "Installing spikeinterface==0.98.2 in kilosort2-maxwellcomplib:latest\n",
      "Installing extra requirements: ['neo', 'h5py']\n",
      "Running kilosort2 sorter inside kilosort2-maxwellcomplib:latest\n",
      "Stopping container\n"
     ]
    },
    {
     "data": {
      "application/vnd.jupyter.widget-view+json": {
       "model_id": "68d8b79d16964daeb088b01d4a2885d0",
       "version_major": 2,
       "version_minor": 0
      },
      "text/plain": [
       "extract waveforms memmap:   0%|          | 0/300 [00:00<?, ?it/s]"
      ]
     },
     "metadata": {},
     "output_type": "display_data"
    },
    {
     "data": {
      "application/vnd.jupyter.widget-view+json": {
       "model_id": "862500d17bf84698bc982a1d0f547610",
       "version_major": 2,
       "version_minor": 0
      },
      "text/plain": [
       "extract amplitudes:   0%|          | 0/300 [00:00<?, ?it/s]"
      ]
     },
     "metadata": {},
     "output_type": "display_data"
    },
    {
     "name": "stderr",
     "output_type": "stream",
     "text": [
      "/home/mmp/.local/lib/python3.10/site-packages/spikeinterface/qualitymetrics/misc_metrics.py:232: RuntimeWarning: divide by zero encountered in scalar divide\n",
      "  snrs[unit_id] = np.abs(amplitude) / noise\n",
      "/home/mmp/.local/lib/python3.10/site-packages/spikeinterface/qualitymetrics/misc_metrics.py:965: UserWarning: Amplitude PDF does not have a unique minimum! More spikes might be required for a correct amplitude_cutoff computation!\n",
      "  warnings.warn(\n",
      "/home/mmp/.local/lib/python3.10/site-packages/spikeinterface/qualitymetrics/misc_metrics.py:590: UserWarning: Units [1, 3, 10, 19, 21, 31, 33, 35, 48, 50, 51, 58, 59, 63, 65, 67, 68, 70, 71, 76, 78, 85, 90, 96, 97, 105, 109, 113, 114, 117, 120, 123, 130, 139, 140, 142, 155, 156, 158, 159, 161, 162, 166, 167, 170, 174, 179, 189, 190, 193, 195, 204, 205, 207, 212, 222, 223, 226, 227, 228, 231, 232, 236, 241, 243, 244, 245, 252, 257, 258, 260, 268, 270, 271, 272, 273, 275, 279, 282, 285, 289, 291, 293, 299, 301, 303, 304, 309, 317, 321, 325, 333, 339, 349, 351] have too few spikes and amplitude_cutoff is set to NaN\n",
      "  warnings.warn(f\"Units {nan_units} have too few spikes and \" \"amplitude_cutoff is set to NaN\")\n",
      "INFO:root:redundant-units : [188]\n"
     ]
    },
    {
     "name": "stdout",
     "output_type": "stream",
     "text": [
      "188 184\n",
      "Removing redundant items takes 289.1205711099901\n",
      "The directory './sorting/block_rec0000/sorting/block_rec0000/waveforms_rec0000/similarity' has been emptied.\n",
      "The directory './sorting/block_rec0000/sorting/block_rec0000/waveforms_rec0000/quality_metrics' has been emptied.\n",
      "The directory './sorting/block_rec0000/sorting/block_rec0000/waveforms_rec0000/waveforms' has been emptied.\n",
      "The directory './sorting/block_rec0000/sorting/block_rec0000/waveforms_rec0000/recording_info' has been emptied.\n",
      "The directory './sorting/block_rec0000/sorting/block_rec0000/waveforms_rec0000/spike_amplitudes' has been emptied.\n",
      "The directory './sorting/block_rec0000/sorting/block_rec0000/waveforms_rec0000/template_metrics' has been emptied.\n",
      "The directory './sorting/block_rec0000/sorting/block_rec0000/waveforms_rec0000' has been emptied.\n",
      "The directory './sorting/block_rec0000/sorting/block_rec0000/kilosort2_rec0000/in_container_sorting/properties' has been emptied.\n",
      "The directory './sorting/block_rec0000/sorting/block_rec0000/kilosort2_rec0000/in_container_sorting' has been emptied.\n"
     ]
    },
    {
     "name": "stderr",
     "output_type": "stream",
     "text": [
      "INFO:root:Processing recording: rec0000\n"
     ]
    },
    {
     "name": "stdout",
     "output_type": "stream",
     "text": [
      "The directory './sorting/block_rec0000/sorting/block_rec0000/kilosort2_rec0000/sorter_output' has been emptied.\n",
      "The directory './sorting/block_rec0000/sorting/block_rec0000/kilosort2_rec0000' has been emptied.\n",
      "The directory './sorting/block_rec0000/sorting/block_rec0000' has been emptied.\n",
      "The directory './sorting/block_rec0000/sorting' has been emptied.\n",
      "The directory './sorting/block_rec0000' has been emptied.\n",
      "The directory './sorting' has been emptied.\n",
      "Sampling frequency: 20000.0\n",
      "Number of channels: 1018\n",
      "Number of segments: 1\n",
      "total_recording: 300.05 s\n",
      "Starting container\n",
      "Installing spikeinterface==0.98.2 in kilosort2-maxwellcomplib:latest\n",
      "Installing extra requirements: ['neo', 'h5py']\n",
      "Running kilosort2 sorter inside kilosort2-maxwellcomplib:latest\n",
      "Stopping container\n"
     ]
    },
    {
     "data": {
      "application/vnd.jupyter.widget-view+json": {
       "model_id": "103fc64f8b954b6b9c529a77b9686849",
       "version_major": 2,
       "version_minor": 0
      },
      "text/plain": [
       "extract waveforms memmap:   0%|          | 0/300 [00:00<?, ?it/s]"
      ]
     },
     "metadata": {},
     "output_type": "display_data"
    },
    {
     "data": {
      "application/vnd.jupyter.widget-view+json": {
       "model_id": "8d89539e69124a429bbf1b1f7824857a",
       "version_major": 2,
       "version_minor": 0
      },
      "text/plain": [
       "extract amplitudes:   0%|          | 0/300 [00:00<?, ?it/s]"
      ]
     },
     "metadata": {},
     "output_type": "display_data"
    },
    {
     "name": "stderr",
     "output_type": "stream",
     "text": [
      "/home/mmp/.local/lib/python3.10/site-packages/spikeinterface/qualitymetrics/misc_metrics.py:232: RuntimeWarning: divide by zero encountered in scalar divide\n",
      "  snrs[unit_id] = np.abs(amplitude) / noise\n",
      "/home/mmp/.local/lib/python3.10/site-packages/spikeinterface/qualitymetrics/misc_metrics.py:590: UserWarning: Units [2, 9, 10, 11, 13, 16, 17, 25, 26, 28, 32, 34, 36, 38, 41, 43, 44, 46, 47, 56, 62, 65, 73, 77, 80, 82, 84, 86, 87, 102, 111, 113, 121, 123, 125, 127, 128, 129, 130, 136, 137, 138, 140, 141, 144, 145, 147, 148, 150, 153, 156, 164, 169, 173, 174, 183, 185, 191, 192, 195, 198, 205, 206, 208, 211, 213, 214, 216, 223, 225, 228, 235, 236, 238, 248, 257, 261, 264, 268, 272, 273, 274, 275, 277, 279, 280, 281, 285, 286, 290, 291, 292, 293, 300, 306, 309, 312, 315, 317, 321, 329, 330, 331, 332, 333, 335, 338, 341, 343, 344, 346, 349, 352, 355, 358, 359, 361, 363, 373, 374, 379, 381, 383, 390, 391, 393, 395, 396, 405, 406, 407, 410, 411, 412, 414, 415, 416, 418, 422, 423, 425, 431, 441, 443, 446, 447, 456, 457, 460, 474, 478, 487, 489, 495, 502, 505, 506, 507, 508, 516, 517, 525, 527, 535, 536, 537, 541, 543, 545, 550, 556, 559, 567, 571, 576, 585, 586, 587, 589, 596, 597, 599, 604, 608, 612, 619, 622, 625, 627, 630, 637, 641, 644, 646, 650, 655, 658, 665, 668, 672, 673, 675, 677, 679, 681, 683, 684, 685, 695, 696, 697, 698, 699, 701, 702, 706, 707, 708, 717, 724, 728, 729, 730, 737, 739, 743, 744, 745, 749, 751, 752, 754, 755, 757, 760, 761, 764, 766, 767, 772, 773, 778, 784, 785, 787, 788, 790, 791, 792, 793, 795, 799, 802, 805, 808, 810, 811, 812, 814, 821, 825, 828, 829, 833, 835, 836, 837, 841, 843, 845, 853, 855, 856, 857, 859, 860, 864, 871, 872, 873, 874, 875, 876] have too few spikes and amplitude_cutoff is set to NaN\n",
      "  warnings.warn(f\"Units {nan_units} have too few spikes and \" \"amplitude_cutoff is set to NaN\")\n",
      "INFO:root:redundant-units : [608, 661, 401, 877, 557]\n"
     ]
    },
    {
     "name": "stdout",
     "output_type": "stream",
     "text": [
      "608 603\n",
      "661 659\n",
      "840 401\n",
      "877 556\n",
      "877 557\n",
      "Removing redundant items takes 286.66785671398975\n",
      "The directory './sorting/block_rec0000/sorting/block_rec0000/waveforms_rec0000/similarity' has been emptied.\n",
      "The directory './sorting/block_rec0000/sorting/block_rec0000/waveforms_rec0000/quality_metrics' has been emptied.\n",
      "The directory './sorting/block_rec0000/sorting/block_rec0000/waveforms_rec0000/waveforms' has been emptied.\n",
      "The directory './sorting/block_rec0000/sorting/block_rec0000/waveforms_rec0000/recording_info' has been emptied.\n",
      "The directory './sorting/block_rec0000/sorting/block_rec0000/waveforms_rec0000/spike_amplitudes' has been emptied.\n",
      "The directory './sorting/block_rec0000/sorting/block_rec0000/waveforms_rec0000/template_metrics' has been emptied.\n",
      "The directory './sorting/block_rec0000/sorting/block_rec0000/waveforms_rec0000' has been emptied.\n",
      "The directory './sorting/block_rec0000/sorting/block_rec0000/kilosort2_rec0000/in_container_sorting/properties' has been emptied.\n",
      "The directory './sorting/block_rec0000/sorting/block_rec0000/kilosort2_rec0000/in_container_sorting' has been emptied.\n"
     ]
    },
    {
     "name": "stderr",
     "output_type": "stream",
     "text": [
      "INFO:root:Processing recording: rec0000\n"
     ]
    },
    {
     "name": "stdout",
     "output_type": "stream",
     "text": [
      "The directory './sorting/block_rec0000/sorting/block_rec0000/kilosort2_rec0000/sorter_output' has been emptied.\n",
      "The directory './sorting/block_rec0000/sorting/block_rec0000/kilosort2_rec0000' has been emptied.\n",
      "The directory './sorting/block_rec0000/sorting/block_rec0000' has been emptied.\n",
      "The directory './sorting/block_rec0000/sorting' has been emptied.\n",
      "The directory './sorting/block_rec0000' has been emptied.\n",
      "The directory './sorting' has been emptied.\n",
      "Sampling frequency: 20000.0\n",
      "Number of channels: 1019\n",
      "Number of segments: 1\n",
      "total_recording: 300.06 s\n",
      "Starting container\n",
      "Installing spikeinterface==0.98.2 in kilosort2-maxwellcomplib:latest\n",
      "Installing extra requirements: ['neo', 'h5py']\n",
      "Running kilosort2 sorter inside kilosort2-maxwellcomplib:latest\n",
      "Stopping container\n"
     ]
    },
    {
     "data": {
      "application/vnd.jupyter.widget-view+json": {
       "model_id": "d5f8bc41da6a4b9ead5997e940b35c77",
       "version_major": 2,
       "version_minor": 0
      },
      "text/plain": [
       "extract waveforms memmap:   0%|          | 0/300 [00:00<?, ?it/s]"
      ]
     },
     "metadata": {},
     "output_type": "display_data"
    },
    {
     "data": {
      "application/vnd.jupyter.widget-view+json": {
       "model_id": "9e25e0adc9f24d6490b4c65dfbbf6f35",
       "version_major": 2,
       "version_minor": 0
      },
      "text/plain": [
       "extract amplitudes:   0%|          | 0/300 [00:00<?, ?it/s]"
      ]
     },
     "metadata": {},
     "output_type": "display_data"
    },
    {
     "name": "stderr",
     "output_type": "stream",
     "text": [
      "/home/mmp/.local/lib/python3.10/site-packages/spikeinterface/qualitymetrics/misc_metrics.py:232: RuntimeWarning: divide by zero encountered in scalar divide\n",
      "  snrs[unit_id] = np.abs(amplitude) / noise\n",
      "/home/mmp/.local/lib/python3.10/site-packages/spikeinterface/qualitymetrics/misc_metrics.py:590: UserWarning: Units [2, 5, 6, 8, 13, 14, 15, 16, 19, 22, 23, 24, 25, 30, 32, 33, 34, 35, 37, 38, 39, 40, 43, 44, 45, 46, 47, 53, 54, 59, 60, 61, 62, 65, 72, 75, 76, 84, 88, 89, 91, 92, 93, 98, 99, 100, 103, 109, 113, 114, 120, 121, 125, 129, 130, 134, 135, 137, 140, 147, 150, 151, 152, 154, 155, 158, 159, 161, 162, 166, 169, 170, 173, 176, 177, 179, 180, 185, 193, 194, 197, 202, 205, 210, 214, 216, 217, 220, 221, 224, 226, 227, 230, 232, 236, 239, 240, 243, 245, 250, 251, 253, 257, 259, 261, 266, 267, 269, 271, 272, 273, 276, 279, 284, 286, 289, 291, 295, 296, 297, 300, 307, 311, 312, 315, 316, 332, 338, 340, 342, 343, 347, 349, 352, 354, 356, 359, 361, 362, 367, 373, 374, 377, 378, 381, 383, 385, 392, 393, 395, 398, 399, 400, 401, 404, 405, 408, 410, 412, 416, 417, 419, 423, 425, 428, 435, 439, 442, 445, 449, 458, 461, 470, 472, 474, 475, 476, 477, 478, 479, 482, 485, 487, 488, 489, 490, 499, 500, 505, 509, 510, 511, 513, 514, 515, 517, 522, 525, 538, 539, 540, 541, 542, 554, 560, 565, 568, 573, 576, 577, 578, 580, 581, 582, 583, 585, 586, 589, 592, 593, 595, 601, 602, 609, 612, 613, 618, 619, 623, 625, 626, 630, 631, 632, 635, 638, 640, 646, 647, 649, 650, 652, 653, 660, 661, 665, 666, 671, 674, 678, 679, 680, 684, 685, 688, 690, 691, 693, 694, 696, 698, 700, 708, 709, 716, 717, 721, 722, 723, 724, 726, 731, 735, 736, 746, 747, 748, 750, 754, 756, 761, 762, 764, 767, 776, 777, 779, 785, 786, 789, 790, 792, 794, 796, 797, 798, 800, 804] have too few spikes and amplitude_cutoff is set to NaN\n",
      "  warnings.warn(f\"Units {nan_units} have too few spikes and \" \"amplitude_cutoff is set to NaN\")\n",
      "INFO:root:redundant-units : [74, 764]\n"
     ]
    },
    {
     "name": "stdout",
     "output_type": "stream",
     "text": [
      "76 74\n",
      "804 764\n",
      "Removing redundant items takes 292.39760531898355\n",
      "The directory './sorting/block_rec0000/sorting/block_rec0000/waveforms_rec0000/similarity' has been emptied.\n",
      "The directory './sorting/block_rec0000/sorting/block_rec0000/waveforms_rec0000/quality_metrics' has been emptied.\n",
      "The directory './sorting/block_rec0000/sorting/block_rec0000/waveforms_rec0000/waveforms' has been emptied.\n",
      "The directory './sorting/block_rec0000/sorting/block_rec0000/waveforms_rec0000/recording_info' has been emptied.\n",
      "The directory './sorting/block_rec0000/sorting/block_rec0000/waveforms_rec0000/spike_amplitudes' has been emptied.\n",
      "The directory './sorting/block_rec0000/sorting/block_rec0000/waveforms_rec0000/template_metrics' has been emptied.\n",
      "The directory './sorting/block_rec0000/sorting/block_rec0000/waveforms_rec0000' has been emptied.\n",
      "The directory './sorting/block_rec0000/sorting/block_rec0000/kilosort2_rec0000/in_container_sorting/properties' has been emptied.\n",
      "The directory './sorting/block_rec0000/sorting/block_rec0000/kilosort2_rec0000/in_container_sorting' has been emptied.\n"
     ]
    },
    {
     "name": "stderr",
     "output_type": "stream",
     "text": [
      "INFO:root:Processing recording: rec0000\n"
     ]
    },
    {
     "name": "stdout",
     "output_type": "stream",
     "text": [
      "The directory './sorting/block_rec0000/sorting/block_rec0000/kilosort2_rec0000/sorter_output' has been emptied.\n",
      "The directory './sorting/block_rec0000/sorting/block_rec0000/kilosort2_rec0000' has been emptied.\n",
      "The directory './sorting/block_rec0000/sorting/block_rec0000' has been emptied.\n",
      "The directory './sorting/block_rec0000/sorting' has been emptied.\n",
      "The directory './sorting/block_rec0000' has been emptied.\n",
      "The directory './sorting' has been emptied.\n",
      "Sampling frequency: 20000.0\n",
      "Number of channels: 1019\n",
      "Number of segments: 1\n",
      "total_recording: 300.07 s\n",
      "Starting container\n",
      "Installing spikeinterface==0.98.2 in kilosort2-maxwellcomplib:latest\n",
      "Installing extra requirements: ['neo', 'h5py']\n",
      "Running kilosort2 sorter inside kilosort2-maxwellcomplib:latest\n",
      "Stopping container\n"
     ]
    },
    {
     "data": {
      "application/vnd.jupyter.widget-view+json": {
       "model_id": "9446e7bca2f546d2819d6bb16c6b143a",
       "version_major": 2,
       "version_minor": 0
      },
      "text/plain": [
       "extract waveforms memmap:   0%|          | 0/300 [00:00<?, ?it/s]"
      ]
     },
     "metadata": {},
     "output_type": "display_data"
    },
    {
     "data": {
      "application/vnd.jupyter.widget-view+json": {
       "model_id": "24fff02273414d31a50bbdc0aa779ec9",
       "version_major": 2,
       "version_minor": 0
      },
      "text/plain": [
       "extract amplitudes:   0%|          | 0/300 [00:00<?, ?it/s]"
      ]
     },
     "metadata": {},
     "output_type": "display_data"
    },
    {
     "name": "stderr",
     "output_type": "stream",
     "text": [
      "/home/mmp/.local/lib/python3.10/site-packages/spikeinterface/qualitymetrics/misc_metrics.py:232: RuntimeWarning: divide by zero encountered in scalar divide\n",
      "  snrs[unit_id] = np.abs(amplitude) / noise\n",
      "/home/mmp/.local/lib/python3.10/site-packages/spikeinterface/qualitymetrics/misc_metrics.py:590: UserWarning: Units [0, 5, 14, 15, 18, 22, 24, 34, 41, 42, 53, 60, 63, 65, 68, 69, 71, 72, 79, 81, 84, 87, 88, 91, 93, 97, 99, 100, 101, 105, 106, 113, 122, 124, 127, 135, 141, 142, 150, 152, 155, 158, 159, 167, 168, 173, 177, 184, 185, 186, 192, 195, 196, 197, 198, 209, 211, 214, 215, 216, 220, 222, 224, 226, 229, 232, 241, 242, 245, 246, 249, 250, 251, 252, 254, 255, 258, 259, 260, 262, 263, 266, 268, 273, 277, 279, 280, 283, 306, 310, 311, 312, 317, 318, 331, 337, 340, 342, 344, 351, 353, 364, 365, 366, 370, 376, 377, 382, 383, 389, 390, 392, 398, 401, 406, 410, 411, 413, 425, 429, 434, 435, 437, 439, 441, 443, 444, 451, 463, 472, 490, 496, 498, 499, 503, 509, 512, 515, 521, 526, 531, 532, 533, 534, 546, 548, 552, 556, 562, 563, 568, 570, 580, 587, 589, 596, 597, 606, 608, 611, 615, 620, 623, 624, 632, 636, 638, 639, 646, 648, 650, 655, 657, 658, 661, 665, 666, 668, 669, 678, 679, 685, 690, 692, 696, 701, 703, 704, 715, 717, 720, 725, 728, 730, 732, 733, 736, 740, 741, 743, 744, 745, 747, 753, 756, 759, 773, 776, 783, 788, 790, 791, 794, 798, 800, 803, 804, 805, 809, 819, 826, 828, 834, 836, 837, 839, 840, 844, 849, 858, 860, 861, 865, 880, 883, 884, 890, 893, 898, 899, 902, 905, 913, 922, 923, 924, 937, 942, 944, 947, 951, 953, 954, 955, 957, 963, 965, 970, 972, 978, 987, 989, 990, 994, 995, 996, 1002, 1021, 1022, 1023, 1025, 1029, 1030, 1038, 1039, 1040, 1041, 1042, 1046, 1050, 1052, 1054, 1057, 1060, 1062, 1064, 1065, 1077, 1080, 1092, 1094, 1096, 1099, 1101, 1104] have too few spikes and amplitude_cutoff is set to NaN\n",
      "  warnings.warn(f\"Units {nan_units} have too few spikes and \" \"amplitude_cutoff is set to NaN\")\n",
      "INFO:root:redundant-units : [169, 1096, 1097, 941, 942, 1100]\n"
     ]
    },
    {
     "name": "stdout",
     "output_type": "stream",
     "text": [
      "169 167\n",
      "1096 678\n",
      "1097 796\n",
      "1099 941\n",
      "1099 942\n",
      "1100 970\n",
      "Removing redundant items takes 293.57370469599846\n",
      "The directory './sorting/block_rec0000/sorting/block_rec0000/waveforms_rec0000/similarity' has been emptied.\n",
      "The directory './sorting/block_rec0000/sorting/block_rec0000/waveforms_rec0000/quality_metrics' has been emptied.\n",
      "The directory './sorting/block_rec0000/sorting/block_rec0000/waveforms_rec0000/waveforms' has been emptied.\n",
      "The directory './sorting/block_rec0000/sorting/block_rec0000/waveforms_rec0000/recording_info' has been emptied.\n",
      "The directory './sorting/block_rec0000/sorting/block_rec0000/waveforms_rec0000/spike_amplitudes' has been emptied.\n",
      "The directory './sorting/block_rec0000/sorting/block_rec0000/waveforms_rec0000/template_metrics' has been emptied.\n",
      "The directory './sorting/block_rec0000/sorting/block_rec0000/waveforms_rec0000' has been emptied.\n",
      "The directory './sorting/block_rec0000/sorting/block_rec0000/kilosort2_rec0000/in_container_sorting/properties' has been emptied.\n",
      "The directory './sorting/block_rec0000/sorting/block_rec0000/kilosort2_rec0000/in_container_sorting' has been emptied.\n"
     ]
    },
    {
     "name": "stderr",
     "output_type": "stream",
     "text": [
      "INFO:root:Processing recording: rec0000\n"
     ]
    },
    {
     "name": "stdout",
     "output_type": "stream",
     "text": [
      "The directory './sorting/block_rec0000/sorting/block_rec0000/kilosort2_rec0000/sorter_output' has been emptied.\n",
      "The directory './sorting/block_rec0000/sorting/block_rec0000/kilosort2_rec0000' has been emptied.\n",
      "The directory './sorting/block_rec0000/sorting/block_rec0000' has been emptied.\n",
      "The directory './sorting/block_rec0000/sorting' has been emptied.\n",
      "The directory './sorting/block_rec0000' has been emptied.\n",
      "The directory './sorting' has been emptied.\n",
      "Sampling frequency: 20000.0\n",
      "Number of channels: 1020\n",
      "Number of segments: 1\n",
      "total_recording: 300.05 s\n",
      "Starting container\n",
      "Installing spikeinterface==0.98.2 in kilosort2-maxwellcomplib:latest\n",
      "Installing extra requirements: ['neo', 'h5py']\n",
      "Running kilosort2 sorter inside kilosort2-maxwellcomplib:latest\n",
      "Stopping container\n"
     ]
    },
    {
     "data": {
      "application/vnd.jupyter.widget-view+json": {
       "model_id": "f4815d2b7bbc415f96e0fe9ebd9dcb12",
       "version_major": 2,
       "version_minor": 0
      },
      "text/plain": [
       "extract waveforms memmap:   0%|          | 0/300 [00:03<?, ?it/s]"
      ]
     },
     "metadata": {},
     "output_type": "display_data"
    },
    {
     "data": {
      "application/vnd.jupyter.widget-view+json": {
       "model_id": "8c5affdfa3894aa090c69dbfdd561a79",
       "version_major": 2,
       "version_minor": 0
      },
      "text/plain": [
       "extract amplitudes:   0%|          | 0/300 [00:00<?, ?it/s]"
      ]
     },
     "metadata": {},
     "output_type": "display_data"
    },
    {
     "name": "stderr",
     "output_type": "stream",
     "text": [
      "/home/mmp/.local/lib/python3.10/site-packages/spikeinterface/qualitymetrics/misc_metrics.py:232: RuntimeWarning: divide by zero encountered in scalar divide\n",
      "  snrs[unit_id] = np.abs(amplitude) / noise\n",
      "/home/mmp/.local/lib/python3.10/site-packages/spikeinterface/qualitymetrics/misc_metrics.py:965: UserWarning: Amplitude PDF does not have a unique minimum! More spikes might be required for a correct amplitude_cutoff computation!\n",
      "  warnings.warn(\n",
      "/home/mmp/.local/lib/python3.10/site-packages/spikeinterface/qualitymetrics/misc_metrics.py:590: UserWarning: Units [0, 1, 3, 4, 5, 7, 8, 13, 15, 19, 22, 25, 31, 33, 36, 39, 40, 42, 44, 51, 56, 59, 60, 69, 70, 71, 75, 78, 84, 85, 89, 93, 94, 95, 97, 102, 103, 111, 115, 118, 119, 121, 123, 124, 127, 130, 131, 132, 133, 134, 144, 145, 154, 158, 160, 161, 163, 164, 168, 171, 174, 175, 177, 185, 186, 189, 190, 191, 192, 196, 202, 206, 207, 208, 211, 212, 213, 216, 217, 220, 222, 224, 229, 232, 234, 238, 246, 247, 248, 253, 257, 258, 263, 265, 269, 273, 278, 280, 286, 290, 294, 307, 315, 316, 319, 323, 332, 334, 336, 341, 346, 347, 351, 360, 362, 363, 366, 369, 371, 372, 375, 380, 385, 386, 388, 389, 393, 397, 401, 403, 412, 413, 414, 415, 416, 418, 419, 420, 421, 422, 426, 430, 434, 435, 437, 438, 440, 441, 448, 449, 450, 452, 455, 458, 472, 473, 475, 480, 482, 483, 484, 488, 489, 490, 495, 496, 501, 503, 506, 510, 512, 516, 518, 519, 520, 522, 524, 525, 526, 528, 531, 533, 536, 537, 541, 542, 546, 549, 550, 553, 554, 555, 556, 557, 558, 559, 562, 563, 564, 567, 568, 570, 572, 573, 575, 577, 578, 582, 583, 587, 591, 595, 600, 612, 616, 620, 622, 623, 624, 632, 634, 637, 641, 642, 643, 644, 649, 651, 658, 659, 662, 663, 664, 665, 667, 670, 672, 673, 675, 683, 685, 690, 698, 701, 707, 708, 710, 713, 718, 719, 720, 721, 723, 725, 730, 731, 736, 740, 752, 756, 757, 758, 759, 763, 766, 770, 776, 777, 778, 780, 785, 790, 795, 800, 801, 803, 805, 806, 809, 810, 815, 818, 819, 823, 825, 836, 840, 843, 848, 852, 863, 864, 872, 873, 876, 877, 883, 887, 890, 892, 896, 902, 905, 907, 911, 915, 916, 925, 930, 931, 937, 939, 942, 946, 948, 957, 959, 965, 972, 973, 974, 981, 984, 985, 986, 988, 989, 991, 992, 994, 996, 999, 1000, 1004, 1007, 1009, 1010, 1012, 1019, 1020, 1021, 1030, 1031, 1034, 1035, 1043, 1044, 1048, 1050, 1051, 1054, 1058, 1061, 1062, 1064, 1066, 1067, 1068, 1069, 1070, 1071, 1073, 1075, 1076, 1080, 1084, 1091, 1093, 1096, 1097, 1101, 1102, 1103, 1107, 1109, 1114, 1115, 1119, 1127, 1128] have too few spikes and amplitude_cutoff is set to NaN\n",
      "  warnings.warn(f\"Units {nan_units} have too few spikes and \" \"amplitude_cutoff is set to NaN\")\n",
      "INFO:root:redundant-units : [334, 825, 1124, 664, 680]\n"
     ]
    },
    {
     "name": "stdout",
     "output_type": "stream",
     "text": [
      "334 331\n",
      "825 723\n",
      "1124 663\n",
      "1124 664\n",
      "1125 680\n",
      "Removing redundant items takes 301.1634065579856\n",
      "The directory './sorting/block_rec0000/sorting/block_rec0000/waveforms_rec0000/similarity' has been emptied.\n",
      "The directory './sorting/block_rec0000/sorting/block_rec0000/waveforms_rec0000/quality_metrics' has been emptied.\n",
      "The directory './sorting/block_rec0000/sorting/block_rec0000/waveforms_rec0000/waveforms' has been emptied.\n",
      "The directory './sorting/block_rec0000/sorting/block_rec0000/waveforms_rec0000/recording_info' has been emptied.\n",
      "The directory './sorting/block_rec0000/sorting/block_rec0000/waveforms_rec0000/spike_amplitudes' has been emptied.\n",
      "The directory './sorting/block_rec0000/sorting/block_rec0000/waveforms_rec0000/template_metrics' has been emptied.\n",
      "The directory './sorting/block_rec0000/sorting/block_rec0000/waveforms_rec0000' has been emptied.\n",
      "The directory './sorting/block_rec0000/sorting/block_rec0000/kilosort2_rec0000/in_container_sorting/properties' has been emptied.\n",
      "The directory './sorting/block_rec0000/sorting/block_rec0000/kilosort2_rec0000/in_container_sorting' has been emptied.\n"
     ]
    },
    {
     "name": "stderr",
     "output_type": "stream",
     "text": [
      "INFO:root:Processing recording: rec0000\n"
     ]
    },
    {
     "name": "stdout",
     "output_type": "stream",
     "text": [
      "The directory './sorting/block_rec0000/sorting/block_rec0000/kilosort2_rec0000/sorter_output' has been emptied.\n",
      "The directory './sorting/block_rec0000/sorting/block_rec0000/kilosort2_rec0000' has been emptied.\n",
      "The directory './sorting/block_rec0000/sorting/block_rec0000' has been emptied.\n",
      "The directory './sorting/block_rec0000/sorting' has been emptied.\n",
      "The directory './sorting/block_rec0000' has been emptied.\n",
      "The directory './sorting' has been emptied.\n",
      "Sampling frequency: 20000.0\n",
      "Number of channels: 1018\n",
      "Number of segments: 1\n",
      "total_recording: 300.04 s\n",
      "Starting container\n",
      "Installing spikeinterface==0.98.2 in kilosort2-maxwellcomplib:latest\n",
      "Installing extra requirements: ['neo', 'h5py']\n",
      "Running kilosort2 sorter inside kilosort2-maxwellcomplib:latest\n",
      "Stopping container\n"
     ]
    },
    {
     "data": {
      "application/vnd.jupyter.widget-view+json": {
       "model_id": "87dfa087f9a94c6a940db2b73f92ca69",
       "version_major": 2,
       "version_minor": 0
      },
      "text/plain": [
       "extract waveforms memmap:   0%|          | 0/300 [00:00<?, ?it/s]"
      ]
     },
     "metadata": {},
     "output_type": "display_data"
    },
    {
     "data": {
      "application/vnd.jupyter.widget-view+json": {
       "model_id": "5f42914a492e4d45a3d90fe85a23ddab",
       "version_major": 2,
       "version_minor": 0
      },
      "text/plain": [
       "extract amplitudes:   0%|          | 0/300 [00:00<?, ?it/s]"
      ]
     },
     "metadata": {},
     "output_type": "display_data"
    },
    {
     "name": "stderr",
     "output_type": "stream",
     "text": [
      "/home/mmp/.local/lib/python3.10/site-packages/spikeinterface/qualitymetrics/misc_metrics.py:232: RuntimeWarning: divide by zero encountered in scalar divide\n",
      "  snrs[unit_id] = np.abs(amplitude) / noise\n",
      "/home/mmp/.local/lib/python3.10/site-packages/spikeinterface/qualitymetrics/misc_metrics.py:590: UserWarning: Units [4, 8, 16, 18, 26, 33, 35, 36, 45, 48, 50, 56, 61, 65, 67, 69, 77, 87, 89, 93, 96, 101, 105, 109, 112, 114, 117, 118, 120, 122, 125, 126, 129, 131, 132, 133, 138, 139, 141, 142, 144, 146, 150, 154, 155, 158, 162, 166, 169, 175, 179, 187, 190, 191, 196, 197, 198, 199, 205, 206, 207, 210, 213, 217, 222, 223, 224, 232, 233, 237, 238, 240, 247, 250, 252, 254, 255, 256, 258, 260, 262, 267, 268, 270, 271, 273, 274, 275, 281, 284, 288, 290, 291, 292, 295, 302, 303, 305, 306, 309, 310, 311, 315, 317, 323, 325, 327, 334, 336, 339, 349, 350, 352, 355, 362, 368, 373, 374, 379, 384, 386, 389, 391, 394, 397, 399, 404, 409, 411, 412, 414, 415, 416, 418, 422, 423, 425, 426, 429, 432, 433, 434, 435, 436, 440, 441, 443, 444, 455, 456, 458, 463, 464, 467, 468, 470, 474, 475, 476, 483, 485, 491, 492, 495, 498, 499, 504, 510, 513, 514, 515, 517, 518, 519, 521, 523, 524, 526, 528, 529, 531, 535, 538, 541, 542, 545, 546, 550, 556, 560, 561, 564] have too few spikes and amplitude_cutoff is set to NaN\n",
      "  warnings.warn(f\"Units {nan_units} have too few spikes and \" \"amplitude_cutoff is set to NaN\")\n",
      "INFO:root:redundant-units : [248, 254, 238]\n"
     ]
    },
    {
     "name": "stdout",
     "output_type": "stream",
     "text": [
      "248 136\n",
      "256 254\n",
      "317 238\n",
      "Removing redundant items takes 287.17938561100163\n",
      "The directory './sorting/block_rec0000/sorting/block_rec0000/waveforms_rec0000/similarity' has been emptied.\n",
      "The directory './sorting/block_rec0000/sorting/block_rec0000/waveforms_rec0000/quality_metrics' has been emptied.\n",
      "The directory './sorting/block_rec0000/sorting/block_rec0000/waveforms_rec0000/waveforms' has been emptied.\n",
      "The directory './sorting/block_rec0000/sorting/block_rec0000/waveforms_rec0000/recording_info' has been emptied.\n",
      "The directory './sorting/block_rec0000/sorting/block_rec0000/waveforms_rec0000/spike_amplitudes' has been emptied.\n",
      "The directory './sorting/block_rec0000/sorting/block_rec0000/waveforms_rec0000/template_metrics' has been emptied.\n",
      "The directory './sorting/block_rec0000/sorting/block_rec0000/waveforms_rec0000' has been emptied.\n",
      "The directory './sorting/block_rec0000/sorting/block_rec0000/kilosort2_rec0000/in_container_sorting/properties' has been emptied.\n",
      "The directory './sorting/block_rec0000/sorting/block_rec0000/kilosort2_rec0000/in_container_sorting' has been emptied.\n"
     ]
    },
    {
     "name": "stderr",
     "output_type": "stream",
     "text": [
      "INFO:root:Processing recording: rec0000\n"
     ]
    },
    {
     "name": "stdout",
     "output_type": "stream",
     "text": [
      "The directory './sorting/block_rec0000/sorting/block_rec0000/kilosort2_rec0000/sorter_output' has been emptied.\n",
      "The directory './sorting/block_rec0000/sorting/block_rec0000/kilosort2_rec0000' has been emptied.\n",
      "The directory './sorting/block_rec0000/sorting/block_rec0000' has been emptied.\n",
      "The directory './sorting/block_rec0000/sorting' has been emptied.\n",
      "The directory './sorting/block_rec0000' has been emptied.\n",
      "The directory './sorting' has been emptied.\n",
      "Sampling frequency: 20000.0\n",
      "Number of channels: 1020\n",
      "Number of segments: 1\n",
      "total_recording: 300.07 s\n",
      "Starting container\n",
      "Installing spikeinterface==0.98.2 in kilosort2-maxwellcomplib:latest\n",
      "Installing extra requirements: ['neo', 'h5py']\n",
      "Running kilosort2 sorter inside kilosort2-maxwellcomplib:latest\n",
      "Stopping container\n"
     ]
    },
    {
     "data": {
      "application/vnd.jupyter.widget-view+json": {
       "model_id": "3feab745b64d464e8dfe877c4c1e8c34",
       "version_major": 2,
       "version_minor": 0
      },
      "text/plain": [
       "extract waveforms memmap:   0%|          | 0/300 [00:00<?, ?it/s]"
      ]
     },
     "metadata": {},
     "output_type": "display_data"
    },
    {
     "data": {
      "application/vnd.jupyter.widget-view+json": {
       "model_id": "059a14da5c1f461194dde94dcdd8394a",
       "version_major": 2,
       "version_minor": 0
      },
      "text/plain": [
       "extract amplitudes:   0%|          | 0/300 [00:00<?, ?it/s]"
      ]
     },
     "metadata": {},
     "output_type": "display_data"
    },
    {
     "name": "stderr",
     "output_type": "stream",
     "text": [
      "/home/mmp/.local/lib/python3.10/site-packages/spikeinterface/qualitymetrics/misc_metrics.py:232: RuntimeWarning: divide by zero encountered in scalar divide\n",
      "  snrs[unit_id] = np.abs(amplitude) / noise\n",
      "/home/mmp/.local/lib/python3.10/site-packages/spikeinterface/qualitymetrics/misc_metrics.py:965: UserWarning: Amplitude PDF does not have a unique minimum! More spikes might be required for a correct amplitude_cutoff computation!\n",
      "  warnings.warn(\n",
      "/home/mmp/.local/lib/python3.10/site-packages/spikeinterface/qualitymetrics/misc_metrics.py:590: UserWarning: Units [4, 12, 21, 22, 24, 26, 27, 29, 30, 31, 40, 41, 43, 52, 60, 61, 65, 69, 71, 73, 75, 77, 81, 87, 88, 92, 93, 95, 96, 98, 100, 104, 116, 127, 133, 137, 141, 142, 146, 156, 160, 164, 165, 166, 170, 172, 175, 177, 179, 182, 185, 194, 195, 198, 199, 202, 207, 210, 211, 212, 223, 226, 228, 236, 248, 249, 264, 278, 288, 291, 294, 296, 297, 303, 306, 307, 308, 309, 312, 322, 325, 327, 329, 331, 336, 337, 354, 358, 359, 361, 372, 377, 383, 386, 390, 400, 412, 421, 429, 430, 439, 442, 449, 450, 453, 456, 458, 460, 464, 468, 470, 473, 481, 483, 484, 490, 491, 492, 494, 498, 502, 505, 510, 513, 515, 516, 518, 519, 522, 528, 536, 540, 545, 546, 550, 554, 558, 559, 563, 564, 567, 572, 575, 577, 578, 582, 587, 594, 599, 605, 606, 609, 613, 620, 622, 624, 626, 628, 629, 634, 635, 644, 646, 647, 649, 652, 654, 655, 658, 660, 664, 666, 671, 672, 673, 682, 689, 690, 692, 694] have too few spikes and amplitude_cutoff is set to NaN\n",
      "  warnings.warn(f\"Units {nan_units} have too few spikes and \" \"amplitude_cutoff is set to NaN\")\n",
      "INFO:root:redundant-units : [146, 661, 450, 639]\n"
     ]
    },
    {
     "name": "stdout",
     "output_type": "stream",
     "text": [
      "146 140\n",
      "665 661\n",
      "689 450\n",
      "693 639\n",
      "Removing redundant items takes 470.59086093699443\n",
      "The directory './sorting/block_rec0000/sorting/block_rec0000/waveforms_rec0000/similarity' has been emptied.\n",
      "The directory './sorting/block_rec0000/sorting/block_rec0000/waveforms_rec0000/quality_metrics' has been emptied.\n",
      "The directory './sorting/block_rec0000/sorting/block_rec0000/waveforms_rec0000/waveforms' has been emptied.\n",
      "The directory './sorting/block_rec0000/sorting/block_rec0000/waveforms_rec0000/recording_info' has been emptied.\n",
      "The directory './sorting/block_rec0000/sorting/block_rec0000/waveforms_rec0000/spike_amplitudes' has been emptied.\n",
      "The directory './sorting/block_rec0000/sorting/block_rec0000/waveforms_rec0000/template_metrics' has been emptied.\n",
      "The directory './sorting/block_rec0000/sorting/block_rec0000/waveforms_rec0000' has been emptied.\n",
      "The directory './sorting/block_rec0000/sorting/block_rec0000/kilosort2_rec0000/in_container_sorting/properties' has been emptied.\n",
      "The directory './sorting/block_rec0000/sorting/block_rec0000/kilosort2_rec0000/in_container_sorting' has been emptied.\n"
     ]
    },
    {
     "name": "stderr",
     "output_type": "stream",
     "text": [
      "INFO:root:Processing recording: rec0000\n"
     ]
    },
    {
     "name": "stdout",
     "output_type": "stream",
     "text": [
      "The directory './sorting/block_rec0000/sorting/block_rec0000/kilosort2_rec0000/sorter_output' has been emptied.\n",
      "The directory './sorting/block_rec0000/sorting/block_rec0000/kilosort2_rec0000' has been emptied.\n",
      "The directory './sorting/block_rec0000/sorting/block_rec0000' has been emptied.\n",
      "The directory './sorting/block_rec0000/sorting' has been emptied.\n",
      "The directory './sorting/block_rec0000' has been emptied.\n",
      "The directory './sorting' has been emptied.\n",
      "Sampling frequency: 20000.0\n",
      "Number of channels: 912\n",
      "Number of segments: 1\n",
      "total_recording: 300.07 s\n",
      "Starting container\n",
      "Installing spikeinterface==0.98.2 in kilosort2-maxwellcomplib:latest\n",
      "Installing extra requirements: ['neo', 'h5py']\n",
      "Running kilosort2 sorter inside kilosort2-maxwellcomplib:latest\n",
      "Stopping container\n"
     ]
    },
    {
     "data": {
      "application/vnd.jupyter.widget-view+json": {
       "model_id": "5e333e04c2f94cbc9e92080908d4359b",
       "version_major": 2,
       "version_minor": 0
      },
      "text/plain": [
       "extract waveforms memmap:   0%|          | 0/300 [00:00<?, ?it/s]"
      ]
     },
     "metadata": {},
     "output_type": "display_data"
    }
   ],
   "source": [
    "import mea_analysis_pipeline as msp\n",
    "import csv\n",
    "from timeit import default_timer as timer\n",
    "# Path to the CSV file\n",
    "csv_file_path = \"./path_electrodes_7.csv\"\n",
    "\n",
    "# Writing data to the CSV file\n",
    "start = timer()\n",
    "with open(csv_file_path, mode=\"w\", newline=\"\") as file:\n",
    "    writer = csv.writer(file)\n",
    "    writer.writerow([\"path\",\"electrodes\"])\n",
    "    if result:\n",
    "        print(\"Found the file in the following locations:\")\n",
    "        for path in result:\n",
    "            try:\n",
    "                electrodes = msp.process_block(0,path,300)\n",
    "                writer.writerow([path,electrodes])\n",
    "            except Exception as e:\n",
    "                print(e)\n",
    "                writer.writerow([path,e])\n",
    "            \n",
    "    else:\n",
    "        print(\"The file was not found in any subdirectory named 'Network.'\")\n",
    "\n",
    "end = timer()\n",
    "\n"
   ]
  },
  {
   "cell_type": "code",
   "execution_count": 4,
   "metadata": {},
   "outputs": [
    {
     "name": "stdout",
     "output_type": "stream",
     "text": [
      "time_taken: 43284.367604467s\n"
     ]
    }
   ],
   "source": [
    "print(f\"time_taken: {end-start}s\")"
   ]
  },
  {
   "cell_type": "markdown",
   "metadata": {},
   "source": [
    "import mea_analysis_pipeline as msp\n",
    "path = '/mnt/disk15tb/jonathan/Syngap3/Syngap3/230109/16873/Network/000207/data.raw.h5'\n",
    "try:\n",
    "    electrodes = msp.process_block(0,path,300)\n",
    "\n",
    "except Exception as e:\n",
    "    print(e)"
   ]
  },
  {
   "cell_type": "code",
   "execution_count": null,
   "metadata": {},
   "outputs": [],
   "source": []
  },
  {
   "cell_type": "code",
   "execution_count": null,
   "metadata": {},
   "outputs": [],
   "source": [
    "print(electrodes)"
   ]
  }
 ],
 "metadata": {
  "kernelspec": {
   "display_name": "Python 3",
   "language": "python",
   "name": "python3"
  },
  "language_info": {
   "codemirror_mode": {
    "name": "ipython",
    "version": 3
   },
   "file_extension": ".py",
   "mimetype": "text/x-python",
   "name": "python",
   "nbconvert_exporter": "python",
   "pygments_lexer": "ipython3",
   "version": "3.10.12"
  },
  "orig_nbformat": 4
 },
 "nbformat": 4,
 "nbformat_minor": 2
}

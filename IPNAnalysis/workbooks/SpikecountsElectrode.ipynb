{
 "cells": [
  {
   "cell_type": "code",
   "execution_count": 1,
   "metadata": {},
   "outputs": [],
   "source": [
    "import numpy as np\n",
    "import matplotlib.pyplot as plt\n",
    "from tsmoothie.smoother import GaussianSmoother\n",
    "import spikeinterface\n",
    "import spikeinterface.full as si\n",
    "\n",
    "import helper_functions as helper\n",
    "from spikeinterface.sorters import run_sorter_local"
   ]
  },
  {
   "cell_type": "code",
   "execution_count": 2,
   "metadata": {},
   "outputs": [
    {
     "name": "stdout",
     "output_type": "stream",
     "text": [
      "Sampling frequency: 10000.0\n",
      "Number of channels: 990\n",
      "Number of segments: 1\n",
      "total_recording: 1799.98 s\n",
      "chunk duration: 200.0 s\n"
     ]
    }
   ],
   "source": [
    "local_path= '/mnt/disk20tb/mandar/mandar_stims/240621/M08029/Network/000015/data.raw.h5' #network data from chip 16848\n",
    "\n",
    "\n",
    "recording1 = si.read_maxwell(local_path,stream_id='well000')\n",
    "\n",
    "#recording = si.ConcatenateSegmentRecording([recording1,recording2])\n",
    "channel_ids = recording1.get_channel_ids()\n",
    "fs = recording1.get_sampling_frequency()\n",
    "num_chan = recording1.get_num_channels()\n",
    "num_seg = recording1.get_num_segments()\n",
    "total_recording = recording1.get_total_duration()\n",
    "\n",
    "#end_time = int((total_recording-1))\n",
    "start_time = 230\n",
    "end_time = 430\n",
    "\n",
    "#print('Channel ids:', channel_ids)\n",
    "print('Sampling frequency:', fs)\n",
    "print('Number of channels:', num_chan)\n",
    "print('Number of segments:', num_seg)\n",
    "print(f\"total_recording: {total_recording} s\")\n",
    "\n",
    "recording_bp = si.bandpass_filter(recording1, freq_min=300, freq_max=3000)\n",
    "\n",
    "recodring_cmr = si.common_reference(recording_bp, reference='global', operator='median')\n",
    "#recording_chunk = recodring_cmr.frame_slice(start_frame= 1*fs,end_frame=425*fs)\n",
    "recording_chunk = recodring_cmr.frame_slice(start_frame= start_time*fs,end_frame=end_time*fs)\n",
    "#recording_chunk =si.scale(recording_chunk, gain=3.0)\n",
    "print(f\"chunk duration: {recording_chunk.get_total_duration()} s\")"
   ]
  },
  {
   "cell_type": "markdown",
   "metadata": {},
   "source": [
    "#Reading the file, BP filtering\n",
    "#path of the network file\n",
    "local_path= '/mnt/disk20tb/PrimaryNeuronData/Maxtwo/Folic_Acid_T2/Folic_Acid_T2/240123/M05506/ActivityScan/000001/data.raw.h5' #network data from chip 16848\n",
    "\n",
    "recordings = list()\n",
    "#recording1=se.read_maxwell(local_path,stream_id='well000',rec_name='rec0000')\n",
    "\n",
    "for recname in ['rec0000', 'rec0001', 'rec0002', 'rec0003', 'rec0004', 'rec0005', 'rec0006']:\n",
    "    recordings.append(se.read_maxwell(local_path,stream_id='well000',rec_name=recname)) #well000 - well005 for maxtwo \n",
    "recording1 = si.aggregate_channels(recordings)\n",
    "\n",
    "\n",
    "#recording = si.ConcatenateSegmentRecording([recording1,recording2])\n",
    "channel_ids = recording1.get_channel_ids()\n",
    "fs = recording1.get_sampling_frequency()\n",
    "num_chan = recording1.get_num_channels()\n",
    "num_seg = recording1.get_num_segments()\n",
    "total_recording = recording1.get_total_duration()\n",
    "\n",
    "#print('Channel ids:', channel_ids)\n",
    "print('Sampling frequency:', fs)\n",
    "print('Number of channels:', num_chan)\n",
    "print('Number of segments:', num_seg)\n",
    "print(f\"total_recording: {total_recording} s\")\n",
    "\n",
    "recording_bp = spre.bandpass_filter(recording1, freq_min=300, freq_max=3000)\n",
    "\n",
    "recodring_cmr = spre.common_reference(recording_bp, reference='global', operator='median')\n",
    "#recording_chunk = recodring_cmr.frame_slice(start_frame= 1*fs,end_frame=425*fs)\n",
    "recording_chunk = recodring_cmr.frame_slice(start_frame= 0*fs,end_frame=30*fs)\n",
    "print(f\"chunk duration: {recording_chunk.get_total_duration()} s\")"
   ]
  },
  {
   "cell_type": "code",
   "execution_count": 3,
   "metadata": {},
   "outputs": [
    {
     "data": {
      "image/png": "[encoded data removed]",
      "text/plain": [
       "<Figure size 800x800 with 1 Axes>"
      ]
     },
     "metadata": {},
     "output_type": "display_data"
    }
   ],
   "source": [
    "fig,ax = plt.subplots(figsize=(8,8))\n",
    "si.plot_probe_map(recording1,ax=ax,with_channel_ids=False)\n",
    "ax.invert_yaxis()"
   ]
  },
  {
   "cell_type": "code",
   "execution_count": 4,
   "metadata": {},
   "outputs": [
    {
     "data": {
      "application/vnd.jupyter.widget-view+json": {
       "model_id": "89c24f4b10ca4a2dbb86b8afe84bfe35",
       "version_major": 2,
       "version_minor": 0
      },
      "text/plain": [
       "AppLayout(children=(TimeSlider(children=(Dropdown(description='segment', options=(0,), value=0), Button(icon='…"
      ]
     },
     "metadata": {},
     "output_type": "display_data"
    },
    {
     "data": {
      "text/plain": [
       "<spikeinterface.widgets.traces.TracesWidget at 0x7783a5d7e950>"
      ]
     },
     "execution_count": 4,
     "metadata": {},
     "output_type": "execute_result"
    }
   ],
   "source": [
    "%matplotlib widget\n",
    "si.plot_traces(recording=recording_chunk,backend=\"ipywidgets\")"
   ]
  },
  {
   "cell_type": "code",
   "execution_count": null,
   "metadata": {},
   "outputs": [],
   "source": []
  },
  {
   "cell_type": "code",
   "execution_count": 29,
   "metadata": {},
   "outputs": [
    {
     "name": "stdout",
     "output_type": "stream",
     "text": [
      "Processing frames 0 to 100000\n",
      "Processing frames 100000 to 200000\n",
      "Processing frames 200000 to 300000\n",
      "Processing frames 300000 to 400000\n",
      "Processing frames 400000 to 500000\n",
      "Processing frames 500000 to 600000\n",
      "Processing frames 600000 to 700000\n",
      "Processing frames 700000 to 800000\n",
      "Processing frames 800000 to 900000\n",
      "Processing frames 900000 to 1000000\n",
      "Processing frames 1000000 to 1100000\n",
      "Processing frames 1100000 to 1200000\n",
      "Processing frames 1200000 to 1300000\n",
      "Processing frames 1300000 to 1400000\n",
      "Processing frames 1400000 to 1500000\n",
      "Processing frames 1500000 to 1600000\n",
      "Processing frames 1600000 to 1700000\n",
      "Processing frames 1700000 to 1800000\n",
      "Processing frames 1800000 to 1900000\n",
      "Processing frames 1900000 to 2000000\n",
      "Processing frames 2000000 to 2100000\n",
      "Processing frames 2100000 to 2200000\n",
      "Processing frames 2200000 to 2300000\n",
      "Processing frames 2300000 to 2400000\n",
      "Processing frames 2400000 to 2500000\n",
      "Processing frames 2500000 to 2600000\n",
      "Processing frames 2600000 to 2700000\n",
      "Processing frames 2700000 to 2800000\n",
      "Processing frames 2800000 to 2900000\n",
      "Processing frames 2900000 to 3000000\n",
      "Processing frames 3000000 to 3100000\n",
      "Processing frames 3100000 to 3200000\n",
      "Processing frames 3200000 to 3300000\n",
      "Processing frames 3300000 to 3400000\n",
      "Processing frames 3400000 to 3500000\n",
      "Processing frames 3500000 to 3600000\n",
      "Processing frames 3600000 to 3700000\n",
      "Processing frames 3700000 to 3800000\n",
      "Processing frames 3800000 to 3900000\n",
      "Processing frames 3900000 to 4000000\n",
      "Processing frames 4000000 to 4100000\n",
      "Processing frames 4100000 to 4200000\n",
      "Processing frames 4200000 to 4300000\n",
      "Processing frames 4300000 to 4400000\n",
      "Processing frames 4400000 to 4500000\n",
      "Processing frames 4500000 to 4600000\n",
      "Processing frames 4600000 to 4700000\n",
      "Processing frames 4700000 to 4800000\n",
      "Processing frames 4800000 to 4900000\n",
      "Processing frames 4900000 to 5000000\n",
      "Processing frames 5000000 to 5100000\n",
      "Processing frames 5100000 to 5200000\n",
      "Processing frames 5200000 to 5300000\n",
      "Processing frames 5300000 to 5400000\n"
     ]
    },
    {
     "ename": "KeyboardInterrupt",
     "evalue": "",
     "output_type": "error",
     "traceback": [
      "\u001b[0;31m---------------------------------------------------------------------------\u001b[0m",
      "\u001b[0;31mKeyboardInterrupt\u001b[0m                         Traceback (most recent call last)",
      "Cell \u001b[0;32mIn[29], line 28\u001b[0m\n\u001b[1;32m     25\u001b[0m \u001b[38;5;28mprint\u001b[39m(\u001b[38;5;124mf\u001b[39m\u001b[38;5;124m\"\u001b[39m\u001b[38;5;124mProcessing frames \u001b[39m\u001b[38;5;132;01m{\u001b[39;00mstart_frame\u001b[38;5;132;01m}\u001b[39;00m\u001b[38;5;124m to \u001b[39m\u001b[38;5;132;01m{\u001b[39;00mend_frame\u001b[38;5;132;01m}\u001b[39;00m\u001b[38;5;124m\"\u001b[39m)\n\u001b[1;32m     27\u001b[0m \u001b[38;5;66;03m# Retrieve a batch of data\u001b[39;00m\n\u001b[0;32m---> 28\u001b[0m traces \u001b[38;5;241m=\u001b[39m \u001b[43mrecording_chunk\u001b[49m\u001b[38;5;241;43m.\u001b[39;49m\u001b[43mget_traces\u001b[49m\u001b[43m(\u001b[49m\u001b[43mstart_frame\u001b[49m\u001b[38;5;241;43m=\u001b[39;49m\u001b[43mstart_frame\u001b[49m\u001b[43m,\u001b[49m\u001b[43m \u001b[49m\u001b[43mend_frame\u001b[49m\u001b[38;5;241;43m=\u001b[39;49m\u001b[43mend_frame\u001b[49m\u001b[43m,\u001b[49m\u001b[43m \u001b[49m\u001b[43msegment_index\u001b[49m\u001b[38;5;241;43m=\u001b[39;49m\u001b[38;5;241;43m0\u001b[39;49m\u001b[43m,\u001b[49m\u001b[43m \u001b[49m\u001b[43mreturn_scaled\u001b[49m\u001b[38;5;241;43m=\u001b[39;49m\u001b[38;5;28;43;01mFalse\u001b[39;49;00m\u001b[43m)\u001b[49m\n\u001b[1;32m     30\u001b[0m \u001b[38;5;66;03m# Time the peak detection process\u001b[39;00m\n\u001b[1;32m     31\u001b[0m batch_start_time \u001b[38;5;241m=\u001b[39m time\u001b[38;5;241m.\u001b[39mtime()\n",
      "File \u001b[0;32m~/.local/lib/python3.10/site-packages/spikeinterface/core/baserecording.py:288\u001b[0m, in \u001b[0;36mBaseRecording.get_traces\u001b[0;34m(self, segment_index, start_frame, end_frame, channel_ids, order, return_scaled, cast_unsigned)\u001b[0m\n\u001b[1;32m    286\u001b[0m channel_indices \u001b[38;5;241m=\u001b[39m \u001b[38;5;28mself\u001b[39m\u001b[38;5;241m.\u001b[39mids_to_indices(channel_ids, prefer_slice\u001b[38;5;241m=\u001b[39m\u001b[38;5;28;01mTrue\u001b[39;00m)\n\u001b[1;32m    287\u001b[0m rs \u001b[38;5;241m=\u001b[39m \u001b[38;5;28mself\u001b[39m\u001b[38;5;241m.\u001b[39m_recording_segments[segment_index]\n\u001b[0;32m--> 288\u001b[0m traces \u001b[38;5;241m=\u001b[39m \u001b[43mrs\u001b[49m\u001b[38;5;241;43m.\u001b[39;49m\u001b[43mget_traces\u001b[49m\u001b[43m(\u001b[49m\u001b[43mstart_frame\u001b[49m\u001b[38;5;241;43m=\u001b[39;49m\u001b[43mstart_frame\u001b[49m\u001b[43m,\u001b[49m\u001b[43m \u001b[49m\u001b[43mend_frame\u001b[49m\u001b[38;5;241;43m=\u001b[39;49m\u001b[43mend_frame\u001b[49m\u001b[43m,\u001b[49m\u001b[43m \u001b[49m\u001b[43mchannel_indices\u001b[49m\u001b[38;5;241;43m=\u001b[39;49m\u001b[43mchannel_indices\u001b[49m\u001b[43m)\u001b[49m\n\u001b[1;32m    289\u001b[0m \u001b[38;5;28;01mif\u001b[39;00m order \u001b[38;5;129;01mis\u001b[39;00m \u001b[38;5;129;01mnot\u001b[39;00m \u001b[38;5;28;01mNone\u001b[39;00m:\n\u001b[1;32m    290\u001b[0m     \u001b[38;5;28;01massert\u001b[39;00m order \u001b[38;5;129;01min\u001b[39;00m [\u001b[38;5;124m\"\u001b[39m\u001b[38;5;124mC\u001b[39m\u001b[38;5;124m\"\u001b[39m, \u001b[38;5;124m\"\u001b[39m\u001b[38;5;124mF\u001b[39m\u001b[38;5;124m\"\u001b[39m]\n",
      "File \u001b[0;32m~/.local/lib/python3.10/site-packages/spikeinterface/core/frameslicerecording.py:94\u001b[0m, in \u001b[0;36mFrameSliceRecordingSegment.get_traces\u001b[0;34m(self, start_frame, end_frame, channel_indices)\u001b[0m\n\u001b[1;32m     92\u001b[0m parent_start \u001b[38;5;241m=\u001b[39m \u001b[38;5;28mself\u001b[39m\u001b[38;5;241m.\u001b[39mstart_frame \u001b[38;5;241m+\u001b[39m start_frame\n\u001b[1;32m     93\u001b[0m parent_end \u001b[38;5;241m=\u001b[39m \u001b[38;5;28mself\u001b[39m\u001b[38;5;241m.\u001b[39mstart_frame \u001b[38;5;241m+\u001b[39m end_frame\n\u001b[0;32m---> 94\u001b[0m traces \u001b[38;5;241m=\u001b[39m \u001b[38;5;28;43mself\u001b[39;49m\u001b[38;5;241;43m.\u001b[39;49m\u001b[43m_parent_recording_segment\u001b[49m\u001b[38;5;241;43m.\u001b[39;49m\u001b[43mget_traces\u001b[49m\u001b[43m(\u001b[49m\n\u001b[1;32m     95\u001b[0m \u001b[43m    \u001b[49m\u001b[43mstart_frame\u001b[49m\u001b[38;5;241;43m=\u001b[39;49m\u001b[43mparent_start\u001b[49m\u001b[43m,\u001b[49m\u001b[43m \u001b[49m\u001b[43mend_frame\u001b[49m\u001b[38;5;241;43m=\u001b[39;49m\u001b[43mparent_end\u001b[49m\u001b[43m,\u001b[49m\u001b[43m \u001b[49m\u001b[43mchannel_indices\u001b[49m\u001b[38;5;241;43m=\u001b[39;49m\u001b[43mchannel_indices\u001b[49m\n\u001b[1;32m     96\u001b[0m \u001b[43m\u001b[49m\u001b[43m)\u001b[49m\n\u001b[1;32m     97\u001b[0m \u001b[38;5;28;01mreturn\u001b[39;00m traces\n",
      "File \u001b[0;32m~/.local/lib/python3.10/site-packages/spikeinterface/preprocessing/common_reference.py:182\u001b[0m, in \u001b[0;36mCommonReferenceRecordingSegment.get_traces\u001b[0;34m(self, start_frame, end_frame, channel_indices)\u001b[0m\n\u001b[1;32m    178\u001b[0m \u001b[38;5;28;01mdef\u001b[39;00m \u001b[38;5;21mget_traces\u001b[39m(\u001b[38;5;28mself\u001b[39m, start_frame, end_frame, channel_indices):\n\u001b[1;32m    179\u001b[0m     \u001b[38;5;66;03m# Let's do the case with group_indices equal None as that is easy\u001b[39;00m\n\u001b[1;32m    180\u001b[0m     \u001b[38;5;28;01mif\u001b[39;00m \u001b[38;5;28mself\u001b[39m\u001b[38;5;241m.\u001b[39mgroup_indices \u001b[38;5;129;01mis\u001b[39;00m \u001b[38;5;28;01mNone\u001b[39;00m:\n\u001b[1;32m    181\u001b[0m         \u001b[38;5;66;03m# We need all the channels to calculate the reference\u001b[39;00m\n\u001b[0;32m--> 182\u001b[0m         traces \u001b[38;5;241m=\u001b[39m \u001b[38;5;28;43mself\u001b[39;49m\u001b[38;5;241;43m.\u001b[39;49m\u001b[43mparent_recording_segment\u001b[49m\u001b[38;5;241;43m.\u001b[39;49m\u001b[43mget_traces\u001b[49m\u001b[43m(\u001b[49m\u001b[43mstart_frame\u001b[49m\u001b[43m,\u001b[49m\u001b[43m \u001b[49m\u001b[43mend_frame\u001b[49m\u001b[43m,\u001b[49m\u001b[43m \u001b[49m\u001b[38;5;28;43mslice\u001b[39;49m\u001b[43m(\u001b[49m\u001b[38;5;28;43;01mNone\u001b[39;49;00m\u001b[43m)\u001b[49m\u001b[43m)\u001b[49m\n\u001b[1;32m    184\u001b[0m         \u001b[38;5;28;01mif\u001b[39;00m \u001b[38;5;28mself\u001b[39m\u001b[38;5;241m.\u001b[39mreference \u001b[38;5;241m==\u001b[39m \u001b[38;5;124m\"\u001b[39m\u001b[38;5;124mglobal\u001b[39m\u001b[38;5;124m\"\u001b[39m:\n\u001b[1;32m    185\u001b[0m             shift \u001b[38;5;241m=\u001b[39m \u001b[38;5;28mself\u001b[39m\u001b[38;5;241m.\u001b[39moperator_func(traces, axis\u001b[38;5;241m=\u001b[39m\u001b[38;5;241m1\u001b[39m, keepdims\u001b[38;5;241m=\u001b[39m\u001b[38;5;28;01mTrue\u001b[39;00m)\n",
      "File \u001b[0;32m~/.local/lib/python3.10/site-packages/spikeinterface/preprocessing/filter.py:132\u001b[0m, in \u001b[0;36mFilterRecordingSegment.get_traces\u001b[0;34m(self, start_frame, end_frame, channel_indices)\u001b[0m\n\u001b[1;32m    131\u001b[0m \u001b[38;5;28;01mdef\u001b[39;00m \u001b[38;5;21mget_traces\u001b[39m(\u001b[38;5;28mself\u001b[39m, start_frame, end_frame, channel_indices):\n\u001b[0;32m--> 132\u001b[0m     traces_chunk, left_margin, right_margin \u001b[38;5;241m=\u001b[39m \u001b[43mget_chunk_with_margin\u001b[49m\u001b[43m(\u001b[49m\n\u001b[1;32m    133\u001b[0m \u001b[43m        \u001b[49m\u001b[38;5;28;43mself\u001b[39;49m\u001b[38;5;241;43m.\u001b[39;49m\u001b[43mparent_recording_segment\u001b[49m\u001b[43m,\u001b[49m\n\u001b[1;32m    134\u001b[0m \u001b[43m        \u001b[49m\u001b[43mstart_frame\u001b[49m\u001b[43m,\u001b[49m\n\u001b[1;32m    135\u001b[0m \u001b[43m        \u001b[49m\u001b[43mend_frame\u001b[49m\u001b[43m,\u001b[49m\n\u001b[1;32m    136\u001b[0m \u001b[43m        \u001b[49m\u001b[43mchannel_indices\u001b[49m\u001b[43m,\u001b[49m\n\u001b[1;32m    137\u001b[0m \u001b[43m        \u001b[49m\u001b[38;5;28;43mself\u001b[39;49m\u001b[38;5;241;43m.\u001b[39;49m\u001b[43mmargin\u001b[49m\u001b[43m,\u001b[49m\n\u001b[1;32m    138\u001b[0m \u001b[43m        \u001b[49m\u001b[43madd_reflect_padding\u001b[49m\u001b[38;5;241;43m=\u001b[39;49m\u001b[38;5;28;43mself\u001b[39;49m\u001b[38;5;241;43m.\u001b[39;49m\u001b[43madd_reflect_padding\u001b[49m\u001b[43m,\u001b[49m\n\u001b[1;32m    139\u001b[0m \u001b[43m    \u001b[49m\u001b[43m)\u001b[49m\n\u001b[1;32m    141\u001b[0m     traces_dtype \u001b[38;5;241m=\u001b[39m traces_chunk\u001b[38;5;241m.\u001b[39mdtype\n\u001b[1;32m    142\u001b[0m     \u001b[38;5;66;03m# if uint --> force int\u001b[39;00m\n",
      "File \u001b[0;32m~/.local/lib/python3.10/site-packages/spikeinterface/core/recording_tools.py:721\u001b[0m, in \u001b[0;36mget_chunk_with_margin\u001b[0;34m(rec_segment, start_frame, end_frame, channel_indices, margin, add_zeros, add_reflect_padding, window_on_margin, dtype)\u001b[0m\n\u001b[1;32m    718\u001b[0m     \u001b[38;5;28;01melse\u001b[39;00m:\n\u001b[1;32m    719\u001b[0m         right_margin \u001b[38;5;241m=\u001b[39m margin\n\u001b[0;32m--> 721\u001b[0m     traces_chunk \u001b[38;5;241m=\u001b[39m \u001b[43mrec_segment\u001b[49m\u001b[38;5;241;43m.\u001b[39;49m\u001b[43mget_traces\u001b[49m\u001b[43m(\u001b[49m\n\u001b[1;32m    722\u001b[0m \u001b[43m        \u001b[49m\u001b[43mstart_frame\u001b[49m\u001b[43m \u001b[49m\u001b[38;5;241;43m-\u001b[39;49m\u001b[43m \u001b[49m\u001b[43mleft_margin\u001b[49m\u001b[43m,\u001b[49m\n\u001b[1;32m    723\u001b[0m \u001b[43m        \u001b[49m\u001b[43mend_frame\u001b[49m\u001b[43m \u001b[49m\u001b[38;5;241;43m+\u001b[39;49m\u001b[43m \u001b[49m\u001b[43mright_margin\u001b[49m\u001b[43m,\u001b[49m\n\u001b[1;32m    724\u001b[0m \u001b[43m        \u001b[49m\u001b[43mchannel_indices\u001b[49m\u001b[43m,\u001b[49m\n\u001b[1;32m    725\u001b[0m \u001b[43m    \u001b[49m\u001b[43m)\u001b[49m\n\u001b[1;32m    727\u001b[0m \u001b[38;5;28;01melse\u001b[39;00m:\n\u001b[1;32m    728\u001b[0m     \u001b[38;5;66;03m# either add_zeros or reflect_padding\u001b[39;00m\n\u001b[1;32m    729\u001b[0m     \u001b[38;5;28;01mif\u001b[39;00m start_frame \u001b[38;5;129;01mis\u001b[39;00m \u001b[38;5;28;01mNone\u001b[39;00m:\n",
      "File \u001b[0;32m~/.local/lib/python3.10/site-packages/spikeinterface/extractors/neoextractors/neobaseextractor.py:326\u001b[0m, in \u001b[0;36mNeoRecordingSegment.get_traces\u001b[0;34m(self, start_frame, end_frame, channel_indices)\u001b[0m\n\u001b[1;32m    320\u001b[0m \u001b[38;5;28;01mdef\u001b[39;00m \u001b[38;5;21mget_traces\u001b[39m(\n\u001b[1;32m    321\u001b[0m     \u001b[38;5;28mself\u001b[39m,\n\u001b[1;32m    322\u001b[0m     start_frame: Union[\u001b[38;5;28mint\u001b[39m, \u001b[38;5;28;01mNone\u001b[39;00m] \u001b[38;5;241m=\u001b[39m \u001b[38;5;28;01mNone\u001b[39;00m,\n\u001b[1;32m    323\u001b[0m     end_frame: Union[\u001b[38;5;28mint\u001b[39m, \u001b[38;5;28;01mNone\u001b[39;00m] \u001b[38;5;241m=\u001b[39m \u001b[38;5;28;01mNone\u001b[39;00m,\n\u001b[1;32m    324\u001b[0m     channel_indices: Union[List, \u001b[38;5;28;01mNone\u001b[39;00m] \u001b[38;5;241m=\u001b[39m \u001b[38;5;28;01mNone\u001b[39;00m,\n\u001b[1;32m    325\u001b[0m ) \u001b[38;5;241m-\u001b[39m\u001b[38;5;241m>\u001b[39m np\u001b[38;5;241m.\u001b[39mndarray:\n\u001b[0;32m--> 326\u001b[0m     raw_traces \u001b[38;5;241m=\u001b[39m \u001b[38;5;28;43mself\u001b[39;49m\u001b[38;5;241;43m.\u001b[39;49m\u001b[43mneo_reader\u001b[49m\u001b[38;5;241;43m.\u001b[39;49m\u001b[43mget_analogsignal_chunk\u001b[49m\u001b[43m(\u001b[49m\n\u001b[1;32m    327\u001b[0m \u001b[43m        \u001b[49m\u001b[43mblock_index\u001b[49m\u001b[38;5;241;43m=\u001b[39;49m\u001b[38;5;28;43mself\u001b[39;49m\u001b[38;5;241;43m.\u001b[39;49m\u001b[43mblock_index\u001b[49m\u001b[43m,\u001b[49m\n\u001b[1;32m    328\u001b[0m \u001b[43m        \u001b[49m\u001b[43mseg_index\u001b[49m\u001b[38;5;241;43m=\u001b[39;49m\u001b[38;5;28;43mself\u001b[39;49m\u001b[38;5;241;43m.\u001b[39;49m\u001b[43msegment_index\u001b[49m\u001b[43m,\u001b[49m\n\u001b[1;32m    329\u001b[0m \u001b[43m        \u001b[49m\u001b[43mi_start\u001b[49m\u001b[38;5;241;43m=\u001b[39;49m\u001b[43mstart_frame\u001b[49m\u001b[43m,\u001b[49m\n\u001b[1;32m    330\u001b[0m \u001b[43m        \u001b[49m\u001b[43mi_stop\u001b[49m\u001b[38;5;241;43m=\u001b[39;49m\u001b[43mend_frame\u001b[49m\u001b[43m,\u001b[49m\n\u001b[1;32m    331\u001b[0m \u001b[43m        \u001b[49m\u001b[43mstream_index\u001b[49m\u001b[38;5;241;43m=\u001b[39;49m\u001b[38;5;28;43mself\u001b[39;49m\u001b[38;5;241;43m.\u001b[39;49m\u001b[43mstream_index\u001b[49m\u001b[43m,\u001b[49m\n\u001b[1;32m    332\u001b[0m \u001b[43m        \u001b[49m\u001b[43mchannel_indexes\u001b[49m\u001b[38;5;241;43m=\u001b[39;49m\u001b[43mchannel_indices\u001b[49m\u001b[43m,\u001b[49m\n\u001b[1;32m    333\u001b[0m \u001b[43m    \u001b[49m\u001b[43m)\u001b[49m\n\u001b[1;32m    334\u001b[0m     \u001b[38;5;28;01mreturn\u001b[39;00m raw_traces\n",
      "File \u001b[0;32m~/.local/lib/python3.10/site-packages/neo/rawio/baserawio.py:617\u001b[0m, in \u001b[0;36mBaseRawIO.get_analogsignal_chunk\u001b[0;34m(self, block_index, seg_index, i_start, i_stop, stream_index, channel_indexes, channel_names, channel_ids, prefer_slice)\u001b[0m\n\u001b[1;32m    614\u001b[0m     \u001b[38;5;28;01mif\u001b[39;00m np\u001b[38;5;241m.\u001b[39mall(np\u001b[38;5;241m.\u001b[39mdiff(channel_indexes) \u001b[38;5;241m==\u001b[39m \u001b[38;5;241m1\u001b[39m):\n\u001b[1;32m    615\u001b[0m         channel_indexes \u001b[38;5;241m=\u001b[39m \u001b[38;5;28mslice\u001b[39m(channel_indexes[\u001b[38;5;241m0\u001b[39m], channel_indexes[\u001b[38;5;241m-\u001b[39m\u001b[38;5;241m1\u001b[39m] \u001b[38;5;241m+\u001b[39m \u001b[38;5;241m1\u001b[39m)\n\u001b[0;32m--> 617\u001b[0m raw_chunk \u001b[38;5;241m=\u001b[39m \u001b[38;5;28;43mself\u001b[39;49m\u001b[38;5;241;43m.\u001b[39;49m\u001b[43m_get_analogsignal_chunk\u001b[49m\u001b[43m(\u001b[49m\u001b[43mblock_index\u001b[49m\u001b[43m,\u001b[49m\u001b[43m \u001b[49m\u001b[43mseg_index\u001b[49m\u001b[43m,\u001b[49m\u001b[43m \u001b[49m\u001b[43mi_start\u001b[49m\u001b[43m,\u001b[49m\u001b[43m \u001b[49m\u001b[43mi_stop\u001b[49m\u001b[43m,\u001b[49m\u001b[43m \u001b[49m\u001b[43mstream_index\u001b[49m\u001b[43m,\u001b[49m\u001b[43m \u001b[49m\u001b[43mchannel_indexes\u001b[49m\u001b[43m)\u001b[49m\n\u001b[1;32m    619\u001b[0m \u001b[38;5;28;01mreturn\u001b[39;00m raw_chunk\n",
      "File \u001b[0;32m~/.local/lib/python3.10/site-packages/neo/rawio/maxwellrawio.py:201\u001b[0m, in \u001b[0;36mMaxwellRawIO._get_analogsignal_chunk\u001b[0;34m(self, block_index, seg_index, i_start, i_stop, stream_index, channel_indexes)\u001b[0m\n\u001b[1;32m    199\u001b[0m         sigs \u001b[38;5;241m=\u001b[39m sigs[channel_indexes]\n\u001b[1;32m    200\u001b[0m     \u001b[38;5;28;01melse\u001b[39;00m:\n\u001b[0;32m--> 201\u001b[0m         sigs \u001b[38;5;241m=\u001b[39m \u001b[43msigs\u001b[49m\u001b[43m[\u001b[49m\u001b[43mchannel_indexes\u001b[49m\u001b[43m,\u001b[49m\u001b[43m \u001b[49m\u001b[43mi_start\u001b[49m\u001b[43m:\u001b[49m\u001b[43mi_stop\u001b[49m\u001b[43m]\u001b[49m\n\u001b[1;32m    202\u001b[0m \u001b[38;5;28;01melse\u001b[39;00m:\n\u001b[1;32m    203\u001b[0m     \u001b[38;5;28;01mif\u001b[39;00m \u001b[38;5;28mself\u001b[39m\u001b[38;5;241m.\u001b[39m_old_format:\n",
      "File \u001b[0;32mh5py/_objects.pyx:54\u001b[0m, in \u001b[0;36mh5py._objects.with_phil.wrapper\u001b[0;34m()\u001b[0m\n",
      "File \u001b[0;32mh5py/_objects.pyx:55\u001b[0m, in \u001b[0;36mh5py._objects.with_phil.wrapper\u001b[0;34m()\u001b[0m\n",
      "File \u001b[0;32m~/.local/lib/python3.10/site-packages/h5py/_hl/dataset.py:768\u001b[0m, in \u001b[0;36mDataset.__getitem__\u001b[0;34m(self, args, new_dtype)\u001b[0m\n\u001b[1;32m    766\u001b[0m \u001b[38;5;28;01mif\u001b[39;00m \u001b[38;5;28mself\u001b[39m\u001b[38;5;241m.\u001b[39m_fast_read_ok \u001b[38;5;129;01mand\u001b[39;00m (new_dtype \u001b[38;5;129;01mis\u001b[39;00m \u001b[38;5;28;01mNone\u001b[39;00m):\n\u001b[1;32m    767\u001b[0m     \u001b[38;5;28;01mtry\u001b[39;00m:\n\u001b[0;32m--> 768\u001b[0m         \u001b[38;5;28;01mreturn\u001b[39;00m \u001b[38;5;28;43mself\u001b[39;49m\u001b[38;5;241;43m.\u001b[39;49m\u001b[43m_fast_reader\u001b[49m\u001b[38;5;241;43m.\u001b[39;49m\u001b[43mread\u001b[49m\u001b[43m(\u001b[49m\u001b[43margs\u001b[49m\u001b[43m)\u001b[49m\n\u001b[1;32m    769\u001b[0m     \u001b[38;5;28;01mexcept\u001b[39;00m \u001b[38;5;167;01mTypeError\u001b[39;00m:\n\u001b[1;32m    770\u001b[0m         \u001b[38;5;28;01mpass\u001b[39;00m  \u001b[38;5;66;03m# Fall back to Python read pathway below\u001b[39;00m\n",
      "\u001b[0;31mKeyboardInterrupt\u001b[0m: "
     ]
    }
   ],
   "source": [
    "from helper_functions import detect_peaks\n",
    "import numpy as np\n",
    "import pandas as pd\n",
    "import time\n",
    "\n",
    "fs = 10000  # Sampling frequency\n",
    "start_time = 1  # Start time in seconds\n",
    "end_time =  1700  # End time in seconds\n",
    "channel_list = recording_chunk.get_channel_ids()  # List of channel IDs\n",
    "channel = 0  # Channel to analyze\n",
    "# Define batch size and calculate total number of frames\n",
    "batch_size = fs * 10  # Process 100 seconds of data at a time\n",
    "total_frames = int((end_time - start_time) * fs)\n",
    "\n",
    "traces = recording_chunk.get_traces(start_frame=start_time, end_frame=end_time, segment_index=0, return_scaled=False)\n",
    "channel_index = np.where(channel_list == channel)[0][0]\n",
    "x, y = detect_peaks(traces[:, channel_index], peak_sign=\"neg\", abs_threshold=9)\n",
    "print(f'Found {len(x)} peaks on channel {channel}.')\n",
    "\n"
   ]
  },
  {
   "cell_type": "code",
   "execution_count": 37,
   "metadata": {},
   "outputs": [
    {
     "name": "stdout",
     "output_type": "stream",
     "text": [
      "Processing frames 300000 to 400000Processing frames 0 to 100000Processing frames 900000 to 1000000Processing frames 600000 to 700000Processing frames 1200000 to 1300000Processing frames 2100000 to 2200000Processing frames 1800000 to 1900000Processing frames 1500000 to 1600000Processing frames 2700000 to 2800000\n",
      "Processing frames 3000000 to 3100000\n",
      "Processing frames 3300000 to 3400000Processing frames 2400000 to 2500000Processing frames 3600000 to 3700000Processing frames 3900000 to 4000000Processing frames 4200000 to 4300000\n",
      "\n",
      "\n",
      "Processing frames 4500000 to 4600000\n",
      "\n",
      "\n",
      "\n",
      "\n",
      "\n",
      "\n",
      "\n",
      "\n",
      "\n",
      "\n",
      "Processing frames 100000 to 200000\n",
      "Processing frames 1000000 to 1100000\n",
      "Processing frames 400000 to 500000\n",
      "Processing frames 700000 to 800000\n",
      "Processing frames 4600000 to 4700000\n",
      "Processing frames 3400000 to 3500000\n",
      "Processing frames 2800000 to 2900000\n",
      "Processing frames 4300000 to 4400000\n",
      "Processing frames 2200000 to 2300000\n",
      "Processing frames 3100000 to 3200000\n",
      "Processing frames 1600000 to 1700000\n",
      "Processing frames 2500000 to 2600000\n",
      "Processing frames 3700000 to 3800000\n",
      "Processing frames 1900000 to 2000000\n",
      "Processing frames 4000000 to 4100000\n",
      "Processing frames 1300000 to 1400000\n",
      "Processing frames 200000 to 300000\n",
      "Processing frames 1100000 to 1200000\n",
      "Processing frames 800000 to 900000\n",
      "Processing frames 500000 to 600000\n",
      "Processing frames 4800000 to 4900000\n",
      "Processing frames 4700000 to 4800000\n",
      "Processing frames 3500000 to 3600000\n",
      "Processing frames 3200000 to 3300000\n",
      "Processing frames 2900000 to 3000000\n",
      "Processing frames 2300000 to 2400000\n",
      "Processing frames 3800000 to 3900000\n",
      "Processing frames 5100000 to 5200000\n",
      "Processing frames 1700000 to 1800000\n",
      "Processing frames 5400000 to 5500000\n",
      "Processing frames 4400000 to 4500000\n",
      "Processing frames 2600000 to 2700000\n",
      "Processing frames 2000000 to 2100000\n",
      "Processing frames 1400000 to 1500000\n",
      "Processing frames 4100000 to 4200000\n",
      "Processing frames 5700000 to 5800000\n",
      "Processing frames 4900000 to 5000000\n",
      "Processing frames 6000000 to 6100000\n",
      "Processing frames 6300000 to 6400000\n",
      "Processing frames 6600000 to 6700000\n",
      "Processing frames 6900000 to 7000000\n",
      "Processing frames 7200000 to 7300000\n",
      "Processing frames 7500000 to 7600000\n",
      "Processing frames 5200000 to 5300000\n",
      "Processing frames 5500000 to 5600000\n",
      "Processing frames 7800000 to 7900000\n",
      "Processing frames 8100000 to 8200000\n",
      "Processing frames 8400000 to 8500000\n",
      "Processing frames 8700000 to 8800000\n",
      "Processing frames 9000000 to 9100000\n",
      "Processing frames 9300000 to 9400000\n",
      "Processing frames 6100000 to 6200000\n",
      "Processing frames 5000000 to 5100000\n",
      "Processing frames 5800000 to 5900000\n",
      "Processing frames 7000000 to 7100000\n",
      "Processing frames 6700000 to 6800000\n",
      "Processing frames 7300000 to 7400000\n",
      "Processing frames 6400000 to 6500000\n",
      "Processing frames 7600000 to 7700000\n",
      "Processing frames 5300000 to 5400000\n",
      "Processing frames 5600000 to 5700000\n",
      "Processing frames 7900000 to 8000000\n",
      "Processing frames 8200000 to 8300000\n",
      "Processing frames 8500000 to 8600000\n",
      "Processing frames 8800000 to 8900000\n",
      "Processing frames 6200000 to 6300000\n",
      "Processing frames 9400000 to 9500000\n",
      "Processing frames 9100000 to 9200000\n",
      "Processing frames 9600000 to 9700000\n",
      "Processing frames 6500000 to 6600000\n",
      "Processing frames 6800000 to 6900000\n",
      "Processing frames 5900000 to 6000000\n",
      "Processing frames 7100000 to 7200000\n",
      "Processing frames 7400000 to 7500000\n",
      "Processing frames 9900000 to 10000000\n",
      "Processing frames 10200000 to 10300000\n",
      "Processing frames 8000000 to 8100000\n",
      "Processing frames 7700000 to 7800000\n",
      "Processing frames 8300000 to 8400000\n",
      "Processing frames 8600000 to 8700000\n",
      "Processing frames 8900000 to 9000000\n",
      "Processing frames 10500000 to 10600000\n",
      "Processing frames 9500000 to 9600000\n",
      "Processing frames 9700000 to 9800000\n",
      "Processing frames 9200000 to 9300000\n",
      "Processing frames 10800000 to 10900000\n",
      "Processing frames 11100000 to 11200000\n",
      "Processing frames 11400000 to 11500000\n",
      "Processing frames 11700000 to 11800000\n",
      "Processing frames 12000000 to 12100000\n",
      "Processing frames 12300000 to 12400000\n",
      "Processing frames 12600000 to 12700000\n",
      "Processing frames 10000000 to 10100000\n",
      "Processing frames 12900000 to 13000000\n",
      "Processing frames 10300000 to 10400000\n",
      "Processing frames 13200000 to 13300000\n",
      "Processing frames 13500000 to 13600000\n",
      "Processing frames 13800000 to 13900000\n",
      "Processing frames 10600000 to 10700000\n",
      "Processing frames 9800000 to 9900000\n",
      "Processing frames 14100000 to 14200000\n",
      "Processing frames 10900000 to 11000000\n",
      "Processing frames 11500000 to 11600000\n",
      "Processing frames 11200000 to 11300000\n",
      "Processing frames 11800000 to 11900000\n",
      "Processing frames 12100000 to 12200000\n",
      "Processing frames 14200000 to 14300000\n",
      "Processing frames 12400000 to 12500000\n",
      "Processing frames 10400000 to 10500000\n",
      "Processing frames 13900000 to 14000000\n",
      "Processing frames 10100000 to 10200000\n",
      "Processing frames 13600000 to 13700000\n",
      "Processing frames 10700000 to 10800000\n",
      "Processing frames 13000000 to 13100000\n",
      "Processing frames 12700000 to 12800000\n",
      "Processing frames 13300000 to 13400000\n",
      "Processing frames 14400000 to 14500000\n",
      "Processing frames 11000000 to 11100000\n",
      "Processing frames 11600000 to 11700000\n",
      "Processing frames 11300000 to 11400000\n",
      "Processing frames 11900000 to 12000000\n",
      "Processing frames 12200000 to 12300000\n",
      "Processing frames 14300000 to 14400000\n",
      "Processing frames 12500000 to 12600000\n",
      "Processing frames 14700000 to 14800000\n",
      "Processing frames 15000000 to 15100000\n",
      "Processing frames 15300000 to 15400000\n",
      "Processing frames 15600000 to 15700000\n",
      "Processing frames 14000000 to 14100000\n",
      "Processing frames 14500000 to 14600000\n",
      "Processing frames 15900000 to 16000000\n",
      "Skipping range 15900000 to 16000000 due to error: The length of the input vector x must be greater than padlen, which is 33.\n",
      "Processing frames 16000000 to 16100000\n",
      "Skipping range 16000000 to 16100000 due to error: The length of the input vector x must be greater than padlen, which is 33.\n",
      "Processing frames 16100000 to 16200000\n",
      "Skipping range 16100000 to 16200000 due to error: The length of the input vector x must be greater than padlen, which is 33.\n",
      "Processing frames 16200000 to 16300000\n",
      "Skipping range 16200000 to 16300000 due to error: The length of the input vector x must be greater than padlen, which is 33.\n",
      "Processing frames 16300000 to 16400000\n",
      "Skipping range 16300000 to 16400000 due to error: The length of the input vector x must be greater than padlen, which is 33.\n",
      "Processing frames 16400000 to 16500000\n",
      "Skipping range 16400000 to 16500000 due to error: The length of the input vector x must be greater than padlen, which is 33.\n",
      "Processing frames 16500000 to 16600000\n",
      "Skipping range 16500000 to 16600000 due to error: The length of the input vector x must be greater than padlen, which is 33.\n",
      "Processing frames 16600000 to 16700000\n",
      "Skipping range 16600000 to 16700000 due to error: The length of the input vector x must be greater than padlen, which is 33.\n",
      "Processing frames 16700000 to 16800000\n",
      "Skipping range 16700000 to 16800000 due to error: The length of the input vector x must be greater than padlen, which is 33.\n",
      "Processing frames 16800000 to 16900000\n",
      "Skipping range 16800000 to 16900000 due to error: The length of the input vector x must be greater than padlen, which is 33.\n",
      "Processing frames 13100000 to 13200000\n",
      "Processing frames 12800000 to 12900000\n",
      "Processing frames 13400000 to 13500000\n",
      "Processing frames 13700000 to 13800000\n",
      "Processing frames 14800000 to 14900000\n",
      "Processing frames 15100000 to 15200000\n",
      "Processing frames 15400000 to 15500000\n",
      "Processing frames 15700000 to 15800000\n",
      "Skipping range 15700000 to 15800000 due to error: The length of the input vector x must be greater than padlen, which is 33.\n",
      "Processing frames 15800000 to 15900000\n",
      "Skipping range 15800000 to 15900000 due to error: The length of the input vector x must be greater than padlen, which is 33.\n",
      "Processing frames 14600000 to 14700000\n",
      "Processing frames 14900000 to 15000000\n",
      "Processing frames 15200000 to 15300000\n",
      "Processing frames 15500000 to 15600000\n",
      "Total processing time: 182.9748034477234 s\n",
      "Peak counts have been saved to 'peak_counts.xlsx'.\n"
     ]
    }
   ],
   "source": [
    "from helper_functions import detect_peaks\n",
    "import numpy as np\n",
    "import pandas as pd\n",
    "import time\n",
    "from multiprocessing import Pool\n",
    "\n",
    "fs = 10000  # Sampling frequency\n",
    "start_time = 1  # Start time in seconds\n",
    "end_time = 1700  # End time in seconds\n",
    "channel_list = recording_chunk.get_channel_ids()  # List of channel IDs\n",
    "\n",
    "# Define batch size and calculate total number of frames\n",
    "batch_size = fs * 10  # Process 10 seconds of data at a time\n",
    "total_frames = int((end_time - start_time) * fs)\n",
    "\n",
    "# Function to process each batch\n",
    "def process_batch(time_range):\n",
    "    start_frame, end_frame = time_range\n",
    "    try:\n",
    "        print(f\"Processing frames {start_frame} to {end_frame}\")\n",
    "        \n",
    "        # Retrieve a batch of data\n",
    "        traces = recording_chunk.get_traces(start_frame=start_frame, end_frame=end_frame, segment_index=0, return_scaled=False)\n",
    "        \n",
    "        \n",
    "        \n",
    "        # Collect peaks for each channel in this batch\n",
    "        batch_peaks = {'Time Range': f\"{start_frame} to {end_frame}\"}\n",
    "        for channel in channel_list:\n",
    "            channel_index = np.where(channel_list == channel)[0][0]\n",
    "            x, y = detect_peaks(traces[:, channel_index], peak_sign=\"neg\", abs_threshold=9)\n",
    "            batch_peaks[f'Channel {channel}'] = len(x)\n",
    "        \n",
    "       \n",
    "        \n",
    "        return batch_peaks\n",
    "\n",
    "    except ValueError as e:\n",
    "        print(f\"Skipping range {start_frame} to {end_frame} due to error: {e}\")\n",
    "        return None  # Skip this batch if an error occurs\n",
    "\n",
    "# Prepare time ranges\n",
    "time_ranges = [(start, min(start + batch_size, total_frames)) for start in range(0, total_frames, batch_size) if start + batch_size <= total_frames]\n",
    "\n",
    "# Use multiprocessing to process batches in parallel\n",
    "with Pool(16) as pool:\n",
    "    results = pool.map(process_batch, time_ranges)\n",
    "\n",
    "# Filter out None results and extract valid results\n",
    "valid_results = [result for result in results if result is not None]\n",
    "peak_counts_df = pd.DataFrame([result[0] for result in valid_results])\n",
    "\n",
    "\n",
    "\n",
    "# Save the DataFrame to an Excel file\n",
    "peak_counts_df.to_excel('peak_counts.xlsx', index=False)\n",
    "\n",
    "\n",
    "print(\"Peak counts have been saved to 'peak_counts.xlsx'.\")"
   ]
  },
  {
   "cell_type": "code",
   "execution_count": null,
   "metadata": {},
   "outputs": [],
   "source": []
  },
  {
   "cell_type": "code",
   "execution_count": 20,
   "metadata": {},
   "outputs": [
    {
     "name": "stdout",
     "output_type": "stream",
     "text": [
      "Time taken to get traces: 15.342143058776855 s\n"
     ]
    }
   ],
   "source": [
    "start_frame = 0\n",
    "end_frame = 10000 *30\n",
    "timestart = time.time()\n",
    "\n",
    "traces = recording_chunk.get_traces(start_frame=start_frame, end_frame=end_frame, segment_index=0, return_scaled=False)\n",
    "timestop =time.time()\n",
    "print(f\"Time taken to get traces: {timestop-timestart} s\")"
   ]
  },
  {
   "cell_type": "code",
   "execution_count": 7,
   "metadata": {},
   "outputs": [
    {
     "name": "stdout",
     "output_type": "stream",
     "text": [
      "[863 907]\n"
     ]
    }
   ],
   "source": [
    "print(x)"
   ]
  },
  {
   "cell_type": "code",
   "execution_count": 8,
   "metadata": {},
   "outputs": [
    {
     "name": "stdout",
     "output_type": "stream",
     "text": [
      "[7.886299999999999, 7.8907]\n"
     ]
    }
   ],
   "source": [
    "print([start_time + i/fs for i in x])"
   ]
  },
  {
   "cell_type": "code",
   "execution_count": 9,
   "metadata": {},
   "outputs": [
    {
     "name": "stdout",
     "output_type": "stream",
     "text": [
      "990\n",
      "(1500, 990)\n"
     ]
    }
   ],
   "source": [
    "print(len(channel_list))\n",
    "print(traces.shape)"
   ]
  },
  {
   "cell_type": "markdown",
   "metadata": {},
   "source": [
    "Experimental for future."
   ]
  },
  {
   "cell_type": "code",
   "execution_count": 40,
   "metadata": {},
   "outputs": [
    {
     "ename": "",
     "evalue": "",
     "output_type": "error",
     "traceback": [
      "\u001b[1;31mThe Kernel crashed while executing code in the current cell or a previous cell. \n",
      "\u001b[1;31mPlease review the code in the cell(s) to identify a possible cause of the failure. \n",
      "\u001b[1;31mClick <a href='https://aka.ms/vscodeJupyterKernelCrash'>here</a> for more info. \n",
      "\u001b[1;31mView Jupyter <a href='command:jupyter.viewOutput'>log</a> for further details."
     ]
    }
   ],
   "source": [
    "import concurrent.futures\n",
    "import pandas as pd\n",
    "import numpy as np\n",
    "from scipy.signal import find_peaks\n",
    "from numba import cuda\n",
    "from helper_functions import detect_peaks\n",
    "# Assume fs, recording_chunk, traces are defined elsewhere\n",
    "\n",
    "peak_sign = \"neg\"\n",
    "abs_threshold = 10\n",
    "interval_length = 30 * fs\n",
    "total_length = 1740 * fs\n",
    "channel_list = recording_chunk.get_channel_ids()\n",
    "channels_to_process = channel_list\n",
    "traces = recording_chunk.get_traces(start_frame=0, end_frame=int(total_length), segment_index=0, return_scaled=False)\n",
    "results = {}\n",
    "\n",
    "\n",
    "\n",
    "def count_peaks_in_intervals_cpu(peaks, interval_length, total_length):\n",
    "    intervals = np.arange(0, total_length, interval_length)\n",
    "    counts = []\n",
    "\n",
    "    for start in intervals:\n",
    "        end = start + interval_length\n",
    "        count = np.sum((peaks >= start) & (peaks < end))\n",
    "        counts.append(count)\n",
    "\n",
    "    return counts\n",
    "\n",
    "def process_channel_cpu(channel_data, peak_sign, abs_threshold, interval_length, total_length):\n",
    "    peaks, _ = detect_peaks(channel_data, peak_sign, abs_threshold)\n",
    "    peak_counts = count_peaks_in_intervals_cpu(peaks, interval_length, total_length)\n",
    "    return peak_counts\n",
    "\n",
    "@cuda.jit\n",
    "def count_peaks_in_intervals_gpu(peaks, interval_length, total_length, counts):\n",
    "    idx = cuda.grid(1)\n",
    "    if idx < counts.size:\n",
    "        start = idx * interval_length\n",
    "        end = start + interval_length\n",
    "        count = 0\n",
    "        for i in range(peaks.size):\n",
    "            if start <= peaks[i] < end:\n",
    "                count += 1\n",
    "        counts[idx] = count\n",
    "\n",
    "def process_channel_gpu(channel_data, peak_sign, abs_threshold, interval_length, total_length):\n",
    "    import cupy as cp\n",
    "    peaks, _ = detect_peaks(channel_data, peak_sign, abs_threshold)\n",
    "    peaks_gpu = cp.array(peaks)\n",
    "    interval_count = (total_length + interval_length - 1) // interval_length\n",
    "    counts_gpu = cp.zeros(interval_count, dtype=cp.int32)\n",
    "    \n",
    "    threads_per_block = 256\n",
    "    blocks_per_grid = (interval_count + threads_per_block - 1) // threads_per_block\n",
    "    \n",
    "    count_peaks_in_intervals_gpu[blocks_per_grid, threads_per_block](peaks_gpu, interval_length, total_length, counts_gpu)\n",
    "    peak_counts = cp.asnumpy(counts_gpu)\n",
    "    return peak_counts\n",
    "\n",
    "def is_gpu_available():\n",
    "    try:\n",
    "        import cupy\n",
    "        return cupy.cuda.runtime.getDeviceCount() > 0\n",
    "    except Exception:\n",
    "        return False\n",
    "\n",
    "use_gpu = is_gpu_available()\n",
    "\n",
    "with concurrent.futures.ThreadPoolExecutor() as executor:\n",
    "    futures = {\n",
    "        executor.submit(\n",
    "            process_channel_gpu if use_gpu else process_channel_cpu,\n",
    "            traces[:, np.where(channel_list == channel)[0][0]],\n",
    "            peak_sign, abs_threshold, interval_length, total_length\n",
    "        ): channel\n",
    "        for channel in channels_to_process\n",
    "    }\n",
    "\n",
    "for future in concurrent.futures.as_completed(futures):\n",
    "    channel = futures[future]\n",
    "    try:\n",
    "        peak_counts = future.result()\n",
    "        results[channel] = peak_counts\n",
    "    except Exception as exc:\n",
    "        print(f'Channel {channel} generated an exception: {exc}')\n",
    "\n",
    "# Calculate the correct number of intervals\n",
    "num_intervals = (total_length + interval_length - 1) // interval_length\n",
    "\n",
    "# Generate column names\n",
    "column_names = [f'({i}, {i + interval_length})' for i in range(0, num_intervals * interval_length, interval_length)]\n",
    "\n",
    "# Create DataFrame and save to Excel\n",
    "df = pd.DataFrame.from_dict(results, orient='index')\n",
    "df.columns = column_names[:df.shape[1]]  # Ensure the correct number of columns\n",
    "df.index.name = 'Channel'\n",
    "df.to_excel('peak_counts.xlsx')"
   ]
  },
  {
   "cell_type": "markdown",
   "metadata": {},
   "source": [
    "## RUnnig sorting"
   ]
  },
  {
   "cell_type": "code",
   "execution_count": 18,
   "metadata": {},
   "outputs": [
    {
     "ename": "KeyboardInterrupt",
     "evalue": "",
     "output_type": "error",
     "traceback": [
      "\u001b[0;31m---------------------------------------------------------------------------\u001b[0m",
      "\u001b[0;31mKeyboardInterrupt\u001b[0m                         Traceback (most recent call last)",
      "Cell \u001b[0;32mIn[18], line 1\u001b[0m\n\u001b[0;32m----> 1\u001b[0m traces \u001b[38;5;241m=\u001b[39m \u001b[43mrecording_chunk\u001b[49m\u001b[38;5;241;43m.\u001b[39;49m\u001b[43mget_traces\u001b[49m\u001b[43m(\u001b[49m\u001b[43mstart_frame\u001b[49m\u001b[38;5;241;43m=\u001b[39;49m\u001b[38;5;241;43m100\u001b[39;49m\u001b[43m,\u001b[49m\u001b[43m \u001b[49m\u001b[43mend_frame\u001b[49m\u001b[38;5;241;43m=\u001b[39;49m\u001b[38;5;241;43m50000\u001b[39;49m\u001b[38;5;241;43m*\u001b[39;49m\u001b[38;5;241;43m15\u001b[39;49m\u001b[43m,\u001b[49m\u001b[43m \u001b[49m\u001b[43msegment_index\u001b[49m\u001b[38;5;241;43m=\u001b[39;49m\u001b[38;5;241;43m0\u001b[39;49m\u001b[43m,\u001b[49m\u001b[43mreturn_scaled\u001b[49m\u001b[38;5;241;43m=\u001b[39;49m\u001b[38;5;28;43;01mTrue\u001b[39;49;00m\u001b[43m)\u001b[49m\n",
      "File \u001b[0;32m~/.local/lib/python3.10/site-packages/spikeinterface/core/baserecording.py:288\u001b[0m, in \u001b[0;36mBaseRecording.get_traces\u001b[0;34m(self, segment_index, start_frame, end_frame, channel_ids, order, return_scaled, cast_unsigned)\u001b[0m\n\u001b[1;32m    286\u001b[0m channel_indices \u001b[38;5;241m=\u001b[39m \u001b[38;5;28mself\u001b[39m\u001b[38;5;241m.\u001b[39mids_to_indices(channel_ids, prefer_slice\u001b[38;5;241m=\u001b[39m\u001b[38;5;28;01mTrue\u001b[39;00m)\n\u001b[1;32m    287\u001b[0m rs \u001b[38;5;241m=\u001b[39m \u001b[38;5;28mself\u001b[39m\u001b[38;5;241m.\u001b[39m_recording_segments[segment_index]\n\u001b[0;32m--> 288\u001b[0m traces \u001b[38;5;241m=\u001b[39m \u001b[43mrs\u001b[49m\u001b[38;5;241;43m.\u001b[39;49m\u001b[43mget_traces\u001b[49m\u001b[43m(\u001b[49m\u001b[43mstart_frame\u001b[49m\u001b[38;5;241;43m=\u001b[39;49m\u001b[43mstart_frame\u001b[49m\u001b[43m,\u001b[49m\u001b[43m \u001b[49m\u001b[43mend_frame\u001b[49m\u001b[38;5;241;43m=\u001b[39;49m\u001b[43mend_frame\u001b[49m\u001b[43m,\u001b[49m\u001b[43m \u001b[49m\u001b[43mchannel_indices\u001b[49m\u001b[38;5;241;43m=\u001b[39;49m\u001b[43mchannel_indices\u001b[49m\u001b[43m)\u001b[49m\n\u001b[1;32m    289\u001b[0m \u001b[38;5;28;01mif\u001b[39;00m order \u001b[38;5;129;01mis\u001b[39;00m \u001b[38;5;129;01mnot\u001b[39;00m \u001b[38;5;28;01mNone\u001b[39;00m:\n\u001b[1;32m    290\u001b[0m     \u001b[38;5;28;01massert\u001b[39;00m order \u001b[38;5;129;01min\u001b[39;00m [\u001b[38;5;124m\"\u001b[39m\u001b[38;5;124mC\u001b[39m\u001b[38;5;124m\"\u001b[39m, \u001b[38;5;124m\"\u001b[39m\u001b[38;5;124mF\u001b[39m\u001b[38;5;124m\"\u001b[39m]\n",
      "File \u001b[0;32m~/.local/lib/python3.10/site-packages/spikeinterface/core/frameslicerecording.py:94\u001b[0m, in \u001b[0;36mFrameSliceRecordingSegment.get_traces\u001b[0;34m(self, start_frame, end_frame, channel_indices)\u001b[0m\n\u001b[1;32m     92\u001b[0m parent_start \u001b[38;5;241m=\u001b[39m \u001b[38;5;28mself\u001b[39m\u001b[38;5;241m.\u001b[39mstart_frame \u001b[38;5;241m+\u001b[39m start_frame\n\u001b[1;32m     93\u001b[0m parent_end \u001b[38;5;241m=\u001b[39m \u001b[38;5;28mself\u001b[39m\u001b[38;5;241m.\u001b[39mstart_frame \u001b[38;5;241m+\u001b[39m end_frame\n\u001b[0;32m---> 94\u001b[0m traces \u001b[38;5;241m=\u001b[39m \u001b[38;5;28;43mself\u001b[39;49m\u001b[38;5;241;43m.\u001b[39;49m\u001b[43m_parent_recording_segment\u001b[49m\u001b[38;5;241;43m.\u001b[39;49m\u001b[43mget_traces\u001b[49m\u001b[43m(\u001b[49m\n\u001b[1;32m     95\u001b[0m \u001b[43m    \u001b[49m\u001b[43mstart_frame\u001b[49m\u001b[38;5;241;43m=\u001b[39;49m\u001b[43mparent_start\u001b[49m\u001b[43m,\u001b[49m\u001b[43m \u001b[49m\u001b[43mend_frame\u001b[49m\u001b[38;5;241;43m=\u001b[39;49m\u001b[43mparent_end\u001b[49m\u001b[43m,\u001b[49m\u001b[43m \u001b[49m\u001b[43mchannel_indices\u001b[49m\u001b[38;5;241;43m=\u001b[39;49m\u001b[43mchannel_indices\u001b[49m\n\u001b[1;32m     96\u001b[0m \u001b[43m\u001b[49m\u001b[43m)\u001b[49m\n\u001b[1;32m     97\u001b[0m \u001b[38;5;28;01mreturn\u001b[39;00m traces\n",
      "File \u001b[0;32m~/.local/lib/python3.10/site-packages/spikeinterface/preprocessing/common_reference.py:182\u001b[0m, in \u001b[0;36mCommonReferenceRecordingSegment.get_traces\u001b[0;34m(self, start_frame, end_frame, channel_indices)\u001b[0m\n\u001b[1;32m    178\u001b[0m \u001b[38;5;28;01mdef\u001b[39;00m \u001b[38;5;21mget_traces\u001b[39m(\u001b[38;5;28mself\u001b[39m, start_frame, end_frame, channel_indices):\n\u001b[1;32m    179\u001b[0m     \u001b[38;5;66;03m# Let's do the case with group_indices equal None as that is easy\u001b[39;00m\n\u001b[1;32m    180\u001b[0m     \u001b[38;5;28;01mif\u001b[39;00m \u001b[38;5;28mself\u001b[39m\u001b[38;5;241m.\u001b[39mgroup_indices \u001b[38;5;129;01mis\u001b[39;00m \u001b[38;5;28;01mNone\u001b[39;00m:\n\u001b[1;32m    181\u001b[0m         \u001b[38;5;66;03m# We need all the channels to calculate the reference\u001b[39;00m\n\u001b[0;32m--> 182\u001b[0m         traces \u001b[38;5;241m=\u001b[39m \u001b[38;5;28;43mself\u001b[39;49m\u001b[38;5;241;43m.\u001b[39;49m\u001b[43mparent_recording_segment\u001b[49m\u001b[38;5;241;43m.\u001b[39;49m\u001b[43mget_traces\u001b[49m\u001b[43m(\u001b[49m\u001b[43mstart_frame\u001b[49m\u001b[43m,\u001b[49m\u001b[43m \u001b[49m\u001b[43mend_frame\u001b[49m\u001b[43m,\u001b[49m\u001b[43m \u001b[49m\u001b[38;5;28;43mslice\u001b[39;49m\u001b[43m(\u001b[49m\u001b[38;5;28;43;01mNone\u001b[39;49;00m\u001b[43m)\u001b[49m\u001b[43m)\u001b[49m\n\u001b[1;32m    184\u001b[0m         \u001b[38;5;28;01mif\u001b[39;00m \u001b[38;5;28mself\u001b[39m\u001b[38;5;241m.\u001b[39mreference \u001b[38;5;241m==\u001b[39m \u001b[38;5;124m\"\u001b[39m\u001b[38;5;124mglobal\u001b[39m\u001b[38;5;124m\"\u001b[39m:\n\u001b[1;32m    185\u001b[0m             shift \u001b[38;5;241m=\u001b[39m \u001b[38;5;28mself\u001b[39m\u001b[38;5;241m.\u001b[39moperator_func(traces, axis\u001b[38;5;241m=\u001b[39m\u001b[38;5;241m1\u001b[39m, keepdims\u001b[38;5;241m=\u001b[39m\u001b[38;5;28;01mTrue\u001b[39;00m)\n",
      "File \u001b[0;32m~/.local/lib/python3.10/site-packages/spikeinterface/preprocessing/filter.py:149\u001b[0m, in \u001b[0;36mFilterRecordingSegment.get_traces\u001b[0;34m(self, start_frame, end_frame, channel_indices)\u001b[0m\n\u001b[1;32m    146\u001b[0m \u001b[38;5;28;01mimport\u001b[39;00m \u001b[38;5;21;01mscipy\u001b[39;00m\u001b[38;5;21;01m.\u001b[39;00m\u001b[38;5;21;01msignal\u001b[39;00m\n\u001b[1;32m    148\u001b[0m \u001b[38;5;28;01mif\u001b[39;00m \u001b[38;5;28mself\u001b[39m\u001b[38;5;241m.\u001b[39mfilter_mode \u001b[38;5;241m==\u001b[39m \u001b[38;5;124m\"\u001b[39m\u001b[38;5;124msos\u001b[39m\u001b[38;5;124m\"\u001b[39m:\n\u001b[0;32m--> 149\u001b[0m     filtered_traces \u001b[38;5;241m=\u001b[39m \u001b[43mscipy\u001b[49m\u001b[38;5;241;43m.\u001b[39;49m\u001b[43msignal\u001b[49m\u001b[38;5;241;43m.\u001b[39;49m\u001b[43msosfiltfilt\u001b[49m\u001b[43m(\u001b[49m\u001b[38;5;28;43mself\u001b[39;49m\u001b[38;5;241;43m.\u001b[39;49m\u001b[43mcoeff\u001b[49m\u001b[43m,\u001b[49m\u001b[43m \u001b[49m\u001b[43mtraces_chunk\u001b[49m\u001b[43m,\u001b[49m\u001b[43m \u001b[49m\u001b[43maxis\u001b[49m\u001b[38;5;241;43m=\u001b[39;49m\u001b[38;5;241;43m0\u001b[39;49m\u001b[43m)\u001b[49m\n\u001b[1;32m    150\u001b[0m \u001b[38;5;28;01melif\u001b[39;00m \u001b[38;5;28mself\u001b[39m\u001b[38;5;241m.\u001b[39mfilter_mode \u001b[38;5;241m==\u001b[39m \u001b[38;5;124m\"\u001b[39m\u001b[38;5;124mba\u001b[39m\u001b[38;5;124m\"\u001b[39m:\n\u001b[1;32m    151\u001b[0m     b, a \u001b[38;5;241m=\u001b[39m \u001b[38;5;28mself\u001b[39m\u001b[38;5;241m.\u001b[39mcoeff\n",
      "File \u001b[0;32m~/.local/lib/python3.10/site-packages/scipy/signal/_signaltools.py:4411\u001b[0m, in \u001b[0;36msosfiltfilt\u001b[0;34m(sos, x, axis, padtype, padlen)\u001b[0m\n\u001b[1;32m   4409\u001b[0m ntaps \u001b[38;5;241m=\u001b[39m \u001b[38;5;241m2\u001b[39m \u001b[38;5;241m*\u001b[39m n_sections \u001b[38;5;241m+\u001b[39m \u001b[38;5;241m1\u001b[39m\n\u001b[1;32m   4410\u001b[0m ntaps \u001b[38;5;241m-\u001b[39m\u001b[38;5;241m=\u001b[39m \u001b[38;5;28mmin\u001b[39m((sos[:, \u001b[38;5;241m2\u001b[39m] \u001b[38;5;241m==\u001b[39m \u001b[38;5;241m0\u001b[39m)\u001b[38;5;241m.\u001b[39msum(), (sos[:, \u001b[38;5;241m5\u001b[39m] \u001b[38;5;241m==\u001b[39m \u001b[38;5;241m0\u001b[39m)\u001b[38;5;241m.\u001b[39msum())\n\u001b[0;32m-> 4411\u001b[0m edge, ext \u001b[38;5;241m=\u001b[39m \u001b[43m_validate_pad\u001b[49m\u001b[43m(\u001b[49m\u001b[43mpadtype\u001b[49m\u001b[43m,\u001b[49m\u001b[43m \u001b[49m\u001b[43mpadlen\u001b[49m\u001b[43m,\u001b[49m\u001b[43m \u001b[49m\u001b[43mx\u001b[49m\u001b[43m,\u001b[49m\u001b[43m \u001b[49m\u001b[43maxis\u001b[49m\u001b[43m,\u001b[49m\n\u001b[1;32m   4412\u001b[0m \u001b[43m                          \u001b[49m\u001b[43mntaps\u001b[49m\u001b[38;5;241;43m=\u001b[39;49m\u001b[43mntaps\u001b[49m\u001b[43m)\u001b[49m\n\u001b[1;32m   4414\u001b[0m \u001b[38;5;66;03m# These steps follow the same form as filtfilt with modifications\u001b[39;00m\n\u001b[1;32m   4415\u001b[0m zi \u001b[38;5;241m=\u001b[39m sosfilt_zi(sos)  \u001b[38;5;66;03m# shape (n_sections, 2) --> (n_sections, ..., 2, ...)\u001b[39;00m\n",
      "File \u001b[0;32m~/.local/lib/python3.10/site-packages/scipy/signal/_signaltools.py:4189\u001b[0m, in \u001b[0;36m_validate_pad\u001b[0;34m(padtype, padlen, x, axis, ntaps)\u001b[0m\n\u001b[1;32m   4187\u001b[0m     ext \u001b[38;5;241m=\u001b[39m even_ext(x, edge, axis\u001b[38;5;241m=\u001b[39maxis)\n\u001b[1;32m   4188\u001b[0m \u001b[38;5;28;01melif\u001b[39;00m padtype \u001b[38;5;241m==\u001b[39m \u001b[38;5;124m'\u001b[39m\u001b[38;5;124modd\u001b[39m\u001b[38;5;124m'\u001b[39m:\n\u001b[0;32m-> 4189\u001b[0m     ext \u001b[38;5;241m=\u001b[39m \u001b[43modd_ext\u001b[49m\u001b[43m(\u001b[49m\u001b[43mx\u001b[49m\u001b[43m,\u001b[49m\u001b[43m \u001b[49m\u001b[43medge\u001b[49m\u001b[43m,\u001b[49m\u001b[43m \u001b[49m\u001b[43maxis\u001b[49m\u001b[38;5;241;43m=\u001b[39;49m\u001b[43maxis\u001b[49m\u001b[43m)\u001b[49m\n\u001b[1;32m   4190\u001b[0m \u001b[38;5;28;01melse\u001b[39;00m:\n\u001b[1;32m   4191\u001b[0m     ext \u001b[38;5;241m=\u001b[39m const_ext(x, edge, axis\u001b[38;5;241m=\u001b[39maxis)\n",
      "File \u001b[0;32m~/.local/lib/python3.10/site-packages/scipy/signal/_arraytools.py:100\u001b[0m, in \u001b[0;36modd_ext\u001b[0;34m(x, n, axis)\u001b[0m\n\u001b[1;32m     98\u001b[0m right_end \u001b[38;5;241m=\u001b[39m axis_slice(x, start\u001b[38;5;241m=\u001b[39m\u001b[38;5;241m-\u001b[39m\u001b[38;5;241m1\u001b[39m, axis\u001b[38;5;241m=\u001b[39maxis)\n\u001b[1;32m     99\u001b[0m right_ext \u001b[38;5;241m=\u001b[39m axis_slice(x, start\u001b[38;5;241m=\u001b[39m\u001b[38;5;241m-\u001b[39m\u001b[38;5;241m2\u001b[39m, stop\u001b[38;5;241m=\u001b[39m\u001b[38;5;241m-\u001b[39m(n \u001b[38;5;241m+\u001b[39m \u001b[38;5;241m2\u001b[39m), step\u001b[38;5;241m=\u001b[39m\u001b[38;5;241m-\u001b[39m\u001b[38;5;241m1\u001b[39m, axis\u001b[38;5;241m=\u001b[39maxis)\n\u001b[0;32m--> 100\u001b[0m ext \u001b[38;5;241m=\u001b[39m \u001b[43mnp\u001b[49m\u001b[38;5;241;43m.\u001b[39;49m\u001b[43mconcatenate\u001b[49m\u001b[43m(\u001b[49m\u001b[43m(\u001b[49m\u001b[38;5;241;43m2\u001b[39;49m\u001b[43m \u001b[49m\u001b[38;5;241;43m*\u001b[39;49m\u001b[43m \u001b[49m\u001b[43mleft_end\u001b[49m\u001b[43m \u001b[49m\u001b[38;5;241;43m-\u001b[39;49m\u001b[43m \u001b[49m\u001b[43mleft_ext\u001b[49m\u001b[43m,\u001b[49m\n\u001b[1;32m    101\u001b[0m \u001b[43m                      \u001b[49m\u001b[43mx\u001b[49m\u001b[43m,\u001b[49m\n\u001b[1;32m    102\u001b[0m \u001b[43m                      \u001b[49m\u001b[38;5;241;43m2\u001b[39;49m\u001b[43m \u001b[49m\u001b[38;5;241;43m*\u001b[39;49m\u001b[43m \u001b[49m\u001b[43mright_end\u001b[49m\u001b[43m \u001b[49m\u001b[38;5;241;43m-\u001b[39;49m\u001b[43m \u001b[49m\u001b[43mright_ext\u001b[49m\u001b[43m)\u001b[49m\u001b[43m,\u001b[49m\n\u001b[1;32m    103\u001b[0m \u001b[43m                     \u001b[49m\u001b[43maxis\u001b[49m\u001b[38;5;241;43m=\u001b[39;49m\u001b[43maxis\u001b[49m\u001b[43m)\u001b[49m\n\u001b[1;32m    104\u001b[0m \u001b[38;5;28;01mreturn\u001b[39;00m ext\n",
      "File \u001b[0;32m<__array_function__ internals>:200\u001b[0m, in \u001b[0;36mconcatenate\u001b[0;34m(*args, **kwargs)\u001b[0m\n",
      "\u001b[0;31mKeyboardInterrupt\u001b[0m: "
     ]
    }
   ],
   "source": [
    "traces = recording_chunk.get_traces(start_frame=100, end_frame=50000*15, segment_index=0,return_scaled=True)\n"
   ]
  },
  {
   "cell_type": "code",
   "execution_count": 8,
   "metadata": {},
   "outputs": [
    {
     "ename": "IndexError",
     "evalue": "index 899 is out of bounds for axis 1 with size 587",
     "output_type": "error",
     "traceback": [
      "\u001b[0;31m---------------------------------------------------------------------------\u001b[0m",
      "\u001b[0;31mIndexError\u001b[0m                                Traceback (most recent call last)",
      "Cell \u001b[0;32mIn[8], line 3\u001b[0m\n\u001b[1;32m      1\u001b[0m traces \u001b[38;5;241m=\u001b[39m recording_chunk\u001b[38;5;241m.\u001b[39mget_traces(start_frame\u001b[38;5;241m=\u001b[39m\u001b[38;5;241m306000\u001b[39m, end_frame\u001b[38;5;241m=\u001b[39m\u001b[38;5;241m311000\u001b[39m, segment_index\u001b[38;5;241m=\u001b[39m\u001b[38;5;241m0\u001b[39m,return_scaled\u001b[38;5;241m=\u001b[39m\u001b[38;5;28;01mFalse\u001b[39;00m)\n\u001b[1;32m      2\u001b[0m plt\u001b[38;5;241m.\u001b[39mfigure(figsize\u001b[38;5;241m=\u001b[39m(\u001b[38;5;241m30\u001b[39m,\u001b[38;5;241m2\u001b[39m))\n\u001b[0;32m----> 3\u001b[0m plt\u001b[38;5;241m.\u001b[39mplot(\u001b[43mtraces\u001b[49m\u001b[43m[\u001b[49m\u001b[43m:\u001b[49m\u001b[43m,\u001b[49m\u001b[38;5;241;43m899\u001b[39;49m\u001b[43m]\u001b[49m)\n\u001b[1;32m      4\u001b[0m \u001b[38;5;66;03m#plt.savefig('/home/mmp/Documents/traces/fulltrace_wt.svg',format='svg',dpi=600)\u001b[39;00m\n\u001b[1;32m      5\u001b[0m plt\u001b[38;5;241m.\u001b[39mshow()\n",
      "\u001b[0;31mIndexError\u001b[0m: index 899 is out of bounds for axis 1 with size 587"
     ]
    },
    {
     "data": {
      "text/plain": [
       "<Figure size 3000x200 with 0 Axes>"
      ]
     },
     "metadata": {},
     "output_type": "display_data"
    }
   ],
   "source": [
    "traces = recording_chunk.get_traces(start_frame=306000, end_frame=311000, segment_index=0,return_scaled=False)\n",
    "plt.figure(figsize=(30,2))\n",
    "plt.plot(traces[:,899])\n",
    "#plt.savefig('/home/mmp/Documents/traces/fulltrace_wt.svg',format='svg',dpi=600)\n",
    "plt.show()"
   ]
  },
  {
   "cell_type": "code",
   "execution_count": 70,
   "metadata": {},
   "outputs": [
    {
     "data": {
      "image/png": "[encoded data removed]",
      "text/plain": [
       "<Figure size 300x400 with 1 Axes>"
      ]
     },
     "metadata": {},
     "output_type": "display_data"
    }
   ],
   "source": [
    "traces = recording_chunk.get_traces(start_frame=278860, end_frame=278910, segment_index=0,return_scaled=True)\n",
    "plt.figure(figsize=(3,4))\n",
    "plt.plot(traces[:,500])\n",
    "plt.savefig('/home/mmp/Documents/traces/zoomedin.svg',format='svg')\n",
    "plt.show()"
   ]
  },
  {
   "cell_type": "code",
   "execution_count": 55,
   "metadata": {},
   "outputs": [
    {
     "name": "stdout",
     "output_type": "stream",
     "text": [
      "{'detect_threshold': 6, 'projection_threshold': [10, 4], 'preclust_threshold': 8, 'momentum': [20.0, 400.0], 'car': True, 'minFR': 0.1, 'minfr_goodchannels': 0.1, 'freq_min': 150, 'sigmaMask': 30, 'lam': 10.0, 'nPCs': 3, 'ntbuff': 64, 'nfilt_factor': 4, 'NT': None, 'AUCsplit': 0.9, 'wave_length': 61, 'keep_good_only': False, 'skip_kilosort_preprocessing': False, 'scaleproc': None, 'save_rez_to_mat': False, 'delete_tmp_files': ('matlab_files',), 'delete_recording_dat': False, 'n_jobs': 48, 'chunk_duration': '1s', 'progress_bar': True, 'mp_context': None, 'max_threads_per_process': 1}\n",
      "installation_mode='auto' switching to installation_mode: 'github'\n",
      "Starting container\n",
      "Running kilosort2 sorter inside rohanmalige/rohan_si-100:v1\n"
     ]
    }
   ],
   "source": [
    "default_KS2_params = ss.get_default_sorter_params('kilosort2')\n",
    "print(default_KS2_params)\n",
    "# default_KS2_params['keep_good_only'] = True\n",
    "# default_KS2_params['detect_threshold'] = 12\n",
    "# default_KS2_params['projection_threshold']=[18, 10]\n",
    "# default_KS2_params['preclust_threshold'] = 8\n",
    "run_sorter = ss.run_sorter('kilosort2',recording=recording_chunk, output_folder=\"./sorting/aggrgated_channels\", docker_image= \"rohanmalige/rohan_si-100:v1\",verbose=True, **default_KS2_params)\n",
    "\n",
    "## if running on NERSC:\n",
    "#run_sorter_local(\"kilosort2\",recording_chunk, output_folder=\"./sorting/FolicAcid10mg\", delete_output_folder=False,verbose=True,with_output=True,**default_KS2_params)\n",
    "#run_sorter = ss.run_sorter('kilosort2',recording= recording_chunk, output_folder=\"/mnt/disk15tb/mmpatil/Spikesorting/sorter_output/kilosort2\",docker_image= True,verbose=True, **default_KS2_params)"
   ]
  },
  {
   "cell_type": "code",
   "execution_count": 67,
   "metadata": {},
   "outputs": [
    {
     "name": "stdout",
     "output_type": "stream",
     "text": [
      "230\n",
      "['0' '1' '2' '3' '4' '5' '6' '7' '8' '9' '10' '11' '12' '13' '14' '15'\n",
      " '16' '17' '18' '19' '20' '21' '22' '23' '24' '25' '26' '27' '28' '29'\n",
      " '30' '31' '32' '33' '34' '35' '36' '37' '38' '39' '40' '41' '42' '43'\n",
      " '44' '45' '46' '47' '48' '49' '50' '51' '52' '53' '54' '55' '56' '57'\n",
      " '58' '59' '60' '61' '62' '63' '64' '65' '66' '67' '68' '69' '70' '71'\n",
      " '72' '73' '74' '75' '76' '77' '78' '79' '80' '81' '82' '83' '84' '85'\n",
      " '86' '87' '88' '89' '90' '91' '92' '93' '94' '95' '96' '97' '98' '99'\n",
      " '100' '101' '102' '103' '104' '105' '106' '107' '108' '109' '110' '111'\n",
      " '112' '113' '114' '115' '116' '117' '118' '119' '120' '121' '122' '123'\n",
      " '124' '125' '126' '127' '128' '129' '130' '131' '132' '133' '134' '135'\n",
      " '136' '137' '138' '139' '140' '141' '142' '143' '144' '145' '146' '147'\n",
      " '148' '149' '150' '151' '152' '153' '154' '155' '156' '157' '158' '159'\n",
      " '160' '161' '162' '163' '164' '165' '166' '167' '168' '169' '170' '171'\n",
      " '172' '173' '174' '175' '176' '177' '178' '179' '180' '181' '182' '183'\n",
      " '184' '185' '186' '187' '188' '189' '190' '191' '192' '193' '194' '195'\n",
      " '196' '197' '198' '199' '200' '201' '202' '203' '204' '205' '206' '207'\n",
      " '208' '209' '210' '211' '212' '213' '214' '215' '216' '217' '218' '219'\n",
      " '220' '221' '222' '223' '224' '225' '226' '227' '228' '229' '230' '231'\n",
      " '232' '233' '234' '235' '236' '237' '238' '239' '240' '241' '242' '243'\n",
      " '244' '245' '246' '247' '248' '249' '250' '251' '252' '253' '254' '255'\n",
      " '256' '257' '258' '259' '260' '261' '262' '263' '264' '265' '266' '267'\n",
      " '268' '270' '271' '272' '273' '274' '275' '276' '277' '278' '279' '280'\n",
      " '281' '282' '283' '284' '285' '286' '287' '288' '289' '290' '291' '292'\n",
      " '293' '294' '295' '296' '298' '299' '300' '302' '303' '304' '305' '306'\n",
      " '307' '308' '309' '310' '311' '312' '314' '315' '316' '318' '319' '320'\n",
      " '321' '322' '323' '324' '325' '326' '327' '328' '330' '331' '332' '334'\n",
      " '335' '336' '338' '339' '340' '342' '343' '344' '346' '347' '348' '350'\n",
      " '352' '353' '354' '355' '356' '358' '359' '364' '365' '366' '367' '368'\n",
      " '370' '371' '372' '374' '375' '376' '378' '380' '382' '383' '384' '385'\n",
      " '386' '387' '388' '389' '390' '391' '392' '393' '394' '395' '396' '397'\n",
      " '398' '399' '400' '401' '402' '403' '404' '405' '406' '407' '408' '409'\n",
      " '410' '411' '412' '413' '414' '415' '416' '417' '418' '419' '420' '421'\n",
      " '422' '423' '424' '425' '426' '427' '428' '429' '430' '431' '432' '433'\n",
      " '434' '435' '436' '437' '438' '439' '440' '441' '442' '443' '444' '445'\n",
      " '446' '447' '448' '449' '450' '451' '452' '453' '454' '455' '456' '457'\n",
      " '458' '459' '460' '461' '462' '463' '464' '466' '467' '468' '469' '470'\n",
      " '471' '472' '473' '474' '475' '476' '477' '478' '479' '480' '481' '482'\n",
      " '483' '484' '485' '486' '487' '488' '489' '490' '491' '492' '494' '495'\n",
      " '496' '498' '499' '500' '502' '503' '504' '506' '507' '508' '510' '511'\n",
      " '512' '513' '514' '515' '516' '517' '518' '519' '520' '521' '522' '523'\n",
      " '524' '525' '526' '527' '528' '529' '530' '531' '532' '533' '534' '535'\n",
      " '536' '537' '538' '539' '540' '541' '542' '543' '544' '545' '546' '547'\n",
      " '548' '549' '550' '551' '552' '553' '554' '555' '556' '557' '558' '559'\n",
      " '560' '561' '562' '563' '564' '565' '566' '567' '568' '569' '570' '571'\n",
      " '572' '573' '574' '575' '576' '577' '578' '579' '580' '581' '582' '583'\n",
      " '584' '585' '586' '587' '588' '589' '590' '591' '592' '593' '594' '595'\n",
      " '596' '597' '598' '599' '600' '601' '602' '603' '604' '605' '606' '607'\n",
      " '608' '609' '610' '611' '612' '613' '614' '615' '616' '617' '618' '619'\n",
      " '620' '621' '622' '623' '624' '625' '626' '627' '628' '629' '630' '631'\n",
      " '632' '633' '634' '635' '636' '637' '638' '639' '640' '641' '642' '643'\n",
      " '644' '645' '646' '647' '648' '649' '650' '651' '652' '653' '654' '655'\n",
      " '656' '657' '658' '659' '660' '661' '662' '663' '664' '665' '666' '667'\n",
      " '668' '669' '670' '671' '672' '673' '674' '675' '676' '677' '678' '679'\n",
      " '680' '681' '682' '683' '684' '685' '686' '687' '688' '689' '690' '691'\n",
      " '692' '693' '694' '695' '696' '697' '698' '699' '700' '701' '702' '703'\n",
      " '704' '705' '706' '707' '708' '709' '710' '711' '712' '713' '714' '715'\n",
      " '716' '717' '718' '719' '720' '721' '722' '723' '724' '725' '726' '727'\n",
      " '728' '729' '730' '731' '732' '733' '734' '735' '736' '737' '738' '739'\n",
      " '740' '741' '742' '743' '744' '745' '746' '747' '748' '749' '750' '751'\n",
      " '752' '753' '754' '755' '756' '757' '758' '759' '760' '761' '762' '763'\n",
      " '764' '765' '766' '767' '768' '769' '770' '771' '772' '773' '774' '775'\n",
      " '776' '777' '778' '779' '780' '781' '782' '783' '784' '785' '786' '787'\n",
      " '788' '789' '790' '791' '792' '793' '794' '795' '796' '797' '798' '799'\n",
      " '800' '801' '802' '803' '804' '805' '806' '807' '808' '809' '810' '811'\n",
      " '812' '813' '814' '815' '816' '817' '818' '819' '820' '821' '822' '823'\n",
      " '824' '825' '826' '827' '828' '829' '830' '831' '832' '833' '834' '835'\n",
      " '836' '837' '838' '839' '840' '841' '842' '843' '844' '845' '846' '847'\n",
      " '848' '849' '850' '851' '852' '853' '854' '855' '856' '857' '858' '859'\n",
      " '860' '861' '862' '863' '864' '865' '866' '867' '868' '869' '870' '871'\n",
      " '872' '873' '874' '875' '876' '877' '878' '879' '880' '881' '882' '883'\n",
      " '884' '885' '886' '887' '888' '889' '890' '891' '892' '893' '894' '895'\n",
      " '896' '897' '898' '899' '900' '901' '902' '903' '904' '905' '906' '907'\n",
      " '908' '909' '910' '911' '912' '913' '914' '915' '916' '917' '918' '919'\n",
      " '920' '921' '922' '923' '924' '925' '926' '927' '928' '929' '930' '931'\n",
      " '932' '933' '934' '935' '936' '937' '938' '939' '940' '941' '942' '943'\n",
      " '944' '945' '946' '947' '948' '949' '950' '951' '952' '953' '954' '955'\n",
      " '956' '957' '958' '959' '960' '961' '962' '963' '964' '965' '966' '967'\n",
      " '968' '969' '970' '971' '972' '973' '974' '975' '976' '977' '978' '979'\n",
      " '980' '981' '982' '983' '984' '985' '986' '987' '988' '989' '990' '991'\n",
      " '992' '993' '994' '995' '996' '997' '998' '999' '1000' '1001' '1002'\n",
      " '1003' '1004' '1005' '1006' '1007' '1008' '1009' '1010' '1011' '1012'\n",
      " '1013' '1014' '1015' '1016' '1017' '1018' '1019' '1020' '1021' '1022'\n",
      " '1023']\n"
     ]
    },
    {
     "name": "stderr",
     "output_type": "stream",
     "text": [
      "/home/mmp/.local/lib/python3.10/site-packages/spikeinterface/core/basesorting.py:239: UserWarning: The registered recording will not be persistent on disk, but only available in memory\n",
      "  warnings.warn(\"The registered recording will not be persistent on disk, but only available in memory\")\n"
     ]
    }
   ],
   "source": [
    "\n",
    "# loading the KS2 sorted object\n",
    "sortingKS3 = run_sorter.remove_empty_units()\n",
    "sortingKS3 = spikeinterface.curation.remove_excess_spikes(sortingKS3,recording_chunk) #Sometimes KS returns spikes outside the number of samples. < https://github.com/SpikeInterface/spikeinterface/pull/1378>\n",
    "\n",
    "sortingKS3= sortingKS3.save(folder = './sorting/RETT_organoid_16876_KS2')\n",
    "#sorting_KS3 = s.Kilosort2Sorter._get_result_from_folder('./sorting/FolicAcidT2M07038_2_KS/sorter_output')\n",
    "total_units = sortingKS3.get_unit_ids()\n",
    "print(len(total_units))\n",
    "#print(len(total_units))\n",
    "channel_ids = recording_chunk.get_channel_ids()\n",
    "print(channel_ids)"
   ]
  },
  {
   "cell_type": "markdown",
   "metadata": {},
   "source": [
    "## Extracting the waveforms"
   ]
  },
  {
   "cell_type": "code",
   "execution_count": 68,
   "metadata": {},
   "outputs": [
    {
     "data": {
      "application/vnd.jupyter.widget-view+json": {
       "model_id": "885ea7ed4e094dd5875055d635ef6e0c",
       "version_major": 2,
       "version_minor": 0
      },
      "text/plain": [
       "extract waveforms shared_memory multi buffer:   0%|          | 0/180 [00:00<?, ?it/s]"
      ]
     },
     "metadata": {},
     "output_type": "display_data"
    },
    {
     "data": {
      "application/vnd.jupyter.widget-view+json": {
       "model_id": "36509db65be3430eba1e559e5b567b6a",
       "version_major": 2,
       "version_minor": 0
      },
      "text/plain": [
       "extract waveforms shared_memory multi buffer:   0%|          | 0/180 [00:00<?, ?it/s]"
      ]
     },
     "metadata": {},
     "output_type": "display_data"
    },
    {
     "data": {
      "application/vnd.jupyter.widget-view+json": {
       "model_id": "fd9d3d850812499398b0d77d84cd5999",
       "version_major": 2,
       "version_minor": 0
      },
      "text/plain": [
       "extract waveforms memmap multi buffer:   0%|          | 0/180 [00:00<?, ?it/s]"
      ]
     },
     "metadata": {},
     "output_type": "display_data"
    },
    {
     "name": "stdout",
     "output_type": "stream",
     "text": [
      "WaveformExtractor: 996 channels - 230 units - 1 segments\n",
      "  before:20 after:40 n_per_units:500 - sparse\n"
     ]
    }
   ],
   "source": [
    "\n",
    "job_kwargs = dict(n_jobs=32, chunk_duration=\"1s\", progress_bar=True)\n",
    "#waveforms = si.extract_waveforms(recording_chunk,sorting_KS3,folder=\"./waveformsblock1_7min\",overwrite=True, ms_before=1., ms_after=2.,**job_kwargs)\n",
    "waveforms = si.extract_waveforms(recording_chunk,sortingKS3,folder='./sorting/RETT_organoid_16876_waveforms',overwrite=True,**job_kwargs)\n",
    "print(waveforms)"
   ]
  },
  {
   "cell_type": "code",
   "execution_count": 1,
   "metadata": {},
   "outputs": [
    {
     "name": "stdout",
     "output_type": "stream",
     "text": [
      "hello\n"
     ]
    }
   ],
   "source": [
    "print('hello')"
   ]
  },
  {
   "cell_type": "code",
   "execution_count": null,
   "metadata": {},
   "outputs": [],
   "source": [
    "sorter = si.sorters._get_res"
   ]
  },
  {
   "cell_type": "code",
   "execution_count": 6,
   "metadata": {},
   "outputs": [
    {
     "ename": "ValueError",
     "evalue": "This WaveformExtractor folder was created with an older version of spikeinterface\nYou cannot use the mode with_recording=False",
     "output_type": "error",
     "traceback": [
      "\u001b[0;31m---------------------------------------------------------------------------\u001b[0m",
      "\u001b[0;31mValueError\u001b[0m                                Traceback (most recent call last)",
      "Cell \u001b[0;32mIn[6], line 1\u001b[0m\n\u001b[0;32m----> 1\u001b[0m waveforms \u001b[38;5;241m=\u001b[39m \u001b[43msi\u001b[49m\u001b[38;5;241;43m.\u001b[39;49m\u001b[43mload_waveforms\u001b[49m\u001b[43m(\u001b[49m\u001b[38;5;124;43m'\u001b[39;49m\u001b[38;5;124;43m/mnt/disk15tb/adam/git_workspace/MEA_Analysis/AxonReconPipeline/data/temp_data/waveforms/240118/M06844/AxonTracking/000026/well001/waveforms/\u001b[39;49m\u001b[38;5;124;43m'\u001b[39;49m\u001b[43m,\u001b[49m\u001b[43mwith_recording\u001b[49m\u001b[38;5;241;43m=\u001b[39;49m\u001b[38;5;28;43;01mFalse\u001b[39;49;00m\u001b[43m)\u001b[49m\n",
      "File \u001b[0;32m~/.local/lib/python3.10/site-packages/spikeinterface/core/waveform_extractor.py:1716\u001b[0m, in \u001b[0;36mload_waveforms\u001b[0;34m(folder, with_recording, sorting)\u001b[0m\n\u001b[1;32m   1697\u001b[0m \u001b[38;5;28;01mdef\u001b[39;00m \u001b[38;5;21mload_waveforms\u001b[39m(folder, with_recording: \u001b[38;5;28mbool\u001b[39m \u001b[38;5;241m=\u001b[39m \u001b[38;5;28;01mTrue\u001b[39;00m, sorting: Optional[BaseSorting] \u001b[38;5;241m=\u001b[39m \u001b[38;5;28;01mNone\u001b[39;00m) \u001b[38;5;241m-\u001b[39m\u001b[38;5;241m>\u001b[39m WaveformExtractor:\n\u001b[1;32m   1698\u001b[0m \u001b[38;5;250m    \u001b[39m\u001b[38;5;124;03m\"\"\"\u001b[39;00m\n\u001b[1;32m   1699\u001b[0m \u001b[38;5;124;03m    Load a waveform extractor object from disk.\u001b[39;00m\n\u001b[1;32m   1700\u001b[0m \n\u001b[0;32m   (...)\u001b[0m\n\u001b[1;32m   1714\u001b[0m \u001b[38;5;124;03m        The loaded waveform extractor\u001b[39;00m\n\u001b[1;32m   1715\u001b[0m \u001b[38;5;124;03m    \"\"\"\u001b[39;00m\n\u001b[0;32m-> 1716\u001b[0m     \u001b[38;5;28;01mreturn\u001b[39;00m \u001b[43mWaveformExtractor\u001b[49m\u001b[38;5;241;43m.\u001b[39;49m\u001b[43mload\u001b[49m\u001b[43m(\u001b[49m\u001b[43mfolder\u001b[49m\u001b[43m,\u001b[49m\u001b[43m \u001b[49m\u001b[43mwith_recording\u001b[49m\u001b[43m,\u001b[49m\u001b[43m \u001b[49m\u001b[43msorting\u001b[49m\u001b[43m)\u001b[49m\n",
      "File \u001b[0;32m~/.local/lib/python3.10/site-packages/spikeinterface/core/waveform_extractor.py:137\u001b[0m, in \u001b[0;36mWaveformExtractor.load\u001b[0;34m(cls, folder, with_recording, sorting)\u001b[0m\n\u001b[1;32m    135\u001b[0m     \u001b[38;5;28;01mreturn\u001b[39;00m WaveformExtractor\u001b[38;5;241m.\u001b[39mload_from_zarr(folder, with_recording\u001b[38;5;241m=\u001b[39mwith_recording, sorting\u001b[38;5;241m=\u001b[39msorting)\n\u001b[1;32m    136\u001b[0m \u001b[38;5;28;01melse\u001b[39;00m:\n\u001b[0;32m--> 137\u001b[0m     \u001b[38;5;28;01mreturn\u001b[39;00m \u001b[43mWaveformExtractor\u001b[49m\u001b[38;5;241;43m.\u001b[39;49m\u001b[43mload_from_folder\u001b[49m\u001b[43m(\u001b[49m\u001b[43mfolder\u001b[49m\u001b[43m,\u001b[49m\u001b[43m \u001b[49m\u001b[43mwith_recording\u001b[49m\u001b[38;5;241;43m=\u001b[39;49m\u001b[43mwith_recording\u001b[49m\u001b[43m,\u001b[49m\u001b[43m \u001b[49m\u001b[43msorting\u001b[49m\u001b[38;5;241;43m=\u001b[39;49m\u001b[43msorting\u001b[49m\u001b[43m)\u001b[49m\n",
      "File \u001b[0;32m~/.local/lib/python3.10/site-packages/spikeinterface/core/waveform_extractor.py:151\u001b[0m, in \u001b[0;36mWaveformExtractor.load_from_folder\u001b[0;34m(cls, folder, with_recording, sorting)\u001b[0m\n\u001b[1;32m    149\u001b[0m rec_attributes_file \u001b[38;5;241m=\u001b[39m folder \u001b[38;5;241m/\u001b[39m \u001b[38;5;124m\"\u001b[39m\u001b[38;5;124mrecording_info\u001b[39m\u001b[38;5;124m\"\u001b[39m \u001b[38;5;241m/\u001b[39m \u001b[38;5;124m\"\u001b[39m\u001b[38;5;124mrecording_attributes.json\u001b[39m\u001b[38;5;124m\"\u001b[39m\n\u001b[1;32m    150\u001b[0m \u001b[38;5;28;01mif\u001b[39;00m \u001b[38;5;129;01mnot\u001b[39;00m rec_attributes_file\u001b[38;5;241m.\u001b[39mexists():\n\u001b[0;32m--> 151\u001b[0m     \u001b[38;5;28;01mraise\u001b[39;00m \u001b[38;5;167;01mValueError\u001b[39;00m(\n\u001b[1;32m    152\u001b[0m         \u001b[38;5;124m\"\u001b[39m\u001b[38;5;124mThis WaveformExtractor folder was created with an older version of spikeinterface\u001b[39m\u001b[38;5;124m\"\u001b[39m\n\u001b[1;32m    153\u001b[0m         \u001b[38;5;124m\"\u001b[39m\u001b[38;5;130;01m\\n\u001b[39;00m\u001b[38;5;124mYou cannot use the mode with_recording=False\u001b[39m\u001b[38;5;124m\"\u001b[39m\n\u001b[1;32m    154\u001b[0m     )\n\u001b[1;32m    155\u001b[0m \u001b[38;5;28;01mwith\u001b[39;00m \u001b[38;5;28mopen\u001b[39m(rec_attributes_file, \u001b[38;5;124m\"\u001b[39m\u001b[38;5;124mr\u001b[39m\u001b[38;5;124m\"\u001b[39m) \u001b[38;5;28;01mas\u001b[39;00m f:\n\u001b[1;32m    156\u001b[0m     rec_attributes \u001b[38;5;241m=\u001b[39m json\u001b[38;5;241m.\u001b[39mload(f)\n",
      "\u001b[0;31mValueError\u001b[0m: This WaveformExtractor folder was created with an older version of spikeinterface\nYou cannot use the mode with_recording=False"
     ]
    }
   ],
   "source": [
    "waveforms = si.load_waveforms('/mnt/disk15tb/adam/git_workspace/MEA_Analysis/AxonReconPipeline/data/temp_data/waveforms/240118/M06844/AxonTracking/000026/well001/waveforms/',with_recording=False)"
   ]
  },
  {
   "cell_type": "code",
   "execution_count": 69,
   "metadata": {},
   "outputs": [
    {
     "data": {
      "application/vnd.jupyter.widget-view+json": {
       "model_id": "a51e7ae0b33140c99ff83ee82c43886d",
       "version_major": 2,
       "version_minor": 0
      },
      "text/plain": [
       "write_binary_recording:   0%|          | 0/180 [00:00<?, ?it/s]"
      ]
     },
     "metadata": {},
     "output_type": "display_data"
    },
    {
     "data": {
      "application/vnd.jupyter.widget-view+json": {
       "model_id": "3b612d1779ae46bfaefa7377d819a3c1",
       "version_major": 2,
       "version_minor": 0
      },
      "text/plain": [
       "extract amplitudes:   0%|          | 0/180 [00:00<?, ?it/s]"
      ]
     },
     "metadata": {},
     "output_type": "display_data"
    },
    {
     "data": {
      "application/vnd.jupyter.widget-view+json": {
       "model_id": "2fc3d897bf5c461ea5a8d93b3841d9ef",
       "version_major": 2,
       "version_minor": 0
      },
      "text/plain": [
       "Fitting PCA:   0%|          | 0/230 [00:00<?, ?it/s]"
      ]
     },
     "metadata": {},
     "output_type": "display_data"
    },
    {
     "data": {
      "application/vnd.jupyter.widget-view+json": {
       "model_id": "5bee0fee6d8f44c6ba35330ca28eaeed",
       "version_major": 2,
       "version_minor": 0
      },
      "text/plain": [
       "Projecting waveforms:   0%|          | 0/230 [00:00<?, ?it/s]"
      ]
     },
     "metadata": {},
     "output_type": "display_data"
    },
    {
     "data": {
      "application/vnd.jupyter.widget-view+json": {
       "model_id": "4804b83953fc4b1781f90e2b0fb0cc35",
       "version_major": 2,
       "version_minor": 0
      },
      "text/plain": [
       "extract PCs:   0%|          | 0/180 [00:00<?, ?it/s]"
      ]
     },
     "metadata": {},
     "output_type": "display_data"
    },
    {
     "name": "stdout",
     "output_type": "stream",
     "text": [
      "Run:\n",
      "phy template-gui  /mnt/disk15tb/mmpatil/MEA_Analysis/IPNAnalysis/sorting/RETT_organoid_16876_phy/params.py\n"
     ]
    }
   ],
   "source": [
    "si.export_to_phy(waveform_extractor=waveforms,output_folder='./sorting/RETT_organoid_16876_phy',**job_kwargs)"
   ]
  },
  {
   "cell_type": "code",
   "execution_count": null,
   "metadata": {},
   "outputs": [],
   "source": []
  },
  {
   "cell_type": "code",
   "execution_count": null,
   "metadata": {},
   "outputs": [],
   "source": []
  },
  {
   "cell_type": "code",
   "execution_count": 70,
   "metadata": {},
   "outputs": [],
   "source": [
    "extremum_channels_ids =si.get_template_extremum_channel(waveforms,peak_sign ='both',mode='at_index')"
   ]
  },
  {
   "cell_type": "code",
   "execution_count": 71,
   "metadata": {},
   "outputs": [
    {
     "data": {
      "text/plain": [
       "(60, 18)"
      ]
     },
     "execution_count": 71,
     "metadata": {},
     "output_type": "execute_result"
    }
   ],
   "source": [
    "template = waveforms.get_template(5,mode='median')\n",
    "template.shape"
   ]
  },
  {
   "cell_type": "code",
   "execution_count": 72,
   "metadata": {},
   "outputs": [
    {
     "name": "stderr",
     "output_type": "stream",
     "text": [
      "/home/mmp/.local/lib/python3.10/site-packages/spikeinterface/qualitymetrics/misc_metrics.py:1221: UserWarning: Amplitude PDF does not have a unique minimum! More spikes might be required for a correct amplitude_cutoff computation!\n",
      "  warnings.warn(\n",
      "/home/mmp/.local/lib/python3.10/site-packages/spikeinterface/qualitymetrics/misc_metrics.py:848: UserWarning: Units [2, 4, 5, 6, 8, 9, 10, 11, 12, 13, 14, 17, 18, 20, 23, 24, 26, 29, 31, 32, 35, 36, 37, 40, 41, 42, 46, 47, 49, 50, 51, 52, 53, 54, 55, 57, 60, 61, 62, 63, 64, 65, 66, 67, 68, 69, 70, 74, 76, 77, 78, 82, 83, 84, 85, 87, 88, 89, 90, 91, 92, 94, 97, 98, 103, 104, 105, 106, 107, 108, 109, 111, 112, 114, 115, 116, 117, 120, 122, 123, 124, 125, 127, 129, 130, 131, 132, 133, 134, 135, 136, 137, 138, 141, 143, 144, 149, 150, 151, 154, 155, 156, 157, 158, 159, 160, 161, 162, 163, 164, 167, 168, 169, 170, 171, 172, 174, 175, 177, 181, 182, 185, 186, 187, 190, 191, 193, 194, 196, 197, 198, 199, 203, 204, 205, 208, 209, 210, 212, 213, 214, 215, 216, 217, 218, 220, 221, 222, 223, 224, 225, 226, 228, 229, 231, 233, 234, 237, 238, 239, 240, 241, 242, 243, 245, 246] have too few spikes and amplitude_cutoff is set to NaN\n",
      "  warnings.warn(f\"Units {nan_units} have too few spikes and \" \"amplitude_cutoff is set to NaN\")\n",
      "/home/mmp/.local/lib/python3.10/site-packages/numpy/core/_methods.py:269: RuntimeWarning: Degrees of freedom <= 0 for slice\n",
      "  ret = _var(a, axis=axis, dtype=dtype, out=out, ddof=ddof,\n",
      "/home/mmp/.local/lib/python3.10/site-packages/numpy/core/_methods.py:226: RuntimeWarning: invalid value encountered in divide\n",
      "  arrmean = um.true_divide(arrmean, div, out=arrmean,\n",
      "/home/mmp/.local/lib/python3.10/site-packages/numpy/core/_methods.py:261: RuntimeWarning: invalid value encountered in divide\n",
      "  ret = ret.dtype.type(ret / rcount)\n",
      "/home/mmp/.local/lib/python3.10/site-packages/spikeinterface/qualitymetrics/misc_metrics.py:235: RuntimeWarning: divide by zero encountered in scalar divide\n",
      "  snrs[unit_id] = np.abs(amplitude) / noise\n"
     ]
    },
    {
     "data": {
      "application/vnd.jupyter.widget-view+json": {
       "model_id": "49f7ff54ed8b4e76acf1c603221a1bb6",
       "version_major": 2,
       "version_minor": 0
      },
      "text/plain": [
       "  0%|          | 0/230 [00:00<?, ?it/s]"
      ]
     },
     "metadata": {},
     "output_type": "display_data"
    },
    {
     "name": "stderr",
     "output_type": "stream",
     "text": [
      "/home/mmp/.local/lib/python3.10/site-packages/spikeinterface/qualitymetrics/pca_metrics.py:227: RuntimeWarning: Degrees of freedom <= 0 for slice\n",
      "  VI = np.linalg.inv(np.cov(pcs_for_this_unit.T))\n",
      "/home/mmp/.local/lib/python3.10/site-packages/numpy/lib/function_base.py:2705: RuntimeWarning: divide by zero encountered in divide\n",
      "  c *= np.true_divide(1, fact)\n",
      "/home/mmp/.local/lib/python3.10/site-packages/numpy/lib/function_base.py:2705: RuntimeWarning: invalid value encountered in multiply\n",
      "  c *= np.true_divide(1, fact)\n",
      "/home/mmp/.local/lib/python3.10/site-packages/spikeinterface/qualitymetrics/pca_metrics.py:227: RuntimeWarning: Degrees of freedom <= 0 for slice\n",
      "  VI = np.linalg.inv(np.cov(pcs_for_this_unit.T))\n",
      "/home/mmp/.local/lib/python3.10/site-packages/numpy/lib/function_base.py:2705: RuntimeWarning: divide by zero encountered in divide\n",
      "  c *= np.true_divide(1, fact)\n",
      "/home/mmp/.local/lib/python3.10/site-packages/numpy/lib/function_base.py:2705: RuntimeWarning: invalid value encountered in multiply\n",
      "  c *= np.true_divide(1, fact)\n"
     ]
    }
   ],
   "source": [
    "\n",
    "job_kwargs = dict(n_jobs=16, chunk_duration=\"1s\", progress_bar=True)\n",
    "sp.compute_spike_amplitudes(waveforms,load_if_exists=True,**job_kwargs)\n",
    "metrics = qm.compute_quality_metrics(waveforms,load_if_exists=False,**job_kwargs)"
   ]
  },
  {
   "cell_type": "code",
   "execution_count": 73,
   "metadata": {},
   "outputs": [
    {
     "data": {
      "text/html": [
       "<div>\n",
       "<style scoped>\n",
       "    .dataframe tbody tr th:only-of-type {\n",
       "        vertical-align: middle;\n",
       "    }\n",
       "\n",
       "    .dataframe tbody tr th {\n",
       "        vertical-align: top;\n",
       "    }\n",
       "\n",
       "    .dataframe thead th {\n",
       "        text-align: right;\n",
       "    }\n",
       "</style>\n",
       "<table border=\"1\" class=\"dataframe\">\n",
       "  <thead>\n",
       "    <tr style=\"text-align: right;\">\n",
       "      <th></th>\n",
       "      <th>amplitude_cutoff</th>\n",
       "      <th>amplitude_cv_median</th>\n",
       "      <th>amplitude_cv_range</th>\n",
       "      <th>amplitude_median</th>\n",
       "      <th>firing_range</th>\n",
       "      <th>firing_rate</th>\n",
       "      <th>isi_violations_ratio</th>\n",
       "      <th>isi_violations_count</th>\n",
       "      <th>num_spikes</th>\n",
       "      <th>presence_ratio</th>\n",
       "      <th>...</th>\n",
       "      <th>snr</th>\n",
       "      <th>sync_spike_2</th>\n",
       "      <th>sync_spike_4</th>\n",
       "      <th>sync_spike_8</th>\n",
       "      <th>d_prime</th>\n",
       "      <th>isolation_distance</th>\n",
       "      <th>l_ratio</th>\n",
       "      <th>silhouette</th>\n",
       "      <th>nn_hit_rate</th>\n",
       "      <th>nn_miss_rate</th>\n",
       "    </tr>\n",
       "  </thead>\n",
       "  <tbody>\n",
       "    <tr>\n",
       "      <th>2</th>\n",
       "      <td>NaN</td>\n",
       "      <td>NaN</td>\n",
       "      <td>NaN</td>\n",
       "      <td>188.827515</td>\n",
       "      <td>0.75</td>\n",
       "      <td>0.200000</td>\n",
       "      <td>0.000000</td>\n",
       "      <td>0.0</td>\n",
       "      <td>36.0</td>\n",
       "      <td>0.666667</td>\n",
       "      <td>...</td>\n",
       "      <td>19.485260</td>\n",
       "      <td>0.305556</td>\n",
       "      <td>0.000000</td>\n",
       "      <td>0.0</td>\n",
       "      <td>8.051448</td>\n",
       "      <td>4.111621e+15</td>\n",
       "      <td>NaN</td>\n",
       "      <td>0.390869</td>\n",
       "      <td>0.798611</td>\n",
       "      <td>0.002859</td>\n",
       "    </tr>\n",
       "    <tr>\n",
       "      <th>3</th>\n",
       "      <td>0.111070</td>\n",
       "      <td>0.205898</td>\n",
       "      <td>0.089645</td>\n",
       "      <td>31.471252</td>\n",
       "      <td>9.40</td>\n",
       "      <td>3.805556</td>\n",
       "      <td>0.383611</td>\n",
       "      <td>3.0</td>\n",
       "      <td>685.0</td>\n",
       "      <td>1.000000</td>\n",
       "      <td>...</td>\n",
       "      <td>inf</td>\n",
       "      <td>0.140146</td>\n",
       "      <td>0.000000</td>\n",
       "      <td>0.0</td>\n",
       "      <td>NaN</td>\n",
       "      <td>NaN</td>\n",
       "      <td>NaN</td>\n",
       "      <td>NaN</td>\n",
       "      <td>NaN</td>\n",
       "      <td>NaN</td>\n",
       "    </tr>\n",
       "    <tr>\n",
       "      <th>4</th>\n",
       "      <td>NaN</td>\n",
       "      <td>NaN</td>\n",
       "      <td>NaN</td>\n",
       "      <td>18.882751</td>\n",
       "      <td>3.90</td>\n",
       "      <td>2.361111</td>\n",
       "      <td>0.664360</td>\n",
       "      <td>2.0</td>\n",
       "      <td>425.0</td>\n",
       "      <td>1.000000</td>\n",
       "      <td>...</td>\n",
       "      <td>2.205976</td>\n",
       "      <td>0.089412</td>\n",
       "      <td>0.000000</td>\n",
       "      <td>0.0</td>\n",
       "      <td>2.579497</td>\n",
       "      <td>7.794434e+01</td>\n",
       "      <td>0.489470</td>\n",
       "      <td>0.065355</td>\n",
       "      <td>0.534706</td>\n",
       "      <td>0.082265</td>\n",
       "    </tr>\n",
       "    <tr>\n",
       "      <th>5</th>\n",
       "      <td>NaN</td>\n",
       "      <td>NaN</td>\n",
       "      <td>NaN</td>\n",
       "      <td>31.471252</td>\n",
       "      <td>6.70</td>\n",
       "      <td>1.788889</td>\n",
       "      <td>50.923961</td>\n",
       "      <td>88.0</td>\n",
       "      <td>322.0</td>\n",
       "      <td>1.000000</td>\n",
       "      <td>...</td>\n",
       "      <td>2.987026</td>\n",
       "      <td>0.232919</td>\n",
       "      <td>0.003106</td>\n",
       "      <td>0.0</td>\n",
       "      <td>8.483622</td>\n",
       "      <td>2.187090e+02</td>\n",
       "      <td>0.000838</td>\n",
       "      <td>0.079625</td>\n",
       "      <td>0.333075</td>\n",
       "      <td>0.001374</td>\n",
       "    </tr>\n",
       "    <tr>\n",
       "      <th>6</th>\n",
       "      <td>NaN</td>\n",
       "      <td>NaN</td>\n",
       "      <td>NaN</td>\n",
       "      <td>69.236755</td>\n",
       "      <td>3.20</td>\n",
       "      <td>1.277778</td>\n",
       "      <td>0.000000</td>\n",
       "      <td>0.0</td>\n",
       "      <td>230.0</td>\n",
       "      <td>1.000000</td>\n",
       "      <td>...</td>\n",
       "      <td>7.466300</td>\n",
       "      <td>0.334783</td>\n",
       "      <td>0.013043</td>\n",
       "      <td>0.0</td>\n",
       "      <td>8.531018</td>\n",
       "      <td>6.112089e+02</td>\n",
       "      <td>0.018635</td>\n",
       "      <td>0.114556</td>\n",
       "      <td>0.871739</td>\n",
       "      <td>0.022306</td>\n",
       "    </tr>\n",
       "    <tr>\n",
       "      <th>...</th>\n",
       "      <td>...</td>\n",
       "      <td>...</td>\n",
       "      <td>...</td>\n",
       "      <td>...</td>\n",
       "      <td>...</td>\n",
       "      <td>...</td>\n",
       "      <td>...</td>\n",
       "      <td>...</td>\n",
       "      <td>...</td>\n",
       "      <td>...</td>\n",
       "      <td>...</td>\n",
       "      <td>...</td>\n",
       "      <td>...</td>\n",
       "      <td>...</td>\n",
       "      <td>...</td>\n",
       "      <td>...</td>\n",
       "      <td>...</td>\n",
       "      <td>...</td>\n",
       "      <td>...</td>\n",
       "      <td>...</td>\n",
       "      <td>...</td>\n",
       "    </tr>\n",
       "    <tr>\n",
       "      <th>242</th>\n",
       "      <td>NaN</td>\n",
       "      <td>NaN</td>\n",
       "      <td>NaN</td>\n",
       "      <td>12.588501</td>\n",
       "      <td>4.05</td>\n",
       "      <td>1.677778</td>\n",
       "      <td>1.315732</td>\n",
       "      <td>2.0</td>\n",
       "      <td>302.0</td>\n",
       "      <td>1.000000</td>\n",
       "      <td>...</td>\n",
       "      <td>1.114471</td>\n",
       "      <td>0.102649</td>\n",
       "      <td>0.000000</td>\n",
       "      <td>0.0</td>\n",
       "      <td>NaN</td>\n",
       "      <td>NaN</td>\n",
       "      <td>NaN</td>\n",
       "      <td>NaN</td>\n",
       "      <td>NaN</td>\n",
       "      <td>NaN</td>\n",
       "    </tr>\n",
       "    <tr>\n",
       "      <th>243</th>\n",
       "      <td>NaN</td>\n",
       "      <td>NaN</td>\n",
       "      <td>NaN</td>\n",
       "      <td>18.882751</td>\n",
       "      <td>3.65</td>\n",
       "      <td>1.505556</td>\n",
       "      <td>4.901894</td>\n",
       "      <td>6.0</td>\n",
       "      <td>271.0</td>\n",
       "      <td>1.000000</td>\n",
       "      <td>...</td>\n",
       "      <td>inf</td>\n",
       "      <td>0.173432</td>\n",
       "      <td>0.000000</td>\n",
       "      <td>0.0</td>\n",
       "      <td>2.401139</td>\n",
       "      <td>1.083300e+02</td>\n",
       "      <td>0.582101</td>\n",
       "      <td>0.015986</td>\n",
       "      <td>0.140221</td>\n",
       "      <td>0.011869</td>\n",
       "    </tr>\n",
       "    <tr>\n",
       "      <th>244</th>\n",
       "      <td>0.019193</td>\n",
       "      <td>0.374915</td>\n",
       "      <td>0.128513</td>\n",
       "      <td>12.588501</td>\n",
       "      <td>9.55</td>\n",
       "      <td>4.783333</td>\n",
       "      <td>0.000000</td>\n",
       "      <td>0.0</td>\n",
       "      <td>861.0</td>\n",
       "      <td>1.000000</td>\n",
       "      <td>...</td>\n",
       "      <td>1.496018</td>\n",
       "      <td>0.082462</td>\n",
       "      <td>0.002323</td>\n",
       "      <td>0.0</td>\n",
       "      <td>4.120534</td>\n",
       "      <td>1.701023e+02</td>\n",
       "      <td>0.220279</td>\n",
       "      <td>0.014447</td>\n",
       "      <td>0.413000</td>\n",
       "      <td>0.007576</td>\n",
       "    </tr>\n",
       "    <tr>\n",
       "      <th>245</th>\n",
       "      <td>NaN</td>\n",
       "      <td>NaN</td>\n",
       "      <td>NaN</td>\n",
       "      <td>18.882751</td>\n",
       "      <td>4.05</td>\n",
       "      <td>1.644444</td>\n",
       "      <td>0.684806</td>\n",
       "      <td>1.0</td>\n",
       "      <td>296.0</td>\n",
       "      <td>1.000000</td>\n",
       "      <td>...</td>\n",
       "      <td>inf</td>\n",
       "      <td>0.246622</td>\n",
       "      <td>0.003378</td>\n",
       "      <td>0.0</td>\n",
       "      <td>2.879367</td>\n",
       "      <td>6.517055e+01</td>\n",
       "      <td>0.367859</td>\n",
       "      <td>0.057058</td>\n",
       "      <td>0.349662</td>\n",
       "      <td>0.057201</td>\n",
       "    </tr>\n",
       "    <tr>\n",
       "      <th>246</th>\n",
       "      <td>NaN</td>\n",
       "      <td>NaN</td>\n",
       "      <td>NaN</td>\n",
       "      <td>176.239014</td>\n",
       "      <td>5.90</td>\n",
       "      <td>2.238889</td>\n",
       "      <td>0.738875</td>\n",
       "      <td>2.0</td>\n",
       "      <td>403.0</td>\n",
       "      <td>1.000000</td>\n",
       "      <td>...</td>\n",
       "      <td>16.751789</td>\n",
       "      <td>0.213400</td>\n",
       "      <td>0.007444</td>\n",
       "      <td>0.0</td>\n",
       "      <td>3.867468</td>\n",
       "      <td>1.495571e+02</td>\n",
       "      <td>0.492792</td>\n",
       "      <td>0.089685</td>\n",
       "      <td>0.648263</td>\n",
       "      <td>0.012037</td>\n",
       "    </tr>\n",
       "  </tbody>\n",
       "</table>\n",
       "<p>230 rows × 24 columns</p>\n",
       "</div>"
      ],
      "text/plain": [
       "     amplitude_cutoff  amplitude_cv_median  amplitude_cv_range   \n",
       "2                 NaN                  NaN                 NaN  \\\n",
       "3            0.111070             0.205898            0.089645   \n",
       "4                 NaN                  NaN                 NaN   \n",
       "5                 NaN                  NaN                 NaN   \n",
       "6                 NaN                  NaN                 NaN   \n",
       "..                ...                  ...                 ...   \n",
       "242               NaN                  NaN                 NaN   \n",
       "243               NaN                  NaN                 NaN   \n",
       "244          0.019193             0.374915            0.128513   \n",
       "245               NaN                  NaN                 NaN   \n",
       "246               NaN                  NaN                 NaN   \n",
       "\n",
       "     amplitude_median  firing_range  firing_rate  isi_violations_ratio   \n",
       "2          188.827515          0.75     0.200000              0.000000  \\\n",
       "3           31.471252          9.40     3.805556              0.383611   \n",
       "4           18.882751          3.90     2.361111              0.664360   \n",
       "5           31.471252          6.70     1.788889             50.923961   \n",
       "6           69.236755          3.20     1.277778              0.000000   \n",
       "..                ...           ...          ...                   ...   \n",
       "242         12.588501          4.05     1.677778              1.315732   \n",
       "243         18.882751          3.65     1.505556              4.901894   \n",
       "244         12.588501          9.55     4.783333              0.000000   \n",
       "245         18.882751          4.05     1.644444              0.684806   \n",
       "246        176.239014          5.90     2.238889              0.738875   \n",
       "\n",
       "     isi_violations_count  num_spikes  presence_ratio  ...        snr   \n",
       "2                     0.0        36.0        0.666667  ...  19.485260  \\\n",
       "3                     3.0       685.0        1.000000  ...        inf   \n",
       "4                     2.0       425.0        1.000000  ...   2.205976   \n",
       "5                    88.0       322.0        1.000000  ...   2.987026   \n",
       "6                     0.0       230.0        1.000000  ...   7.466300   \n",
       "..                    ...         ...             ...  ...        ...   \n",
       "242                   2.0       302.0        1.000000  ...   1.114471   \n",
       "243                   6.0       271.0        1.000000  ...        inf   \n",
       "244                   0.0       861.0        1.000000  ...   1.496018   \n",
       "245                   1.0       296.0        1.000000  ...        inf   \n",
       "246                   2.0       403.0        1.000000  ...  16.751789   \n",
       "\n",
       "     sync_spike_2  sync_spike_4  sync_spike_8   d_prime  isolation_distance   \n",
       "2        0.305556      0.000000           0.0  8.051448        4.111621e+15  \\\n",
       "3        0.140146      0.000000           0.0       NaN                 NaN   \n",
       "4        0.089412      0.000000           0.0  2.579497        7.794434e+01   \n",
       "5        0.232919      0.003106           0.0  8.483622        2.187090e+02   \n",
       "6        0.334783      0.013043           0.0  8.531018        6.112089e+02   \n",
       "..            ...           ...           ...       ...                 ...   \n",
       "242      0.102649      0.000000           0.0       NaN                 NaN   \n",
       "243      0.173432      0.000000           0.0  2.401139        1.083300e+02   \n",
       "244      0.082462      0.002323           0.0  4.120534        1.701023e+02   \n",
       "245      0.246622      0.003378           0.0  2.879367        6.517055e+01   \n",
       "246      0.213400      0.007444           0.0  3.867468        1.495571e+02   \n",
       "\n",
       "      l_ratio  silhouette  nn_hit_rate  nn_miss_rate  \n",
       "2         NaN    0.390869     0.798611      0.002859  \n",
       "3         NaN         NaN          NaN           NaN  \n",
       "4    0.489470    0.065355     0.534706      0.082265  \n",
       "5    0.000838    0.079625     0.333075      0.001374  \n",
       "6    0.018635    0.114556     0.871739      0.022306  \n",
       "..        ...         ...          ...           ...  \n",
       "242       NaN         NaN          NaN           NaN  \n",
       "243  0.582101    0.015986     0.140221      0.011869  \n",
       "244  0.220279    0.014447     0.413000      0.007576  \n",
       "245  0.367859    0.057058     0.349662      0.057201  \n",
       "246  0.492792    0.089685     0.648263      0.012037  \n",
       "\n",
       "[230 rows x 24 columns]"
      ]
     },
     "metadata": {},
     "output_type": "display_data"
    }
   ],
   "source": [
    "display(metrics)"
   ]
  },
  {
   "cell_type": "code",
   "execution_count": 74,
   "metadata": {},
   "outputs": [],
   "source": [
    "import mea_analysis_pipeline as msp"
   ]
  },
  {
   "cell_type": "code",
   "execution_count": 75,
   "metadata": {},
   "outputs": [],
   "source": [
    "import importlib\n",
    "importlib.reload(msp)\n",
    "update_qual_metrics = msp.remove_violated_units(metrics)\n",
    "non_violated_units  = update_qual_metrics.index.values"
   ]
  },
  {
   "cell_type": "code",
   "execution_count": 76,
   "metadata": {},
   "outputs": [
    {
     "name": "stdout",
     "output_type": "stream",
     "text": [
      "102\n"
     ]
    }
   ],
   "source": [
    "print(len(non_violated_units))"
   ]
  },
  {
   "cell_type": "code",
   "execution_count": 77,
   "metadata": {},
   "outputs": [],
   "source": [
    "units_location_info = {unit_id: location for unit_id, location in zip(waveforms.unit_ids, si.compute_unit_locations(waveforms))}\n",
    "\n"
   ]
  },
  {
   "cell_type": "code",
   "execution_count": 78,
   "metadata": {},
   "outputs": [
    {
     "name": "stdout",
     "output_type": "stream",
     "text": [
      "{2: array([2.88416350e+03, 8.91451784e+02, 2.27382133e+00]), 3: array([4.73777283e+01, 1.06317901e+03, 1.06120838e+00]), 4: array([ 78.39834354, 956.24562632,   1.62597047]), 5: array([3.04284107e+03, 1.17139693e+03, 1.52921202e+00]), 6: array([-16.4061341 , 792.58138342,   1.25256172]), 7: array([ 83.02338755, 754.7811818 ,   1.02561723]), 8: array([3.60500044e+03, 1.17316693e+03, 3.46952601e+00]), 9: array([3605.        , 1173.92448759,    3.99948914]), 10: array([3.72705528e+03, 1.20823731e+03, 2.66917847e+00]), 11: array([3.81902958e+03, 6.40457447e+02, 1.50512198e+00]), 12: array([1151.50537629, 1104.20610228,   24.62991997]), 13: array([1152.86716273, 1098.05448538,   17.62573999]), 14: array([1160.64584021, 1096.07050683,   32.20931845]), 15: array([3.12245417e+03, 1.24013701e+03, 1.00000000e+00]), 16: array([3.12186557e+03, 1.09895859e+03, 1.39565818e+00]), 17: array([247.00934146, 860.97009032,   5.8250559 ]), 18: array([2.93561698e+03, 8.18240628e+02, 1.63444097e+00]), 20: array([3.42505398e+03, 1.28383095e+03, 3.22917645e+00]), 21: array([3.34484927e+03, 1.27569923e+03, 1.20159386e+00]), 22: array([3.20581412e+03, 1.16469469e+03, 1.56776687e+00]), 23: array([2.88527522e+03, 8.90621251e+02, 2.55648839e+00]), 24: array([3107.48304708, 1438.80946426,    5.49291644]), 25: array([3.12221871e+03, 1.24017736e+03, 1.00000000e+00]), 26: array([7.33338365e+01, 1.28562016e+03, 1.16868151e+00]), 27: array([ 289.53981015, 1353.24278412,    2.5948633 ]), 28: array([  0.79291187, 725.49771993,   1.60718504]), 29: array([339.8580283 , 798.98052357,   1.52937561]), 30: array([3.20637489e+03, 1.16512891e+03, 1.68051562e+00]), 31: array([3.20658062e+03, 1.17997833e+03, 1.77628021e+00]), 32: array([3605.        , 1136.15902053,    4.33090378]), 33: array([315.6569835 , 800.11504439,   1.03746274]), 34: array([3.03859162e+03, 1.04080587e+03, 2.96360005e+00]), 35: array([2.96750635e+03, 8.00883517e+02, 1.80191919e+00]), 36: array([2.96856907e+03, 8.03102538e+02, 1.74679119e+00]), 37: array([2.97009188e+03, 8.04053586e+02, 1.67833330e+00]), 40: array([2.95911161e+02, 1.89678495e+03, 1.38514945e+00]), 41: array([3589.76525546,  735.        ,  129.14365945]), 42: array([ -42.17254427, 1767.5       ,  158.48534588]), 43: array([ 78.12308866, 615.93858554,   2.50465132]), 44: array([2.99684594e+03, 6.43601686e+02, 1.07853975e+00]), 45: array([2.85880553e+03, 8.26260034e+02, 1.00000000e+00]), 46: array([ 161.85400973, 1308.28465803,    5.35444449]), 47: array([ 170.66692125, 1305.36806299,    2.85582262]), 48: array([2.94674712e+03, 8.72248047e+02, 1.18083987e+00]), 49: array([ 185.0886556 , 1306.15326724,    2.08239928]), 50: array([7.27411806e+01, 1.28546744e+03, 1.18753062e+00]), 51: array([2.88952332e+03, 8.89655011e+02, 1.44965895e+00]), 52: array([2.88697297e+03, 8.89866309e+02, 2.32750233e+00]), 53: array([ 48.28040192, 819.10513966,   7.27640402]), 54: array([3.77438422e+03, 1.48108030e+03, 1.55840276e+00]), 55: array([2887.11949547,  889.59785261,    7.70403231]), 56: array([3099.18032222, 1839.17425572,    4.22384171]), 57: array([2.97682866e+03, 1.13730065e+03, 2.41792897e+00]), 58: array([3317.55200932, 1487.5       ,    9.30737317]), 60: array([3318.12437367, 1487.5       ,    7.07334266]), 61: array([1408.28554086, 1042.45449886,   20.5201987 ]), 62: array([3.80431913e+03, 1.54374271e+03, 1.00000000e+00]), 63: array([125.65124288, 561.65987077,   2.00951252]), 64: array([2.89423868e+03, 8.79760344e+02, 1.12231984e+00]), 65: array([  -1.52697421, 1456.48305587,    2.07516852]), 66: array([287.63945007, 738.35686669,   1.39162786]), 67: array([2940.40042777,  757.30160436,    5.63616313]), 68: array([2936.20085114,  757.16537086,    4.06554266]), 69: array([2886.06141113,  889.99703822,    7.74901108]), 70: array([2.92918874e+03, 1.44214958e+03, 1.45509996e+00]), 71: array([3.80016802e+03, 1.57579529e+03, 2.86968205e+00]), 72: array([ 384.81442559, 1854.90645907,    2.18201253]), 73: array([3.39913277e+03, 1.23369298e+03, 1.30382575e+00]), 74: array([2.73685851e+03, 2.08700037e+03, 2.22818037e+00]), 75: array([456.93490638,  52.27629742,   2.66482035]), 76: array([146.90068907, 753.93643743,   1.        ]), 77: array([2.93303046e+03, 1.65282339e+03, 1.00000000e+00]), 78: array([177.67797016, 104.06255456,   3.45856507]), 80: array([3.10042996e+03, 1.26340980e+03, 3.00315016e+00]), 82: array([-15.97510317, 792.47385401,   1.31651917]), 83: array([716.9506088 ,  80.23104449,   3.09756203]), 84: array([3570., 1820.,   20.]), 85: array([3570., 1820.,   20.]), 86: array([2.98422407e+03, 8.37107754e+02, 1.11159733e+00]), 87: array([ 558.53951594, 1833.38636915,    2.34176651]), 88: array([2.95300981e+03, 7.57695082e+02, 1.40198979e+00]), 89: array([2.98610795e+03, 7.52995994e+02, 2.00787759e+00]), 90: array([1001.25653039,   30.61260868,    3.02764411]), 91: array([4.93351198e+02, 1.88956489e+03, 1.17161202e+00]), 92: array([1742.472288  ,  975.61789926,    3.59738259]), 93: array([3102.31244453, 1993.51613698,   17.256048  ]), 94: array([2.93080860e+03, 1.04284355e+03, 1.00000000e+00]), 95: array([3.09750798e+03, 8.57509068e+02, 1.00000000e+00]), 96: array([2.89315363e+03, 8.80793841e+02, 1.00000000e+00]), 97: array([2.85846036e+03, 8.94337845e+02, 1.42440908e+00]), 98: array([279.21172417, 105.28194386,   2.91103206]), 99: array([ 210.51309084, 1802.15727913,    2.06589362]), 101: array([2.88742698e+03, 8.89312523e+02, 2.09463596e+00]), 103: array([2.88931757e+03, 8.89274584e+02, 1.63543710e+00]), 104: array([1083.195428  , 1442.63738639,   24.43769176]), 105: array([1083.54808987, 1440.86571663,   16.51476677]), 106: array([3.02665231e+03, 2.06855319e+03, 1.23193609e+00]), 107: array([1389.4765125 , 1088.80521621,    1.94738206]), 108: array([628.01326531, 316.97856853,   1.57437535]), 109: array([1.32474868e+02, 1.95751106e+03, 1.00000000e+00]), 110: array([3.20461539e+03, 1.62072957e+03, 1.94163539e+00]), 111: array([3.21444122e+03, 1.62967286e+03, 1.67528527e+00]), 112: array([106.07129361, 140.3190195 ,   1.46582639]), 113: array([ 11.83673933, 141.19234469,   5.35033439]), 114: array([3010.,  455.,   20.]), 115: array([2.97837999e+03, 8.37951119e+02, 1.40095730e+00]), 116: array([2.56476511e+03, 2.06817696e+03, 1.00000000e+00]), 117: array([2.56470292e+03, 2.07435585e+03, 1.00000000e+00]), 118: array([2.57115474e+03, 2.07863198e+03, 1.88218283e+00]), 119: array([1.25206066e+03, 1.58674953e+03, 1.00000000e+00]), 120: array([1242.71620833, 1604.60062202,   10.88976388]), 121: array([2887.5,    0. ,   20. ]), 122: array([2.90234448e+03, 2.08371725e+03, 1.00000000e+00]), 123: array([1.26256411e+03, 9.34051624e+00, 1.17713016e+00]), 124: array([1.26309235e+03, 1.02237763e+01, 1.18519248e+00]), 125: array([810.26629782,  64.11575971,   1.11071405]), 127: array([2.89949677e+03, 7.95709384e+02, 2.29700244e+00]), 128: array([1355.66933863, 1070.1891244 ,   46.23773322]), 129: array([1352.25732184, 1085.15168872,   15.62772954]), 130: array([3.04131293e+03, 1.17143717e+03, 1.73288363e+00]), 131: array([3.01345816e+03, 1.09884043e+03, 1.87086385e+00]), 132: array([2469.34062974,   40.56776542,    8.40109737]), 133: array([2653.19948846, 1848.16115187,   16.14279354]), 134: array([2887.43660832,  889.96584495,    5.78492626]), 135: array([2652.97908655, 1847.98238216,   11.17091974]), 136: array([2652.7378283 , 1847.73783225,   10.95937716]), 137: array([2660.23913493, 1855.23550654,   17.11729199]), 138: array([2647.72849402, 1842.72849402,    9.54018587]), 139: array([2.88802653e+03, 9.66528347e+02, 2.16625767e+00]), 141: array([1.44887112e+03, 9.96163322e+02, 1.25728839e+00]), 142: array([2.87140448e+03, 1.98743867e+03, 1.75781155e+00]), 143: array([2.89116843e+03, 8.89447062e+02, 1.69144155e+00]), 144: array([2.86160235e+03, 1.99776705e+03, 1.30198983e+00]), 145: array([2.92233191e+03, 1.52224483e+03, 1.84727326e+00]), 146: array([1190.25246494,   -1.51962519,    1.22472608]), 147: array([2.66094689e+03, 1.10532464e+02, 2.23048260e+00]), 148: array([1133.93849133,   68.34893185,    3.00413479]), 149: array([2700.65914877,  169.73368898,    4.0878686 ]), 150: array([2.85679872e+03, 1.81852248e+03, 1.00000000e+00]), 151: array([1420.26222638,   17.95024299,    2.7148666 ]), 153: array([ 212.10408474, 1801.29928102,    5.09488444]), 154: array([1417.5,  332.5,   20. ]), 155: array([2.90503278e+03, 9.97491731e+02, 1.18178284e+00]), 156: array([2.74716196e+03, 1.99211565e+03, 2.03865224e+00]), 157: array([2746.34903997, 1989.9831382 ,    3.49338167]), 158: array([2.74684473e+03, 1.98947341e+03, 2.08247024e+00]), 159: array([1641.9630266 , 1079.85773935,   10.75760717]), 160: array([ 740.35679765, 2078.91839283,    3.01983842]), 161: array([2.99198812e+03, 8.33823503e+02, 2.21172422e+00]), 162: array([-23.57456272, 786.66150933,   1.71211065]), 163: array([ 740.63724869, 2078.81484287,    2.09602589]), 164: array([1035.19596161,  121.50284477,   10.89034146]), 167: array([1.04352678e+03, 1.53500665e+03, 1.52024106e+00]), 168: array([1046.95359804, 1440.27235791,   13.60651724]), 169: array([1054.54934061, 1441.1557257 ,   13.93891465]), 170: array([2451.01852872, 2095.45717101,   14.62853652]), 171: array([1.35790984e+03, 4.91746416e+01, 1.00000000e+00]), 172: array([2869.17380023, 2083.18988118,    4.32292374]), 173: array([803.63189567, 104.18319392,  86.22402456]), 174: array([1067.80696073, 1438.53399988,    8.57098159]), 175: array([2886.17218847,  890.66990966,    9.2001819 ]), 176: array([2.92529312e+03, 1.67277349e+03, 1.36890920e+00]), 177: array([2.92275971e+03, 1.68191120e+03, 2.14476814e+00]), 179: array([2.54984754e+03, 2.08002982e+03, 1.39272751e+00]), 180: array([2546.92031371,  290.93386777,    6.67260961]), 181: array([1270.16370348, 1321.03384941,   31.68569705]), 182: array([853.79323888,  96.17028975,   1.44021066]), 183: array([1141.14391079, 1617.83688112,    2.24924395]), 184: array([850.98971054,  70.33962988,   1.27647186]), 185: array([2888.39925625,  888.62713271,    5.23554838]), 186: array([1305.3139134 , 1131.59167021,   14.30161714]), 187: array([2522.90433769,  274.02087898,    4.64658102]), 188: array([2.82306792e+03, 1.80394316e+03, 1.24492185e+00]), 189: array([1525.49373026,  119.08246561,    2.54515712]), 190: array([2624.59478839,  184.1987986 ,    2.79109959]), 191: array([2885.55034078,  891.00638926,    7.48272156]), 192: array([1.49286809e+03, 1.24077522e+03, 1.00000000e+00]), 193: array([1378.19094465, 1187.19507221,    1.91907041]), 194: array([1929.01895443, 1539.27236178,    2.03483961]), 195: array([1103.37032472,   61.77982683,    1.42416671]), 196: array([1090.40977524,   60.91419417,   13.73481648]), 197: array([2.49226587e+03, 9.18598576e+01, 1.10737670e+00]), 198: array([1417.0902696 ,   13.90801882,   20.85312301]), 199: array([2.52032276e+03, 5.34033703e+01, 2.30144767e+00]), 200: array([1036.03253365,   12.29010317,    4.7678395 ]), 201: array([1025.5930272 ,   22.63746181,    5.81253779]), 202: array([2469.78918237,  111.03470059,   13.95423087]), 203: array([1281.10684116, 1058.68806173,   35.62461426]), 204: array([1383.68072061, 1187.41606987,    1.677845  ]), 205: array([1430.7175111 ,  844.2561095 ,   12.01999401]), 206: array([1855.27365454,    3.16373477,    2.49284707]), 207: array([1.84954092e+03, 3.05034364e+00, 1.45851279e+00]), 208: array([1525.52909354, 1177.56065959,    1.6988279 ]), 209: array([1518.3543573 , 1189.33696684,   12.10352039]), 210: array([1543.11467586, 1174.49704482,    8.26904913]), 211: array([1448.3953144 , 1095.84013185,    2.2218232 ]), 212: array([1822.72575429,  994.72513754,   12.22481632]), 213: array([1.78884578e+03, 2.95296504e+00, 1.25243506e+00]), 214: array([1681.73669799,  746.35463377,   19.93050882]), 215: array([1.88209765e+03, 1.17582537e+01, 1.09005591e+00]), 216: array([2099.03760092, 1194.33865762,   18.93396078]), 217: array([1181.13003216,  994.37534185,   13.5330882 ]), 218: array([1644.99406639,  875.73982696,   79.26347511]), 220: array([1230.22179339, 1640.61426526,    3.02185615]), 221: array([1431.54163931,  843.43412625,   10.99223303]), 222: array([1430.93506719,  844.06208287,   11.78716114]), 223: array([1383.18913566, 1187.21607251,    1.65375655]), 224: array([1547.82402361,   44.41614986,    2.45434797]), 225: array([1.52408166e+03, 1.13416825e+03, 1.00000000e+00]), 226: array([1942.80432482,   35.03505477,    1.99407937]), 227: array([ 83.94127093, 953.91502624,   8.09897187]), 228: array([2.94838679e+03, 8.72934019e+02, 1.93380416e+00]), 229: array([3.79885736e+03, 1.48209407e+03, 1.19557731e+00]), 230: array([686.14799999,  83.19442979,   1.        ]), 231: array([2886.85583807,  887.82775557,    3.04237773]), 232: array([1350.43967305, 1087.17373246,    9.03132348]), 233: array([1475.16768409, 1052.98446334,   22.684254  ]), 234: array([1423.1322559 ,   26.36127199,    6.52214801]), 235: array([797.86278537,  90.3525992 ,  76.71309204]), 236: array([1237.28382804, 1075.24246411,    6.10097944]), 237: array([1262.91759668, 1091.31205627,   24.83863413]), 238: array([1.52381528e+03, 1.18063052e+03, 1.21733494e+00]), 239: array([1392.55967993, 1081.97427591,    7.53428638]), 240: array([ 77.81337606, 959.73560468,   5.79534457]), 241: array([2886.92101972,  891.06747491,   10.77600552]), 242: array([436.15757788, 542.05105171,   9.73268344]), 243: array([1394.89161103, 1086.08880442,   10.82744114]), 244: array([2.98868315e+03, 7.56951086e+02, 1.20654513e+00]), 245: array([3.77089174e+03, 1.48018283e+03, 1.26190524e+00]), 246: array([2.88517676e+03, 8.90511681e+02, 2.65725693e+00])}\n"
     ]
    }
   ],
   "source": [
    "print(units_location_info)"
   ]
  },
  {
   "cell_type": "code",
   "execution_count": 83,
   "metadata": {},
   "outputs": [
    {
     "data": {
      "text/plain": [
       "<Figure size 1200x800 with 0 Axes>"
      ]
     },
     "metadata": {},
     "output_type": "display_data"
    },
    {
     "data": {
      "image/png": "[encoded data removed]",
      "text/plain": [
       "<Figure size 640x480 with 1 Axes>"
      ]
     },
     "metadata": {},
     "output_type": "display_data"
    }
   ],
   "source": [
    "import pickle\n",
    "\n",
    "plt.figure(figsize=(12, 8))\n",
    "# try:\n",
    "#     with open('/mnt/disk15tb/mmpatil/MEA_Analysis/IPNAnalysis/network_1020.pkl', 'rb') as file:\n",
    "#         loaded_units_info = pickle.load(file)\n",
    "# except EOFError as e:\n",
    "#     print(\"Error loading the file:\", e)\n",
    "#     loaded_units_info = {}\n",
    "loaded_units_info = {}\n",
    "# Check if loaded_units_info is not empty\n",
    "if loaded_units_info:\n",
    "    # Extract x and y coordinates from the loaded dictionary\n",
    "    x_coords_loaded = [location[0] for location in loaded_units_info.values()]\n",
    "    y_coords_loaded = [location[1] for location in loaded_units_info.values()]\n",
    "\n",
    "    # Plotting\n",
    "      # Adjusts the figure size\n",
    "    plt.scatter(x_coords_loaded, y_coords_loaded, marker='o',label='Network-1020')  # Uses red for distinct visualization\n",
    "\n",
    "# Filter units_info to include only those units present in non_violated_units\n",
    "filtered_units_info = {unit_id: units_location_info[unit_id] for unit_id in non_violated_units if unit_id in units_location_info}\n",
    "# Save the filtered units info as a JSON file\n",
    "\n",
    "# Extract x and y coordinates from the filtered dictionary\n",
    "x_coords = [location[0] for location in filtered_units_info.values()]\n",
    "y_coords = [location[1] for location in filtered_units_info.values()]\n",
    "\n",
    "# Plotting\n",
    " # Adjusts the figure size\n",
    "sw.plot_probe_map(recording_chunk,with_channel_ids=False)\n",
    "plt.scatter(x_coords, y_coords, marker='o',color ='black',label='Neuronal_units')  # Plots the locations as points\n",
    "\n",
    "# Optional: Enhancements for readability\n",
    "plt.title('IPN Locations')\n",
    "plt.xlabel('X Coordinate')\n",
    "plt.ylabel('Y Coordinate')\n",
    "#plt.legend()\n",
    "plt.savefig(\"./network_comparison_combined.png\",format='png')\n",
    "#plt.grid(True)  # Adds a grid for easier visualization\n",
    "\n",
    "plt.show()"
   ]
  },
  {
   "cell_type": "code",
   "execution_count": null,
   "metadata": {},
   "outputs": [],
   "source": []
  },
  {
   "cell_type": "code",
   "execution_count": 13,
   "metadata": {},
   "outputs": [
    {
     "data": {
      "application/vnd.jupyter.widget-view+json": {
       "model_id": "528ad96667804edc80f093fc8dab0600",
       "version_major": 2,
       "version_minor": 0
      },
      "text/plain": [
       "write_binary_recording:   0%|          | 0/180 [00:00<?, ?it/s]"
      ]
     },
     "metadata": {},
     "output_type": "display_data"
    },
    {
     "data": {
      "application/vnd.jupyter.widget-view+json": {
       "model_id": "caa6c5daef59445c961a455f545947e6",
       "version_major": 2,
       "version_minor": 0
      },
      "text/plain": [
       "extract PCs:   0%|          | 0/180 [00:00<?, ?it/s]"
      ]
     },
     "metadata": {},
     "output_type": "display_data"
    },
    {
     "name": "stdout",
     "output_type": "stream",
     "text": [
      "Run:\n",
      "phy template-gui  /mnt/disk15tb/mmpatil/MEA_Analysis/IPNAnalysis/sorting/M07038_phy/params.py\n"
     ]
    }
   ],
   "source": [
    "job_kwargs = dict(n_jobs=48, chunk_duration=\"1s\", progress_bar=True)\n",
    "sparsity = spikeinterface.core.compute_sparsity(waveforms ,method=\"radius\", radius_um=40)\n",
    "export_to_phy(waveform_extractor=waveforms, output_folder='/mnt/disk15tb/mmpatil/MEA_Analysis/IPNAnalysis/sorting/M07038_phy',sparsity=sparsity,**job_kwargs)"
   ]
  },
  {
   "cell_type": "code",
   "execution_count": null,
   "metadata": {},
   "outputs": [],
   "source": []
  },
  {
   "cell_type": "code",
   "execution_count": 83,
   "metadata": {},
   "outputs": [
    {
     "data": {
      "text/html": [
       "<div>\n",
       "<style scoped>\n",
       "    .dataframe tbody tr th:only-of-type {\n",
       "        vertical-align: middle;\n",
       "    }\n",
       "\n",
       "    .dataframe tbody tr th {\n",
       "        vertical-align: top;\n",
       "    }\n",
       "\n",
       "    .dataframe thead th {\n",
       "        text-align: right;\n",
       "    }\n",
       "</style>\n",
       "<table border=\"1\" class=\"dataframe\">\n",
       "  <thead>\n",
       "    <tr style=\"text-align: right;\">\n",
       "      <th></th>\n",
       "      <th>num_spikes</th>\n",
       "      <th>firing_rate</th>\n",
       "      <th>presence_ratio</th>\n",
       "      <th>snr</th>\n",
       "      <th>isi_violations_ratio</th>\n",
       "      <th>isi_violations_count</th>\n",
       "      <th>rp_contamination</th>\n",
       "      <th>rp_violations</th>\n",
       "      <th>sliding_rp_violation</th>\n",
       "      <th>amplitude_cutoff</th>\n",
       "      <th>amplitude_median</th>\n",
       "    </tr>\n",
       "  </thead>\n",
       "  <tbody>\n",
       "    <tr>\n",
       "      <th>0</th>\n",
       "      <td>713.0</td>\n",
       "      <td>3.961111</td>\n",
       "      <td>1.0</td>\n",
       "      <td>inf</td>\n",
       "      <td>0.0</td>\n",
       "      <td>0.0</td>\n",
       "      <td>0.0</td>\n",
       "      <td>0.0</td>\n",
       "      <td>0.045</td>\n",
       "      <td>0.030143</td>\n",
       "      <td>44.059753</td>\n",
       "    </tr>\n",
       "    <tr>\n",
       "      <th>1</th>\n",
       "      <td>815.0</td>\n",
       "      <td>4.527778</td>\n",
       "      <td>1.0</td>\n",
       "      <td>inf</td>\n",
       "      <td>0.0</td>\n",
       "      <td>0.0</td>\n",
       "      <td>0.0</td>\n",
       "      <td>0.0</td>\n",
       "      <td>0.035</td>\n",
       "      <td>0.005110</td>\n",
       "      <td>50.354004</td>\n",
       "    </tr>\n",
       "    <tr>\n",
       "      <th>9</th>\n",
       "      <td>1201.0</td>\n",
       "      <td>6.672222</td>\n",
       "      <td>1.0</td>\n",
       "      <td>inf</td>\n",
       "      <td>0.0</td>\n",
       "      <td>0.0</td>\n",
       "      <td>0.0</td>\n",
       "      <td>0.0</td>\n",
       "      <td>0.015</td>\n",
       "      <td>0.007593</td>\n",
       "      <td>182.533264</td>\n",
       "    </tr>\n",
       "    <tr>\n",
       "      <th>10</th>\n",
       "      <td>1300.0</td>\n",
       "      <td>7.222222</td>\n",
       "      <td>1.0</td>\n",
       "      <td>inf</td>\n",
       "      <td>0.0</td>\n",
       "      <td>0.0</td>\n",
       "      <td>0.0</td>\n",
       "      <td>0.0</td>\n",
       "      <td>0.015</td>\n",
       "      <td>0.006564</td>\n",
       "      <td>56.648254</td>\n",
       "    </tr>\n",
       "    <tr>\n",
       "      <th>13</th>\n",
       "      <td>1960.0</td>\n",
       "      <td>10.888889</td>\n",
       "      <td>1.0</td>\n",
       "      <td>inf</td>\n",
       "      <td>0.0</td>\n",
       "      <td>0.0</td>\n",
       "      <td>0.0</td>\n",
       "      <td>0.0</td>\n",
       "      <td>0.010</td>\n",
       "      <td>0.001716</td>\n",
       "      <td>37.765503</td>\n",
       "    </tr>\n",
       "    <tr>\n",
       "      <th>...</th>\n",
       "      <td>...</td>\n",
       "      <td>...</td>\n",
       "      <td>...</td>\n",
       "      <td>...</td>\n",
       "      <td>...</td>\n",
       "      <td>...</td>\n",
       "      <td>...</td>\n",
       "      <td>...</td>\n",
       "      <td>...</td>\n",
       "      <td>...</td>\n",
       "      <td>...</td>\n",
       "    </tr>\n",
       "    <tr>\n",
       "      <th>1076</th>\n",
       "      <td>742.0</td>\n",
       "      <td>4.122222</td>\n",
       "      <td>1.0</td>\n",
       "      <td>inf</td>\n",
       "      <td>0.0</td>\n",
       "      <td>0.0</td>\n",
       "      <td>0.0</td>\n",
       "      <td>0.0</td>\n",
       "      <td>0.105</td>\n",
       "      <td>0.005122</td>\n",
       "      <td>81.825256</td>\n",
       "    </tr>\n",
       "    <tr>\n",
       "      <th>1077</th>\n",
       "      <td>784.0</td>\n",
       "      <td>4.355556</td>\n",
       "      <td>1.0</td>\n",
       "      <td>inf</td>\n",
       "      <td>0.0</td>\n",
       "      <td>0.0</td>\n",
       "      <td>0.0</td>\n",
       "      <td>0.0</td>\n",
       "      <td>0.035</td>\n",
       "      <td>0.001359</td>\n",
       "      <td>107.002258</td>\n",
       "    </tr>\n",
       "    <tr>\n",
       "      <th>1078</th>\n",
       "      <td>877.0</td>\n",
       "      <td>4.872222</td>\n",
       "      <td>1.0</td>\n",
       "      <td>inf</td>\n",
       "      <td>0.0</td>\n",
       "      <td>0.0</td>\n",
       "      <td>0.0</td>\n",
       "      <td>0.0</td>\n",
       "      <td>0.080</td>\n",
       "      <td>0.032251</td>\n",
       "      <td>56.648254</td>\n",
       "    </tr>\n",
       "    <tr>\n",
       "      <th>1079</th>\n",
       "      <td>1178.0</td>\n",
       "      <td>6.544444</td>\n",
       "      <td>1.0</td>\n",
       "      <td>inf</td>\n",
       "      <td>0.0</td>\n",
       "      <td>0.0</td>\n",
       "      <td>0.0</td>\n",
       "      <td>0.0</td>\n",
       "      <td>0.025</td>\n",
       "      <td>0.016931</td>\n",
       "      <td>59.795380</td>\n",
       "    </tr>\n",
       "    <tr>\n",
       "      <th>1084</th>\n",
       "      <td>1285.0</td>\n",
       "      <td>7.138889</td>\n",
       "      <td>1.0</td>\n",
       "      <td>inf</td>\n",
       "      <td>0.0</td>\n",
       "      <td>0.0</td>\n",
       "      <td>0.0</td>\n",
       "      <td>0.0</td>\n",
       "      <td>0.015</td>\n",
       "      <td>0.000917</td>\n",
       "      <td>75.531006</td>\n",
       "    </tr>\n",
       "  </tbody>\n",
       "</table>\n",
       "<p>380 rows × 11 columns</p>\n",
       "</div>"
      ],
      "text/plain": [
       "      num_spikes  firing_rate  presence_ratio  snr  isi_violations_ratio   \n",
       "0          713.0     3.961111             1.0  inf                   0.0  \\\n",
       "1          815.0     4.527778             1.0  inf                   0.0   \n",
       "9         1201.0     6.672222             1.0  inf                   0.0   \n",
       "10        1300.0     7.222222             1.0  inf                   0.0   \n",
       "13        1960.0    10.888889             1.0  inf                   0.0   \n",
       "...          ...          ...             ...  ...                   ...   \n",
       "1076       742.0     4.122222             1.0  inf                   0.0   \n",
       "1077       784.0     4.355556             1.0  inf                   0.0   \n",
       "1078       877.0     4.872222             1.0  inf                   0.0   \n",
       "1079      1178.0     6.544444             1.0  inf                   0.0   \n",
       "1084      1285.0     7.138889             1.0  inf                   0.0   \n",
       "\n",
       "      isi_violations_count  rp_contamination  rp_violations   \n",
       "0                      0.0               0.0            0.0  \\\n",
       "1                      0.0               0.0            0.0   \n",
       "9                      0.0               0.0            0.0   \n",
       "10                     0.0               0.0            0.0   \n",
       "13                     0.0               0.0            0.0   \n",
       "...                    ...               ...            ...   \n",
       "1076                   0.0               0.0            0.0   \n",
       "1077                   0.0               0.0            0.0   \n",
       "1078                   0.0               0.0            0.0   \n",
       "1079                   0.0               0.0            0.0   \n",
       "1084                   0.0               0.0            0.0   \n",
       "\n",
       "      sliding_rp_violation  amplitude_cutoff  amplitude_median  \n",
       "0                    0.045          0.030143         44.059753  \n",
       "1                    0.035          0.005110         50.354004  \n",
       "9                    0.015          0.007593        182.533264  \n",
       "10                   0.015          0.006564         56.648254  \n",
       "13                   0.010          0.001716         37.765503  \n",
       "...                    ...               ...               ...  \n",
       "1076                 0.105          0.005122         81.825256  \n",
       "1077                 0.035          0.001359        107.002258  \n",
       "1078                 0.080          0.032251         56.648254  \n",
       "1079                 0.025          0.016931         59.795380  \n",
       "1084                 0.015          0.000917         75.531006  \n",
       "\n",
       "[380 rows x 11 columns]"
      ]
     },
     "metadata": {},
     "output_type": "display_data"
    }
   ],
   "source": [
    "display(update_qual_metrics)"
   ]
  },
  {
   "cell_type": "code",
   "execution_count": 7,
   "metadata": {},
   "outputs": [
    {
     "name": "stdout",
     "output_type": "stream",
     "text": [
      "[   0    1    9   10   13   14   19   26   27   29   34   41   47   48\n",
      "   50   52   54   55   56   57   60   61   62   66   69   70   71   76\n",
      "   77   83   84   85   90   91   92   93   96   97  101  103  104  105\n",
      "  106  107  116  117  119  120  123  126  133  138  140  141  142  143\n",
      "  149  154  157  158  159  160  164  165  166  175  178  181  182  187\n",
      "  190  198  202  210  211  216  217  221  222  224  226  230  231  232\n",
      "  233  234  239  240  242  243  249  252  254  257  259  262  280  293\n",
      "  294  297  303  304  309  310  311  313  315  319  320  322  323  329\n",
      "  330  331  333  334  335  338  351  354  355  358  359  366  371  373\n",
      "  374  379  380  381  395  396  397  400  408  409  413  415  417  419\n",
      "  421  422  423  428  431  435  436  438  439  446  453  459  465  470\n",
      "  472  474  480  485  486  489  490  493  494  499  500  509  514  517\n",
      "  523  524  525  531  537  540  541  542  546  547  552  554  556  557\n",
      "  558  562  569  570  576  577  578  583  585  586  592  595  600  602\n",
      "  604  605  612  614  618  620  621  627  628  636  637  643  644  646\n",
      "  649  653  654  656  658  659  661  664  666  667  668  669  676  677\n",
      "  680  687  692  701  705  707  708  714  717  722  724  726  727  736\n",
      "  738  741  745  751  758  760  761  764  768  776  778  784  785  786\n",
      "  787  788  792  793  794  798  799  803  804  805  814  815  816  821\n",
      "  823  824  826  830  831  832  833  834  839  840  845  847  848  849\n",
      "  850  851  852  853  855  856  857  861  862  863  864  867  868  870\n",
      "  871  873  875  877  878  880  882  884  885  887  888  890  894  895\n",
      "  896  897  902  906  913  916  917  918  923  925  926  928  931  933\n",
      "  939  944  945  946  947  949  951  952  955  958  959  960  961  964\n",
      "  966  967  968  972  973  975  976  977  979  983  984  987  992  994\n",
      "  996  997 1002 1005 1006 1007 1009 1010 1012 1013 1014 1019 1022 1023\n",
      " 1036 1038 1042 1047 1053 1057 1058 1060 1066 1070 1074 1076 1077 1078\n",
      " 1079 1084]\n"
     ]
    }
   ],
   "source": [
    "print(non_violated_units)"
   ]
  },
  {
   "cell_type": "code",
   "execution_count": 85,
   "metadata": {},
   "outputs": [
    {
     "data": {
      "text/plain": [
       "380"
      ]
     },
     "execution_count": 85,
     "metadata": {},
     "output_type": "execute_result"
    }
   ],
   "source": [
    "len(non_violated_units)"
   ]
  },
  {
   "cell_type": "code",
   "execution_count": 8,
   "metadata": {},
   "outputs": [],
   "source": [
    "waveform_good = waveforms.select_units(non_violated_units,new_folder='./sorting/FolicAcidT2M07038_2_waveformsgood/')"
   ]
  },
  {
   "cell_type": "code",
   "execution_count": 9,
   "metadata": {},
   "outputs": [],
   "source": [
    "correlograms, bins = sp.compute_correlograms(waveform_good)"
   ]
  },
  {
   "cell_type": "code",
   "execution_count": 23,
   "metadata": {},
   "outputs": [
    {
     "data": {
      "text/plain": [
       "(380, 380, 20)"
      ]
     },
     "execution_count": 23,
     "metadata": {},
     "output_type": "execute_result"
    }
   ],
   "source": [
    "correlograms.shape"
   ]
  },
  {
   "cell_type": "code",
   "execution_count": 22,
   "metadata": {},
   "outputs": [
    {
     "data": {
      "image/png": "[encoded data removed]",
      "text/plain": [
       "<Figure size 800x600 with 1 Axes>"
      ]
     },
     "metadata": {},
     "output_type": "display_data"
    }
   ],
   "source": [
    "import matplotlib.pyplot as plt\n",
    "\n",
    "# Extracting the correlation values between units 2 and 5 across all bins\n",
    "# Adjusting indices for 0-based Python indexing\n",
    "correlations = correlograms[2, 2, :]\n",
    "\n",
    "# Plotting the histogram\n",
    "plt.figure(figsize=(8, 6))\n",
    "plt.hist(correlations, bins=20, color='blue', edgecolor='black')\n",
    "plt.title('Histogram of Correlations Between Units 2 and 5 Across Bins')\n",
    "plt.xlabel('Correlation Coefficient')\n",
    "plt.ylabel('Frequency')\n",
    "plt.show()"
   ]
  },
  {
   "cell_type": "code",
   "execution_count": 12,
   "metadata": {},
   "outputs": [
    {
     "data": {
      "text/plain": [
       "array([-50., -45., -40., -35., -30., -25., -20., -15., -10.,  -5.,   0.,\n",
       "         5.,  10.,  15.,  20.,  25.,  30.,  35.,  40.,  45.,  50.])"
      ]
     },
     "execution_count": 12,
     "metadata": {},
     "output_type": "execute_result"
    }
   ],
   "source": [
    "bins"
   ]
  },
  {
   "cell_type": "code",
   "execution_count": 10,
   "metadata": {},
   "outputs": [
    {
     "name": "stderr",
     "output_type": "stream",
     "text": [
      "/home/mmp/.local/lib/python3.10/site-packages/spikeinterface/qualitymetrics/misc_metrics.py:232: RuntimeWarning: divide by zero encountered in scalar divide\n",
      "  snrs[unit_id] = np.abs(amplitude) / noise\n"
     ]
    }
   ],
   "source": [
    "metrics = qm.compute_quality_metrics(waveform_good,load_if_exists=False,**job_kwargs)"
   ]
  },
  {
   "cell_type": "code",
   "execution_count": 11,
   "metadata": {},
   "outputs": [
    {
     "data": {
      "text/html": [
       "<div>\n",
       "<style scoped>\n",
       "    .dataframe tbody tr th:only-of-type {\n",
       "        vertical-align: middle;\n",
       "    }\n",
       "\n",
       "    .dataframe tbody tr th {\n",
       "        vertical-align: top;\n",
       "    }\n",
       "\n",
       "    .dataframe thead th {\n",
       "        text-align: right;\n",
       "    }\n",
       "</style>\n",
       "<table border=\"1\" class=\"dataframe\">\n",
       "  <thead>\n",
       "    <tr style=\"text-align: right;\">\n",
       "      <th></th>\n",
       "      <th>num_spikes</th>\n",
       "      <th>firing_rate</th>\n",
       "      <th>presence_ratio</th>\n",
       "      <th>snr</th>\n",
       "      <th>isi_violations_ratio</th>\n",
       "      <th>isi_violations_count</th>\n",
       "      <th>rp_contamination</th>\n",
       "      <th>rp_violations</th>\n",
       "      <th>sliding_rp_violation</th>\n",
       "      <th>amplitude_cutoff</th>\n",
       "      <th>amplitude_median</th>\n",
       "    </tr>\n",
       "  </thead>\n",
       "  <tbody>\n",
       "    <tr>\n",
       "      <th>7</th>\n",
       "      <td>806.0</td>\n",
       "      <td>4.477778</td>\n",
       "      <td>1.0</td>\n",
       "      <td>inf</td>\n",
       "      <td>0.000000</td>\n",
       "      <td>0.0</td>\n",
       "      <td>0.000000</td>\n",
       "      <td>0.0</td>\n",
       "      <td>0.185</td>\n",
       "      <td>0.116709</td>\n",
       "      <td>635.719299</td>\n",
       "    </tr>\n",
       "    <tr>\n",
       "      <th>9</th>\n",
       "      <td>676.0</td>\n",
       "      <td>3.755556</td>\n",
       "      <td>1.0</td>\n",
       "      <td>inf</td>\n",
       "      <td>0.000000</td>\n",
       "      <td>0.0</td>\n",
       "      <td>0.000000</td>\n",
       "      <td>0.0</td>\n",
       "      <td>0.185</td>\n",
       "      <td>0.000383</td>\n",
       "      <td>88.119507</td>\n",
       "    </tr>\n",
       "    <tr>\n",
       "      <th>15</th>\n",
       "      <td>644.0</td>\n",
       "      <td>3.577778</td>\n",
       "      <td>1.0</td>\n",
       "      <td>inf</td>\n",
       "      <td>0.000000</td>\n",
       "      <td>0.0</td>\n",
       "      <td>0.000000</td>\n",
       "      <td>0.0</td>\n",
       "      <td>0.055</td>\n",
       "      <td>0.017724</td>\n",
       "      <td>81.825256</td>\n",
       "    </tr>\n",
       "    <tr>\n",
       "      <th>17</th>\n",
       "      <td>935.0</td>\n",
       "      <td>5.194444</td>\n",
       "      <td>1.0</td>\n",
       "      <td>inf</td>\n",
       "      <td>0.000000</td>\n",
       "      <td>0.0</td>\n",
       "      <td>0.000000</td>\n",
       "      <td>0.0</td>\n",
       "      <td>0.045</td>\n",
       "      <td>0.002369</td>\n",
       "      <td>62.942505</td>\n",
       "    </tr>\n",
       "    <tr>\n",
       "      <th>32</th>\n",
       "      <td>839.0</td>\n",
       "      <td>4.661111</td>\n",
       "      <td>1.0</td>\n",
       "      <td>inf</td>\n",
       "      <td>0.000000</td>\n",
       "      <td>0.0</td>\n",
       "      <td>0.000000</td>\n",
       "      <td>0.0</td>\n",
       "      <td>0.085</td>\n",
       "      <td>0.000525</td>\n",
       "      <td>75.531006</td>\n",
       "    </tr>\n",
       "    <tr>\n",
       "      <th>...</th>\n",
       "      <td>...</td>\n",
       "      <td>...</td>\n",
       "      <td>...</td>\n",
       "      <td>...</td>\n",
       "      <td>...</td>\n",
       "      <td>...</td>\n",
       "      <td>...</td>\n",
       "      <td>...</td>\n",
       "      <td>...</td>\n",
       "      <td>...</td>\n",
       "      <td>...</td>\n",
       "    </tr>\n",
       "    <tr>\n",
       "      <th>546</th>\n",
       "      <td>513.0</td>\n",
       "      <td>2.850000</td>\n",
       "      <td>1.0</td>\n",
       "      <td>inf</td>\n",
       "      <td>0.000000</td>\n",
       "      <td>0.0</td>\n",
       "      <td>0.000000</td>\n",
       "      <td>0.0</td>\n",
       "      <td>0.080</td>\n",
       "      <td>0.001561</td>\n",
       "      <td>44.059753</td>\n",
       "    </tr>\n",
       "    <tr>\n",
       "      <th>548</th>\n",
       "      <td>1253.0</td>\n",
       "      <td>6.961111</td>\n",
       "      <td>1.0</td>\n",
       "      <td>inf</td>\n",
       "      <td>0.076433</td>\n",
       "      <td>2.0</td>\n",
       "      <td>0.122104</td>\n",
       "      <td>2.0</td>\n",
       "      <td>0.155</td>\n",
       "      <td>0.000859</td>\n",
       "      <td>50.354004</td>\n",
       "    </tr>\n",
       "    <tr>\n",
       "      <th>549</th>\n",
       "      <td>621.0</td>\n",
       "      <td>3.450000</td>\n",
       "      <td>1.0</td>\n",
       "      <td>inf</td>\n",
       "      <td>0.000000</td>\n",
       "      <td>0.0</td>\n",
       "      <td>0.000000</td>\n",
       "      <td>0.0</td>\n",
       "      <td>0.180</td>\n",
       "      <td>0.000568</td>\n",
       "      <td>37.765503</td>\n",
       "    </tr>\n",
       "    <tr>\n",
       "      <th>552</th>\n",
       "      <td>613.0</td>\n",
       "      <td>3.405556</td>\n",
       "      <td>1.0</td>\n",
       "      <td>inf</td>\n",
       "      <td>0.319345</td>\n",
       "      <td>2.0</td>\n",
       "      <td>0.795147</td>\n",
       "      <td>2.0</td>\n",
       "      <td>0.320</td>\n",
       "      <td>0.000670</td>\n",
       "      <td>44.059753</td>\n",
       "    </tr>\n",
       "    <tr>\n",
       "      <th>553</th>\n",
       "      <td>1102.0</td>\n",
       "      <td>6.122222</td>\n",
       "      <td>1.0</td>\n",
       "      <td>inf</td>\n",
       "      <td>0.000000</td>\n",
       "      <td>0.0</td>\n",
       "      <td>0.000000</td>\n",
       "      <td>0.0</td>\n",
       "      <td>0.090</td>\n",
       "      <td>0.002367</td>\n",
       "      <td>232.887268</td>\n",
       "    </tr>\n",
       "  </tbody>\n",
       "</table>\n",
       "<p>79 rows × 11 columns</p>\n",
       "</div>"
      ],
      "text/plain": [
       "     num_spikes  firing_rate  presence_ratio  snr  isi_violations_ratio   \n",
       "7         806.0     4.477778             1.0  inf              0.000000  \\\n",
       "9         676.0     3.755556             1.0  inf              0.000000   \n",
       "15        644.0     3.577778             1.0  inf              0.000000   \n",
       "17        935.0     5.194444             1.0  inf              0.000000   \n",
       "32        839.0     4.661111             1.0  inf              0.000000   \n",
       "..          ...          ...             ...  ...                   ...   \n",
       "546       513.0     2.850000             1.0  inf              0.000000   \n",
       "548      1253.0     6.961111             1.0  inf              0.076433   \n",
       "549       621.0     3.450000             1.0  inf              0.000000   \n",
       "552       613.0     3.405556             1.0  inf              0.319345   \n",
       "553      1102.0     6.122222             1.0  inf              0.000000   \n",
       "\n",
       "     isi_violations_count  rp_contamination  rp_violations   \n",
       "7                     0.0          0.000000            0.0  \\\n",
       "9                     0.0          0.000000            0.0   \n",
       "15                    0.0          0.000000            0.0   \n",
       "17                    0.0          0.000000            0.0   \n",
       "32                    0.0          0.000000            0.0   \n",
       "..                    ...               ...            ...   \n",
       "546                   0.0          0.000000            0.0   \n",
       "548                   2.0          0.122104            2.0   \n",
       "549                   0.0          0.000000            0.0   \n",
       "552                   2.0          0.795147            2.0   \n",
       "553                   0.0          0.000000            0.0   \n",
       "\n",
       "     sliding_rp_violation  amplitude_cutoff  amplitude_median  \n",
       "7                   0.185          0.116709        635.719299  \n",
       "9                   0.185          0.000383         88.119507  \n",
       "15                  0.055          0.017724         81.825256  \n",
       "17                  0.045          0.002369         62.942505  \n",
       "32                  0.085          0.000525         75.531006  \n",
       "..                    ...               ...               ...  \n",
       "546                 0.080          0.001561         44.059753  \n",
       "548                 0.155          0.000859         50.354004  \n",
       "549                 0.180          0.000568         37.765503  \n",
       "552                 0.320          0.000670         44.059753  \n",
       "553                 0.090          0.002367        232.887268  \n",
       "\n",
       "[79 rows x 11 columns]"
      ]
     },
     "metadata": {},
     "output_type": "display_data"
    }
   ],
   "source": [
    "display(metrics)"
   ]
  },
  {
   "cell_type": "code",
   "execution_count": 12,
   "metadata": {},
   "outputs": [],
   "source": [
    "waveform_good = None"
   ]
  },
  {
   "cell_type": "code",
   "execution_count": 13,
   "metadata": {},
   "outputs": [],
   "source": [
    "waveform_good = si.load_waveforms('./sorting/waveformsgood_Folicacid10mg/')"
   ]
  },
  {
   "cell_type": "code",
   "execution_count": 14,
   "metadata": {},
   "outputs": [
    {
     "name": "stderr",
     "output_type": "stream",
     "text": [
      "/home/mmp/.local/lib/python3.10/site-packages/spikeinterface/qualitymetrics/misc_metrics.py:232: RuntimeWarning: divide by zero encountered in scalar divide\n",
      "  snrs[unit_id] = np.abs(amplitude) / noise\n"
     ]
    }
   ],
   "source": [
    "metrics = qm.compute_quality_metrics(waveform_good,load_if_exists=False,**job_kwargs)"
   ]
  },
  {
   "cell_type": "code",
   "execution_count": 15,
   "metadata": {},
   "outputs": [
    {
     "data": {
      "text/html": [
       "<div>\n",
       "<style scoped>\n",
       "    .dataframe tbody tr th:only-of-type {\n",
       "        vertical-align: middle;\n",
       "    }\n",
       "\n",
       "    .dataframe tbody tr th {\n",
       "        vertical-align: top;\n",
       "    }\n",
       "\n",
       "    .dataframe thead th {\n",
       "        text-align: right;\n",
       "    }\n",
       "</style>\n",
       "<table border=\"1\" class=\"dataframe\">\n",
       "  <thead>\n",
       "    <tr style=\"text-align: right;\">\n",
       "      <th></th>\n",
       "      <th>num_spikes</th>\n",
       "      <th>firing_rate</th>\n",
       "      <th>presence_ratio</th>\n",
       "      <th>snr</th>\n",
       "      <th>isi_violations_ratio</th>\n",
       "      <th>isi_violations_count</th>\n",
       "      <th>rp_contamination</th>\n",
       "      <th>rp_violations</th>\n",
       "      <th>sliding_rp_violation</th>\n",
       "      <th>amplitude_cutoff</th>\n",
       "      <th>amplitude_median</th>\n",
       "    </tr>\n",
       "  </thead>\n",
       "  <tbody>\n",
       "    <tr>\n",
       "      <th>7</th>\n",
       "      <td>806.0</td>\n",
       "      <td>4.477778</td>\n",
       "      <td>1.0</td>\n",
       "      <td>inf</td>\n",
       "      <td>0.000000</td>\n",
       "      <td>0.0</td>\n",
       "      <td>0.000000</td>\n",
       "      <td>0.0</td>\n",
       "      <td>0.185</td>\n",
       "      <td>0.116709</td>\n",
       "      <td>635.719299</td>\n",
       "    </tr>\n",
       "    <tr>\n",
       "      <th>9</th>\n",
       "      <td>676.0</td>\n",
       "      <td>3.755556</td>\n",
       "      <td>1.0</td>\n",
       "      <td>inf</td>\n",
       "      <td>0.000000</td>\n",
       "      <td>0.0</td>\n",
       "      <td>0.000000</td>\n",
       "      <td>0.0</td>\n",
       "      <td>0.185</td>\n",
       "      <td>0.000383</td>\n",
       "      <td>88.119507</td>\n",
       "    </tr>\n",
       "    <tr>\n",
       "      <th>15</th>\n",
       "      <td>644.0</td>\n",
       "      <td>3.577778</td>\n",
       "      <td>1.0</td>\n",
       "      <td>inf</td>\n",
       "      <td>0.000000</td>\n",
       "      <td>0.0</td>\n",
       "      <td>0.000000</td>\n",
       "      <td>0.0</td>\n",
       "      <td>0.055</td>\n",
       "      <td>0.017724</td>\n",
       "      <td>81.825256</td>\n",
       "    </tr>\n",
       "    <tr>\n",
       "      <th>17</th>\n",
       "      <td>935.0</td>\n",
       "      <td>5.194444</td>\n",
       "      <td>1.0</td>\n",
       "      <td>inf</td>\n",
       "      <td>0.000000</td>\n",
       "      <td>0.0</td>\n",
       "      <td>0.000000</td>\n",
       "      <td>0.0</td>\n",
       "      <td>0.045</td>\n",
       "      <td>0.002369</td>\n",
       "      <td>62.942505</td>\n",
       "    </tr>\n",
       "    <tr>\n",
       "      <th>32</th>\n",
       "      <td>839.0</td>\n",
       "      <td>4.661111</td>\n",
       "      <td>1.0</td>\n",
       "      <td>inf</td>\n",
       "      <td>0.000000</td>\n",
       "      <td>0.0</td>\n",
       "      <td>0.000000</td>\n",
       "      <td>0.0</td>\n",
       "      <td>0.085</td>\n",
       "      <td>0.000525</td>\n",
       "      <td>75.531006</td>\n",
       "    </tr>\n",
       "    <tr>\n",
       "      <th>...</th>\n",
       "      <td>...</td>\n",
       "      <td>...</td>\n",
       "      <td>...</td>\n",
       "      <td>...</td>\n",
       "      <td>...</td>\n",
       "      <td>...</td>\n",
       "      <td>...</td>\n",
       "      <td>...</td>\n",
       "      <td>...</td>\n",
       "      <td>...</td>\n",
       "      <td>...</td>\n",
       "    </tr>\n",
       "    <tr>\n",
       "      <th>546</th>\n",
       "      <td>513.0</td>\n",
       "      <td>2.850000</td>\n",
       "      <td>1.0</td>\n",
       "      <td>inf</td>\n",
       "      <td>0.000000</td>\n",
       "      <td>0.0</td>\n",
       "      <td>0.000000</td>\n",
       "      <td>0.0</td>\n",
       "      <td>0.080</td>\n",
       "      <td>0.001561</td>\n",
       "      <td>44.059753</td>\n",
       "    </tr>\n",
       "    <tr>\n",
       "      <th>548</th>\n",
       "      <td>1253.0</td>\n",
       "      <td>6.961111</td>\n",
       "      <td>1.0</td>\n",
       "      <td>inf</td>\n",
       "      <td>0.076433</td>\n",
       "      <td>2.0</td>\n",
       "      <td>0.122104</td>\n",
       "      <td>2.0</td>\n",
       "      <td>0.155</td>\n",
       "      <td>0.000859</td>\n",
       "      <td>50.354004</td>\n",
       "    </tr>\n",
       "    <tr>\n",
       "      <th>549</th>\n",
       "      <td>621.0</td>\n",
       "      <td>3.450000</td>\n",
       "      <td>1.0</td>\n",
       "      <td>inf</td>\n",
       "      <td>0.000000</td>\n",
       "      <td>0.0</td>\n",
       "      <td>0.000000</td>\n",
       "      <td>0.0</td>\n",
       "      <td>0.180</td>\n",
       "      <td>0.000568</td>\n",
       "      <td>37.765503</td>\n",
       "    </tr>\n",
       "    <tr>\n",
       "      <th>552</th>\n",
       "      <td>613.0</td>\n",
       "      <td>3.405556</td>\n",
       "      <td>1.0</td>\n",
       "      <td>inf</td>\n",
       "      <td>0.319345</td>\n",
       "      <td>2.0</td>\n",
       "      <td>0.795147</td>\n",
       "      <td>2.0</td>\n",
       "      <td>0.320</td>\n",
       "      <td>0.000670</td>\n",
       "      <td>44.059753</td>\n",
       "    </tr>\n",
       "    <tr>\n",
       "      <th>553</th>\n",
       "      <td>1102.0</td>\n",
       "      <td>6.122222</td>\n",
       "      <td>1.0</td>\n",
       "      <td>inf</td>\n",
       "      <td>0.000000</td>\n",
       "      <td>0.0</td>\n",
       "      <td>0.000000</td>\n",
       "      <td>0.0</td>\n",
       "      <td>0.090</td>\n",
       "      <td>0.002367</td>\n",
       "      <td>232.887268</td>\n",
       "    </tr>\n",
       "  </tbody>\n",
       "</table>\n",
       "<p>79 rows × 11 columns</p>\n",
       "</div>"
      ],
      "text/plain": [
       "     num_spikes  firing_rate  presence_ratio  snr  isi_violations_ratio   \n",
       "7         806.0     4.477778             1.0  inf              0.000000  \\\n",
       "9         676.0     3.755556             1.0  inf              0.000000   \n",
       "15        644.0     3.577778             1.0  inf              0.000000   \n",
       "17        935.0     5.194444             1.0  inf              0.000000   \n",
       "32        839.0     4.661111             1.0  inf              0.000000   \n",
       "..          ...          ...             ...  ...                   ...   \n",
       "546       513.0     2.850000             1.0  inf              0.000000   \n",
       "548      1253.0     6.961111             1.0  inf              0.076433   \n",
       "549       621.0     3.450000             1.0  inf              0.000000   \n",
       "552       613.0     3.405556             1.0  inf              0.319345   \n",
       "553      1102.0     6.122222             1.0  inf              0.000000   \n",
       "\n",
       "     isi_violations_count  rp_contamination  rp_violations   \n",
       "7                     0.0          0.000000            0.0  \\\n",
       "9                     0.0          0.000000            0.0   \n",
       "15                    0.0          0.000000            0.0   \n",
       "17                    0.0          0.000000            0.0   \n",
       "32                    0.0          0.000000            0.0   \n",
       "..                    ...               ...            ...   \n",
       "546                   0.0          0.000000            0.0   \n",
       "548                   2.0          0.122104            2.0   \n",
       "549                   0.0          0.000000            0.0   \n",
       "552                   2.0          0.795147            2.0   \n",
       "553                   0.0          0.000000            0.0   \n",
       "\n",
       "     sliding_rp_violation  amplitude_cutoff  amplitude_median  \n",
       "7                   0.185          0.116709        635.719299  \n",
       "9                   0.185          0.000383         88.119507  \n",
       "15                  0.055          0.017724         81.825256  \n",
       "17                  0.045          0.002369         62.942505  \n",
       "32                  0.085          0.000525         75.531006  \n",
       "..                    ...               ...               ...  \n",
       "546                 0.080          0.001561         44.059753  \n",
       "548                 0.155          0.000859         50.354004  \n",
       "549                 0.180          0.000568         37.765503  \n",
       "552                 0.320          0.000670         44.059753  \n",
       "553                 0.090          0.002367        232.887268  \n",
       "\n",
       "[79 rows x 11 columns]"
      ]
     },
     "metadata": {},
     "output_type": "display_data"
    }
   ],
   "source": [
    "display(metrics)"
   ]
  },
  {
   "cell_type": "code",
   "execution_count": null,
   "metadata": {},
   "outputs": [],
   "source": []
  },
  {
   "cell_type": "code",
   "execution_count": 14,
   "metadata": {},
   "outputs": [
    {
     "name": "stdout",
     "output_type": "stream",
     "text": [
      "<class 'numpy.ndarray'>\n"
     ]
    },
    {
     "data": {
      "image/png": "[encoded data removed]",
      "text/plain": [
       "<Figure size 1050x650 with 1 Axes>"
      ]
     },
     "metadata": {},
     "output_type": "display_data"
    }
   ],
   "source": [
    "\n",
    "#locations = sp.compute_unit_locations(waveforms)\n",
    "locations = sp.compute_unit_locations(waveforms)\n",
    "print(type(locations))\n",
    "\n",
    "#np.savetxt(\"unitloc_10mins.txt\",locations)\n",
    "fig,ax = plt.subplots(figsize=(10.5,6.5))\n",
    "sw.plot_probe_map(recording1,ax=ax,with_channel_ids=False)\n",
    "ax.set_facecolor('#000000') \n",
    "for x,y in locations:\n",
    "    ax.scatter(x,y, s=5,c='deepskyblue')\n",
    "ax.invert_yaxis()\n",
    "plt.savefig(f'/home/mmp/Documents/FolicAcid_T2/M05506_6/unit_locations.svg',format='svg')"
   ]
  },
  {
   "cell_type": "code",
   "execution_count": null,
   "metadata": {},
   "outputs": [],
   "source": []
  }
 ],
 "metadata": {
  "kernelspec": {
   "display_name": "Python 3",
   "language": "python",
   "name": "python3"
  },
  "language_info": {
   "codemirror_mode": {
    "name": "ipython",
    "version": 3
   },
   "file_extension": ".py",
   "mimetype": "text/x-python",
   "name": "python",
   "nbconvert_exporter": "python",
   "pygments_lexer": "ipython3",
   "version": "3.10.12"
  },
  "orig_nbformat": 4
 },
 "nbformat": 4,
 "nbformat_minor": 2
}

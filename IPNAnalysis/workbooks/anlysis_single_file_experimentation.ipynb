{
 "cells": [
  {
   "cell_type": "code",
   "execution_count": 1,
   "metadata": {},
   "outputs": [],
   "source": [
    "import numpy as np\n",
    "import matplotlib.pyplot as plt\n",
    "from tsmoothie.smoother import GaussianSmoother\n",
    "import spikeinterface\n",
    "import spikeinterface.full as si\n",
    "import spikeinterface.extractors as se                                      \n",
    "import spikeinterface.sorters as ss\n",
    "import spikeinterface.comparison as sc\n",
    "import spikeinterface.widgets as sw\n",
    "import spikeinterface.postprocessing as sp\n",
    "import spikeinterface.preprocessing as spre\n",
    "import spikeinterface.qualitymetrics as qm\n",
    "import helper_functions as helper\n",
    "from spikeinterface.sorters import run_sorter_local"
   ]
  },
  {
   "cell_type": "code",
   "execution_count": null,
   "metadata": {},
   "outputs": [],
   "source": [
    "full_path = '/mnt/disk15tb/mmpatil/Axontracking/000026/data.raw.h5'\n",
    "rec_id = 0\n",
    "common_el = list(range(30000))\n",
    "while rec_id < 3: #True:\n",
    "    rec_name = 'rec' + '%0*d' % (4, rec_id)\n",
    "    try:   \n",
    "        rec = si.MaxwellRecordingExtractor(full_path,stream_name='well000',rec_name=rec_name)\n",
    "        rec_el = rec.get_property(\"contact_vector\")[\"electrode\"]\n",
    "        common_el = list(set(common_el).intersection(rec_el))\n",
    "        rec_id += 1\n",
    "    except Exception:\n",
    "        break\n",
    "            "
   ]
  },
  {
   "cell_type": "code",
   "execution_count": null,
   "metadata": {},
   "outputs": [],
   "source": [
    "rec_id\n"
   ]
  },
  {
   "cell_type": "code",
   "execution_count": null,
   "metadata": {},
   "outputs": [],
   "source": [
    "rec_list = []\n",
    "for r in range(rec_id): #rec_id\n",
    "    rec_name = 'rec' + '%0*d' % (4, r)\n",
    "    rec = si.MaxwellRecordingExtractor(full_path,stream_name='well000',rec_name=rec_name)\n",
    "    ch_id = rec.get_property(\"contact_vector\")['device_channel_indices']\n",
    "    rec_el = rec.get_property(\"contact_vector\")[\"electrode\"]\n",
    "    \n",
    "    chan_idx = [np.where(rec_el == el)[0][0] for el in common_el]\n",
    "    print(f'x{rec.get_property(\"contact_vector\")[\"x\"][chan_idx]}y{rec.get_property(\"contact_vector\")[\"y\"][chan_idx]}')\n",
    "    sel_channels = rec.get_channel_ids()[chan_idx]\n",
    "    rec_centered = si.filter(rec, band=[150,4999])\n",
    "    rec_list.append(rec_centered.channel_slice(sel_channels, renamed_channel_ids=list(range(len(chan_idx)))))\n",
    "\n",
    "multirecording = si.concatenate_recordings(rec_list)"
   ]
  },
  {
   "cell_type": "code",
   "execution_count": 3,
   "metadata": {},
   "outputs": [
    {
     "ename": "ValueError",
     "evalue": "Sortings don't have the same sampling_frequency/num_segments/dtype/num samples",
     "output_type": "error",
     "traceback": [
      "\u001b[0;31m---------------------------------------------------------------------------\u001b[0m",
      "\u001b[0;31mValueError\u001b[0m                                Traceback (most recent call last)",
      "Cell \u001b[0;32mIn[3], line 10\u001b[0m\n\u001b[1;32m      7\u001b[0m \u001b[38;5;28;01mfor\u001b[39;00m rec_name \u001b[38;5;129;01min\u001b[39;00m rec_names:\n\u001b[1;32m      8\u001b[0m     recs\u001b[38;5;241m.\u001b[39mappend(si\u001b[38;5;241m.\u001b[39mMaxwellRecordingExtractor(full_path,stream_name\u001b[38;5;241m=\u001b[39mstream_id,rec_name\u001b[38;5;241m=\u001b[39mrec_name))\n\u001b[0;32m---> 10\u001b[0m aggregated_rec \u001b[38;5;241m=\u001b[39m \u001b[43msi\u001b[49m\u001b[38;5;241;43m.\u001b[39;49m\u001b[43maggregate_channels\u001b[49m\u001b[43m(\u001b[49m\u001b[43mrecs\u001b[49m\u001b[43m)\u001b[49m\n\u001b[1;32m     11\u001b[0m \u001b[38;5;28mprint\u001b[39m(aggregated_rec)\n",
      "File \u001b[0;32m~/.local/lib/python3.10/site-packages/spikeinterface/core/channelsaggregationrecording.py:173\u001b[0m, in \u001b[0;36maggregate_channels\u001b[0;34m(recording_list, renamed_channel_ids)\u001b[0m\n\u001b[1;32m    157\u001b[0m \u001b[38;5;28;01mdef\u001b[39;00m \u001b[38;5;21maggregate_channels\u001b[39m(recording_list, renamed_channel_ids\u001b[38;5;241m=\u001b[39m\u001b[38;5;28;01mNone\u001b[39;00m):\n\u001b[1;32m    158\u001b[0m \u001b[38;5;250m    \u001b[39m\u001b[38;5;124;03m\"\"\"\u001b[39;00m\n\u001b[1;32m    159\u001b[0m \u001b[38;5;124;03m    Aggregates channels of multiple recording into a single recording object\u001b[39;00m\n\u001b[1;32m    160\u001b[0m \n\u001b[0;32m   (...)\u001b[0m\n\u001b[1;32m    171\u001b[0m \u001b[38;5;124;03m        The aggregated sorting object\u001b[39;00m\n\u001b[1;32m    172\u001b[0m \u001b[38;5;124;03m    \"\"\"\u001b[39;00m\n\u001b[0;32m--> 173\u001b[0m     \u001b[38;5;28;01mreturn\u001b[39;00m \u001b[43mChannelsAggregationRecording\u001b[49m\u001b[43m(\u001b[49m\u001b[43mrecording_list\u001b[49m\u001b[43m,\u001b[49m\u001b[43m \u001b[49m\u001b[43mrenamed_channel_ids\u001b[49m\u001b[43m)\u001b[49m\n",
      "File \u001b[0;32m~/.local/lib/python3.10/site-packages/spikeinterface/core/channelsaggregationrecording.py:52\u001b[0m, in \u001b[0;36mChannelsAggregationRecording.__init__\u001b[0;34m(self, recording_list, renamed_channel_ids)\u001b[0m\n\u001b[1;32m     49\u001b[0m         \u001b[38;5;28;01mbreak\u001b[39;00m\n\u001b[1;32m     51\u001b[0m \u001b[38;5;28;01mif\u001b[39;00m \u001b[38;5;129;01mnot\u001b[39;00m (ok1 \u001b[38;5;129;01mand\u001b[39;00m ok2 \u001b[38;5;129;01mand\u001b[39;00m ok3 \u001b[38;5;129;01mand\u001b[39;00m ok4):\n\u001b[0;32m---> 52\u001b[0m     \u001b[38;5;28;01mraise\u001b[39;00m \u001b[38;5;167;01mValueError\u001b[39;00m(\u001b[38;5;124m\"\u001b[39m\u001b[38;5;124mSortings don\u001b[39m\u001b[38;5;124m'\u001b[39m\u001b[38;5;124mt have the same sampling_frequency/num_segments/dtype/num samples\u001b[39m\u001b[38;5;124m\"\u001b[39m)\n\u001b[1;32m     54\u001b[0m BaseRecording\u001b[38;5;241m.\u001b[39m\u001b[38;5;21m__init__\u001b[39m(\u001b[38;5;28mself\u001b[39m, sampling_frequency, channel_ids, dtype)\n\u001b[1;32m     56\u001b[0m property_keys \u001b[38;5;241m=\u001b[39m recording_list[\u001b[38;5;241m0\u001b[39m]\u001b[38;5;241m.\u001b[39mget_property_keys()\n",
      "\u001b[0;31mValueError\u001b[0m: Sortings don't have the same sampling_frequency/num_segments/dtype/num samples"
     ]
    }
   ],
   "source": [
    "full_path = '/mnt/disk20tb/PrimaryNeuronData/Maxtwo/Folic_Acid_T2/Folic_Acid_T2/240209/M07038/ActivityScan/000047/data.raw.h5'\n",
    "import h5py\n",
    "stream_id = \"well001\"\n",
    "h5 = h5py.File(full_path, mode=\"r\")\n",
    "rec_names = list(h5[\"wells\"][stream_id].keys())\n",
    "recs =list()\n",
    "for rec_name in rec_names:\n",
    "    recs.append(si.MaxwellRecordingExtractor(full_path,stream_name=stream_id,rec_name=rec_name))\n",
    "\n",
    "aggregated_rec = si.aggregate_channels(recs)\n",
    "print(aggregated_rec)"
   ]
  },
  {
   "cell_type": "code",
   "execution_count": 29,
   "metadata": {},
   "outputs": [
    {
     "name": "stdout",
     "output_type": "stream",
     "text": [
      "['well000', 'well001', 'well002', 'well003', 'well004', 'well005']\n"
     ]
    }
   ],
   "source": [
    "print([x for x in h5['wells'].keys()])"
   ]
  },
  {
   "cell_type": "code",
   "execution_count": 26,
   "metadata": {},
   "outputs": [
    {
     "name": "stdout",
     "output_type": "stream",
     "text": [
      "<HDF5 dataset \"version\": shape (1,), type \"|S23\">\n"
     ]
    }
   ],
   "source": [
    "print(h5['wellplate']['version'])"
   ]
  },
  {
   "cell_type": "code",
   "execution_count": null,
   "metadata": {},
   "outputs": [],
   "source": [
    "chan_idx"
   ]
  },
  {
   "cell_type": "code",
   "execution_count": null,
   "metadata": {},
   "outputs": [],
   "source": [
    "multirecording.get_channel_ids()"
   ]
  },
  {
   "cell_type": "code",
   "execution_count": null,
   "metadata": {},
   "outputs": [],
   "source": [
    "#Reading the file, BP filtering\n",
    "#path of the network file\n",
    "local_path= '/mnt/disk15tb/mmpatil/Axontracking/000026/data.raw.h5' #network data from chip 16848\n",
    "recordings =list()\n",
    "for recnames in ['rec0000', 'rec0001', 'rec0002', 'rec0003', 'rec0004', 'rec0005', 'rec0006', 'rec0007', 'rec0008', 'rec0009', 'rec0010', 'rec0011', 'rec0012', 'rec0013', 'rec0014', 'rec0015', 'rec0016', 'rec0017', 'rec0018', 'rec0019', 'rec0020', 'rec0021', 'rec0022', 'rec0023', 'rec0024', 'rec0025', 'rec0026', 'rec0027', 'rec0028', 'rec0029', 'rec0030', 'rec0031', 'rec0032', 'rec0033', 'rec0034', 'rec0035', 'rec0036', 'rec0037', 'rec0038', 'rec0039']:\n",
    "    recordings.append(se.read_maxwell(local_path,stream_id='well000',rec_name=recnames)) #well000 - well005 for maxtwo \n",
    "\n",
    "recording1 = si.aggregate_channels(recordings)\n",
    "\n",
    "#recording = si.ConcatenateSegmentRecording([recording1,recording2])\n",
    "channel_ids = recording1.get_channel_ids()\n",
    "fs = recording1.get_sampling_frequency()\n",
    "num_chan = recording1.get_num_channels()\n",
    "num_seg = recording1.get_num_segments()\n",
    "total_recording = recording1.get_total_duration()\n",
    "\n",
    "#print('Channel ids:', channel_ids)\n",
    "print('Sampling frequency:', fs)\n",
    "print('Number of channels:', num_chan)\n",
    "print('Number of segments:', num_seg)\n",
    "print(f\"total_recording: {total_recording} s\")\n",
    "\n",
    "recording_bp = spre.bandpass_filter(recording1, freq_min=300, freq_max=3000)\n",
    "\n",
    "recodring_cmr = spre.common_reference(recording_bp, reference='global', operator='median')\n",
    "#recording_chunk = recodring_cmr.frame_slice(start_frame= 1*fs,end_frame=425*fs)\n",
    "recording_chunk = recodring_cmr.frame_slice(start_frame= 0*fs,end_frame=180*fs)\n",
    "print(f\"chunk duration: {recording_chunk.get_total_duration()} s\")"
   ]
  },
  {
   "cell_type": "code",
   "execution_count": 2,
   "metadata": {},
   "outputs": [
    {
     "name": "stdout",
     "output_type": "stream",
     "text": [
      "Sampling frequency: 20000.0\n",
      "Number of channels: 999\n",
      "Number of segments: 1\n",
      "total_recording: 300.08 s\n",
      "chunk duration: 300.0 s\n"
     ]
    }
   ],
   "source": [
    "local_path= '/mnt/disk20tb/240425/18832/Network/000020/data.raw.h5' #network data from chip 16848\n",
    "\n",
    "\n",
    "recording1 = se.read_maxwell(local_path,stream_id='well000')\n",
    "\n",
    "#recording = si.ConcatenateSegmentRecording([recording1,recording2])\n",
    "channel_ids = recording1.get_channel_ids()\n",
    "fs = recording1.get_sampling_frequency()\n",
    "num_chan = recording1.get_num_channels()\n",
    "num_seg = recording1.get_num_segments()\n",
    "total_recording = recording1.get_total_duration()\n",
    "\n",
    "#print('Channel ids:', channel_ids)\n",
    "print('Sampling frequency:', fs)\n",
    "print('Number of channels:', num_chan)\n",
    "print('Number of segments:', num_seg)\n",
    "print(f\"total_recording: {total_recording} s\")\n",
    "\n",
    "recording_bp = spre.bandpass_filter(recording1, freq_min=300, freq_max=3000)\n",
    "\n",
    "recodring_cmr = spre.common_reference(recording_bp, reference='global', operator='median')\n",
    "#recording_chunk = recodring_cmr.frame_slice(start_frame= 1*fs,end_frame=425*fs)\n",
    "recording_chunk = recodring_cmr.frame_slice(start_frame= 0*fs,end_frame=300*fs)\n",
    "print(f\"chunk duration: {recording_chunk.get_total_duration()} s\")"
   ]
  },
  {
   "cell_type": "markdown",
   "metadata": {},
   "source": [
    "## RUnnig sorting"
   ]
  },
  {
   "cell_type": "code",
   "execution_count": null,
   "metadata": {},
   "outputs": [],
   "source": [
    "traces = recording_chunk.get_traces(start_frame=100, end_frame=50000*15, segment_index=0,return_scaled=True)\n"
   ]
  },
  {
   "cell_type": "code",
   "execution_count": null,
   "metadata": {},
   "outputs": [],
   "source": [
    "traces = recording_chunk.get_traces(start_frame=290500, end_frame=291800, segment_index=0,return_scaled=True)\n",
    "plt.figure(figsize=(12,2))\n",
    "plt.plot(traces[:,500])\n",
    "plt.savefig('/home/mmp/Documents/traces/fulltrace.svg',format='svg')\n",
    "plt.show()"
   ]
  },
  {
   "cell_type": "code",
   "execution_count": null,
   "metadata": {},
   "outputs": [],
   "source": [
    "traces = recording_chunk.get_traces(start_frame=278860, end_frame=278910, segment_index=0,return_scaled=True)\n",
    "plt.figure(figsize=(3,4))\n",
    "plt.plot(traces[:,500])\n",
    "plt.savefig('/home/mmp/Documents/traces/zoomedin.svg',format='svg')\n",
    "plt.show()"
   ]
  },
  {
   "cell_type": "code",
   "execution_count": 4,
   "metadata": {},
   "outputs": [
    {
     "data": {
      "text/plain": [
       "<spikeinterface.widgets.probe_map.ProbeMapWidget at 0x78e128bcb280>"
      ]
     },
     "execution_count": 4,
     "metadata": {},
     "output_type": "execute_result"
    },
    {
     "data": {
      "application/vnd.jupyter.widget-view+json": {
       "model_id": "32090080a5a04b2b98d12a35d5899edd",
       "version_major": 2,
       "version_minor": 0
      },
      "image/png": "[encoded data removed]",
      "text/html": [
       "\n",
       "            <div style=\"display: inline-block;\">\n",
       "                <div class=\"jupyter-widgets widget-label\" style=\"text-align: center;\">\n",
       "                    Figure\n",
       "                </div>\n",
       "                <img src='data:image/png;base64,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' width=800.0/>\n",
       "            </div>\n",
       "        "
      ],
      "text/plain": [
       "Canvas(toolbar=Toolbar(toolitems=[('Home', 'Reset original view', 'home', 'home'), ('Back', 'Back to previous …"
      ]
     },
     "metadata": {},
     "output_type": "display_data"
    }
   ],
   "source": [
    "%matplotlib widget\n",
    "fig,ax = plt.subplots(figsize=(8,8))\n",
    "si.plot_probe_map(recording1,ax=ax,with_channel_ids=False)\n"
   ]
  },
  {
   "cell_type": "code",
   "execution_count": 5,
   "metadata": {},
   "outputs": [],
   "source": [
    "output_folder = \"./sorting/organoid25apr_networkNU9_\"\n",
    "\n",
    "docker_image= \"rohanmalige/benshalom:v3\""
   ]
  },
  {
   "cell_type": "code",
   "execution_count": 6,
   "metadata": {},
   "outputs": [
    {
     "name": "stdout",
     "output_type": "stream",
     "text": [
      "{'detect_threshold': 6, 'projection_threshold': [10, 4], 'preclust_threshold': 8, 'momentum': [20.0, 400.0], 'car': True, 'minFR': 0.1, 'minfr_goodchannels': 0.1, 'freq_min': 150, 'sigmaMask': 30, 'lam': 10.0, 'nPCs': 3, 'ntbuff': 64, 'nfilt_factor': 4, 'NT': None, 'AUCsplit': 0.9, 'wave_length': 61, 'keep_good_only': False, 'skip_kilosort_preprocessing': False, 'scaleproc': None, 'save_rez_to_mat': False, 'delete_tmp_files': ('matlab_files',), 'delete_recording_dat': False, 'n_jobs': 48, 'chunk_duration': '1s', 'progress_bar': True, 'mp_context': None, 'max_threads_per_process': 1}\n",
      "installation_mode='auto' switching to installation_mode: 'github'\n",
      "Starting container\n",
      "Installing neo with pypi in container\n",
      "Installing h5py with pypi in container\n",
      "Running kilosort2 sorter inside rohanmalige/benshalom:v3\n",
      "Stopping container\n"
     ]
    }
   ],
   "source": [
    "#aggregated_rec= aggregated_rec.save(fodler=\"./sorting/recordingtest\",progress_bar=True,verbose=True)\n",
    "\n",
    "default_KS2_params = si.get_default_sorter_params('kilosort2')\n",
    "print(default_KS2_params)\n",
    "#default_KS2_params['keep_good_only'] = True\n",
    "default_KS2_params['detect_threshold'] = 5.5\n",
    "# default_KS2_params['projection_threshold']=[18, 10]\n",
    "default_KS2_params['n_jobs'] = 32\n",
    "# global_job_kwargs = dict(n_jobs=32, total_memory=\"8G\", progress_bar=True)\n",
    "# si.set_global_job_kwargs(**global_job_kwargs)\n",
    "sortingKS3 = si.run_sorter('kilosort2',recording=recording_chunk, output_folder=f'{output_folder}_KS',docker_image= docker_image,verbose=True,remove_existing_folder=True, **default_KS2_params)\n"
   ]
  },
  {
   "cell_type": "code",
   "execution_count": 7,
   "metadata": {},
   "outputs": [
    {
     "name": "stdout",
     "output_type": "stream",
     "text": [
      "267\n",
      "['0' '1' '2' '3' '4' '5' '6' '7' '8' '9' '10' '11' '12' '13' '14' '15'\n",
      " '16' '17' '18' '19' '20' '21' '22' '23' '24' '25' '26' '27' '28' '29'\n",
      " '30' '31' '32' '33' '34' '35' '36' '38' '39' '40' '41' '42' '43' '44'\n",
      " '45' '46' '47' '48' '49' '50' '51' '52' '53' '54' '55' '56' '57' '58'\n",
      " '59' '60' '61' '62' '63' '64' '65' '66' '67' '68' '69' '70' '71' '72'\n",
      " '73' '74' '75' '76' '77' '78' '79' '80' '81' '82' '83' '84' '85' '86'\n",
      " '87' '88' '89' '90' '91' '92' '93' '94' '95' '96' '97' '98' '99' '100'\n",
      " '101' '102' '103' '104' '105' '106' '107' '108' '109' '110' '111' '112'\n",
      " '113' '114' '115' '116' '117' '118' '119' '120' '121' '122' '123' '124'\n",
      " '125' '126' '127' '128' '129' '130' '131' '132' '133' '134' '135' '136'\n",
      " '137' '138' '139' '140' '141' '142' '143' '144' '145' '146' '147' '148'\n",
      " '149' '150' '151' '152' '153' '154' '155' '156' '157' '158' '159' '160'\n",
      " '161' '162' '163' '164' '165' '166' '167' '168' '169' '170' '171' '172'\n",
      " '173' '174' '175' '176' '177' '178' '179' '180' '181' '182' '183' '184'\n",
      " '185' '186' '187' '188' '189' '190' '191' '192' '193' '194' '195' '196'\n",
      " '197' '198' '199' '200' '201' '202' '203' '204' '205' '206' '207' '208'\n",
      " '209' '210' '211' '212' '213' '214' '215' '216' '217' '218' '219' '220'\n",
      " '221' '222' '223' '224' '225' '226' '227' '228' '229' '230' '231' '232'\n",
      " '233' '234' '235' '236' '237' '238' '239' '240' '241' '242' '243' '244'\n",
      " '245' '246' '247' '248' '249' '250' '251' '252' '253' '254' '255' '256'\n",
      " '257' '258' '259' '260' '261' '262' '263' '264' '265' '266' '267' '268'\n",
      " '269' '270' '271' '272' '273' '274' '275' '276' '277' '278' '279' '280'\n",
      " '281' '282' '283' '284' '285' '286' '287' '288' '289' '290' '291' '292'\n",
      " '293' '294' '295' '296' '298' '299' '300' '301' '302' '303' '304' '306'\n",
      " '307' '308' '309' '310' '312' '314' '315' '316' '318' '319' '320' '321'\n",
      " '322' '323' '324' '325' '326' '327' '328' '329' '330' '331' '332' '334'\n",
      " '335' '336' '337' '338' '339' '340' '342' '343' '344' '345' '346' '347'\n",
      " '348' '349' '350' '351' '352' '353' '354' '355' '356' '357' '358' '359'\n",
      " '364' '365' '366' '368' '370' '371' '372' '373' '374' '375' '376' '378'\n",
      " '379' '380' '381' '382' '383' '384' '385' '386' '387' '388' '389' '390'\n",
      " '391' '392' '393' '394' '395' '396' '397' '398' '399' '400' '401' '402'\n",
      " '403' '404' '405' '406' '407' '408' '409' '410' '411' '412' '413' '414'\n",
      " '415' '416' '417' '418' '419' '420' '421' '422' '423' '424' '426' '427'\n",
      " '428' '429' '430' '431' '432' '433' '434' '435' '436' '437' '438' '439'\n",
      " '440' '441' '442' '443' '444' '445' '446' '447' '448' '449' '450' '451'\n",
      " '452' '453' '454' '455' '456' '457' '458' '460' '461' '462' '463' '464'\n",
      " '465' '466' '467' '468' '469' '470' '472' '473' '474' '475' '476' '477'\n",
      " '478' '479' '480' '482' '483' '484' '485' '486' '487' '488' '490' '491'\n",
      " '492' '494' '495' '496' '498' '500' '501' '502' '503' '504' '505' '506'\n",
      " '508' '509' '510' '512' '513' '514' '515' '516' '517' '518' '519' '520'\n",
      " '521' '522' '523' '524' '525' '526' '527' '528' '529' '530' '531' '532'\n",
      " '533' '534' '535' '536' '537' '538' '539' '540' '541' '542' '543' '544'\n",
      " '545' '546' '547' '548' '549' '550' '551' '552' '553' '554' '555' '556'\n",
      " '557' '558' '559' '560' '561' '562' '563' '564' '565' '566' '567' '568'\n",
      " '569' '570' '571' '572' '573' '574' '575' '576' '577' '578' '579' '580'\n",
      " '581' '582' '583' '584' '585' '586' '587' '588' '589' '590' '591' '592'\n",
      " '593' '594' '595' '596' '597' '598' '599' '600' '601' '602' '603' '604'\n",
      " '605' '606' '607' '608' '609' '610' '611' '612' '613' '614' '615' '616'\n",
      " '617' '618' '619' '620' '621' '622' '623' '624' '625' '626' '627' '628'\n",
      " '629' '630' '631' '632' '633' '634' '635' '636' '637' '638' '639' '640'\n",
      " '641' '642' '643' '644' '645' '646' '647' '648' '649' '650' '651' '652'\n",
      " '653' '654' '655' '656' '657' '658' '659' '660' '661' '662' '663' '664'\n",
      " '665' '666' '667' '668' '669' '670' '671' '672' '673' '674' '675' '676'\n",
      " '677' '678' '679' '680' '681' '682' '683' '684' '685' '686' '687' '688'\n",
      " '689' '690' '691' '692' '693' '694' '695' '696' '697' '698' '699' '700'\n",
      " '701' '702' '703' '704' '705' '706' '707' '708' '709' '710' '711' '712'\n",
      " '713' '714' '715' '716' '717' '718' '719' '720' '721' '722' '723' '724'\n",
      " '725' '726' '727' '728' '729' '730' '731' '732' '733' '734' '735' '736'\n",
      " '737' '738' '739' '740' '741' '742' '743' '744' '745' '746' '747' '748'\n",
      " '749' '750' '751' '752' '753' '754' '755' '756' '757' '758' '759' '760'\n",
      " '761' '762' '763' '764' '765' '766' '767' '768' '769' '770' '771' '772'\n",
      " '773' '774' '775' '776' '777' '778' '779' '780' '781' '782' '783' '784'\n",
      " '785' '786' '787' '788' '789' '790' '791' '792' '793' '794' '795' '796'\n",
      " '797' '798' '799' '800' '801' '802' '803' '804' '805' '806' '807' '808'\n",
      " '809' '810' '811' '812' '813' '814' '815' '816' '817' '818' '819' '820'\n",
      " '821' '822' '823' '824' '825' '826' '827' '828' '829' '830' '831' '832'\n",
      " '833' '834' '835' '836' '837' '838' '839' '840' '841' '842' '843' '844'\n",
      " '845' '846' '847' '848' '849' '850' '851' '852' '853' '854' '855' '856'\n",
      " '857' '858' '859' '860' '861' '862' '863' '864' '865' '866' '867' '868'\n",
      " '869' '870' '871' '872' '873' '874' '875' '876' '877' '878' '879' '880'\n",
      " '881' '882' '883' '884' '885' '886' '887' '888' '889' '890' '891' '892'\n",
      " '893' '894' '895' '896' '897' '898' '899' '900' '901' '902' '903' '904'\n",
      " '905' '906' '907' '908' '909' '910' '911' '912' '913' '914' '915' '916'\n",
      " '917' '918' '919' '920' '921' '922' '923' '924' '925' '926' '927' '928'\n",
      " '929' '930' '931' '932' '933' '934' '935' '936' '937' '938' '939' '940'\n",
      " '941' '942' '943' '944' '945' '946' '947' '948' '949' '950' '951' '952'\n",
      " '953' '954' '955' '956' '957' '958' '959' '960' '961' '962' '963' '964'\n",
      " '965' '966' '967' '968' '969' '970' '971' '972' '973' '974' '975' '976'\n",
      " '977' '978' '979' '980' '981' '982' '983' '984' '985' '986' '987' '988'\n",
      " '989' '990' '991' '992' '993' '994' '995' '996' '997' '998' '999' '1000'\n",
      " '1001' '1002' '1003' '1004' '1005' '1006' '1007' '1008' '1009' '1010'\n",
      " '1011' '1012' '1013' '1014' '1015' '1016' '1017' '1018' '1019' '1020'\n",
      " '1021' '1022' '1023']\n"
     ]
    },
    {
     "name": "stderr",
     "output_type": "stream",
     "text": [
      "/home/mmp/.local/lib/python3.10/site-packages/spikeinterface/core/basesorting.py:239: UserWarning: The registered recording will not be persistent on disk, but only available in memory\n",
      "  warnings.warn(\"The registered recording will not be persistent on disk, but only available in memory\")\n"
     ]
    }
   ],
   "source": [
    "\n",
    "# loading the KS2 sorted object\n",
    "sortingKS3 = sortingKS3.remove_empty_units()\n",
    "sortingKS3 = spikeinterface.curation.remove_excess_spikes(sortingKS3,recording1) #Sometimes KS returns spikes outside the number of samples. < https://github.com/SpikeInterface/spikeinterface/pull/1378>\n",
    "\n",
    "sortingKS3= sortingKS3.save(folder = f'{output_folder}_KS2',overwrite=True)\n",
    "#sorting_KS3 = s.Kilosort2Sorter._get_result_from_folder('./sorting/FolicAcidT2M07038_2_KS/sorter_output')\n",
    "total_units = sortingKS3.get_unit_ids()\n",
    "print(len(total_units))\n",
    "#print(len(total_units))\n",
    "channel_ids = recording_chunk.get_channel_ids()\n",
    "print(channel_ids)\n",
    "\n"
   ]
  },
  {
   "cell_type": "markdown",
   "metadata": {},
   "source": [
    "## Extracting the waveforms"
   ]
  },
  {
   "cell_type": "code",
   "execution_count": 8,
   "metadata": {},
   "outputs": [
    {
     "data": {
      "application/vnd.jupyter.widget-view+json": {
       "model_id": "83b9907b073c432c84372a29fafecd08",
       "version_major": 2,
       "version_minor": 0
      },
      "text/plain": [
       "extract waveforms shared_memory multi buffer:   0%|          | 0/300 [00:00<?, ?it/s]"
      ]
     },
     "metadata": {},
     "output_type": "display_data"
    },
    {
     "data": {
      "application/vnd.jupyter.widget-view+json": {
       "model_id": "e5a82dee033f4289bb589ae52de17f1a",
       "version_major": 2,
       "version_minor": 0
      },
      "text/plain": [
       "extract waveforms shared_memory multi buffer:   0%|          | 0/300 [00:00<?, ?it/s]"
      ]
     },
     "metadata": {},
     "output_type": "display_data"
    },
    {
     "data": {
      "application/vnd.jupyter.widget-view+json": {
       "model_id": "ed76584cddb04753ab8b2a04b6d8ebb6",
       "version_major": 2,
       "version_minor": 0
      },
      "text/plain": [
       "extract waveforms memmap multi buffer:   0%|          | 0/300 [00:00<?, ?it/s]"
      ]
     },
     "metadata": {},
     "output_type": "display_data"
    },
    {
     "name": "stdout",
     "output_type": "stream",
     "text": [
      "WaveformExtractor: 999 channels - 267 units - 1 segments\n",
      "  before:20 after:40 n_per_units:500 - sparse\n"
     ]
    }
   ],
   "source": [
    "\n",
    "job_kwargs = dict(n_jobs=32, chunk_duration=\"1s\", progress_bar=True)\n",
    "#waveforms = si.extract_waveforms(recording_chunk,sorting_KS3,folder=\"./waveformsblock1_7min\",overwrite=True, ms_before=1., ms_after=2.,**job_kwargs)\n",
    "\n",
    "#recording1.annotate(is_filtered=True)\n",
    "waveforms = si.extract_waveforms(recording_chunk,sortingKS3,folder=f'{output_folder}_WF',overwrite=True,**job_kwargs)\n",
    "print(waveforms)"
   ]
  },
  {
   "cell_type": "code",
   "execution_count": null,
   "metadata": {},
   "outputs": [],
   "source": []
  },
  {
   "cell_type": "code",
   "execution_count": null,
   "metadata": {},
   "outputs": [],
   "source": [
    "si.export_to_phy(waveform_extractor=waveforms,output_folder='./sorting/SPTAN1_1_16793_phy',**job_kwargs)"
   ]
  },
  {
   "cell_type": "code",
   "execution_count": null,
   "metadata": {},
   "outputs": [],
   "source": []
  },
  {
   "cell_type": "code",
   "execution_count": null,
   "metadata": {},
   "outputs": [],
   "source": []
  },
  {
   "cell_type": "code",
   "execution_count": 9,
   "metadata": {},
   "outputs": [],
   "source": [
    "extremum_channels_ids =si.get_template_extremum_channel(waveforms,peak_sign ='both',mode='at_index')"
   ]
  },
  {
   "cell_type": "code",
   "execution_count": 10,
   "metadata": {},
   "outputs": [
    {
     "data": {
      "text/plain": [
       "{0: '386',\n",
       " 1: '386',\n",
       " 2: '386',\n",
       " 3: '386',\n",
       " 4: '386',\n",
       " 5: '386',\n",
       " 6: '386',\n",
       " 7: '386',\n",
       " 9: '386',\n",
       " 10: '386',\n",
       " 11: '386',\n",
       " 12: '386',\n",
       " 13: '386',\n",
       " 14: '386',\n",
       " 15: '386',\n",
       " 16: '386',\n",
       " 17: '386',\n",
       " 18: '386',\n",
       " 19: '386',\n",
       " 20: '386',\n",
       " 21: '386',\n",
       " 22: '386',\n",
       " 23: '386',\n",
       " 24: '386',\n",
       " 25: '386',\n",
       " 26: '386',\n",
       " 27: '386',\n",
       " 28: '386',\n",
       " 29: '386',\n",
       " 31: '386',\n",
       " 32: '386',\n",
       " 33: '386',\n",
       " 34: '386',\n",
       " 35: '386',\n",
       " 36: '386',\n",
       " 37: '386',\n",
       " 38: '386',\n",
       " 39: '386',\n",
       " 40: '386',\n",
       " 41: '386',\n",
       " 43: '386',\n",
       " 44: '386',\n",
       " 45: '386',\n",
       " 46: '386',\n",
       " 47: '386',\n",
       " 48: '386',\n",
       " 49: '386',\n",
       " 50: '386',\n",
       " 51: '386',\n",
       " 52: '386',\n",
       " 53: '386',\n",
       " 57: '386',\n",
       " 58: '386',\n",
       " 59: '386',\n",
       " 60: '386',\n",
       " 61: '386',\n",
       " 62: '386',\n",
       " 63: '386',\n",
       " 65: '386',\n",
       " 66: '386',\n",
       " 67: '386',\n",
       " 68: '386',\n",
       " 69: '386',\n",
       " 70: '386',\n",
       " 72: '386',\n",
       " 73: '386',\n",
       " 75: '386',\n",
       " 76: '386',\n",
       " 78: '386',\n",
       " 79: '386',\n",
       " 80: '386',\n",
       " 81: '386',\n",
       " 82: '386',\n",
       " 83: '386',\n",
       " 84: '386',\n",
       " 85: '386',\n",
       " 86: '386',\n",
       " 88: '386',\n",
       " 89: '386',\n",
       " 90: '386',\n",
       " 91: '386',\n",
       " 92: '386',\n",
       " 93: '386',\n",
       " 94: '386',\n",
       " 95: '386',\n",
       " 96: '386',\n",
       " 97: '386',\n",
       " 98: '386',\n",
       " 99: '386',\n",
       " 100: '386',\n",
       " 101: '386',\n",
       " 102: '386',\n",
       " 103: '386',\n",
       " 104: '386',\n",
       " 105: '386',\n",
       " 106: '386',\n",
       " 107: '386',\n",
       " 108: '386',\n",
       " 110: '386',\n",
       " 111: '386',\n",
       " 112: '386',\n",
       " 113: '386',\n",
       " 114: '386',\n",
       " 115: '386',\n",
       " 117: '386',\n",
       " 118: '386',\n",
       " 119: '386',\n",
       " 120: '386',\n",
       " 121: '386',\n",
       " 122: '386',\n",
       " 123: '386',\n",
       " 125: '386',\n",
       " 126: '386',\n",
       " 127: '386',\n",
       " 128: '386',\n",
       " 130: '386',\n",
       " 132: '386',\n",
       " 134: '386',\n",
       " 135: '386',\n",
       " 136: '386',\n",
       " 137: '386',\n",
       " 139: '386',\n",
       " 140: '386',\n",
       " 141: '386',\n",
       " 142: '386',\n",
       " 143: '386',\n",
       " 144: '386',\n",
       " 145: '386',\n",
       " 146: '386',\n",
       " 147: '386',\n",
       " 149: '386',\n",
       " 151: '386',\n",
       " 152: '386',\n",
       " 153: '386',\n",
       " 155: '386',\n",
       " 156: '386',\n",
       " 157: '386',\n",
       " 158: '386',\n",
       " 160: '386',\n",
       " 161: '386',\n",
       " 162: '386',\n",
       " 163: '386',\n",
       " 164: '386',\n",
       " 165: '386',\n",
       " 166: '386',\n",
       " 167: '386',\n",
       " 168: '386',\n",
       " 169: '386',\n",
       " 171: '386',\n",
       " 173: '386',\n",
       " 174: '386',\n",
       " 175: '386',\n",
       " 176: '386',\n",
       " 177: '386',\n",
       " 178: '386',\n",
       " 179: '386',\n",
       " 180: '386',\n",
       " 181: '386',\n",
       " 182: '386',\n",
       " 183: '386',\n",
       " 184: '386',\n",
       " 185: '386',\n",
       " 186: '386',\n",
       " 187: '386',\n",
       " 188: '386',\n",
       " 189: '386',\n",
       " 190: '386',\n",
       " 191: '386',\n",
       " 192: '386',\n",
       " 193: '386',\n",
       " 194: '386',\n",
       " 195: '386',\n",
       " 196: '386',\n",
       " 197: '386',\n",
       " 199: '386',\n",
       " 200: '386',\n",
       " 201: '386',\n",
       " 202: '386',\n",
       " 203: '386',\n",
       " 204: '386',\n",
       " 205: '386',\n",
       " 206: '386',\n",
       " 207: '386',\n",
       " 208: '386',\n",
       " 209: '386',\n",
       " 210: '386',\n",
       " 211: '386',\n",
       " 212: '386',\n",
       " 213: '386',\n",
       " 214: '386',\n",
       " 215: '386',\n",
       " 217: '386',\n",
       " 219: '386',\n",
       " 220: '386',\n",
       " 221: '386',\n",
       " 222: '386',\n",
       " 223: '386',\n",
       " 224: '386',\n",
       " 225: '386',\n",
       " 226: '386',\n",
       " 227: '386',\n",
       " 228: '386',\n",
       " 229: '386',\n",
       " 230: '386',\n",
       " 231: '386',\n",
       " 232: '386',\n",
       " 233: '386',\n",
       " 234: '386',\n",
       " 235: '386',\n",
       " 236: '386',\n",
       " 237: '386',\n",
       " 238: '386',\n",
       " 240: '386',\n",
       " 241: '386',\n",
       " 242: '386',\n",
       " 243: '386',\n",
       " 244: '386',\n",
       " 245: '386',\n",
       " 246: '386',\n",
       " 247: '386',\n",
       " 248: '386',\n",
       " 250: '386',\n",
       " 251: '386',\n",
       " 252: '386',\n",
       " 254: '386',\n",
       " 255: '386',\n",
       " 256: '386',\n",
       " 257: '386',\n",
       " 258: '386',\n",
       " 259: '386',\n",
       " 260: '386',\n",
       " 261: '386',\n",
       " 262: '386',\n",
       " 263: '386',\n",
       " 264: '386',\n",
       " 265: '386',\n",
       " 266: '386',\n",
       " 267: '386',\n",
       " 268: '386',\n",
       " 269: '386',\n",
       " 270: '386',\n",
       " 271: '386',\n",
       " 272: '386',\n",
       " 273: '386',\n",
       " 274: '386',\n",
       " 275: '386',\n",
       " 276: '386',\n",
       " 277: '386',\n",
       " 278: '386',\n",
       " 279: '386',\n",
       " 280: '386',\n",
       " 281: '386',\n",
       " 282: '386',\n",
       " 283: '386',\n",
       " 284: '386',\n",
       " 285: '386',\n",
       " 286: '386',\n",
       " 287: '386',\n",
       " 288: '386',\n",
       " 289: '386',\n",
       " 290: '386',\n",
       " 291: '386',\n",
       " 293: '386',\n",
       " 294: '386',\n",
       " 295: '386',\n",
       " 296: '386',\n",
       " 297: '386',\n",
       " 298: '386',\n",
       " 299: '386',\n",
       " 300: '386',\n",
       " 301: '386',\n",
       " 302: '386',\n",
       " 303: '386',\n",
       " 304: '386',\n",
       " 305: '386',\n",
       " 306: '386',\n",
       " 307: '386',\n",
       " 309: '386',\n",
       " 311: '386',\n",
       " 312: '386',\n",
       " 313: '386',\n",
       " 314: '386',\n",
       " 315: '386',\n",
       " 316: '386',\n",
       " 317: '386',\n",
       " 318: '386',\n",
       " 319: '386',\n",
       " 320: '386',\n",
       " 321: '386',\n",
       " 322: '386',\n",
       " 323: '386',\n",
       " 324: '386',\n",
       " 325: '386',\n",
       " 326: '386',\n",
       " 327: '386',\n",
       " 328: '386',\n",
       " 330: '386',\n",
       " 331: '386',\n",
       " 333: '386',\n",
       " 334: '386',\n",
       " 335: '386',\n",
       " 336: '386',\n",
       " 338: '386',\n",
       " 339: '386',\n",
       " 340: '386',\n",
       " 341: '386',\n",
       " 342: '386',\n",
       " 344: '386',\n",
       " 345: '386',\n",
       " 346: '386',\n",
       " 347: '386',\n",
       " 348: '386',\n",
       " 349: '386',\n",
       " 350: '386',\n",
       " 351: '386',\n",
       " 352: '386',\n",
       " 355: '386',\n",
       " 356: '386',\n",
       " 357: '386',\n",
       " 358: '386',\n",
       " 359: '386',\n",
       " 360: '386',\n",
       " 361: '386',\n",
       " 362: '386',\n",
       " 363: '386',\n",
       " 364: '386',\n",
       " 365: '386',\n",
       " 366: '386',\n",
       " 367: '386',\n",
       " 368: '386',\n",
       " 369: '386',\n",
       " 370: '386',\n",
       " 371: '386',\n",
       " 372: '386',\n",
       " 373: '386',\n",
       " 374: '386',\n",
       " 375: '386',\n",
       " 376: '386',\n",
       " 377: '386',\n",
       " 378: '386',\n",
       " 379: '386',\n",
       " 381: '386',\n",
       " 384: '386',\n",
       " 385: '386',\n",
       " 386: '386',\n",
       " 387: '386',\n",
       " 388: '386',\n",
       " 391: '386',\n",
       " 392: '386',\n",
       " 394: '386',\n",
       " 395: '386',\n",
       " 398: '386',\n",
       " 399: '386',\n",
       " 401: '386',\n",
       " 402: '386',\n",
       " 403: '386',\n",
       " 404: '386',\n",
       " 405: '386',\n",
       " 406: '386',\n",
       " 407: '386',\n",
       " 408: '386',\n",
       " 409: '386',\n",
       " 410: '386',\n",
       " 411: '386',\n",
       " 412: '386',\n",
       " 413: '386',\n",
       " 414: '386',\n",
       " 415: '386',\n",
       " 416: '386',\n",
       " 417: '386',\n",
       " 418: '386',\n",
       " 420: '386',\n",
       " 421: '386',\n",
       " 422: '386',\n",
       " 423: '386',\n",
       " 424: '386',\n",
       " 425: '386',\n",
       " 426: '386',\n",
       " 427: '386',\n",
       " 428: '386',\n",
       " 429: '386',\n",
       " 430: '386',\n",
       " 431: '386',\n",
       " 432: '386',\n",
       " 433: '386',\n",
       " 434: '386',\n",
       " 435: '386',\n",
       " 436: '386',\n",
       " 437: '386',\n",
       " 438: '386',\n",
       " 439: '386',\n",
       " 440: '386',\n",
       " 441: '386',\n",
       " 442: '386',\n",
       " 443: '386',\n",
       " 444: '386'}"
      ]
     },
     "execution_count": 10,
     "metadata": {},
     "output_type": "execute_result"
    }
   ],
   "source": [
    "extremum_channels_ids"
   ]
  },
  {
   "cell_type": "code",
   "execution_count": null,
   "metadata": {},
   "outputs": [],
   "source": [
    "template = waveforms.get_template(5,mode='median')\n",
    "template.shape"
   ]
  },
  {
   "cell_type": "code",
   "execution_count": 33,
   "metadata": {},
   "outputs": [
    {
     "name": "stdout",
     "output_type": "stream",
     "text": [
      "WaveformExtractor: 994 channels - 348 units - 1 segments\n",
      "  before:20 after:40 n_per_units:500 - sparse\n"
     ]
    },
    {
     "data": {
      "application/vnd.jupyter.widget-view+json": {
       "model_id": "a04c23b6ddc64743a01d7906f2b75010",
       "version_major": 2,
       "version_minor": 0
      },
      "text/plain": [
       "extract amplitudes:   0%|          | 0/300 [00:00<?, ?it/s]"
      ]
     },
     "metadata": {},
     "output_type": "display_data"
    },
    {
     "name": "stderr",
     "output_type": "stream",
     "text": [
      "/home/mmp/.local/lib/python3.10/site-packages/spikeinterface/qualitymetrics/misc_metrics.py:1221: UserWarning: Amplitude PDF does not have a unique minimum! More spikes might be required for a correct amplitude_cutoff computation!\n",
      "  warnings.warn(\n",
      "/home/mmp/.local/lib/python3.10/site-packages/spikeinterface/qualitymetrics/misc_metrics.py:848: UserWarning: Units [0, 1, 4, 5, 6, 7, 11, 12, 13, 15, 17, 18, 19, 20, 21, 22, 24, 25, 27, 30, 31, 32, 34, 35, 41, 42, 45, 46, 51, 52, 53, 54, 65, 67, 69, 70, 72, 78, 80, 82, 85, 86, 87, 88, 90, 92, 94, 95, 96, 98, 99, 102, 103, 104, 110, 112, 113, 114, 118, 124, 125, 126, 129, 130, 131, 132, 134, 135, 140, 141, 144, 148, 153, 155, 156, 159, 161, 162, 163, 164, 165, 168, 169, 170, 172, 173, 175, 177, 178, 179, 180, 181, 182, 183, 185, 186, 189, 190, 193, 195, 196, 197, 199, 202, 209, 210, 213, 218, 222, 223, 226, 227, 228, 229, 230, 231, 232, 236, 237, 239, 240, 247, 248, 250, 251, 252, 254, 256, 257, 258, 261, 262, 264, 265, 266, 268, 271, 272, 275, 278, 280, 282, 283, 284, 285, 286, 287, 295, 296, 298, 299, 302, 303, 305, 307, 309, 311, 313, 314, 317, 321, 323, 324, 326, 327, 329, 330, 331, 332, 334, 336, 338, 340, 341, 344, 346, 347, 348, 349, 352, 353, 354, 356, 357, 358, 360, 362, 363, 369] have too few spikes and amplitude_cutoff is set to NaN\n",
      "  warnings.warn(f\"Units {nan_units} have too few spikes and \" \"amplitude_cutoff is set to NaN\")\n",
      "/home/mmp/.local/lib/python3.10/site-packages/numpy/core/_methods.py:269: RuntimeWarning: Degrees of freedom <= 0 for slice\n",
      "  ret = _var(a, axis=axis, dtype=dtype, out=out, ddof=ddof,\n",
      "/home/mmp/.local/lib/python3.10/site-packages/numpy/core/_methods.py:226: RuntimeWarning: invalid value encountered in divide\n",
      "  arrmean = um.true_divide(arrmean, div, out=arrmean,\n",
      "/home/mmp/.local/lib/python3.10/site-packages/numpy/core/_methods.py:261: RuntimeWarning: invalid value encountered in divide\n",
      "  ret = ret.dtype.type(ret / rcount)\n",
      "/home/mmp/.local/lib/python3.10/site-packages/spikeinterface/qualitymetrics/misc_metrics.py:235: RuntimeWarning: divide by zero encountered in scalar divide\n",
      "  snrs[unit_id] = np.abs(amplitude) / noise\n"
     ]
    }
   ],
   "source": [
    "waveforms = si.load_waveforms('/mnt/disk15tb/mmpatil/MEA_Analysis/IPNAnalysis/sorting/KMB_RTT_18646_waveforms')\n",
    "print(waveforms)\n",
    "job_kwargs = dict(n_jobs=16, chunk_duration=\"1s\", progress_bar=True)\n",
    "sp.compute_spike_amplitudes(waveforms,load_if_exists=True,**job_kwargs)\n",
    "metrics = qm.compute_quality_metrics(waveforms,load_if_exists=False,**job_kwargs)"
   ]
  },
  {
   "cell_type": "code",
   "execution_count": 1,
   "metadata": {},
   "outputs": [
    {
     "data": {
      "text/plain": [
       "<module 'mea_analysis_pipeline' from '/mnt/disk15tb/mmpatil/MEA_Analysis/IPNAnalysis/mea_analysis_pipeline.py'>"
      ]
     },
     "execution_count": 1,
     "metadata": {},
     "output_type": "execute_result"
    }
   ],
   "source": [
    "import mea_analysis_pipeline\n",
    "import importlib\n",
    "importlib.reload(mea_analysis_pipeline)"
   ]
  },
  {
   "cell_type": "code",
   "execution_count": 34,
   "metadata": {},
   "outputs": [],
   "source": [
    "\n",
    "updated_metrics = mea_analysis_pipeline.remove_violated_units(metrics)"
   ]
  },
  {
   "cell_type": "code",
   "execution_count": 35,
   "metadata": {},
   "outputs": [],
   "source": [
    "non_violated = updated_metrics.index"
   ]
  },
  {
   "cell_type": "code",
   "execution_count": null,
   "metadata": {},
   "outputs": [],
   "source": [
    "from spikeinterface.postprocessing import compute_spike_amplitudes, compute_principal_components\n",
    "from spikeinterface.exporters import export_to_phy\n",
    "\n",
    "\n",
    "_ = compute_principal_components(waveform_extractor=waveforms, n_components=3, mode='by_channel_global',**job_kwargs)\n",
    "\n",
    "# the export process is fast because everything is pre-computed\n"
   ]
  },
  {
   "cell_type": "code",
   "execution_count": null,
   "metadata": {},
   "outputs": [],
   "source": [
    "job_kwargs = dict(n_jobs=48, chunk_duration=\"1s\", progress_bar=True)\n",
    "sparsity = spikeinterface.core.compute_sparsity(waveforms ,method=\"radius\", radius_um=40)\n",
    "export_to_phy(waveform_extractor=waveforms, output_folder='/mnt/disk15tb/mmpatil/MEA_Analysis/IPNAnalysis/sorting/M07038_phy',sparsity=sparsity,**job_kwargs)"
   ]
  },
  {
   "cell_type": "code",
   "execution_count": null,
   "metadata": {},
   "outputs": [],
   "source": []
  },
  {
   "cell_type": "code",
   "execution_count": null,
   "metadata": {},
   "outputs": [],
   "source": [
    "display(update_qual_metrics)"
   ]
  },
  {
   "cell_type": "code",
   "execution_count": null,
   "metadata": {},
   "outputs": [],
   "source": [
    "print(non_violated_units)"
   ]
  },
  {
   "cell_type": "code",
   "execution_count": null,
   "metadata": {},
   "outputs": [],
   "source": [
    "len(non_violated_units)"
   ]
  },
  {
   "cell_type": "code",
   "execution_count": null,
   "metadata": {},
   "outputs": [],
   "source": [
    "waveform_good = waveforms.select_units(non_violated_units,new_folder='./sorting/FolicAcidT2M07038_2_waveformsgood/')"
   ]
  },
  {
   "cell_type": "code",
   "execution_count": null,
   "metadata": {},
   "outputs": [],
   "source": [
    "correlograms, bins = sp.compute_correlograms(waveform_good)"
   ]
  },
  {
   "cell_type": "code",
   "execution_count": null,
   "metadata": {},
   "outputs": [],
   "source": [
    "correlograms.shape"
   ]
  },
  {
   "cell_type": "code",
   "execution_count": null,
   "metadata": {},
   "outputs": [],
   "source": [
    "import matplotlib.pyplot as plt\n",
    "\n",
    "# Extracting the correlation values between units 2 and 5 across all bins\n",
    "# Adjusting indices for 0-based Python indexing\n",
    "correlations = correlograms[2, 2, :]\n",
    "\n",
    "# Plotting the histogram\n",
    "plt.figure(figsize=(8, 6))\n",
    "plt.hist(correlations, bins=20, color='blue', edgecolor='black')\n",
    "plt.title('Histogram of Correlations Between Units 2 and 5 Across Bins')\n",
    "plt.xlabel('Correlation Coefficient')\n",
    "plt.ylabel('Frequency')\n",
    "plt.show()"
   ]
  },
  {
   "cell_type": "code",
   "execution_count": null,
   "metadata": {},
   "outputs": [],
   "source": [
    "bins"
   ]
  },
  {
   "cell_type": "code",
   "execution_count": null,
   "metadata": {},
   "outputs": [],
   "source": [
    "metrics = qm.compute_quality_metrics(waveform_good,load_if_exists=False,**job_kwargs)"
   ]
  },
  {
   "cell_type": "code",
   "execution_count": null,
   "metadata": {},
   "outputs": [],
   "source": [
    "display(metrics)"
   ]
  },
  {
   "cell_type": "code",
   "execution_count": null,
   "metadata": {},
   "outputs": [],
   "source": [
    "waveform_good = None"
   ]
  },
  {
   "cell_type": "code",
   "execution_count": null,
   "metadata": {},
   "outputs": [],
   "source": [
    "waveform_good = si.load_waveforms('./sorting/waveformsgood_Folicacid10mg/')"
   ]
  },
  {
   "cell_type": "code",
   "execution_count": null,
   "metadata": {},
   "outputs": [],
   "source": [
    "metrics = qm.compute_quality_metrics(waveform_good,load_if_exists=False,**job_kwargs)"
   ]
  },
  {
   "cell_type": "code",
   "execution_count": null,
   "metadata": {},
   "outputs": [],
   "source": [
    "display(metrics)"
   ]
  },
  {
   "cell_type": "code",
   "execution_count": null,
   "metadata": {},
   "outputs": [],
   "source": []
  },
  {
   "cell_type": "code",
   "execution_count": 36,
   "metadata": {},
   "outputs": [
    {
     "name": "stdout",
     "output_type": "stream",
     "text": [
      "{0: array([3.46815783e+03, 1.03369475e+03, 1.00720885e+00]), 1: array([3.20260745e+03, 1.22503994e+03, 1.43096136e+00]), 4: array([1.01551523e+03, 5.74822356e+02, 1.00000000e+00]), 5: array([1.01493177e+03, 5.73679868e+02, 1.00000000e+00]), 6: array([1.02182138e+03, 5.75870525e+02, 1.00000000e+00]), 7: array([1112.93228364,  997.17822916,    1.34162158]), 8: array([3.61921905e+03, 1.24049542e+03, 1.25387860e+00]), 9: array([921.78364456, 879.95928561,   1.        ]), 10: array([ 752.44689199, 1067.43588515,    1.26943001]), 11: array([906.24393614, 816.63102147,   1.        ]), 12: array([905.28882882, 816.92414591,   1.        ]), 13: array([904.81501925, 827.01263311,   1.        ]), 14: array([905.92381102, 816.08533527,   1.        ]), 15: array([ 858.38310118, 1469.82265423,    3.30718126]), 16: array([1.05701486e+03, 1.06391730e+03, 1.00000000e+00]), 17: array([3.27260446e+03, 1.08511269e+03, 1.70208774e+00]), 18: array([3.27257106e+03, 1.08512914e+03, 2.00550180e+00]), 19: array([3.46807564e+03, 1.03363233e+03, 1.05323289e+00]), 20: array([3.55684614e+03, 1.15215466e+03, 2.09468639e+00]), 21: array([ 754.26534214, 1137.21822461,    2.3091644 ]), 22: array([3.25416758e+03, 1.30832015e+03, 1.48574606e+00]), 23: array([3.36001153e+03, 1.41750940e+03, 1.00000000e+00]), 24: array([ 671.40507969, 1312.5       ,   19.66106656]), 25: array([3.45565796e+03, 1.27994828e+03, 1.17657723e+00]), 26: array([3.45645219e+03, 1.28041840e+03, 1.03502463e+00]), 27: array([3539.58076906, 1171.28727475,    3.92683767]), 28: array([3.20261797e+03, 1.36540500e+03, 1.19951702e+00]), 29: array([1015.30163884, 1197.03758262,    1.86216124]), 30: array([3.30695865e+03, 1.06733746e+03, 2.14816994e+00]), 31: array([3.30632344e+03, 1.06463870e+03, 2.04508875e+00]), 32: array([971.14022853, 951.06062964,   1.12903968]), 33: array([960.22068796, 926.24080904,   1.        ]), 34: array([955.17230646, 924.28859342,   1.        ]), 35: array([3472.86499642,  756.5128957 ,    5.4225196 ]), 36: array([3.21997139e+03, 1.29499319e+03, 1.00000000e+00]), 37: array([3.22000123e+03, 1.29497622e+03, 1.00000000e+00]), 38: array([3.21998726e+03, 1.29497679e+03, 1.00000000e+00]), 40: array([3.22001445e+03, 1.29496183e+03, 1.00000000e+00]), 41: array([3195.73308356, 1345.22532175,    3.23424431]), 42: array([3.51761241e+03, 7.00481401e+02, 3.10805278e+00]), 43: array([ 949.23013364, 1201.65005141,    2.17543969]), 44: array([3.50006485e+03, 1.41752908e+03, 1.28710139e+00]), 45: array([963.7046465 , 506.19231509,   3.39193888]), 46: array([ 448.98388987, 1214.30696394,    2.22620148]), 47: array([833.88840843, 795.97390441,   1.51536267]), 48: array([896.22619779, 807.28602514,   1.        ]), 49: array([1032.00539596, 1105.81773527,    2.06838357]), 50: array([3710. , 1697.5,   20. ]), 51: array([2.99734993e+03, 4.82586046e+02, 1.25728355e+00]), 52: array([3.29006382e+03, 1.41759198e+03, 1.37346973e+00]), 53: array([3.29120340e+03, 1.41945557e+03, 2.18379549e+00]), 54: array([1.12463175e+03, 5.58397734e+02, 1.06474977e+00]), 55: array([3.26704662e+03, 8.86995384e+02, 1.62664773e+00]), 56: array([3.10460776e+03, 6.38075348e+02, 1.00000000e+00]), 57: array([8.47754535e+02, 1.06613830e+03, 1.00000000e+00]), 58: array([3.29675261e+03, 4.52473960e+02, 1.11073839e+00]), 59: array([3.21255391e+03, 3.68854252e+02, 1.01225446e+00]), 60: array([3331.77646501,  569.69914572,   25.45865121]), 61: array([1.20751313e+03, 4.02525132e+02, 1.00000000e+00]), 62: array([1208.78975918,  402.74362854,    2.31396579]), 63: array([7.62624082e+02, 1.07672701e+03, 1.00000000e+00]), 64: array([ 765.60312276, 1080.20927479,    1.24921087]), 65: array([1.11292596e+03, 9.97145535e+02, 1.09980369e+00]), 66: array([1125.47380126,  123.29300994,    1.92400134]), 67: array([1.13231107e+03, 1.25059409e+02, 1.00000000e+00]), 68: array([1.12876693e+03, 1.24198877e+02, 1.00000000e+00]), 69: array([1217.01101125,  538.20174733,    3.4446803 ]), 70: array([6.67416543e+02, 1.58060675e+03, 1.12957524e+00]), 71: array([1175.46213269,  453.44591813,    1.24602727]), 72: array([1113.24317899,  997.16616596,    1.42286922]), 75: array([3.27601867e+03, 7.06797810e+02, 1.00000000e+00]), 76: array([ 719.63671604, 1481.5985521 ,    2.32743814]), 77: array([3.21998728e+03, 1.29498005e+03, 1.00000000e+00]), 78: array([3.21915655e+03, 1.36542648e+03, 1.49335901e+00]), 79: array([3.13171800e+03, 1.31392981e+03, 2.05067789e+00]), 80: array([ 840.46778636, 1067.31773682,    1.1291246 ]), 81: array([3.45897673e+03, 1.36636845e+03, 1.00000000e+00]), 82: array([959.87824662, 953.60378978,   1.59459668]), 83: array([3564.59156328, 1173.42492384,    3.85498521]), 84: array([3.57821894e+03, 1.17026358e+03, 1.27376722e+00]), 85: array([3.22006713e+03, 1.29490590e+03, 1.69729429e+00]), 86: array([3080.03621028,  430.56837308,   13.35256209]), 87: array([3571.59768072, 1165.68690582,    7.0280123 ]), 88: array([3.56283764e+03, 1.17462964e+03, 3.22613499e+00]), 89: array([887.10445826, 878.90753222,   6.91387842]), 90: array([889.47221505, 886.24461493,   3.67922088]), 91: array([887.41579184, 865.40489689,   1.        ]), 92: array([3054.34171653,  429.62983932,    3.92945563]), 93: array([718.47925376, 410.86501913,   6.35496359]), 94: array([732.45175169, 411.68335855,   9.29081803]), 95: array([3345.04045355, 1573.89524722,    4.6260097 ]), 96: array([1065.50908165,  244.84494062,    1.29336237]), 97: array([1013.29606156, 1593.48063899,    2.31480518]), 98: array([3.13939097e+03, 1.74663644e+03, 2.45548203e+00]), 99: array([9.98626243e+02, 1.53628118e+03, 1.24678243e+00]), 100: array([1175.51318366,  453.58434298,    1.24950699]), 101: array([3454.41526991, 1889.99744486,   10.40043364]), 102: array([3.26381013e+03, 1.39984772e+03, 1.52033408e+00]), 103: array([6.72963982e+02, 1.48306997e+03, 1.00000000e+00]), 104: array([3.43894186e+03, 1.28136915e+03, 1.00000000e+00]), 106: array([3.43929546e+03, 1.28146817e+03, 1.00000000e+00]), 108: array([917.44534205, 811.02597075,   1.71350443]), 109: array([962.29733426, 838.19271177,   1.14424345]), 110: array([3.31810417e+03, 1.05727160e+03, 1.00000000e+00]), 111: array([1054.9893672 ,  226.59752727,    2.06680834]), 112: array([1.1422291e+03, 1.2686130e+02, 1.0000000e+00]), 113: array([1028.21704992,  172.46368346,    2.08619816]), 114: array([3221.960261  , 1292.4392598 ,    3.74278538]), 115: array([593.7178548 , 420.2590639 ,   4.31180557]), 116: array([981.2636972 , 716.24674596,   1.07816407]), 117: array([1.01124914e+03, 1.56201184e+03, 1.00000000e+00]), 118: array([2.99156251e+03, 1.57622293e+03, 1.71358497e+00]), 119: array([3.48205814e+03, 1.34611417e+03, 1.93404199e+00]), 120: array([672.28091959, 559.61618194,   1.15965613]), 121: array([3.32475200e+03, 7.68920541e+02, 2.01713588e+00]), 122: array([1.45247738e+03, 1.31552749e+02, 1.00000000e+00]), 123: array([1032.5,  472.5,   20. ]), 124: array([904.90915448, 814.2648291 ,   1.0861214 ]), 125: array([3433.4471226 , 1781.49555394,   16.82643121]), 126: array([3038.17520576,  423.31521684,   10.13446775]), 128: array([1402.55941612,  127.76619109,    1.40497083]), 129: array([3.22042933e+03, 1.29359419e+03, 2.55335433e+00]), 130: array([6.79352755e+02, 1.55609471e+03, 1.38773090e+00]), 131: array([1.38255579e+03, 1.40080707e+02, 1.02419280e+00]), 132: array([1.29417647e+03, 1.82124552e+03, 1.65211102e+00]), 133: array([9.17856677e+02, 1.03311427e+03, 1.00000000e+00]), 134: array([1.28951515e+03, 1.78829114e+02, 1.17036058e+00]), 135: array([3042.23871965,  420.55448375,   14.4394441 ]), 136: array([3043.79226027,  421.70998372,    7.30562729]), 138: array([1.00144072e+03, 5.94018870e+02, 1.00000000e+00]), 139: array([3.17641546e+03, 4.80480443e+02, 1.99434661e+00]), 140: array([3.05214335e+03, 4.57621530e+02, 2.38054112e+00]), 141: array([9.97521139e+02, 1.57488351e+03, 1.01457650e+00]), 142: array([1094.59496494,  700.08226711,    6.55884159]), 143: array([2.83288152e+03, 2.65102412e+02, 1.00000000e+00]), 144: array([3360., 1190.,   20.]), 145: array([3.07132925e+03, 4.39213007e+02, 1.63954936e+00]), 146: array([3.07037970e+03, 4.39610451e+02, 1.44578739e+00]), 147: array([1014.43970962,  595.30008032,    1.08713973]), 148: array([1.13716237e+03, 1.28870721e+02, 1.06171695e+00]), 149: array([1146.74731444,  134.84168319,    1.19708185]), 150: array([3.51620915e+03, 1.46988402e+03, 2.80491357e+00]), 151: array([1.11895194e+03, 7.16840918e+02, 1.01758058e+00]), 152: array([3.04501421e+03, 3.32533141e+02, 1.00000000e+00]), 153: array([3.27736637e+03, 7.13692005e+02, 1.00000000e+00]), 154: array([1.25609127e+03, 1.99591109e+03, 1.00000000e+00]), 155: array([3.37749588e+03, 1.85500127e+03, 1.00000000e+00]), 156: array([3.37749455e+03, 1.85499892e+03, 1.00000000e+00]), 157: array([1.26375565e+03, 2.03255674e+03, 1.00000000e+00]), 159: array([1.26467574e+03, 2.03456434e+03, 1.00000000e+00]), 161: array([2.94287792e+03, 1.97628964e+03, 2.90938254e+00]), 162: array([3220.55049317, 1293.22312055,    3.2882154 ]), 163: array([3.26664675e+03, 7.55203613e+02, 1.13808258e+00]), 164: array([3.26661656e+03, 7.54967225e+02, 1.00000000e+00]), 165: array([3.09856418e+03, 1.97759030e+03, 2.78462904e+00]), 166: array([3.12540112e+03, 5.43678302e+02, 1.00000000e+00]), 167: array([1175.43300555,  297.03742762,    1.86608721]), 168: array([1191.12257902,  449.67049221,    1.65355721]), 169: array([2.90494582e+03, 2.08239101e+03, 1.09800096e+00]), 170: array([839.81320167, 525.17645648,   1.40379092]), 171: array([1009.28189216, 1698.23707064,    3.32964565]), 172: array([1.29396583e+03, 1.35886277e+02, 1.18834509e+00]), 173: array([1294.74645788,  138.31757425,    1.8674783 ]), 174: array([1292.53556622,  138.77772849,    1.6454076 ]), 175: array([3841.76033912,  664.39752804,    4.55914374]), 176: array([1.18350602e+03, 1.78796228e+03, 1.05657910e+00]), 177: array([1225.,    0.,   20.]), 178: array([3305.56501887, 1578.13035306,    7.81547411]), 179: array([719.76430991, 415.53170913,   6.12542132]), 180: array([2.81122465e+03, 2.87250680e+01, 1.00000000e+00]), 181: array([1174.99726316,  593.80829481,    2.78398218]), 182: array([1.14558081e+03, 1.21208784e+02, 1.13348470e+00]), 183: array([1174.46609374,  591.56067697,    3.06219564]), 184: array([1.00767610e+03, 1.44925320e+03, 1.42103396e+00]), 185: array([ 996.81827723, 1452.5797647 ,    1.78868004]), 186: array([3.07148378e+03, 4.39526894e+02, 1.88683151e+00]), 187: array([3.13230811e+03, 1.74932151e+03, 1.56320568e+00]), 188: array([3.13235252e+03, 1.75000809e+03, 1.34489005e+00]), 189: array([3.13253646e+03, 1.74943169e+03, 1.60063257e+00]), 190: array([3.13229607e+03, 1.74936887e+03, 1.62936398e+00]), 191: array([3140.01692791, 1749.42474946,    8.76206123]), 192: array([1305.91925512, 1662.5       ,   10.57741269]), 193: array([2.80675956e+03, 3.55315714e+01, 1.00000000e+00]), 194: array([1.06751096e+03, 2.04751096e+03, 1.00000000e+00]), 195: array([1170.82659163,  594.89396356,    4.72844327]), 196: array([3.08408113e+03, 4.29632664e+02, 1.84249407e+00]), 197: array([3.07189995e+03, 4.39533941e+02, 1.90356394e+00]), 198: array([3.06246720e+03, 1.89003738e+03, 1.20458827e+00]), 199: array([1.31223653e+03, 1.80280901e+03, 1.76242577e+00]), 201: array([1.14162670e+03, 1.27415236e+02, 1.00000000e+00]), 202: array([1.14128407e+03, 1.26729501e+02, 1.00000000e+00]), 204: array([1.13966093e+03, 1.32279065e+02, 1.12197812e+00]), 205: array([2.92668264e+03, 3.64567992e+02, 2.23872814e+00]), 206: array([3.00224264e+03, 1.59286789e+03, 1.00000000e+00]), 207: array([1.24479229e+03, 3.68739910e+02, 1.22888284e+00]), 208: array([1.24494663e+03, 3.68860373e+02, 1.10266329e+00]), 209: array([1.24506599e+03, 3.68807487e+02, 1.15439733e+00]), 210: array([3.27659989e+03, 1.63573591e+03, 1.85246453e+00]), 211: array([1206.88303632,  328.5062577 ,   13.96073483]), 212: array([2.91407503e+03, 7.53597209e+01, 1.69956985e+00]), 213: array([1.06504812e+03, 2.10836869e+02, 1.06374158e+00]), 214: array([1058.62491026,  153.1410369 ,    2.46774676]), 215: array([1221.2417743 , 1782.70167457,    3.18495535]), 216: array([2.81067790e+03, 2.97195408e+01, 1.00000000e+00]), 217: array([2.97442641e+03, 1.91952621e+03, 1.51307503e+00]), 218: array([3.02587556e+03, 2.01054427e+03, 1.89763140e+00]), 219: array([1171.47055224, 1873.70591762,    2.22192967]), 220: array([1296.63661871, 1962.44441989,    2.19178777]), 222: array([2.99223775e+03, 2.04445424e+03, 1.35515370e+00]), 223: array([2.85274856e+03, 2.62694991e+02, 1.51616760e+00]), 224: array([2.89539649e+03, 2.07151357e+03, 1.00000000e+00]), 226: array([2.89660333e+03, 2.07162927e+03, 1.07702995e+00]), 227: array([2.89910823e+03, 2.07257592e+03, 1.00000000e+00]), 228: array([2.89588103e+03, 2.07143182e+03, 1.43756249e+00]), 229: array([2.89525312e+03, 2.07197267e+03, 2.01148936e+00]), 230: array([2.89504654e+03, 2.07173149e+03, 1.45775991e+00]), 231: array([1.01061274e+03, 1.89322557e+03, 1.48506592e+00]), 232: array([3028.21641104, 1724.70441026,    3.37377175]), 233: array([1.14199434e+03, 1.27264439e+02, 1.00000000e+00]), 234: array([ 965.39921828, 1716.69496028,    1.77586086]), 235: array([981.27399512, 716.231957  ,   1.10990154]), 236: array([3.51577271e+03, 1.46985001e+03, 2.65280596e+00]), 237: array([3195.80016619, 1345.90142811,    3.20779419]), 238: array([3.10834553e+03, 1.75010201e+03, 1.00000000e+00]), 239: array([2.96808018e+03, 2.03067966e+03, 1.00000000e+00]), 240: array([1.26180135e+03, 2.04318329e+03, 1.00000000e+00]), 241: array([1054.98622288,  226.52796772,    2.11538919]), 242: array([1062.25928715,  149.63382417,    1.63235587]), 243: array([2.92682763e+03, 3.71550983e+02, 1.01466033e+00]), 244: array([1.24579926e+03, 2.04771504e+03, 1.30812177e+00]), 247: array([1.14114293e+03, 1.28057565e+02, 1.00000000e+00]), 248: array([1104.82205409, 1920.56075053,    2.50617505]), 249: array([1.61441276e+03, 6.99421997e+01, 1.00000000e+00]), 250: array([1183.3243358 , 1807.14251895,    4.16111983]), 251: array([1188.73678309,  385.10568535,    1.444673  ]), 252: array([1188.72275383,  385.15995525,    1.47113712]), 253: array([1186.78162335,  384.38000513,    2.7625189 ]), 254: array([1188.87198217,  385.15619987,    1.37121772]), 255: array([2.64250636e+03, 0.00000000e+00, 1.09698143e+00]), 256: array([2.88951588e+03, 1.66905036e+02, 1.73064140e+00]), 257: array([1.06744449e+03, 2.04744386e+03, 1.18176468e+00]), 258: array([2.60694002e+03, 1.99173510e+03, 1.26762361e+00]), 259: array([1239.37856175,  402.49309348,    2.05417473]), 260: array([3058.29005444,  427.22345448,    5.60579291]), 261: array([1276.38690122, 1919.44985121,    4.49376969]), 262: array([1271.37545242,  278.19932151,    1.80476139]), 263: array([2.97500252e+03, 1.05001321e+02, 1.00000000e+00]), 264: array([2.56477052e+03, 1.96976642e+03, 1.00000000e+00]), 265: array([2.59013935e+03, 2.06468429e+03, 1.62578819e+00]), 266: array([2.59142874e+03, 2.06318882e+03, 1.20249922e+00]), 267: array([1.44387311e+03, 9.41600746e+01, 1.00000000e+00]), 268: array([3221.89114015, 1294.07693158,    3.30353538]), 269: array([3084.68899017,  418.10034383,    3.63427214]), 270: array([1591.44972059,  142.92076888,    7.17314628]), 271: array([2.86988535e+03, 6.73609492e+01, 1.32743107e+00]), 272: array([2855.90441168,  164.06602442,    9.92138308]), 274: array([3.03657898e+03, 1.93090787e+03, 1.27936534e+00]), 275: array([3.03035645e+03, 1.92701956e+03, 2.46347612e+00]), 276: array([2.81582396e+03, 1.84584331e+03, 1.66698787e+00]), 277: array([1127.51931651,  141.08897509,    3.06356865]), 278: array([1118.6227892 ,  157.17369904,    1.70631781]), 279: array([2728.52411506, 1925.75318744,    2.74979216]), 280: array([1404.10632448,  241.7368146 ,    2.7240059 ]), 281: array([2.81617762e+03, 1.60685111e+02, 1.86936857e+00]), 282: array([1401.99361834, 1975.61032719,    2.79594698]), 283: array([1400.24369451, 1975.91781928,    3.05460162]), 284: array([1400.47386884, 1976.79372671,    3.21134224]), 285: array([1556.7117468 ,   89.2359598 ,    1.59657251]), 286: array([3.05789203e+03, 4.37953302e+02, 2.27677788e+00]), 287: array([1.15585639e+03, 1.33045217e+02, 1.00000000e+00]), 288: array([1.14230360e+03, 1.27155277e+02, 1.00000000e+00]), 289: array([1174.10781673,  109.6717971 ,    1.57205663]), 290: array([1.17087153e+03, 1.19228738e+02, 1.00000000e+00]), 291: array([2356.74729923, 1984.20398006,    9.83167965]), 292: array([1.50495340e+03, 1.40001608e+02, 1.00000000e+00]), 293: array([1.96145035e+03, 2.59712985e+00, 1.00000000e+00]), 294: array([1.94834430e+03, 1.56936399e+01, 1.00000000e+00]), 295: array([1.89505529e+03, 7.90404729e+01, 1.03035708e+00]), 296: array([1.89488901e+03, 7.89404419e+01, 1.00000000e+00]), 297: array([1.55620018e+03, 8.96709674e+01, 1.43672562e+00]), 298: array([2745.23908306, 2098.82955461,    8.33242437]), 299: array([1.59009692e+03, 9.80404703e+01, 1.08978416e+00]), 300: array([1.26305616e+03, 2.03316061e+03, 1.00000000e+00]), 301: array([1.55631043e+03, 8.97496881e+01, 1.40130802e+00]), 302: array([3077.26613717,  433.85554146,    9.27049235]), 303: array([1541.20848939,  162.36569357,    1.95801701]), 305: array([3.21989329e+03, 1.29511716e+03, 1.38122593e+00]), 306: array([3.15793953e+03, 1.56568074e+03, 2.33679172e+00]), 307: array([2875.41636914,  866.96510271,   31.19515641]), 308: array([3.02823513e+03, 1.62441353e+03, 1.08945818e+00]), 309: array([3222.746665  , 1290.81622654,    5.53937091]), 310: array([3.05497916e+03, 4.34270975e+02, 2.27306182e+00]), 311: array([3.21339266e+03, 3.70127630e+02, 1.58775686e+00]), 313: array([3.19949289e+03, 3.68302466e+02, 1.87002534e+00]), 314: array([2.99633085e+03, 1.59302495e+03, 1.31064076e+00]), 315: array([1610. ,  332.5,   20. ]), 317: array([3.02732263e+03, 2.01190244e+03, 1.55278961e+00]), 318: array([1.35946602e+03, 1.85988213e+03, 1.69820698e+00]), 319: array([2698.14673399,  363.74689263,    2.83633977]), 320: array([2.69789124e+03, 3.63382949e+02, 1.87251187e+00]), 321: array([2.69792101e+03, 3.63167908e+02, 1.61438464e+00]), 323: array([1389.1613672 , 1790.45860638,    3.08868349]), 324: array([1.58937587e+03, 1.15584927e+02, 1.36512632e+00]), 325: array([2257.5       , 2038.20290226,    9.38530947]), 326: array([1.58644027e+03, 1.66185357e+02, 1.23530130e+00]), 327: array([1555.11374014,   91.83167896,    2.95004989]), 328: array([1.55635068e+03, 8.92032534e+01, 1.43521894e+00]), 329: array([1.59738856e+03, 1.86325445e+03, 1.70736789e+00]), 330: array([904.66243574, 825.67579568,   1.        ]), 331: array([906.33341051, 816.70251894,   1.        ]), 332: array([3.49618174e+03, 1.28119065e+03, 1.75624189e+00]), 333: array([899.18790396, 809.51578551,   1.        ]), 334: array([3.29029783e+03, 1.41768775e+03, 1.63983024e+00]), 335: array([3.17616398e+03, 3.78649934e+02, 1.27987128e+00]), 336: array([ 771.16446963, 1077.50077964,    2.40160898]), 337: array([1175.57974771,  453.55926722,    1.21932435]), 338: array([3.21943692e+03, 1.36530857e+03, 1.29656461e+00]), 339: array([899.90323858, 884.29287338,   4.01613343]), 340: array([3.07028715e+03, 4.38858026e+02, 1.47532106e+00]), 341: array([886.60995511, 885.27263732,   1.41474267]), 342: array([888.47936109, 860.65118026,   1.30386379]), 343: array([1244.29318572, 1529.43234705,    3.90465556]), 344: array([3037.80122245,  423.49345534,   10.20876328]), 345: array([3.29687705e+03, 4.52378895e+02, 1.15333716e+00]), 346: array([1294.93342914,  139.81129143,    1.52901115]), 347: array([1181.87167241, 1794.23408675,    3.87704069]), 348: array([3.13226006e+03, 1.74796662e+03, 2.06928393e+00]), 349: array([1.31248002e+03, 1.80251419e+03, 1.47701237e+00]), 350: array([1171.26737529, 1875.55843208,    2.40817677]), 351: array([1.61751278e+03, 6.80329924e+01, 1.00000000e+00]), 352: array([2.59021476e+03, 2.06472491e+03, 1.70416076e+00]), 353: array([3079.04072906,  421.14971478,   11.69274895]), 354: array([2334.96701229, 1984.8243297 ,   21.34147498]), 355: array([2874.02036426,  864.01021243,   30.01083188]), 356: array([3.05459173e+03, 4.34615509e+02, 1.65550536e+00]), 357: array([3.05495722e+03, 4.34803320e+02, 2.02746100e+00]), 358: array([906.29234811, 817.29672516,   1.        ]), 359: array([905.28250703, 814.9256584 ,   1.        ]), 360: array([3.27253680e+03, 1.08503946e+03, 1.04046680e+00]), 361: array([1.24500668e+03, 3.68770170e+02, 1.16132664e+00]), 362: array([1.12987330e+03, 1.24053169e+02, 1.00000000e+00]), 363: array([1.13830512e+03, 1.28749448e+02, 1.00000000e+00]), 364: array([1.58755174e+03, 1.67715475e+02, 1.17341745e+00]), 365: array([889.81866955, 891.67757934,   7.37736486]), 366: array([897.9013683 , 889.98606629,   6.46358557]), 367: array([1.18429899e+03, 1.78706124e+03, 1.28270819e+00]), 368: array([3.12982595e+03, 1.74803279e+03, 2.75014188e+00]), 369: array([3129.29790696, 1751.6012458 ,    3.64558381])}\n",
      "122\n"
     ]
    },
    {
     "data": {
      "image/png": "[encoded data removed]",
      "text/plain": [
       "<Figure size 1050x650 with 1 Axes>"
      ]
     },
     "metadata": {},
     "output_type": "display_data"
    }
   ],
   "source": [
    "\n",
    "#locations = sp.compute_unit_locations(waveforms)\n",
    "non_violated = updated_metrics.index\n",
    "unit_ids = waveforms.unit_ids\n",
    "locations = sp.compute_unit_locations(waveforms)\n",
    "#print(locations)\n",
    "unit_locations =dict(zip(unit_ids,locations))\n",
    "print(unit_locations)\n",
    "#np.savetxt(\"unitloc_10mins.txt\",locations)\n",
    "fig,ax = plt.subplots(figsize=(10.5,6.5))\n",
    "#sw.plot_probe_map(mu,ax=ax,with_channel_ids=False)\n",
    "ax.set_facecolor('#000000') \n",
    "print(len(non_violated))\n",
    "for unit_id, (x,y,z) in unit_locations.items() :\n",
    "    if unit_id in non_violated:\n",
    "        ax.scatter(x,y, s=5,c='deepskyblue')\n",
    "    \n",
    "ax.invert_yaxis()\n",
    "plt.savefig(f'/home/mmp/Documents/organoidKMB/REtt_unitlocations.svg',format='svg')"
   ]
  },
  {
   "cell_type": "code",
   "execution_count": 25,
   "metadata": {},
   "outputs": [
    {
     "data": {
      "text/html": [
       "<div>\n",
       "<style scoped>\n",
       "    .dataframe tbody tr th:only-of-type {\n",
       "        vertical-align: middle;\n",
       "    }\n",
       "\n",
       "    .dataframe tbody tr th {\n",
       "        vertical-align: top;\n",
       "    }\n",
       "\n",
       "    .dataframe thead th {\n",
       "        text-align: right;\n",
       "    }\n",
       "</style>\n",
       "<table border=\"1\" class=\"dataframe\">\n",
       "  <thead>\n",
       "    <tr style=\"text-align: right;\">\n",
       "      <th></th>\n",
       "      <th>amplitude_cutoff</th>\n",
       "      <th>amplitude_cv_median</th>\n",
       "      <th>amplitude_cv_range</th>\n",
       "      <th>amplitude_median</th>\n",
       "      <th>firing_range</th>\n",
       "      <th>firing_rate</th>\n",
       "      <th>isi_violations_ratio</th>\n",
       "      <th>isi_violations_count</th>\n",
       "      <th>num_spikes</th>\n",
       "      <th>presence_ratio</th>\n",
       "      <th>rp_contamination</th>\n",
       "      <th>rp_violations</th>\n",
       "      <th>sd_ratio</th>\n",
       "      <th>sliding_rp_violation</th>\n",
       "      <th>snr</th>\n",
       "      <th>sync_spike_2</th>\n",
       "      <th>sync_spike_4</th>\n",
       "      <th>sync_spike_8</th>\n",
       "    </tr>\n",
       "  </thead>\n",
       "  <tbody>\n",
       "    <tr>\n",
       "      <th>0</th>\n",
       "      <td>0.007324</td>\n",
       "      <td>0.087263</td>\n",
       "      <td>0.036296</td>\n",
       "      <td>94.413757</td>\n",
       "      <td>7.41</td>\n",
       "      <td>2.100000</td>\n",
       "      <td>0.000000</td>\n",
       "      <td>0.0</td>\n",
       "      <td>630.0</td>\n",
       "      <td>1.0</td>\n",
       "      <td>0.0</td>\n",
       "      <td>0.0</td>\n",
       "      <td>1.327198</td>\n",
       "      <td>0.090</td>\n",
       "      <td>9.851611</td>\n",
       "      <td>0.152381</td>\n",
       "      <td>0.001587</td>\n",
       "      <td>0.0</td>\n",
       "    </tr>\n",
       "    <tr>\n",
       "      <th>1</th>\n",
       "      <td>0.015023</td>\n",
       "      <td>0.228086</td>\n",
       "      <td>0.087035</td>\n",
       "      <td>81.825256</td>\n",
       "      <td>4.22</td>\n",
       "      <td>2.916667</td>\n",
       "      <td>0.000000</td>\n",
       "      <td>0.0</td>\n",
       "      <td>875.0</td>\n",
       "      <td>1.0</td>\n",
       "      <td>0.0</td>\n",
       "      <td>0.0</td>\n",
       "      <td>2.278150</td>\n",
       "      <td>0.135</td>\n",
       "      <td>8.768378</td>\n",
       "      <td>0.069714</td>\n",
       "      <td>0.000000</td>\n",
       "      <td>0.0</td>\n",
       "    </tr>\n",
       "    <tr>\n",
       "      <th>3</th>\n",
       "      <td>0.001691</td>\n",
       "      <td>0.420412</td>\n",
       "      <td>0.088204</td>\n",
       "      <td>18.882751</td>\n",
       "      <td>5.23</td>\n",
       "      <td>2.040000</td>\n",
       "      <td>0.000000</td>\n",
       "      <td>0.0</td>\n",
       "      <td>612.0</td>\n",
       "      <td>1.0</td>\n",
       "      <td>0.0</td>\n",
       "      <td>0.0</td>\n",
       "      <td>1.305994</td>\n",
       "      <td>0.125</td>\n",
       "      <td>inf</td>\n",
       "      <td>0.098039</td>\n",
       "      <td>0.000000</td>\n",
       "      <td>0.0</td>\n",
       "    </tr>\n",
       "    <tr>\n",
       "      <th>5</th>\n",
       "      <td>0.010771</td>\n",
       "      <td>0.109274</td>\n",
       "      <td>0.064426</td>\n",
       "      <td>107.002258</td>\n",
       "      <td>8.43</td>\n",
       "      <td>2.000000</td>\n",
       "      <td>0.000000</td>\n",
       "      <td>0.0</td>\n",
       "      <td>600.0</td>\n",
       "      <td>1.0</td>\n",
       "      <td>0.0</td>\n",
       "      <td>0.0</td>\n",
       "      <td>2.124837</td>\n",
       "      <td>0.110</td>\n",
       "      <td>11.300419</td>\n",
       "      <td>0.190000</td>\n",
       "      <td>0.005000</td>\n",
       "      <td>0.0</td>\n",
       "    </tr>\n",
       "    <tr>\n",
       "      <th>6</th>\n",
       "      <td>0.001351</td>\n",
       "      <td>0.109935</td>\n",
       "      <td>0.045825</td>\n",
       "      <td>75.531006</td>\n",
       "      <td>6.89</td>\n",
       "      <td>11.756667</td>\n",
       "      <td>0.000000</td>\n",
       "      <td>0.0</td>\n",
       "      <td>3527.0</td>\n",
       "      <td>1.0</td>\n",
       "      <td>0.0</td>\n",
       "      <td>0.0</td>\n",
       "      <td>1.154775</td>\n",
       "      <td>0.005</td>\n",
       "      <td>8.124912</td>\n",
       "      <td>0.033173</td>\n",
       "      <td>0.000000</td>\n",
       "      <td>0.0</td>\n",
       "    </tr>\n",
       "    <tr>\n",
       "      <th>...</th>\n",
       "      <td>...</td>\n",
       "      <td>...</td>\n",
       "      <td>...</td>\n",
       "      <td>...</td>\n",
       "      <td>...</td>\n",
       "      <td>...</td>\n",
       "      <td>...</td>\n",
       "      <td>...</td>\n",
       "      <td>...</td>\n",
       "      <td>...</td>\n",
       "      <td>...</td>\n",
       "      <td>...</td>\n",
       "      <td>...</td>\n",
       "      <td>...</td>\n",
       "      <td>...</td>\n",
       "      <td>...</td>\n",
       "      <td>...</td>\n",
       "      <td>...</td>\n",
       "    </tr>\n",
       "    <tr>\n",
       "      <th>380</th>\n",
       "      <td>0.000316</td>\n",
       "      <td>NaN</td>\n",
       "      <td>NaN</td>\n",
       "      <td>75.531006</td>\n",
       "      <td>14.63</td>\n",
       "      <td>2.726667</td>\n",
       "      <td>0.747246</td>\n",
       "      <td>5.0</td>\n",
       "      <td>818.0</td>\n",
       "      <td>1.0</td>\n",
       "      <td>1.0</td>\n",
       "      <td>7.0</td>\n",
       "      <td>1.841130</td>\n",
       "      <td>NaN</td>\n",
       "      <td>7.733711</td>\n",
       "      <td>0.118582</td>\n",
       "      <td>0.001222</td>\n",
       "      <td>0.0</td>\n",
       "    </tr>\n",
       "    <tr>\n",
       "      <th>381</th>\n",
       "      <td>0.004009</td>\n",
       "      <td>0.246110</td>\n",
       "      <td>0.105217</td>\n",
       "      <td>37.765503</td>\n",
       "      <td>5.24</td>\n",
       "      <td>5.100000</td>\n",
       "      <td>0.085437</td>\n",
       "      <td>2.0</td>\n",
       "      <td>1530.0</td>\n",
       "      <td>1.0</td>\n",
       "      <td>0.0</td>\n",
       "      <td>0.0</td>\n",
       "      <td>1.326355</td>\n",
       "      <td>0.125</td>\n",
       "      <td>4.177794</td>\n",
       "      <td>0.051634</td>\n",
       "      <td>0.000000</td>\n",
       "      <td>0.0</td>\n",
       "    </tr>\n",
       "    <tr>\n",
       "      <th>383</th>\n",
       "      <td>0.000378</td>\n",
       "      <td>0.244141</td>\n",
       "      <td>0.113361</td>\n",
       "      <td>31.471252</td>\n",
       "      <td>4.60</td>\n",
       "      <td>2.293333</td>\n",
       "      <td>0.000000</td>\n",
       "      <td>0.0</td>\n",
       "      <td>688.0</td>\n",
       "      <td>1.0</td>\n",
       "      <td>0.0</td>\n",
       "      <td>0.0</td>\n",
       "      <td>1.258151</td>\n",
       "      <td>0.270</td>\n",
       "      <td>3.162011</td>\n",
       "      <td>0.074128</td>\n",
       "      <td>0.000000</td>\n",
       "      <td>0.0</td>\n",
       "    </tr>\n",
       "    <tr>\n",
       "      <th>384</th>\n",
       "      <td>0.004800</td>\n",
       "      <td>0.203662</td>\n",
       "      <td>0.105812</td>\n",
       "      <td>50.354004</td>\n",
       "      <td>6.47</td>\n",
       "      <td>3.436667</td>\n",
       "      <td>0.470384</td>\n",
       "      <td>5.0</td>\n",
       "      <td>1031.0</td>\n",
       "      <td>1.0</td>\n",
       "      <td>1.0</td>\n",
       "      <td>4.0</td>\n",
       "      <td>1.800363</td>\n",
       "      <td>0.325</td>\n",
       "      <td>5.435042</td>\n",
       "      <td>0.072745</td>\n",
       "      <td>0.001940</td>\n",
       "      <td>0.0</td>\n",
       "    </tr>\n",
       "    <tr>\n",
       "      <th>385</th>\n",
       "      <td>0.048808</td>\n",
       "      <td>0.301955</td>\n",
       "      <td>0.062398</td>\n",
       "      <td>56.648254</td>\n",
       "      <td>8.03</td>\n",
       "      <td>1.816667</td>\n",
       "      <td>0.673344</td>\n",
       "      <td>2.0</td>\n",
       "      <td>545.0</td>\n",
       "      <td>1.0</td>\n",
       "      <td>1.0</td>\n",
       "      <td>1.0</td>\n",
       "      <td>2.711756</td>\n",
       "      <td>NaN</td>\n",
       "      <td>5.549707</td>\n",
       "      <td>0.223853</td>\n",
       "      <td>0.007339</td>\n",
       "      <td>0.0</td>\n",
       "    </tr>\n",
       "  </tbody>\n",
       "</table>\n",
       "<p>139 rows × 18 columns</p>\n",
       "</div>"
      ],
      "text/plain": [
       "     amplitude_cutoff  amplitude_cv_median  amplitude_cv_range   \n",
       "0            0.007324             0.087263            0.036296  \\\n",
       "1            0.015023             0.228086            0.087035   \n",
       "3            0.001691             0.420412            0.088204   \n",
       "5            0.010771             0.109274            0.064426   \n",
       "6            0.001351             0.109935            0.045825   \n",
       "..                ...                  ...                 ...   \n",
       "380          0.000316                  NaN                 NaN   \n",
       "381          0.004009             0.246110            0.105217   \n",
       "383          0.000378             0.244141            0.113361   \n",
       "384          0.004800             0.203662            0.105812   \n",
       "385          0.048808             0.301955            0.062398   \n",
       "\n",
       "     amplitude_median  firing_range  firing_rate  isi_violations_ratio   \n",
       "0           94.413757          7.41     2.100000              0.000000  \\\n",
       "1           81.825256          4.22     2.916667              0.000000   \n",
       "3           18.882751          5.23     2.040000              0.000000   \n",
       "5          107.002258          8.43     2.000000              0.000000   \n",
       "6           75.531006          6.89    11.756667              0.000000   \n",
       "..                ...           ...          ...                   ...   \n",
       "380         75.531006         14.63     2.726667              0.747246   \n",
       "381         37.765503          5.24     5.100000              0.085437   \n",
       "383         31.471252          4.60     2.293333              0.000000   \n",
       "384         50.354004          6.47     3.436667              0.470384   \n",
       "385         56.648254          8.03     1.816667              0.673344   \n",
       "\n",
       "     isi_violations_count  num_spikes  presence_ratio  rp_contamination   \n",
       "0                     0.0       630.0             1.0               0.0  \\\n",
       "1                     0.0       875.0             1.0               0.0   \n",
       "3                     0.0       612.0             1.0               0.0   \n",
       "5                     0.0       600.0             1.0               0.0   \n",
       "6                     0.0      3527.0             1.0               0.0   \n",
       "..                    ...         ...             ...               ...   \n",
       "380                   5.0       818.0             1.0               1.0   \n",
       "381                   2.0      1530.0             1.0               0.0   \n",
       "383                   0.0       688.0             1.0               0.0   \n",
       "384                   5.0      1031.0             1.0               1.0   \n",
       "385                   2.0       545.0             1.0               1.0   \n",
       "\n",
       "     rp_violations  sd_ratio  sliding_rp_violation        snr  sync_spike_2   \n",
       "0              0.0  1.327198                 0.090   9.851611      0.152381  \\\n",
       "1              0.0  2.278150                 0.135   8.768378      0.069714   \n",
       "3              0.0  1.305994                 0.125        inf      0.098039   \n",
       "5              0.0  2.124837                 0.110  11.300419      0.190000   \n",
       "6              0.0  1.154775                 0.005   8.124912      0.033173   \n",
       "..             ...       ...                   ...        ...           ...   \n",
       "380            7.0  1.841130                   NaN   7.733711      0.118582   \n",
       "381            0.0  1.326355                 0.125   4.177794      0.051634   \n",
       "383            0.0  1.258151                 0.270   3.162011      0.074128   \n",
       "384            4.0  1.800363                 0.325   5.435042      0.072745   \n",
       "385            1.0  2.711756                   NaN   5.549707      0.223853   \n",
       "\n",
       "     sync_spike_4  sync_spike_8  \n",
       "0        0.001587           0.0  \n",
       "1        0.000000           0.0  \n",
       "3        0.000000           0.0  \n",
       "5        0.005000           0.0  \n",
       "6        0.000000           0.0  \n",
       "..            ...           ...  \n",
       "380      0.001222           0.0  \n",
       "381      0.000000           0.0  \n",
       "383      0.000000           0.0  \n",
       "384      0.001940           0.0  \n",
       "385      0.007339           0.0  \n",
       "\n",
       "[139 rows x 18 columns]"
      ]
     },
     "execution_count": 25,
     "metadata": {},
     "output_type": "execute_result"
    }
   ],
   "source": [
    "import pandas as pd\n",
    "\n",
    "updated_metrics"
   ]
  },
  {
   "cell_type": "code",
   "execution_count": 37,
   "metadata": {},
   "outputs": [],
   "source": [
    "updated_metrics.to_excel('/home/mmp/Documents/organoidKMB/updated_metrics_RETT.xlsx', index=False)\n"
   ]
  },
  {
   "cell_type": "code",
   "execution_count": 38,
   "metadata": {},
   "outputs": [],
   "source": [
    "wild_update_metrics = pd.read_excel('/home/mmp/Documents/organoidKMB/updated_metrics_WT.xlsx')"
   ]
  },
  {
   "cell_type": "code",
   "execution_count": 52,
   "metadata": {},
   "outputs": [
    {
     "data": {
      "image/png": "[encoded data removed]",
      "text/plain": [
       "<Figure size 640x480 with 1 Axes>"
      ]
     },
     "metadata": {},
     "output_type": "display_data"
    }
   ],
   "source": [
    "import matplotlib.pyplot as plt\n",
    "\n",
    "# Calculate the minimum and maximum values of the amplitude_median column\n",
    "min_wild_update_metrics = wild_update_metrics['amplitude_median'].min()\n",
    "max_wild_update_metrics = wild_update_metrics['amplitude_median'].max()\n",
    "min_updated_metrics = updated_metrics['amplitude_median'].min()\n",
    "max_updated_metrics = updated_metrics['amplitude_median'].max()\n",
    "\n",
    "# Calculate the minimum and maximum values of the firing_rate column\n",
    "min_wild_update_firing_rate = wild_update_metrics['firing_rate'].min()\n",
    "max_wild_update_firing_rate = wild_update_metrics['firing_rate'].max()\n",
    "min_updated_firing_rate = updated_metrics['firing_rate'].min()\n",
    "max_updated_firing_rate = updated_metrics['firing_rate'].max()\n",
    "\n",
    "# Normalize the data using min-max normalization\n",
    "normalized_minmax_wild_update_metrics = wild_update_metrics['amplitude_median'].apply(lambda x: (x - min_wild_update_metrics) / (max_wild_update_metrics - min_wild_update_metrics))\n",
    "normalized_minmax_updated_metrics = updated_metrics['amplitude_median'].apply(lambda x: (x - min_updated_metrics) / (max_updated_metrics - min_updated_metrics))\n",
    "normalized_minmax_wild_update_firing_rate = wild_update_metrics['firing_rate'].apply(lambda x: (x - min_wild_update_firing_rate) / (max_wild_update_firing_rate - min_wild_update_firing_rate))\n",
    "normalized_minmax_updated_firing_rate = updated_metrics['firing_rate'].apply(lambda x: (x - min_updated_firing_rate) / (max_updated_firing_rate - min_updated_firing_rate))\n",
    "\n",
    "# Set the x-axis positions for the bars\n",
    "x_pos = [1, 1.5, 3, 3.5]\n",
    "\n",
    "# Calculate the means of the normalized metrics to plot\n",
    "mean_normalized_wild_amplitude = normalized_minmax_wild_update_metrics.mean()\n",
    "mean_normalized_updated_amplitude = normalized_minmax_updated_metrics.mean()\n",
    "mean_normalized_wild_firing_rate = normalized_minmax_wild_update_firing_rate.mean()\n",
    "mean_normalized_updated_firing_rate = normalized_minmax_updated_firing_rate.mean()\n",
    "\n",
    "# Set the heights for the bars\n",
    "heights = [\n",
    "    mean_normalized_wild_amplitude, \n",
    "    mean_normalized_updated_amplitude, \n",
    "    mean_normalized_wild_firing_rate, \n",
    "    mean_normalized_updated_firing_rate\n",
    "]\n",
    "\n",
    "# Set the colors for the bars\n",
    "colors = ['lightblue', 'crimson', 'lightblue', 'crimson']\n",
    "\n",
    "# Bar plot for the normalized mean amplitude_median column\n",
    "plt.bar(x_pos, heights, color=colors, width=0.4)\n",
    "\n",
    "# Scatter plot for the remaining series values\n",
    "plt.scatter([1]*len(normalized_minmax_wild_update_metrics), normalized_minmax_wild_update_metrics, color='blue', alpha=0.5)\n",
    "plt.scatter([1.5]*len(normalized_minmax_updated_metrics), normalized_minmax_updated_metrics, color='red', alpha=0.5)\n",
    "plt.scatter([3]*len(normalized_minmax_wild_update_firing_rate), normalized_minmax_wild_update_firing_rate, color='blue', alpha=0.5)\n",
    "plt.scatter([3.5]*len(normalized_minmax_updated_firing_rate), normalized_minmax_updated_firing_rate, color='red', alpha=0.5)\n",
    "\n",
    "plt.ylabel('Normalized Value')\n",
    "plt.xticks(x_pos, ['802F Amplitude', 'RETT Amplitude', '802F Firing Rate', 'RETT Firing Rate'], rotation=45)\n",
    "\n",
    "plt.show()\n",
    "\n"
   ]
  }
 ],
 "metadata": {
  "kernelspec": {
   "display_name": "Python 3",
   "language": "python",
   "name": "python3"
  },
  "language_info": {
   "codemirror_mode": {
    "name": "ipython",
    "version": 3
   },
   "file_extension": ".py",
   "mimetype": "text/x-python",
   "name": "python",
   "nbconvert_exporter": "python",
   "pygments_lexer": "ipython3",
   "version": "3.10.12"
  },
  "orig_nbformat": 4
 },
 "nbformat": 4,
 "nbformat_minor": 2
}
